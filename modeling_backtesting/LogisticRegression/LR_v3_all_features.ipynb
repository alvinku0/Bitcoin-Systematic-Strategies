{
 "cells": [
  {
   "cell_type": "code",
   "execution_count": 1,
   "id": "2702ed7d",
   "metadata": {},
   "outputs": [],
   "source": [
    "import pandas as pd\n",
    "import numpy as np\n",
    "import time\n",
    "from pprint import pprint\n",
    "\n",
    "import matplotlib.pyplot as plt\n",
    "import seaborn as sns\n",
    "\n",
    "from sklearn.linear_model import LogisticRegression\n",
    "from sklearn.metrics import classification_report, accuracy_score, precision_recall_fscore_support, confusion_matrix, roc_auc_score\n",
    "from sklearn.preprocessing import StandardScaler, MinMaxScaler, RobustScaler\n",
    "from sklearn.feature_selection import RFE, RFECV\n",
    "from sklearn.model_selection import GridSearchCV, TimeSeriesSplit\n",
    "from sklearn.pipeline import Pipeline\n",
    "from sklearn.multiclass import OneVsRestClassifier\n",
    "\n",
    "from backtest_functions_v2 import *"
   ]
  },
  {
   "cell_type": "code",
   "execution_count": 2,
   "id": "80241b34",
   "metadata": {},
   "outputs": [],
   "source": [
    "df = pd.read_parquet(\"../data/full_dataset_feature_engineering_v3.parquet\")"
   ]
  },
  {
   "cell_type": "code",
   "execution_count": 3,
   "id": "d6e65e0b",
   "metadata": {},
   "outputs": [
    {
     "data": {
      "application/vnd.microsoft.datawrangler.viewer.v0+json": {
       "columns": [
        {
         "name": "index",
         "rawType": "datetime64[ns]",
         "type": "datetime"
        },
        {
         "name": "news_count",
         "rawType": "float64",
         "type": "float"
        },
        {
         "name": "tanalysis_absa",
         "rawType": "float64",
         "type": "float"
        },
        {
         "name": "economy_absa",
         "rawType": "float64",
         "type": "float"
        },
        {
         "name": "regulation_absa",
         "rawType": "float64",
         "type": "float"
        },
        {
         "name": "technology_absa",
         "rawType": "float64",
         "type": "float"
        },
        {
         "name": "adoption_absa",
         "rawType": "float64",
         "type": "float"
        },
        {
         "name": "cybersecurity_absa",
         "rawType": "float64",
         "type": "float"
        },
        {
         "name": "return_forward",
         "rawType": "float64",
         "type": "float"
        },
        {
         "name": "sma_5_20_diff",
         "rawType": "float64",
         "type": "float"
        },
        {
         "name": "sma_20_50_diff",
         "rawType": "float64",
         "type": "float"
        },
        {
         "name": "sma_50_200_diff",
         "rawType": "float64",
         "type": "float"
        },
        {
         "name": "ema_5_20_diff",
         "rawType": "float64",
         "type": "float"
        },
        {
         "name": "ema_20_50_diff",
         "rawType": "float64",
         "type": "float"
        },
        {
         "name": "ema_50_200_diff",
         "rawType": "float64",
         "type": "float"
        },
        {
         "name": "sma_5_20_diff_abs_chg",
         "rawType": "float64",
         "type": "float"
        },
        {
         "name": "sma_5_20_diff_pct_chg",
         "rawType": "float64",
         "type": "float"
        },
        {
         "name": "sma_20_50_diff_abs_chg",
         "rawType": "float64",
         "type": "float"
        },
        {
         "name": "sma_20_50_diff_pct_chg",
         "rawType": "float64",
         "type": "float"
        },
        {
         "name": "sma_50_200_diff_abs_chg",
         "rawType": "float64",
         "type": "float"
        },
        {
         "name": "sma_50_200_diff_pct_chg",
         "rawType": "float64",
         "type": "float"
        },
        {
         "name": "ema_5_20_diff_abs_chg",
         "rawType": "float64",
         "type": "float"
        },
        {
         "name": "ema_5_20_diff_pct_chg",
         "rawType": "float64",
         "type": "float"
        },
        {
         "name": "ema_20_50_diff_abs_chg",
         "rawType": "float64",
         "type": "float"
        },
        {
         "name": "ema_20_50_diff_pct_chg",
         "rawType": "float64",
         "type": "float"
        },
        {
         "name": "ema_50_200_diff_abs_chg",
         "rawType": "float64",
         "type": "float"
        },
        {
         "name": "ema_50_200_diff_pct_chg",
         "rawType": "float64",
         "type": "float"
        },
        {
         "name": "macd_12_26",
         "rawType": "float64",
         "type": "float"
        },
        {
         "name": "signal_line_9",
         "rawType": "float64",
         "type": "float"
        },
        {
         "name": "macd_histogram",
         "rawType": "float64",
         "type": "float"
        },
        {
         "name": "macd_position",
         "rawType": "float64",
         "type": "float"
        },
        {
         "name": "macd_crossover",
         "rawType": "float64",
         "type": "float"
        },
        {
         "name": "adx",
         "rawType": "float64",
         "type": "float"
        },
        {
         "name": "+di",
         "rawType": "float64",
         "type": "float"
        },
        {
         "name": "-di",
         "rawType": "float64",
         "type": "float"
        },
        {
         "name": "adx_slope",
         "rawType": "float64",
         "type": "float"
        },
        {
         "name": "adx_strength",
         "rawType": "float64",
         "type": "float"
        },
        {
         "name": "di_crossover",
         "rawType": "float64",
         "type": "float"
        },
        {
         "name": "di_spread",
         "rawType": "float64",
         "type": "float"
        },
        {
         "name": "adx_di_composite",
         "rawType": "float64",
         "type": "float"
        },
        {
         "name": "rsi_7",
         "rawType": "float64",
         "type": "float"
        },
        {
         "name": "rsi_14",
         "rawType": "float64",
         "type": "float"
        },
        {
         "name": "rsi_7_slope",
         "rawType": "float64",
         "type": "float"
        },
        {
         "name": "rsi_7_chg",
         "rawType": "float64",
         "type": "float"
        },
        {
         "name": "rsi_7_acceleration",
         "rawType": "float64",
         "type": "float"
        },
        {
         "name": "rsi_14_slope",
         "rawType": "float64",
         "type": "float"
        },
        {
         "name": "rsi_14_chg",
         "rawType": "float64",
         "type": "float"
        },
        {
         "name": "rsi_14_acceleration",
         "rawType": "float64",
         "type": "float"
        },
        {
         "name": "rsi_ratio",
         "rawType": "float64",
         "type": "float"
        },
        {
         "name": "atr_7",
         "rawType": "float64",
         "type": "float"
        },
        {
         "name": "atr_14",
         "rawType": "float64",
         "type": "float"
        },
        {
         "name": "atr_7_slope",
         "rawType": "float64",
         "type": "float"
        },
        {
         "name": "atr_7_chg",
         "rawType": "float64",
         "type": "float"
        },
        {
         "name": "atr_14_slope",
         "rawType": "float64",
         "type": "float"
        },
        {
         "name": "atr_14_chg",
         "rawType": "float64",
         "type": "float"
        },
        {
         "name": "norm_price_change_7",
         "rawType": "float64",
         "type": "float"
        },
        {
         "name": "norm_price_change_14",
         "rawType": "float64",
         "type": "float"
        },
        {
         "name": "atr_ratio",
         "rawType": "float64",
         "type": "float"
        },
        {
         "name": "trailing_stop_long_7",
         "rawType": "float64",
         "type": "float"
        },
        {
         "name": "trailing_stop_long_14",
         "rawType": "float64",
         "type": "float"
        },
        {
         "name": "trailing_stop_short_7",
         "rawType": "float64",
         "type": "float"
        },
        {
         "name": "trailing_stop_short_14",
         "rawType": "float64",
         "type": "float"
        },
        {
         "name": "upper_band_10",
         "rawType": "float64",
         "type": "float"
        },
        {
         "name": "middle_band_10",
         "rawType": "float64",
         "type": "float"
        },
        {
         "name": "lower_band_10",
         "rawType": "float64",
         "type": "float"
        },
        {
         "name": "upper_band_20",
         "rawType": "float64",
         "type": "float"
        },
        {
         "name": "middle_band_20",
         "rawType": "float64",
         "type": "float"
        },
        {
         "name": "lower_band_20",
         "rawType": "float64",
         "type": "float"
        },
        {
         "name": "10_band_width",
         "rawType": "float64",
         "type": "float"
        },
        {
         "name": "pct_b_10",
         "rawType": "float64",
         "type": "float"
        },
        {
         "name": "20_band_width",
         "rawType": "float64",
         "type": "float"
        },
        {
         "name": "pct_b_20",
         "rawType": "float64",
         "type": "float"
        },
        {
         "name": "year",
         "rawType": "int32",
         "type": "integer"
        },
        {
         "name": "target",
         "rawType": "int64",
         "type": "integer"
        },
        {
         "name": "tanalysis_absa_ewm_5h",
         "rawType": "float64",
         "type": "float"
        },
        {
         "name": "tanalysis_absa_ewm_100h",
         "rawType": "float64",
         "type": "float"
        },
        {
         "name": "economy_absa_ewm_5h",
         "rawType": "float64",
         "type": "float"
        },
        {
         "name": "economy_absa_ewm_100h",
         "rawType": "float64",
         "type": "float"
        },
        {
         "name": "regulation_absa_ewm_5h",
         "rawType": "float64",
         "type": "float"
        },
        {
         "name": "regulation_absa_ewm_100h",
         "rawType": "float64",
         "type": "float"
        },
        {
         "name": "technology_absa_ewm_5h",
         "rawType": "float64",
         "type": "float"
        },
        {
         "name": "technology_absa_ewm_100h",
         "rawType": "float64",
         "type": "float"
        },
        {
         "name": "adoption_absa_ewm_5h",
         "rawType": "float64",
         "type": "float"
        },
        {
         "name": "adoption_absa_ewm_100h",
         "rawType": "float64",
         "type": "float"
        },
        {
         "name": "cybersecurity_absa_ewm_5h",
         "rawType": "float64",
         "type": "float"
        },
        {
         "name": "cybersecurity_absa_ewm_100h",
         "rawType": "float64",
         "type": "float"
        },
        {
         "name": "source_AMBCrypto_last3",
         "rawType": "int64",
         "type": "integer"
        },
        {
         "name": "source_AMBCrypto_last24",
         "rawType": "int64",
         "type": "integer"
        },
        {
         "name": "source_BeInCrypto_last3",
         "rawType": "int64",
         "type": "integer"
        },
        {
         "name": "source_BeInCrypto_last24",
         "rawType": "int64",
         "type": "integer"
        },
        {
         "name": "source_Benzinga_last3",
         "rawType": "int64",
         "type": "integer"
        },
        {
         "name": "source_Benzinga_last24",
         "rawType": "int64",
         "type": "integer"
        },
        {
         "name": "source_Bitcoin_last3",
         "rawType": "int64",
         "type": "integer"
        },
        {
         "name": "source_Bitcoin_last24",
         "rawType": "int64",
         "type": "integer"
        },
        {
         "name": "source_Bitcoin Magazine_last3",
         "rawType": "int64",
         "type": "integer"
        },
        {
         "name": "source_Bitcoin Magazine_last24",
         "rawType": "int64",
         "type": "integer"
        },
        {
         "name": "source_CoinPedia_last3",
         "rawType": "int64",
         "type": "integer"
        },
        {
         "name": "source_CoinPedia_last24",
         "rawType": "int64",
         "type": "integer"
        },
        {
         "name": "source_Coindesk_last3",
         "rawType": "int64",
         "type": "integer"
        },
        {
         "name": "source_Coindesk_last24",
         "rawType": "int64",
         "type": "integer"
        },
        {
         "name": "source_Coingape_last3",
         "rawType": "int64",
         "type": "integer"
        },
        {
         "name": "source_Coingape_last24",
         "rawType": "int64",
         "type": "integer"
        },
        {
         "name": "source_Cointelegraph_last3",
         "rawType": "int64",
         "type": "integer"
        },
        {
         "name": "source_Cointelegraph_last24",
         "rawType": "int64",
         "type": "integer"
        },
        {
         "name": "source_CryptoPotato_last3",
         "rawType": "int64",
         "type": "integer"
        },
        {
         "name": "source_CryptoPotato_last24",
         "rawType": "int64",
         "type": "integer"
        },
        {
         "name": "source_Cryptopolitan_last3",
         "rawType": "int64",
         "type": "integer"
        },
        {
         "name": "source_Cryptopolitan_last24",
         "rawType": "int64",
         "type": "integer"
        },
        {
         "name": "source_NewsBTC_last3",
         "rawType": "int64",
         "type": "integer"
        },
        {
         "name": "source_NewsBTC_last24",
         "rawType": "int64",
         "type": "integer"
        },
        {
         "name": "source_Other_last3",
         "rawType": "int64",
         "type": "integer"
        },
        {
         "name": "source_Other_last24",
         "rawType": "int64",
         "type": "integer"
        },
        {
         "name": "source_The Currency Analytics_last3",
         "rawType": "int64",
         "type": "integer"
        },
        {
         "name": "source_The Currency Analytics_last24",
         "rawType": "int64",
         "type": "integer"
        },
        {
         "name": "source_The Daily Hodl_last3",
         "rawType": "int64",
         "type": "integer"
        },
        {
         "name": "source_The Daily Hodl_last24",
         "rawType": "int64",
         "type": "integer"
        },
        {
         "name": "source_UToday_last3",
         "rawType": "int64",
         "type": "integer"
        },
        {
         "name": "source_UToday_last24",
         "rawType": "int64",
         "type": "integer"
        },
        {
         "name": "topic_Other_last3",
         "rawType": "int64",
         "type": "integer"
        },
        {
         "name": "topic_exchange traded funds, ETF_last3",
         "rawType": "int64",
         "type": "integer"
        },
        {
         "name": "topic_exchange traded funds, ETF_last24",
         "rawType": "int64",
         "type": "integer"
        },
        {
         "name": "topic_institutional investments_last3",
         "rawType": "int64",
         "type": "integer"
        },
        {
         "name": "topic_institutional investments_last24",
         "rawType": "int64",
         "type": "integer"
        },
        {
         "name": "topic_market sentiment_last3",
         "rawType": "int64",
         "type": "integer"
        },
        {
         "name": "topic_market sentiment_last24",
         "rawType": "int64",
         "type": "integer"
        },
        {
         "name": "topic_others_last3",
         "rawType": "int64",
         "type": "integer"
        },
        {
         "name": "topic_price action, price movement, trading_last3",
         "rawType": "int64",
         "type": "integer"
        },
        {
         "name": "NER_binance_last3",
         "rawType": "int64",
         "type": "integer"
        },
        {
         "name": "NER_binance_last24",
         "rawType": "int64",
         "type": "integer"
        },
        {
         "name": "NER_blackrock_last3",
         "rawType": "int64",
         "type": "integer"
        },
        {
         "name": "NER_blackrock_last24",
         "rawType": "int64",
         "type": "integer"
        },
        {
         "name": "NER_coinbase_last3",
         "rawType": "int64",
         "type": "integer"
        },
        {
         "name": "NER_coinbase_last24",
         "rawType": "int64",
         "type": "integer"
        },
        {
         "name": "NER_el salvador_last3",
         "rawType": "int64",
         "type": "integer"
        },
        {
         "name": "NER_el salvador_last24",
         "rawType": "int64",
         "type": "integer"
        },
        {
         "name": "NER_fed_last3",
         "rawType": "int64",
         "type": "integer"
        },
        {
         "name": "NER_fed_last24",
         "rawType": "int64",
         "type": "integer"
        },
        {
         "name": "NER_grayscale_last3",
         "rawType": "int64",
         "type": "integer"
        },
        {
         "name": "NER_grayscale_last24",
         "rawType": "int64",
         "type": "integer"
        },
        {
         "name": "NER_michael saylor_last3",
         "rawType": "int64",
         "type": "integer"
        },
        {
         "name": "NER_michael saylor_last24",
         "rawType": "int64",
         "type": "integer"
        },
        {
         "name": "NER_microstrategy_last3",
         "rawType": "int64",
         "type": "integer"
        },
        {
         "name": "NER_microstrategy_last24",
         "rawType": "int64",
         "type": "integer"
        },
        {
         "name": "NER_sec_last3",
         "rawType": "int64",
         "type": "integer"
        },
        {
         "name": "NER_sec_last24",
         "rawType": "int64",
         "type": "integer"
        },
        {
         "name": "NER_us_last3",
         "rawType": "int64",
         "type": "integer"
        },
        {
         "name": "reddit_total_sentiment_ewm_2h",
         "rawType": "float64",
         "type": "float"
        },
        {
         "name": "reddit_total_sentiment_ewm_100h",
         "rawType": "float64",
         "type": "float"
        },
        {
         "name": "reddit_average_sentiment_ewm_2h",
         "rawType": "float64",
         "type": "float"
        },
        {
         "name": "reddit_average_sentiment_ewm_100h",
         "rawType": "float64",
         "type": "float"
        }
       ],
       "conversionMethod": "pd.DataFrame",
       "ref": "1cf293f6-eb38-4e1a-b174-39beb881abde",
       "rows": [
        [
         "2021-01-01 06:00:00",
         "2.0",
         "0.8500000000000001",
         "0.0",
         "0.0",
         "0.0",
         "0.15000000000000002",
         "0.0",
         "-0.0077950088062329614",
         "219.39999999999782",
         "351.4194000000025",
         "2328.1594000000005",
         "253.70622388618722",
         "434.1086272618195",
         "1931.1531431703988",
         "30.985499999995227",
         "0.16445390349466105",
         "-17.011899999994057",
         "-0.046173872849549435",
         "12.766250000000582",
         "0.005513642467155355",
         "93.22851065902069",
         "0.5809436636665537",
         "18.212974005982687",
         "0.043792172059031076",
         "11.10056541128506",
         "0.005781386166122893",
         "178.96841424082595",
         "155.45024573812083",
         "23.518168502705123",
         "1.0",
         "23.518168502705123",
         "12.92481369825182",
         "24.393837835516127",
         "17.085047779983412",
         "-0.4520660397156373",
         "-1.0",
         "1.0",
         "7.3087900555327145",
         "94.4647498273959",
         "68.35197588888234",
         "62.495108372910124",
         "2.743537555056131",
         "0.22218411638958147",
         "1.7562048813000404",
         "1.505373286495093",
         "0.11912121480307625",
         "0.8410767327410298",
         "1.0937172151302486",
         "378.4727582121498",
         "389.244943509831",
         "4.845570535581639",
         "0.07330640464028249",
         "0.666201775166447",
         "0.029359070378154106",
         "1.1154831909020801",
         "1.0846126765146724",
         "0.9723254329252216",
         "28786.9844835757",
         "28765.440112980337",
         "29767.3055164243",
         "29788.849887019664",
         "29544.78170612844",
         "28973.235000000073",
         "28401.688293871706",
         "29450.949582095673",
         "28913.71800000009",
         "28376.48641790451",
         "0.039453427007951694",
         "0.9425578824754052",
         "0.03716101693290218",
         "1.0262181327784583",
         "2021",
         "0",
         "0.8500000000000001",
         "0.8500000000000001",
         "0.0",
         "0.0",
         "0.0",
         "0.0",
         "0.0",
         "0.0",
         "0.15000000000000002",
         "0.15000000000000002",
         "0.0",
         "0.0",
         "0",
         "0",
         "0",
         "0",
         "0",
         "0",
         "0",
         "0",
         "0",
         "0",
         "0",
         "0",
         "0",
         "0",
         "0",
         "0",
         "0",
         "0",
         "0",
         "0",
         "0",
         "0",
         "0",
         "0",
         "1",
         "1",
         "0",
         "0",
         "0",
         "0",
         "1",
         "1",
         "0",
         "0",
         "0",
         "0",
         "0",
         "0",
         "0",
         "1",
         "1",
         "0",
         "0",
         "0",
         "0",
         "0",
         "0",
         "0",
         "0",
         "0",
         "0",
         "1",
         "1",
         "0",
         "0",
         "0",
         "0",
         "0",
         "0",
         "0",
         "-0.891",
         "-0.891",
         "-0.111375",
         "-0.111375"
        ],
        [
         "2021-01-01 07:00:00",
         "0.0",
         "0.0",
         "0.0",
         "0.0",
         "0.0",
         "0.0",
         "0.0",
         "0.0032923831075788446",
         "253.09349999999904",
         "336.26929999999993",
         "2332.875649999998",
         "247.17322320793755",
         "435.4461102595087",
         "1934.2338182999229",
         "33.69350000000122",
         "0.1535711030082112",
         "-15.150100000002567",
         "-0.04311116574669027",
         "4.716249999997672",
         "0.0020257418800437854",
         "-6.533000678249664",
         "-0.025750257830412404",
         "1.3374829976892215",
         "0.003080986909026695",
         "3.0806751295240247",
         "0.0015952515938049139",
         "183.87272345412566",
         "161.1347412813218",
         "22.737982172803868",
         "1.0",
         "0.0",
         "13.260220381971992",
         "22.830037232648817",
         "15.989787239247363",
         "-0.02406140409110809",
         "-1.0",
         "1.0",
         "6.840249993401454",
         "90.70322238028574",
         "57.973053243319384",
         "57.42435030280044",
         "1.4740750164532699",
         "-0.1518452467626633",
         "5.024870683785977",
         "0.9049165041448669",
         "-0.08113847950870523",
         "2.6493215189971835",
         "1.0095552311454221",
         "373.92093561041423",
         "386.199590401986",
         "5.529060459070138",
         "-0.012026816997972922",
         "1.3064730769403543",
         "-0.007823744813188815",
         "-0.6145416801144665",
         "-0.5950032203835698",
         "0.9682064530964645",
         "28788.10812877917",
         "28763.55081919603",
         "29937.18187122083",
         "29961.739180803972",
         "29501.163292721736",
         "29058.309000000074",
         "28615.45470727841",
         "29488.063359430285",
         "28931.45450000009",
         "28374.845640569896",
         "0.030480389806692543",
         "0.7156702589761124",
         "0.03847776539753249",
         "0.785546568846679",
         "2021",
         "2",
         "0.5666666666666668",
         "0.8331683168316832",
         "0.0",
         "0.0",
         "0.0",
         "0.0",
         "0.0",
         "0.0",
         "0.10000000000000002",
         "0.14702970297029705",
         "0.0",
         "0.0",
         "0",
         "0",
         "0",
         "0",
         "0",
         "0",
         "0",
         "0",
         "0",
         "0",
         "0",
         "0",
         "0",
         "0",
         "0",
         "0",
         "0",
         "0",
         "0",
         "0",
         "0",
         "0",
         "0",
         "0",
         "1",
         "1",
         "0",
         "0",
         "0",
         "0",
         "1",
         "1",
         "0",
         "0",
         "0",
         "0",
         "0",
         "0",
         "0",
         "1",
         "1",
         "0",
         "0",
         "0",
         "0",
         "0",
         "0",
         "0",
         "0",
         "0",
         "0",
         "1",
         "1",
         "0",
         "0",
         "0",
         "0",
         "0",
         "0",
         "0",
         "-0.4455",
         "-0.8733564356435644",
         "-0.0556875",
         "-0.10916955445544554"
        ],
        [
         "2021-01-01 08:00:00",
         "2.0",
         "0.4",
         "0.0",
         "0.0",
         "0.0",
         "0.5",
         "0.0",
         "-0.001882733476841314",
         "284.94099999999526",
         "309.6284000000014",
         "2338.8511500000022",
         "258.31448555413954",
         "440.37740085690166",
         "1939.2277435671967",
         "31.847499999996217",
         "0.12583294316130744",
         "-26.64089999999851",
         "-0.07922489504691188",
         "5.975500000004104",
         "0.002561430996120162",
         "11.141262346201984",
         "0.04507471400665941",
         "4.931290597392945",
         "0.011324686295748787",
         "4.99392526727388",
         "0.0025818622443811723",
         "193.30176658757773",
         "167.568146342573",
         "25.733620245004744",
         "1.0",
         "0.0",
         "13.571669445426437",
         "21.96438425838034",
         "15.383497957257934",
         "0.3360209816757038",
         "-1.0",
         "1.0",
         "6.580886301122405",
         "89.31361353676834",
         "60.87753942644471",
         "58.92835371477961",
         "1.6504839605988124",
         "0.050100624697734464",
         "1.4795837370404403",
         "1.0284445739052426",
         "0.026191039237684288",
         "0.9140124276121072",
         "1.03307721306961",
         "348.7708019517835",
         "372.7474768018441",
         "-1.2841386541304398",
         "-0.06726056570642114",
         "-1.7985130952220818",
         "-0.03483202451390466",
         "0.2761125629240961",
         "0.258351849424304",
         "0.9356758225279502",
         "28716.938396096433",
         "28668.985046396312",
         "29914.151603903567",
         "29962.104953603688",
         "29483.328439538953",
         "29132.890000000072",
         "28782.45156046119",
         "29515.71609278493",
         "28939.82100000009",
         "28363.925907215253",
         "0.024057924877269626",
         "0.8035340533416649",
         "0.039799492386966485",
         "0.8523289268168202",
         "2021",
         "0",
         "0.5111111111111112",
         "0.8245907263993727",
         "0.0",
         "0.0",
         "0.0",
         "0.0",
         "0.0",
         "0.0",
         "0.23333333333333334",
         "0.1540192138025684",
         "0.0",
         "0.0",
         "0",
         "0",
         "1",
         "1",
         "0",
         "0",
         "0",
         "0",
         "0",
         "0",
         "0",
         "0",
         "0",
         "0",
         "0",
         "0",
         "0",
         "0",
         "0",
         "0",
         "0",
         "0",
         "0",
         "0",
         "1",
         "1",
         "0",
         "0",
         "1",
         "1",
         "1",
         "1",
         "0",
         "0",
         "0",
         "0",
         "0",
         "0",
         "0",
         "1",
         "1",
         "0",
         "0",
         "0",
         "0",
         "0",
         "0",
         "0",
         "0",
         "0",
         "0",
         "1",
         "1",
         "1",
         "1",
         "1",
         "1",
         "0",
         "0",
         "0",
         "-0.22275",
         "-0.8560622487991373",
         "-0.02784375",
         "-0.10700778109989216"
        ],
        [
         "2021-01-01 09:00:00",
         "2.0",
         "-0.04999999999999999",
         "0.0",
         "0.0",
         "0.0",
         "0.4",
         "0.0",
         "-0.0016483227598960148",
         "326.5889999999963",
         "301.56800000000294",
         "2335.72595",
         "243.67939028505134",
         "439.9241066857976",
         "1941.6044730869435",
         "41.64800000000105",
         "0.1461635917611075",
         "-8.06039999999848",
         "-0.026032495727131066",
         "-3.1252000000022235",
         "-0.0013362115840515054",
         "-14.635095269088197",
         "-0.05665611526853709",
         "-0.4532941711040621",
         "-0.0010293311378423153",
         "2.376729519746732",
         "0.0012256061866022794",
         "194.07891700167602",
         "172.8703004743936",
         "21.20861652728243",
         "1.0",
         "0.0",
         "13.442647799944238",
         "20.538276692512238",
         "16.214211761581858",
         "0.1726113672308062",
         "-1.0",
         "1.0",
         "4.32406493093038",
         "58.1268819305873",
         "58.18592881855582",
         "57.66964427649079",
         "-3.3886823567755044",
         "-0.04421352494282438",
         "-6.132219911831635",
         "-1.6084880321397772",
         "-0.021359996655958224",
         "-3.1138613186348705",
         "1.008952448875699",
         "347.01354453010026",
         "370.1562284588553",
         "-10.486404560683184",
         "-0.005038430430097107",
         "-6.362905016991893",
         "-0.006951752873611827",
         "-0.15921568731507413",
         "-0.14926130037047672",
         "0.9374786045743183",
         "28764.2429109398",
         "28717.95754308229",
         "29815.8270890602",
         "29862.11245691771",
         "29500.447220219987",
         "29169.830000000075",
         "28839.212779780162",
         "29553.46509555434",
         "28957.69100000009",
         "28361.91690444584",
         "0.022668436546933006",
         "0.6823105280477252",
         "0.041147900608114685",
         "0.7792073392268001",
         "2021",
         "0",
         "0.3240740740740742",
         "0.8072720981538406",
         "0.0",
         "0.0",
         "0.0",
         "0.0",
         "0.0",
         "0.0",
         "0.2888888888888889",
         "0.15889012045994327",
         "0.0",
         "0.0",
         "0",
         "0",
         "1",
         "1",
         "0",
         "0",
         "0",
         "0",
         "0",
         "0",
         "0",
         "0",
         "0",
         "0",
         "0",
         "0",
         "1",
         "1",
         "0",
         "0",
         "0",
         "0",
         "0",
         "0",
         "1",
         "1",
         "0",
         "0",
         "1",
         "1",
         "1",
         "1",
         "0",
         "0",
         "0",
         "0",
         "0",
         "0",
         "0",
         "1",
         "1",
         "0",
         "0",
         "0",
         "0",
         "0",
         "0",
         "0",
         "0",
         "0",
         "0",
         "1",
         "1",
         "1",
         "1",
         "1",
         "1",
         "0",
         "0",
         "0",
         "-0.111375",
         "-0.8391105211001445",
         "-0.013921875",
         "-0.10488881513751806"
        ],
        [
         "2021-01-01 10:00:00",
         "3.0",
         "0.7666666666666667",
         "0.0",
         "0.0",
         "0.0",
         "0.3",
         "0.0",
         "0.00011763861008629029",
         "351.16699999999764",
         "289.6873999999989",
         "2330.351550000003",
         "215.62078074861347",
         "435.18226420209976",
         "1941.6947151759778",
         "24.57800000000134",
         "0.07525666816702836",
         "-11.880600000004051",
         "-0.039396089770810994",
         "-5.374399999996967",
         "-0.002300954870153693",
         "-28.05860953643787",
         "-0.11514559973092298",
         "-4.7418424836978375",
         "-0.010778773910393058",
         "0.09024208903429098",
         "4.647810111957362e-05",
         "188.62467396996362",
         "176.0211751735076",
         "12.603498796456023",
         "1.0",
         "0.0",
         "13.322841986282194",
         "19.95243678197934",
         "15.751712764709861",
         "0.02087386810340064",
         "-1.0",
         "1.0",
         "4.200724017269479",
         "55.965582310061826",
         "55.67631225988693",
         "56.53326088072039",
         "-0.765580327810819",
         "-0.04313098733019738",
         "-2.2396553442640887",
         "-0.29702980736001666",
         "-0.01970505297938263",
         "-1.2019463115048836",
         "0.9848416912896367",
         "317.62446674008606",
         "353.8086407117943",
         "-18.765489623442722",
         "-0.08469144289399622",
         "-10.796983230063896",
         "-0.04416402181080181",
         "-0.15200340356497247",
         "-0.13645794490172",
         "0.8977295356639321",
         "28664.90106651983",
         "28592.532718576414",
         "29794.108933480173",
         "29866.477281423588",
         "29496.55971344189",
         "29199.137000000068",
         "28901.714286558246",
         "29578.630359460563",
         "28970.145000000088",
         "28361.659640539612",
         "0.020372020819781136",
         "0.5722254859132245",
         "0.042007753807271155",
         "0.7234688113458018",
         "2021",
         "1",
         "0.471604938271605",
         "0.8064680302035995",
         "0.0",
         "0.0",
         "0.0",
         "0.0",
         "0.0",
         "0.0",
         "0.2925925925925926",
         "0.16168437550034043",
         "0.0",
         "0.0",
         "1",
         "1",
         "1",
         "1",
         "0",
         "0",
         "0",
         "0",
         "0",
         "0",
         "0",
         "0",
         "0",
         "0",
         "0",
         "0",
         "1",
         "1",
         "1",
         "1",
         "0",
         "0",
         "0",
         "0",
         "1",
         "1",
         "0",
         "0",
         "1",
         "1",
         "1",
         "1",
         "0",
         "0",
         "0",
         "0",
         "0",
         "0",
         "0",
         "1",
         "1",
         "0",
         "0",
         "0",
         "0",
         "0",
         "0",
         "0",
         "0",
         "0",
         "0",
         "1",
         "1",
         "1",
         "1",
         "1",
         "1",
         "0",
         "0",
         "0",
         "-0.0556875",
         "-0.8224944711773694",
         "-0.0069609375",
         "-0.10281180889717118"
        ]
       ],
       "shape": {
        "columns": 149,
        "rows": 5
       }
      },
      "text/html": [
       "<div>\n",
       "<style scoped>\n",
       "    .dataframe tbody tr th:only-of-type {\n",
       "        vertical-align: middle;\n",
       "    }\n",
       "\n",
       "    .dataframe tbody tr th {\n",
       "        vertical-align: top;\n",
       "    }\n",
       "\n",
       "    .dataframe thead th {\n",
       "        text-align: right;\n",
       "    }\n",
       "</style>\n",
       "<table border=\"1\" class=\"dataframe\">\n",
       "  <thead>\n",
       "    <tr style=\"text-align: right;\">\n",
       "      <th></th>\n",
       "      <th>news_count</th>\n",
       "      <th>tanalysis_absa</th>\n",
       "      <th>economy_absa</th>\n",
       "      <th>regulation_absa</th>\n",
       "      <th>technology_absa</th>\n",
       "      <th>adoption_absa</th>\n",
       "      <th>cybersecurity_absa</th>\n",
       "      <th>return_forward</th>\n",
       "      <th>sma_5_20_diff</th>\n",
       "      <th>sma_20_50_diff</th>\n",
       "      <th>...</th>\n",
       "      <th>NER_michael saylor_last24</th>\n",
       "      <th>NER_microstrategy_last3</th>\n",
       "      <th>NER_microstrategy_last24</th>\n",
       "      <th>NER_sec_last3</th>\n",
       "      <th>NER_sec_last24</th>\n",
       "      <th>NER_us_last3</th>\n",
       "      <th>reddit_total_sentiment_ewm_2h</th>\n",
       "      <th>reddit_total_sentiment_ewm_100h</th>\n",
       "      <th>reddit_average_sentiment_ewm_2h</th>\n",
       "      <th>reddit_average_sentiment_ewm_100h</th>\n",
       "    </tr>\n",
       "  </thead>\n",
       "  <tbody>\n",
       "    <tr>\n",
       "      <th>2021-01-01 06:00:00</th>\n",
       "      <td>2.0</td>\n",
       "      <td>0.850000</td>\n",
       "      <td>0.0</td>\n",
       "      <td>0.0</td>\n",
       "      <td>0.0</td>\n",
       "      <td>0.15</td>\n",
       "      <td>0.0</td>\n",
       "      <td>-0.007795</td>\n",
       "      <td>219.4000</td>\n",
       "      <td>351.4194</td>\n",
       "      <td>...</td>\n",
       "      <td>0</td>\n",
       "      <td>0</td>\n",
       "      <td>0</td>\n",
       "      <td>0</td>\n",
       "      <td>0</td>\n",
       "      <td>0</td>\n",
       "      <td>-0.891000</td>\n",
       "      <td>-0.891000</td>\n",
       "      <td>-0.111375</td>\n",
       "      <td>-0.111375</td>\n",
       "    </tr>\n",
       "    <tr>\n",
       "      <th>2021-01-01 07:00:00</th>\n",
       "      <td>0.0</td>\n",
       "      <td>0.000000</td>\n",
       "      <td>0.0</td>\n",
       "      <td>0.0</td>\n",
       "      <td>0.0</td>\n",
       "      <td>0.00</td>\n",
       "      <td>0.0</td>\n",
       "      <td>0.003292</td>\n",
       "      <td>253.0935</td>\n",
       "      <td>336.2693</td>\n",
       "      <td>...</td>\n",
       "      <td>0</td>\n",
       "      <td>0</td>\n",
       "      <td>0</td>\n",
       "      <td>0</td>\n",
       "      <td>0</td>\n",
       "      <td>0</td>\n",
       "      <td>-0.445500</td>\n",
       "      <td>-0.873356</td>\n",
       "      <td>-0.055688</td>\n",
       "      <td>-0.109170</td>\n",
       "    </tr>\n",
       "    <tr>\n",
       "      <th>2021-01-01 08:00:00</th>\n",
       "      <td>2.0</td>\n",
       "      <td>0.400000</td>\n",
       "      <td>0.0</td>\n",
       "      <td>0.0</td>\n",
       "      <td>0.0</td>\n",
       "      <td>0.50</td>\n",
       "      <td>0.0</td>\n",
       "      <td>-0.001883</td>\n",
       "      <td>284.9410</td>\n",
       "      <td>309.6284</td>\n",
       "      <td>...</td>\n",
       "      <td>1</td>\n",
       "      <td>1</td>\n",
       "      <td>1</td>\n",
       "      <td>0</td>\n",
       "      <td>0</td>\n",
       "      <td>0</td>\n",
       "      <td>-0.222750</td>\n",
       "      <td>-0.856062</td>\n",
       "      <td>-0.027844</td>\n",
       "      <td>-0.107008</td>\n",
       "    </tr>\n",
       "    <tr>\n",
       "      <th>2021-01-01 09:00:00</th>\n",
       "      <td>2.0</td>\n",
       "      <td>-0.050000</td>\n",
       "      <td>0.0</td>\n",
       "      <td>0.0</td>\n",
       "      <td>0.0</td>\n",
       "      <td>0.40</td>\n",
       "      <td>0.0</td>\n",
       "      <td>-0.001648</td>\n",
       "      <td>326.5890</td>\n",
       "      <td>301.5680</td>\n",
       "      <td>...</td>\n",
       "      <td>1</td>\n",
       "      <td>1</td>\n",
       "      <td>1</td>\n",
       "      <td>0</td>\n",
       "      <td>0</td>\n",
       "      <td>0</td>\n",
       "      <td>-0.111375</td>\n",
       "      <td>-0.839111</td>\n",
       "      <td>-0.013922</td>\n",
       "      <td>-0.104889</td>\n",
       "    </tr>\n",
       "    <tr>\n",
       "      <th>2021-01-01 10:00:00</th>\n",
       "      <td>3.0</td>\n",
       "      <td>0.766667</td>\n",
       "      <td>0.0</td>\n",
       "      <td>0.0</td>\n",
       "      <td>0.0</td>\n",
       "      <td>0.30</td>\n",
       "      <td>0.0</td>\n",
       "      <td>0.000118</td>\n",
       "      <td>351.1670</td>\n",
       "      <td>289.6874</td>\n",
       "      <td>...</td>\n",
       "      <td>1</td>\n",
       "      <td>1</td>\n",
       "      <td>1</td>\n",
       "      <td>0</td>\n",
       "      <td>0</td>\n",
       "      <td>0</td>\n",
       "      <td>-0.055688</td>\n",
       "      <td>-0.822494</td>\n",
       "      <td>-0.006961</td>\n",
       "      <td>-0.102812</td>\n",
       "    </tr>\n",
       "  </tbody>\n",
       "</table>\n",
       "<p>5 rows × 149 columns</p>\n",
       "</div>"
      ],
      "text/plain": [
       "                     news_count  tanalysis_absa  economy_absa  \\\n",
       "2021-01-01 06:00:00         2.0        0.850000           0.0   \n",
       "2021-01-01 07:00:00         0.0        0.000000           0.0   \n",
       "2021-01-01 08:00:00         2.0        0.400000           0.0   \n",
       "2021-01-01 09:00:00         2.0       -0.050000           0.0   \n",
       "2021-01-01 10:00:00         3.0        0.766667           0.0   \n",
       "\n",
       "                     regulation_absa  technology_absa  adoption_absa  \\\n",
       "2021-01-01 06:00:00              0.0              0.0           0.15   \n",
       "2021-01-01 07:00:00              0.0              0.0           0.00   \n",
       "2021-01-01 08:00:00              0.0              0.0           0.50   \n",
       "2021-01-01 09:00:00              0.0              0.0           0.40   \n",
       "2021-01-01 10:00:00              0.0              0.0           0.30   \n",
       "\n",
       "                     cybersecurity_absa  return_forward  sma_5_20_diff  \\\n",
       "2021-01-01 06:00:00                 0.0       -0.007795       219.4000   \n",
       "2021-01-01 07:00:00                 0.0        0.003292       253.0935   \n",
       "2021-01-01 08:00:00                 0.0       -0.001883       284.9410   \n",
       "2021-01-01 09:00:00                 0.0       -0.001648       326.5890   \n",
       "2021-01-01 10:00:00                 0.0        0.000118       351.1670   \n",
       "\n",
       "                     sma_20_50_diff  ...  NER_michael saylor_last24  \\\n",
       "2021-01-01 06:00:00        351.4194  ...                          0   \n",
       "2021-01-01 07:00:00        336.2693  ...                          0   \n",
       "2021-01-01 08:00:00        309.6284  ...                          1   \n",
       "2021-01-01 09:00:00        301.5680  ...                          1   \n",
       "2021-01-01 10:00:00        289.6874  ...                          1   \n",
       "\n",
       "                     NER_microstrategy_last3  NER_microstrategy_last24  \\\n",
       "2021-01-01 06:00:00                        0                         0   \n",
       "2021-01-01 07:00:00                        0                         0   \n",
       "2021-01-01 08:00:00                        1                         1   \n",
       "2021-01-01 09:00:00                        1                         1   \n",
       "2021-01-01 10:00:00                        1                         1   \n",
       "\n",
       "                     NER_sec_last3  NER_sec_last24  NER_us_last3  \\\n",
       "2021-01-01 06:00:00              0               0             0   \n",
       "2021-01-01 07:00:00              0               0             0   \n",
       "2021-01-01 08:00:00              0               0             0   \n",
       "2021-01-01 09:00:00              0               0             0   \n",
       "2021-01-01 10:00:00              0               0             0   \n",
       "\n",
       "                     reddit_total_sentiment_ewm_2h  \\\n",
       "2021-01-01 06:00:00                      -0.891000   \n",
       "2021-01-01 07:00:00                      -0.445500   \n",
       "2021-01-01 08:00:00                      -0.222750   \n",
       "2021-01-01 09:00:00                      -0.111375   \n",
       "2021-01-01 10:00:00                      -0.055688   \n",
       "\n",
       "                     reddit_total_sentiment_ewm_100h  \\\n",
       "2021-01-01 06:00:00                        -0.891000   \n",
       "2021-01-01 07:00:00                        -0.873356   \n",
       "2021-01-01 08:00:00                        -0.856062   \n",
       "2021-01-01 09:00:00                        -0.839111   \n",
       "2021-01-01 10:00:00                        -0.822494   \n",
       "\n",
       "                     reddit_average_sentiment_ewm_2h  \\\n",
       "2021-01-01 06:00:00                        -0.111375   \n",
       "2021-01-01 07:00:00                        -0.055688   \n",
       "2021-01-01 08:00:00                        -0.027844   \n",
       "2021-01-01 09:00:00                        -0.013922   \n",
       "2021-01-01 10:00:00                        -0.006961   \n",
       "\n",
       "                     reddit_average_sentiment_ewm_100h  \n",
       "2021-01-01 06:00:00                          -0.111375  \n",
       "2021-01-01 07:00:00                          -0.109170  \n",
       "2021-01-01 08:00:00                          -0.107008  \n",
       "2021-01-01 09:00:00                          -0.104889  \n",
       "2021-01-01 10:00:00                          -0.102812  \n",
       "\n",
       "[5 rows x 149 columns]"
      ]
     },
     "execution_count": 3,
     "metadata": {},
     "output_type": "execute_result"
    }
   ],
   "source": [
    "df.head()"
   ]
  },
  {
   "cell_type": "code",
   "execution_count": 4,
   "id": "9f5aaacb",
   "metadata": {},
   "outputs": [
    {
     "name": "stdout",
     "output_type": "stream",
     "text": [
      "['news_count', 'tanalysis_absa', 'economy_absa', 'regulation_absa', 'technology_absa']\n",
      "['adoption_absa', 'cybersecurity_absa', 'return_forward', 'sma_5_20_diff', 'sma_20_50_diff']\n",
      "['sma_50_200_diff', 'ema_5_20_diff', 'ema_20_50_diff', 'ema_50_200_diff', 'sma_5_20_diff_abs_chg']\n",
      "['sma_5_20_diff_pct_chg', 'sma_20_50_diff_abs_chg', 'sma_20_50_diff_pct_chg', 'sma_50_200_diff_abs_chg', 'sma_50_200_diff_pct_chg']\n",
      "['ema_5_20_diff_abs_chg', 'ema_5_20_diff_pct_chg', 'ema_20_50_diff_abs_chg', 'ema_20_50_diff_pct_chg', 'ema_50_200_diff_abs_chg']\n",
      "['ema_50_200_diff_pct_chg', 'macd_12_26', 'signal_line_9', 'macd_histogram', 'macd_position']\n",
      "['macd_crossover', 'adx', '+di', '-di', 'adx_slope']\n",
      "['adx_strength', 'di_crossover', 'di_spread', 'adx_di_composite', 'rsi_7']\n",
      "['rsi_14', 'rsi_7_slope', 'rsi_7_chg', 'rsi_7_acceleration', 'rsi_14_slope']\n",
      "['rsi_14_chg', 'rsi_14_acceleration', 'rsi_ratio', 'atr_7', 'atr_14']\n",
      "['atr_7_slope', 'atr_7_chg', 'atr_14_slope', 'atr_14_chg', 'norm_price_change_7']\n",
      "['norm_price_change_14', 'atr_ratio', 'trailing_stop_long_7', 'trailing_stop_long_14', 'trailing_stop_short_7']\n",
      "['trailing_stop_short_14', 'upper_band_10', 'middle_band_10', 'lower_band_10', 'upper_band_20']\n",
      "['middle_band_20', 'lower_band_20', '10_band_width', 'pct_b_10', '20_band_width']\n",
      "['pct_b_20', 'year', 'target', 'tanalysis_absa_ewm_5h', 'tanalysis_absa_ewm_100h']\n",
      "['economy_absa_ewm_5h', 'economy_absa_ewm_100h', 'regulation_absa_ewm_5h', 'regulation_absa_ewm_100h', 'technology_absa_ewm_5h']\n",
      "['technology_absa_ewm_100h', 'adoption_absa_ewm_5h', 'adoption_absa_ewm_100h', 'cybersecurity_absa_ewm_5h', 'cybersecurity_absa_ewm_100h']\n",
      "['source_AMBCrypto_last3', 'source_AMBCrypto_last24', 'source_BeInCrypto_last3', 'source_BeInCrypto_last24', 'source_Benzinga_last3']\n",
      "['source_Benzinga_last24', 'source_Bitcoin_last3', 'source_Bitcoin_last24', 'source_Bitcoin Magazine_last3', 'source_Bitcoin Magazine_last24']\n",
      "['source_CoinPedia_last3', 'source_CoinPedia_last24', 'source_Coindesk_last3', 'source_Coindesk_last24', 'source_Coingape_last3']\n",
      "['source_Coingape_last24', 'source_Cointelegraph_last3', 'source_Cointelegraph_last24', 'source_CryptoPotato_last3', 'source_CryptoPotato_last24']\n",
      "['source_Cryptopolitan_last3', 'source_Cryptopolitan_last24', 'source_NewsBTC_last3', 'source_NewsBTC_last24', 'source_Other_last3']\n",
      "['source_Other_last24', 'source_The Currency Analytics_last3', 'source_The Currency Analytics_last24', 'source_The Daily Hodl_last3', 'source_The Daily Hodl_last24']\n",
      "['source_UToday_last3', 'source_UToday_last24', 'topic_Other_last3', 'topic_exchange traded funds, ETF_last3', 'topic_exchange traded funds, ETF_last24']\n",
      "['topic_institutional investments_last3', 'topic_institutional investments_last24', 'topic_market sentiment_last3', 'topic_market sentiment_last24', 'topic_others_last3']\n",
      "['topic_price action, price movement, trading_last3', 'NER_binance_last3', 'NER_binance_last24', 'NER_blackrock_last3', 'NER_blackrock_last24']\n",
      "['NER_coinbase_last3', 'NER_coinbase_last24', 'NER_el salvador_last3', 'NER_el salvador_last24', 'NER_fed_last3']\n",
      "['NER_fed_last24', 'NER_grayscale_last3', 'NER_grayscale_last24', 'NER_michael saylor_last3', 'NER_michael saylor_last24']\n",
      "['NER_microstrategy_last3', 'NER_microstrategy_last24', 'NER_sec_last3', 'NER_sec_last24', 'NER_us_last3']\n",
      "['reddit_total_sentiment_ewm_2h', 'reddit_total_sentiment_ewm_100h', 'reddit_average_sentiment_ewm_2h', 'reddit_average_sentiment_ewm_100h']\n"
     ]
    }
   ],
   "source": [
    "columns = df.columns.tolist()\n",
    "for i in range(0, len(columns), 5):\n",
    "  print(columns[i:i+5])"
   ]
  },
  {
   "cell_type": "markdown",
   "id": "80a657ff",
   "metadata": {},
   "source": [
    "### Spliting dataset"
   ]
  },
  {
   "cell_type": "code",
   "execution_count": null,
   "id": "a304c448",
   "metadata": {},
   "outputs": [],
   "source": [
    "all_features = df.columns.drop(['target', 'return_forward'])"
   ]
  },
  {
   "cell_type": "code",
   "execution_count": 6,
   "id": "35588499",
   "metadata": {},
   "outputs": [
    {
     "name": "stdout",
     "output_type": "stream",
     "text": [
      "Training set class distribution: [ 9993  6038 10243]\n",
      "Test set class distribution: [2648 3274 2862]\n"
     ]
    }
   ],
   "source": [
    "df_train = df[df['year'].isin([2021, 2022, 2023])]\n",
    "df_test = df[df['year'] == 2024]\n",
    "\n",
    "X_train = df_train[all_features]\n",
    "y_train = df_train['target']\n",
    "X_test = df_test[all_features]\n",
    "y_test = df_test['target']\n",
    "\n",
    "# Print class distribution\n",
    "print(f\"Training set class distribution: {np.bincount(y_train)}\")\n",
    "print(f\"Test set class distribution: {np.bincount(y_test)}\")"
   ]
  },
  {
   "cell_type": "markdown",
   "id": "ea2348af",
   "metadata": {},
   "source": [
    "### Logistic regression model - using all features"
   ]
  },
  {
   "cell_type": "code",
   "execution_count": 7,
   "id": "65e3130a",
   "metadata": {},
   "outputs": [
    {
     "name": "stdout",
     "output_type": "stream",
     "text": [
      "Fitting 5 folds for each of 7 candidates, totalling 35 fits\n",
      "GridSearchCV fitting time: 1324.05 seconds\n",
      "Best parameters found:  {'model__estimator__C': 0.005}\n",
      "Best cross-validation ROC AUC score:  0.5879489966412944\n"
     ]
    }
   ],
   "source": [
    "pipeline = Pipeline([\n",
    "  ('scaler', StandardScaler()),\n",
    "  ('model', OneVsRestClassifier(LogisticRegression(\n",
    "    solver='saga',\n",
    "    max_iter=13000,\n",
    "    random_state=42,\n",
    "    class_weight='balanced',\n",
    "    penalty='l1'\n",
    "  )))\n",
    "])\n",
    "\n",
    "# Parameter grid for GridSearchCV\n",
    "param_grid = {\n",
    "  'model__estimator__C': [0.001, 0.005, 0.01, 0.05, 0.1, 1, 10] # Regularization strength\n",
    "}\n",
    "\n",
    "# Time series cross-validation\n",
    "tscv = TimeSeriesSplit(n_splits=5)\n",
    "\n",
    "# Initialize GridSearchCV\n",
    "grid_search = GridSearchCV(\n",
    "  estimator=pipeline,\n",
    "  param_grid=param_grid,\n",
    "  cv=tscv,\n",
    "  scoring='roc_auc_ovr',\n",
    "  n_jobs=-1,\n",
    "  verbose=1\n",
    ")\n",
    "\n",
    "# Fit GridSearchCV on the training data\n",
    "start_time = time.time()\n",
    "grid_search.fit(X_train, y_train)\n",
    "end_time = time.time()\n",
    "\n",
    "print(f\"GridSearchCV fitting time: {end_time - start_time:.2f} seconds\")\n",
    "print(\"Best parameters found: \", grid_search.best_params_)\n",
    "print(\"Best cross-validation ROC AUC score: \", grid_search.best_score_)\n",
    "\n",
    "# Get the best estimator\n",
    "best_model = grid_search.best_estimator_"
   ]
  },
  {
   "cell_type": "code",
   "execution_count": null,
   "id": "63296423",
   "metadata": {},
   "outputs": [
    {
     "name": "stdout",
     "output_type": "stream",
     "text": [
      "Shape of coefficient matrix: (3, 147)\n",
      "\n",
      "Top 15 most important features for Bearish (0):\n",
      "                           Feature  Coefficient  Abs_Coefficient\n",
      "67                        pct_b_10     0.126414         0.126414\n",
      "48                          atr_14     0.093996         0.093996\n",
      "70                            year    -0.081668         0.081668\n",
      "55                       atr_ratio     0.053526         0.053526\n",
      "72         tanalysis_absa_ewm_100h    -0.041043         0.041043\n",
      "95           source_Coindesk_last3     0.030072         0.030072\n",
      "127           NER_blackrock_last24    -0.020066         0.020066\n",
      "91   source_Bitcoin Magazine_last3     0.019524         0.019524\n",
      "105           source_NewsBTC_last3     0.015113         0.015113\n",
      "74           economy_absa_ewm_100h    -0.013892         0.013892\n",
      "53             norm_price_change_7     0.012310         0.012310\n",
      "103     source_Cryptopolitan_last3     0.010824         0.010824\n",
      "132                  NER_fed_last3     0.009492         0.009492\n",
      "17         sma_50_200_diff_abs_chg     0.009315         0.009315\n",
      "99      source_Cointelegraph_last3     0.007259         0.007259\n",
      "\n",
      "Top 15 most important features for Neutral (1):\n",
      "                                  Feature  Coefficient  Abs_Coefficient\n",
      "48                                 atr_14    -0.485244         0.485244\n",
      "55                              atr_ratio    -0.132469         0.132469\n",
      "70                                   year     0.088784         0.088784\n",
      "95                  source_Coindesk_last3    -0.078766         0.078766\n",
      "68                          20_band_width    -0.076113         0.076113\n",
      "50                              atr_7_chg    -0.064507         0.064507\n",
      "74                  economy_absa_ewm_100h     0.056812         0.056812\n",
      "19                  ema_5_20_diff_abs_chg     0.044373         0.044373\n",
      "127                  NER_blackrock_last24     0.043202         0.043202\n",
      "146     reddit_average_sentiment_ewm_100h     0.036951         0.036951\n",
      "91          source_Bitcoin Magazine_last3    -0.035978         0.035978\n",
      "105                  source_NewsBTC_last3    -0.032760         0.032760\n",
      "110  source_The Currency Analytics_last24     0.025914         0.025914\n",
      "130                 NER_el salvador_last3    -0.023660         0.023660\n",
      "99             source_Cointelegraph_last3    -0.021466         0.021466\n",
      "\n",
      "Top 15 most important features for Bullish (2):\n",
      "                               Feature  Coefficient  Abs_Coefficient\n",
      "48                              atr_14     0.132275         0.132275\n",
      "46                           rsi_ratio    -0.090418         0.090418\n",
      "55                           atr_ratio     0.077870         0.077870\n",
      "67                            pct_b_10    -0.067944         0.067944\n",
      "70                                year    -0.031384         0.031384\n",
      "68                       20_band_width     0.026240         0.026240\n",
      "40                         rsi_7_slope    -0.013860         0.013860\n",
      "83              source_AMBCrypto_last3     0.011855         0.011855\n",
      "99          source_Cointelegraph_last3     0.011167         0.011167\n",
      "146  reddit_average_sentiment_ewm_100h    -0.010379         0.010379\n",
      "127               NER_blackrock_last24    -0.010178         0.010178\n",
      "41                           rsi_7_chg    -0.009053         0.009053\n",
      "95               source_Coindesk_last3     0.006121         0.006121\n",
      "53                 norm_price_change_7    -0.002414         0.002414\n",
      "87               source_Benzinga_last3     0.002033         0.002033\n"
     ]
    },
    {
     "data": {
      "image/png": "[encoded data removed]",
      "text/plain": [
       "<Figure size 1500x1500 with 3 Axes>"
      ]
     },
     "metadata": {},
     "output_type": "display_data"
    },
    {
     "name": "stdout",
     "output_type": "stream",
     "text": [
      "\n",
      "Number of features used by the model (non-zero coefficients): 63\n",
      "Total number of features slots: 441\n",
      "Feature utilization: 14.29%\n"
     ]
    }
   ],
   "source": [
    "# Get the OneVsRestClassifier model from the pipeline\n",
    "model = best_model.named_steps['model']\n",
    "\n",
    "# Extract coefficients from each binary classifier within OneVsRestClassifier\n",
    "# The estimators_ attribute holds the fitted estimator for each class.\n",
    "# Each estimator's coef_ attribute has shape (1, n_features), so we stack them.\n",
    "coefficients = np.vstack([est.coef_ for est in model.estimators_])\n",
    "\n",
    "# Print the shape of coefficients to understand the structure\n",
    "print(f\"Shape of coefficient matrix: {coefficients.shape}\")\n",
    "\n",
    "# Get feature names\n",
    "feature_names = X_train.columns\n",
    "\n",
    "# Create a function to display coefficients for a class\n",
    "def display_class_coefficients(class_idx, class_name):\n",
    "  class_coefs = coefficients[class_idx]\n",
    "  \n",
    "  # Create a DataFrame\n",
    "  coef_df = pd.DataFrame({\n",
    "    'Feature': feature_names,\n",
    "    'Coefficient': class_coefs\n",
    "  })\n",
    "  \n",
    "  # Sort by absolute coefficient value\n",
    "  coef_df['Abs_Coefficient'] = np.abs(coef_df['Coefficient'])\n",
    "  coef_df = coef_df.sort_values(by='Abs_Coefficient', ascending=False)\n",
    "  \n",
    "  # Display top features\n",
    "  print(f\"\\nTop 15 most important features for {class_name}:\")\n",
    "  print(coef_df.head(15))\n",
    "  \n",
    "  return coef_df\n",
    "\n",
    "# Display coefficients for each class\n",
    "class_names = ['Bearish (0)', 'Neutral (1)', 'Bullish (2)'] # Assuming classes are 0, 1, 2\n",
    "\n",
    "plt.figure(figsize=(15, 15))\n",
    "\n",
    "for i, class_name in enumerate(class_names):\n",
    "  if i < coefficients.shape[0]: \n",
    "      coef_df = display_class_coefficients(i, class_name)\n",
    "      \n",
    "      plt.subplot(3, 1, i+1)\n",
    "      if not coef_df.empty:\n",
    "          top_features = coef_df.head(10)\n",
    "          plt.barh(top_features['Feature'], top_features['Coefficient'])\n",
    "          plt.title(f'Top 10 Features for {class_name}')\n",
    "  else:\n",
    "      print(f\"Skipping plotting for class index {i}, as model might not have coefficients for it.\")\n",
    "\n",
    "plt.tight_layout()\n",
    "plt.show()\n",
    "\n",
    "# Count number of non-zero coefficients\n",
    "# For multi_class, coefficients shape is (n_classes, n_features)\n",
    "non_zero_coef = (np.abs(coefficients) > 1e-5).sum()\n",
    "total_possible_coef = coefficients.shape[0] * coefficients.shape[1]\n",
    "print(f\"\\nNumber of features used by the model (non-zero coefficients): {non_zero_coef}\")\n",
    "print(f\"Total number of features slots: {total_possible_coef}\")\n",
    "if total_possible_coef > 0:\n",
    "    print(f\"Feature utilization: {non_zero_coef / total_possible_coef * 100:.2f}%\")"
   ]
  },
  {
   "cell_type": "code",
   "execution_count": 9,
   "id": "2c2d14f5",
   "metadata": {},
   "outputs": [],
   "source": [
    "# Make predictions on the test set - Using all features\n",
    "y_pred = best_model.predict(X_test)\n",
    "y_pred_proba = best_model.predict_proba(X_test)"
   ]
  },
  {
   "cell_type": "code",
   "execution_count": 10,
   "id": "778279ab",
   "metadata": {},
   "outputs": [
    {
     "name": "stdout",
     "output_type": "stream",
     "text": [
      "Test Set Accuracy: 0.4836\n",
      "\n",
      "Classification Report:\n",
      "              precision    recall  f1-score   support\n",
      "\n",
      "           0       0.43      0.17      0.25      2648\n",
      "           1       0.52      0.79      0.62      3274\n",
      "           2       0.45      0.42      0.43      2862\n",
      "\n",
      "    accuracy                           0.48      8784\n",
      "   macro avg       0.46      0.46      0.43      8784\n",
      "weighted avg       0.47      0.48      0.45      8784\n",
      "\n",
      "\n",
      "Confusion Matrix:\n",
      "[[ 459 1186 1003]\n",
      " [ 189 2574  511]\n",
      " [ 417 1230 1215]]\n",
      "\n",
      "ROC AUC Score (One-vs-Rest): 0.6961\n"
     ]
    }
   ],
   "source": [
    "# Evaluate the model\n",
    "accuracy = accuracy_score(y_test, y_pred)\n",
    "report = classification_report(y_test, y_pred)\n",
    "conf_matrix = confusion_matrix(y_test, y_pred)\n",
    "# For multiclass ROC AUC, specify multi_class='ovr' or 'ovo' and provide probabilities\n",
    "roc_auc = roc_auc_score(y_test, y_pred_proba, multi_class='ovr')\n",
    "\n",
    "print(f\"Test Set Accuracy: {accuracy:.4f}\")\n",
    "print(\"\\nClassification Report:\")\n",
    "print(report)\n",
    "print(\"\\nConfusion Matrix:\")\n",
    "print(conf_matrix)\n",
    "print(f\"\\nROC AUC Score (One-vs-Rest): {roc_auc:.4f}\")"
   ]
  },
  {
   "cell_type": "code",
   "execution_count": 11,
   "id": "2f4c45b7",
   "metadata": {},
   "outputs": [
    {
     "data": {
      "image/png": "[encoded data removed]",
      "text/plain": [
       "<Figure size 800x600 with 2 Axes>"
      ]
     },
     "metadata": {},
     "output_type": "display_data"
    }
   ],
   "source": [
    "# Plot confusion matrix\n",
    "plt.figure(figsize=(8, 6))\n",
    "sns.heatmap(conf_matrix, annot=True, fmt='d', cmap='Blues', xticklabels=[0, 1, 2], yticklabels=[0, 1, 2])\n",
    "plt.xlabel('Predicted Label')\n",
    "plt.ylabel('True Label')\n",
    "plt.title('Confusion Matrix')\n",
    "plt.show()"
   ]
  },
  {
   "cell_type": "code",
   "execution_count": null,
   "id": "d94a3e04",
   "metadata": {},
   "outputs": [
    {
     "data": {
      "image/png": "[encoded data removed]",
      "text/plain": [
       "<Figure size 1200x600 with 1 Axes>"
      ]
     },
     "metadata": {},
     "output_type": "display_data"
    },
    {
     "data": {
      "image/png": "[encoded data removed]",
      "text/plain": [
       "<Figure size 800x600 with 2 Axes>"
      ]
     },
     "metadata": {},
     "output_type": "display_data"
    }
   ],
   "source": [
    "# Add predictions and probabilities to test dataframe\n",
    "df_test = df_test.copy()\n",
    "\n",
    "df_test.loc[:, 'predicted_class'] = y_pred\n",
    "df_test.loc[:, 'prob_bearish'] = y_pred_proba[:, 0]\n",
    "df_test.loc[:, 'prob_neutral'] = y_pred_proba[:, 1]\n",
    "df_test.loc[:, 'prob_bullish'] = y_pred_proba[:, 2]\n",
    "\n",
    "# Define the mapping from numerical target to labels\n",
    "target_map = {0: 'Bearish', 1: 'Neutral', 2: 'Bullish'}\n",
    "\n",
    "# Map target values to more descriptive labels\n",
    "df_test.loc[:, 'actual_label'] = df_test['target'].map(target_map)\n",
    "df_test.loc[:, 'predicted_label'] = df_test['predicted_class'].map(target_map)\n",
    "\n",
    "# Calculate whether the prediction was correct\n",
    "df_test.loc[:, 'correct_prediction'] = (df_test['target'] == df_test['predicted_class']).astype(int)\n",
    "\n",
    "# Ensure the index is DatetimeIndex for resampling\n",
    "if not isinstance(df_test.index, pd.DatetimeIndex):\n",
    "  try:\n",
    "    df_test.index = pd.to_datetime(df_test.index)\n",
    "  except Exception as e:\n",
    "    print(f\"Could not convert index to DatetimeIndex: {e}\")\n",
    "    print(\"Monthly accuracy calculation requires a DatetimeIndex.\")\n",
    "\n",
    "# Calculate monthly accuracy\n",
    "if isinstance(df_test.index, pd.DatetimeIndex):\n",
    "  monthly_accuracy = df_test.resample('ME')['correct_prediction'].mean()\n",
    "\n",
    "  # Plot monthly accuracy\n",
    "  plt.figure(figsize=(12, 6))\n",
    "  monthly_accuracy.plot(kind='bar')\n",
    "  plt.title('Model Prediction Accuracy by Month (2024)')\n",
    "  plt.ylabel('Accuracy')\n",
    "  plt.xlabel('Month')\n",
    "  plt.xticks(rotation=45)\n",
    "  plt.grid(axis='y', linestyle='--')\n",
    "  plt.tight_layout()\n",
    "  plt.show()\n",
    "else:\n",
    "  print(\"Skipping monthly accuracy plot as index is not DatetimeIndex.\")\n",
    "\n",
    "\n",
    "# Show confusion matrix with labels\n",
    "conf_matrix_labeled = confusion_matrix(df_test['target'], df_test['predicted_class'])\n",
    "plt.figure(figsize=(8, 6))\n",
    "sns.heatmap(conf_matrix_labeled, annot=True, fmt='d', cmap='Blues',\n",
    "      xticklabels=target_map.values(),\n",
    "      yticklabels=target_map.values())\n",
    "plt.title('Confusion Matrix (Test Set)')\n",
    "plt.ylabel('Actual Label')\n",
    "plt.xlabel('Predicted Label')\n",
    "plt.tight_layout()\n",
    "plt.show()"
   ]
  },
  {
   "cell_type": "code",
   "execution_count": 13,
   "id": "21870c82",
   "metadata": {},
   "outputs": [
    {
     "name": "stdout",
     "output_type": "stream",
     "text": [
      "                     target  signal\n",
      "2024-01-01 00:00:00       0       1\n",
      "2024-01-01 01:00:00       1       1\n",
      "2024-01-01 02:00:00       0       1\n",
      "2024-01-01 03:00:00       1       1\n",
      "2024-01-01 04:00:00       2       1\n",
      "\n",
      "Predicted signal distribution:\n",
      "signal\n",
      "1    4990\n",
      "2    2729\n",
      "0    1065\n",
      "Name: count, dtype: int64\n"
     ]
    }
   ],
   "source": [
    "# Make prediction on the test set using the best model - Using all features\n",
    "df_test['signal'] = best_model.predict(X_test)\n",
    "\n",
    "# Display the first few rows with the new signal column\n",
    "print(df_test[['target', 'signal']].head())\n",
    "\n",
    "# Check the distribution of the predicted signals\n",
    "print(\"\\nPredicted signal distribution:\")\n",
    "print(df_test['signal'].value_counts())"
   ]
  },
  {
   "cell_type": "code",
   "execution_count": 14,
   "id": "da981186",
   "metadata": {},
   "outputs": [
    {
     "name": "stdout",
     "output_type": "stream",
     "text": [
      "Overall Annual Return: 18.78%\n",
      "Overall Annual Sharpe Ratio: 0.6155\n",
      "Maximum Drawdown: -33.23 %\n",
      "Alpha: -0.0183\n",
      "Beta: 0.3041\n",
      "\n",
      "Yearly Metrics:\n",
      "   year  yearly_return  yearly_std  yearly_beta  yearly_alpha  yearly_sharpe\n",
      "0  2024        0.18777    0.429903      0.30405     -0.018446       0.615464\n"
     ]
    },
    {
     "data": {
      "image/png": "[encoded data removed]",
      "text/plain": [
       "<Figure size 800x400 with 1 Axes>"
      ]
     },
     "metadata": {},
     "output_type": "display_data"
    },
    {
     "data": {
      "image/png": "[encoded data removed]",
      "text/plain": [
       "<Figure size 800x400 with 1 Axes>"
      ]
     },
     "metadata": {},
     "output_type": "display_data"
    }
   ],
   "source": [
    "df_test['signal'] = df_test['signal'] - 1\n",
    "run_backtest(df_test, 'h')"
   ]
  }
 ],
 "metadata": {
  "kernelspec": {
   "display_name": "myenv",
   "language": "python",
   "name": "python3"
  },
  "language_info": {
   "codemirror_mode": {
    "name": "ipython",
    "version": 3
   },
   "file_extension": ".py",
   "mimetype": "text/x-python",
   "name": "python",
   "nbconvert_exporter": "python",
   "pygments_lexer": "ipython3",
   "version": "3.11.11"
  }
 },
 "nbformat": 4,
 "nbformat_minor": 5
}
