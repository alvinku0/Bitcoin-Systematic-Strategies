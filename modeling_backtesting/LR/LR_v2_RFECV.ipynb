{
 "cells": [
  {
   "cell_type": "code",
   "execution_count": 1,
   "id": "bbc2facf",
   "metadata": {},
   "outputs": [],
   "source": [
    "import pandas as pd\n",
    "import numpy as np\n",
    "import time\n",
    "from pprint import pprint\n",
    "\n",
    "import matplotlib.pyplot as plt\n",
    "import seaborn as sns\n",
    "\n",
    "from sklearn.linear_model import LogisticRegression\n",
    "from sklearn.metrics import classification_report, accuracy_score, precision_recall_fscore_support, confusion_matrix, roc_auc_score\n",
    "from sklearn.preprocessing import StandardScaler\n",
    "from sklearn.feature_selection import RFE, RFECV\n",
    "from sklearn.model_selection import GridSearchCV, TimeSeriesSplit\n",
    "from sklearn.linear_model import LogisticRegression\n",
    "from sklearn.pipeline import Pipeline\n",
    "\n",
    "from backtest_functions_v2 import *"
   ]
  },
  {
   "cell_type": "code",
   "execution_count": 2,
   "id": "57bfb84a",
   "metadata": {},
   "outputs": [],
   "source": [
    "df = pd.read_parquet(\"../data/full_dataset_feature_engineering_v3.parquet\")"
   ]
  },
  {
   "cell_type": "code",
   "execution_count": 3,
   "id": "0fbf3732",
   "metadata": {},
   "outputs": [
    {
     "name": "stdout",
     "output_type": "stream",
     "text": [
      "(35058, 149)\n"
     ]
    }
   ],
   "source": [
    "print(df.shape)"
   ]
  },
  {
   "cell_type": "code",
   "execution_count": 4,
   "id": "524c40f4",
   "metadata": {},
   "outputs": [
    {
     "name": "stdout",
     "output_type": "stream",
     "text": [
      "['news_count', 'tanalysis_absa', 'economy_absa', 'regulation_absa', 'technology_absa']\n",
      "['adoption_absa', 'cybersecurity_absa', 'return_forward', 'sma_5_20_diff', 'sma_20_50_diff']\n",
      "['sma_50_200_diff', 'ema_5_20_diff', 'ema_20_50_diff', 'ema_50_200_diff', 'sma_5_20_diff_abs_chg']\n",
      "['sma_5_20_diff_pct_chg', 'sma_20_50_diff_abs_chg', 'sma_20_50_diff_pct_chg', 'sma_50_200_diff_abs_chg', 'sma_50_200_diff_pct_chg']\n",
      "['ema_5_20_diff_abs_chg', 'ema_5_20_diff_pct_chg', 'ema_20_50_diff_abs_chg', 'ema_20_50_diff_pct_chg', 'ema_50_200_diff_abs_chg']\n",
      "['ema_50_200_diff_pct_chg', 'macd_12_26', 'signal_line_9', 'macd_histogram', 'macd_position']\n",
      "['macd_crossover', 'adx', '+di', '-di', 'adx_slope']\n",
      "['adx_strength', 'di_crossover', 'di_spread', 'adx_di_composite', 'rsi_7']\n",
      "['rsi_14', 'rsi_7_slope', 'rsi_7_chg', 'rsi_7_acceleration', 'rsi_14_slope']\n",
      "['rsi_14_chg', 'rsi_14_acceleration', 'rsi_ratio', 'atr_7', 'atr_14']\n",
      "['atr_7_slope', 'atr_7_chg', 'atr_14_slope', 'atr_14_chg', 'norm_price_change_7']\n",
      "['norm_price_change_14', 'atr_ratio', 'trailing_stop_long_7', 'trailing_stop_long_14', 'trailing_stop_short_7']\n",
      "['trailing_stop_short_14', 'upper_band_10', 'middle_band_10', 'lower_band_10', 'upper_band_20']\n",
      "['middle_band_20', 'lower_band_20', '10_band_width', 'pct_b_10', '20_band_width']\n",
      "['pct_b_20', 'year', 'target', 'tanalysis_absa_ewm_5h', 'tanalysis_absa_ewm_100h']\n",
      "['economy_absa_ewm_5h', 'economy_absa_ewm_100h', 'regulation_absa_ewm_5h', 'regulation_absa_ewm_100h', 'technology_absa_ewm_5h']\n",
      "['technology_absa_ewm_100h', 'adoption_absa_ewm_5h', 'adoption_absa_ewm_100h', 'cybersecurity_absa_ewm_5h', 'cybersecurity_absa_ewm_100h']\n",
      "['source_AMBCrypto_last3', 'source_AMBCrypto_last24', 'source_BeInCrypto_last3', 'source_BeInCrypto_last24', 'source_Benzinga_last3']\n",
      "['source_Benzinga_last24', 'source_Bitcoin_last3', 'source_Bitcoin_last24', 'source_Bitcoin Magazine_last3', 'source_Bitcoin Magazine_last24']\n",
      "['source_CoinPedia_last3', 'source_CoinPedia_last24', 'source_Coindesk_last3', 'source_Coindesk_last24', 'source_Coingape_last3']\n",
      "['source_Coingape_last24', 'source_Cointelegraph_last3', 'source_Cointelegraph_last24', 'source_CryptoPotato_last3', 'source_CryptoPotato_last24']\n",
      "['source_Cryptopolitan_last3', 'source_Cryptopolitan_last24', 'source_NewsBTC_last3', 'source_NewsBTC_last24', 'source_Other_last3']\n",
      "['source_Other_last24', 'source_The Currency Analytics_last3', 'source_The Currency Analytics_last24', 'source_The Daily Hodl_last3', 'source_The Daily Hodl_last24']\n",
      "['source_UToday_last3', 'source_UToday_last24', 'topic_Other_last3', 'topic_exchange traded funds, ETF_last3', 'topic_exchange traded funds, ETF_last24']\n",
      "['topic_institutional investments_last3', 'topic_institutional investments_last24', 'topic_market sentiment_last3', 'topic_market sentiment_last24', 'topic_others_last3']\n",
      "['topic_price action, price movement, trading_last3', 'NER_binance_last3', 'NER_binance_last24', 'NER_blackrock_last3', 'NER_blackrock_last24']\n",
      "['NER_coinbase_last3', 'NER_coinbase_last24', 'NER_el salvador_last3', 'NER_el salvador_last24', 'NER_fed_last3']\n",
      "['NER_fed_last24', 'NER_grayscale_last3', 'NER_grayscale_last24', 'NER_michael saylor_last3', 'NER_michael saylor_last24']\n",
      "['NER_microstrategy_last3', 'NER_microstrategy_last24', 'NER_sec_last3', 'NER_sec_last24', 'NER_us_last3']\n",
      "['reddit_total_sentiment_ewm_2h', 'reddit_total_sentiment_ewm_100h', 'reddit_average_sentiment_ewm_2h', 'reddit_average_sentiment_ewm_100h']\n"
     ]
    }
   ],
   "source": [
    "columns = df.columns.tolist()\n",
    "for i in range(0, len(columns), 5):\n",
    "  print(columns[i:i+5])"
   ]
  },
  {
   "cell_type": "markdown",
   "id": "6444a795",
   "metadata": {},
   "source": [
    "### Spliting dataset"
   ]
  },
  {
   "cell_type": "code",
   "execution_count": 5,
   "id": "e7573d07",
   "metadata": {},
   "outputs": [],
   "source": [
    "# list of features column names\n",
    "all_features = df.columns.drop(['target', 'return_forward'])"
   ]
  },
  {
   "cell_type": "code",
   "execution_count": 6,
   "id": "6d487a73",
   "metadata": {},
   "outputs": [
    {
     "name": "stdout",
     "output_type": "stream",
     "text": [
      "Training set class distribution: [ 9993  6038 10243]\n",
      "Test set class distribution: [2648 3274 2862]\n"
     ]
    }
   ],
   "source": [
    "df_train = df[df['year'].isin([2021, 2022, 2023])]\n",
    "df_test = df[df['year'] == 2024]\n",
    "\n",
    "X_train = df_train[all_features]\n",
    "y_train = df_train['target']\n",
    "X_test = df_test[all_features]\n",
    "y_test = df_test['target']\n",
    "\n",
    "# Print class distribution\n",
    "print(f\"Training set class distribution: {np.bincount(y_train)}\")\n",
    "print(f\"Test set class distribution: {np.bincount(y_test)}\")"
   ]
  },
  {
   "cell_type": "markdown",
   "id": "b4202eb6",
   "metadata": {},
   "source": [
    "### Model (logistic regression)"
   ]
  },
  {
   "cell_type": "code",
   "execution_count": null,
   "id": "306180d0",
   "metadata": {},
   "outputs": [],
   "source": [
    "# Time Series Cross-Validation for RFECV and potential outer loop if needed\n",
    "tscv = TimeSeriesSplit(n_splits=5)\n",
    "\n",
    "# Define the base Logistic Regression model\n",
    "lr_model = LogisticRegression(\n",
    "    penalty='l1',         # L1 regularization\n",
    "    solver='saga',       # Optimizer for L1\n",
    "    max_iter=13000,       # Ensure convergence\n",
    "    random_state=42,\n",
    "    class_weight='balanced', # Handle class imbalance\n",
    "    C=0.01                 # Regularization strength\n",
    ")\n",
    "\n",
    "# Setup RFECV\n",
    "rfecv = RFECV(\n",
    "    estimator=lr_model,\n",
    "    step=1,                # Remove 3 feature at a time\n",
    "    cv=tscv,               # Use time series cross-validation\n",
    "    scoring='roc_auc_ovr', # Scoring metric for multi-class\n",
    "    min_features_to_select=20, # Minimum number of features\n",
    "    n_jobs=-1,\n",
    "    verbose=1\n",
    ")\n",
    "\n",
    "# Create the pipeline with scaling and RFECV\n",
    "pipeline = Pipeline([\n",
    "    ('scaler', StandardScaler()),\n",
    "    ('feature_selection', rfecv)\n",
    "    # The final estimator (lr_model) is part of RFECV\n",
    "])\n",
    "\n",
    "# Fit the pipeline\n",
    "print(\"Starting RFECV fitting...\")\n",
    "pipeline.fit(X_train, y_train)\n",
    "print(\"RFECV fitting complete.\")\n",
    "\n",
    "# The best estimator is now the fitted pipeline itself\n",
    "best_model = pipeline\n",
    "\n",
    "# RFECV automatically refits the estimator on the full training data with the selected features\n",
    "print(f\"Optimal number of features selected by RFECV: {best_model.named_steps['feature_selection'].n_features_}\")"
   ]
  },
  {
   "cell_type": "code",
   "execution_count": 8,
   "id": "2875c81e",
   "metadata": {},
   "outputs": [],
   "source": [
    "# Evaluate on test set using the fitted pipeline\n",
    "y_pred = best_model.predict(X_test)\n",
    "y_proba_full = best_model.predict_proba(X_test)"
   ]
  },
  {
   "cell_type": "code",
   "execution_count": 9,
   "id": "92e4087e",
   "metadata": {},
   "outputs": [
    {
     "name": "stdout",
     "output_type": "stream",
     "text": [
      "\n",
      "Test Accuracy: 0.4882\n",
      "Test ROC AUC (OvR): 0.6991\n",
      "\n",
      "Classification Report:\n",
      "              precision    recall  f1-score   support\n",
      "\n",
      "           0       0.41      0.31      0.36      2648\n",
      "           1       0.54      0.75      0.63      3274\n",
      "           2       0.45      0.35      0.40      2862\n",
      "\n",
      "    accuracy                           0.49      8784\n",
      "   macro avg       0.47      0.47      0.46      8784\n",
      "weighted avg       0.47      0.49      0.47      8784\n",
      "\n"
     ]
    }
   ],
   "source": [
    "# Performance metrics\n",
    "# print(f\"Best Parameters: {grid_search.best_params_}\") # No grid search used\n",
    "print(f\"\\nTest Accuracy: {accuracy_score(y_test, y_pred):.4f}\")\n",
    "\n",
    "# Get the full probability matrix for multi-class ROC AUC\n",
    "# y_proba_full = best_model.predict_proba(X_test) # Already calculated\n",
    "print(f\"Test ROC AUC (OvR): {roc_auc_score(y_test, y_proba_full, multi_class='ovr'):.4f}\")\n",
    "\n",
    "print(\"\\nClassification Report:\")\n",
    "print(classification_report(y_test, y_pred))"
   ]
  },
  {
   "cell_type": "code",
   "execution_count": 10,
   "id": "6167f0e5",
   "metadata": {},
   "outputs": [
    {
     "name": "stdout",
     "output_type": "stream",
     "text": [
      "Shape of coefficient matrix (selected features): (3, 20)\n",
      "Number of selected features: 20\n",
      "\n",
      "Top 15 most important features for Bearish (0) (among selected):\n",
      "                                 Feature  Coefficient  Abs_Coefficient\n",
      "6                               pct_b_10     0.077139         0.077139\n",
      "9                tanalysis_absa_ewm_100h    -0.058592         0.058592\n",
      "0                         sma_20_50_diff     0.011615         0.011615\n",
      "12         source_Bitcoin Magazine_last3     0.010700         0.010700\n",
      "15                  source_NewsBTC_last3     0.004247         0.004247\n",
      "18                 NER_el salvador_last3     0.003982         0.003982\n",
      "11                 source_Benzinga_last3     0.000000         0.000000\n",
      "17                  NER_blackrock_last24     0.000000         0.000000\n",
      "16  source_The Currency Analytics_last24     0.000000         0.000000\n",
      "14            source_Cointelegraph_last3     0.000000         0.000000\n",
      "13                 source_Coindesk_last3     0.000000         0.000000\n",
      "10                 economy_absa_ewm_100h     0.000000         0.000000\n",
      "1                  ema_5_20_diff_abs_chg     0.000000         0.000000\n",
      "8                                   year     0.000000         0.000000\n",
      "7                          20_band_width     0.000000         0.000000\n",
      "\n",
      "Top 15 most important features for Neutral (1) (among selected):\n",
      "                                 Feature  Coefficient  Abs_Coefficient\n",
      "3                                 atr_14    -0.556891         0.556891\n",
      "5                              atr_ratio    -0.145038         0.145038\n",
      "13                 source_Coindesk_last3    -0.090923         0.090923\n",
      "4                              atr_7_chg    -0.090286         0.090286\n",
      "7                          20_band_width    -0.086309         0.086309\n",
      "8                                   year     0.067595         0.067595\n",
      "10                 economy_absa_ewm_100h     0.058114         0.058114\n",
      "1                  ema_5_20_diff_abs_chg     0.055628         0.055628\n",
      "17                  NER_blackrock_last24     0.054865         0.054865\n",
      "19     reddit_average_sentiment_ewm_100h     0.050393         0.050393\n",
      "16  source_The Currency Analytics_last24     0.043036         0.043036\n",
      "15                  source_NewsBTC_last3    -0.042691         0.042691\n",
      "12         source_Bitcoin Magazine_last3    -0.037822         0.037822\n",
      "14            source_Cointelegraph_last3    -0.035266         0.035266\n",
      "18                 NER_el salvador_last3    -0.032120         0.032120\n",
      "\n",
      "Top 15 most important features for Bullish (2) (among selected):\n",
      "                                 Feature  Coefficient  Abs_Coefficient\n",
      "2                              rsi_ratio    -0.112533         0.112533\n",
      "0                         sma_20_50_diff    -0.026122         0.026122\n",
      "6                               pct_b_10    -0.018458         0.018458\n",
      "7                          20_band_width     0.005381         0.005381\n",
      "12         source_Bitcoin Magazine_last3     0.000000         0.000000\n",
      "18                 NER_el salvador_last3     0.000000         0.000000\n",
      "17                  NER_blackrock_last24     0.000000         0.000000\n",
      "16  source_The Currency Analytics_last24     0.000000         0.000000\n",
      "15                  source_NewsBTC_last3     0.000000         0.000000\n",
      "14            source_Cointelegraph_last3     0.000000         0.000000\n",
      "13                 source_Coindesk_last3     0.000000         0.000000\n",
      "10                 economy_absa_ewm_100h     0.000000         0.000000\n",
      "11                 source_Benzinga_last3     0.000000         0.000000\n",
      "1                  ema_5_20_diff_abs_chg     0.000000         0.000000\n",
      "9                tanalysis_absa_ewm_100h     0.000000         0.000000\n"
     ]
    },
    {
     "data": {
      "image/png": "[encoded data removed]",
      "text/plain": [
       "<Figure size 1500x1500 with 3 Axes>"
      ]
     },
     "metadata": {},
     "output_type": "display_data"
    },
    {
     "name": "stdout",
     "output_type": "stream",
     "text": [
      "\n",
      "Number of features selected by RFECV: 20\n",
      "Number of non-zero coefficients after L1 (within selected): 26\n",
      "Total number of original features: 147\n"
     ]
    }
   ],
   "source": [
    "# Get the final fitted Logistic Regression model from RFECV\n",
    "final_estimator = best_model.named_steps['feature_selection'].estimator_\n",
    "coefficients = final_estimator.coef_\n",
    "\n",
    "# Get the boolean mask of selected features from RFECV\n",
    "feature_mask = best_model.named_steps['feature_selection'].support_\n",
    "\n",
    "# Get the names of the selected features\n",
    "all_feature_names = X_train.columns\n",
    "selected_feature_names = all_feature_names[feature_mask]\n",
    "\n",
    "# Print the shape of coefficients to understand the structure\n",
    "print(f\"Shape of coefficient matrix (selected features): {coefficients.shape}\")\n",
    "print(f\"Number of selected features: {len(selected_feature_names)}\")\n",
    "\n",
    "# Create a function to display coefficients for a class\n",
    "def display_class_coefficients(class_idx, class_name):\n",
    "  # For multi-class, coefficients has shape (n_classes, n_selected_features)\n",
    "  class_coefs = coefficients[class_idx]\n",
    "  \n",
    "  # Create a DataFrame using selected feature names\n",
    "  coef_df = pd.DataFrame({\n",
    "    'Feature': selected_feature_names,\n",
    "    'Coefficient': class_coefs\n",
    "  })\n",
    "  \n",
    "  # Sort by absolute coefficient value\n",
    "  coef_df['Abs_Coefficient'] = np.abs(coef_df['Coefficient'])\n",
    "  coef_df = coef_df.sort_values(by='Abs_Coefficient', ascending=False)\n",
    "  \n",
    "  # Display top features\n",
    "  print(f\"\\nTop 15 most important features for {class_name} (among selected):\")\n",
    "  print(coef_df.head(15))\n",
    "  \n",
    "  return coef_df\n",
    "\n",
    "# Display coefficients for each class\n",
    "class_names = ['Bearish (0)', 'Neutral (1)', 'Bullish (2)']\n",
    "\n",
    "plt.figure(figsize=(15, 15))\n",
    "\n",
    "for i, class_name in enumerate(class_names):\n",
    "  coef_df = display_class_coefficients(i, class_name)\n",
    "  \n",
    "  # Plot top 10\n",
    "  top_10_df = coef_df.head(10)\n",
    "  plt.subplot(3, 1, i+1)\n",
    "  plt.barh(top_10_df['Feature'], top_10_df['Coefficient'])\n",
    "  plt.title(f'Top 10 Features for {class_name} (among selected)')\n",
    "  plt.gca().invert_yaxis() # Display most important at top\n",
    "\n",
    "plt.tight_layout()\n",
    "plt.show()\n",
    "\n",
    "# Count number of non-zero coefficients (already selected by RFECV, L1 might zero out more)\n",
    "non_zero_coef = (np.abs(coefficients) > 1e-5).sum()\n",
    "print(f\"\\nNumber of features selected by RFECV: {len(selected_feature_names)}\")\n",
    "print(f\"Number of non-zero coefficients after L1 (within selected): {non_zero_coef}\")\n",
    "print(f\"Total number of original features: {len(all_feature_names)}\")"
   ]
  },
  {
   "cell_type": "code",
   "execution_count": 11,
   "id": "5daa7610",
   "metadata": {},
   "outputs": [
    {
     "data": {
      "image/png": "[encoded data removed]",
      "text/plain": [
       "<Figure size 1200x600 with 1 Axes>"
      ]
     },
     "metadata": {},
     "output_type": "display_data"
    },
    {
     "data": {
      "image/png": "[encoded data removed]",
      "text/plain": [
       "<Figure size 800x600 with 2 Axes>"
      ]
     },
     "metadata": {},
     "output_type": "display_data"
    }
   ],
   "source": [
    "# Add predictions and probabilities to test dataframe\n",
    "df_test_copy = df_test.copy() # Avoid SettingWithCopyWarning\n",
    "df_test_copy.loc[:, 'predicted_class'] = y_pred\n",
    "df_test_copy.loc[:, 'prob_bearish'] = y_proba_full[:, 0]\n",
    "df_test_copy.loc[:, 'prob_neutral'] = y_proba_full[:, 1]\n",
    "df_test_copy.loc[:, 'prob_bullish'] = y_proba_full[:, 2]\n",
    "\n",
    "# Map target values to more descriptive labels\n",
    "target_map = {0: 'Bearish', 1: 'Neutral', 2: 'Bullish'}\n",
    "df_test_copy.loc[:, 'actual_label'] = df_test_copy['target'].map(target_map)\n",
    "df_test_copy.loc[:, 'predicted_label'] = df_test_copy['predicted_class'].map(target_map)\n",
    "\n",
    "# Calculate whether the prediction was correct\n",
    "df_test_copy.loc[:, 'correct_prediction'] = (df_test_copy['target'] == df_test_copy['predicted_class']).astype(int)\n",
    "\n",
    "# Calculate monthly accuracy\n",
    "monthly_accuracy = df_test_copy.resample('ME')['correct_prediction'].mean()\n",
    "\n",
    "# Plot monthly accuracy\n",
    "plt.figure(figsize=(12, 6))\n",
    "monthly_accuracy.plot(kind='bar')\n",
    "plt.title('Model Prediction Accuracy by Month (2024)')\n",
    "plt.ylabel('Accuracy')\n",
    "plt.xlabel('Month')\n",
    "plt.xticks(rotation=45)\n",
    "plt.tight_layout()\n",
    "plt.show()\n",
    "\n",
    "# Show confusion matrix\n",
    "conf_matrix = confusion_matrix(df_test_copy['target'], df_test_copy['predicted_class'])\n",
    "plt.figure(figsize=(8, 6))\n",
    "sns.heatmap(conf_matrix, annot=True, fmt='d', cmap='Blues',\n",
    "      xticklabels=['Bearish', 'Neutral', 'Bullish'],\n",
    "      yticklabels=['Bearish', 'Neutral', 'Bullish'])\n",
    "plt.title('Confusion Matrix')\n",
    "plt.ylabel('Actual')\n",
    "plt.xlabel('Predicted')\n",
    "plt.tight_layout()\n",
    "plt.show()\n",
    "\n",
    "# Assign back if needed, or use df_test_copy going forward\n",
    "df_test = df_test_copy"
   ]
  },
  {
   "cell_type": "markdown",
   "id": "d8b92c37",
   "metadata": {},
   "source": [
    "### Backtest"
   ]
  },
  {
   "cell_type": "code",
   "execution_count": 12,
   "id": "ea30d854",
   "metadata": {},
   "outputs": [
    {
     "data": {
      "application/vnd.microsoft.datawrangler.viewer.v0+json": {
       "columns": [
        {
         "name": "index",
         "rawType": "datetime64[ns]",
         "type": "datetime"
        },
        {
         "name": "news_count",
         "rawType": "float64",
         "type": "float"
        },
        {
         "name": "tanalysis_absa",
         "rawType": "float64",
         "type": "float"
        },
        {
         "name": "economy_absa",
         "rawType": "float64",
         "type": "float"
        },
        {
         "name": "regulation_absa",
         "rawType": "float64",
         "type": "float"
        },
        {
         "name": "technology_absa",
         "rawType": "float64",
         "type": "float"
        },
        {
         "name": "adoption_absa",
         "rawType": "float64",
         "type": "float"
        },
        {
         "name": "cybersecurity_absa",
         "rawType": "float64",
         "type": "float"
        },
        {
         "name": "return_forward",
         "rawType": "float64",
         "type": "float"
        },
        {
         "name": "sma_5_20_diff",
         "rawType": "float64",
         "type": "float"
        },
        {
         "name": "sma_20_50_diff",
         "rawType": "float64",
         "type": "float"
        },
        {
         "name": "sma_50_200_diff",
         "rawType": "float64",
         "type": "float"
        },
        {
         "name": "ema_5_20_diff",
         "rawType": "float64",
         "type": "float"
        },
        {
         "name": "ema_20_50_diff",
         "rawType": "float64",
         "type": "float"
        },
        {
         "name": "ema_50_200_diff",
         "rawType": "float64",
         "type": "float"
        },
        {
         "name": "sma_5_20_diff_abs_chg",
         "rawType": "float64",
         "type": "float"
        },
        {
         "name": "sma_5_20_diff_pct_chg",
         "rawType": "float64",
         "type": "float"
        },
        {
         "name": "sma_20_50_diff_abs_chg",
         "rawType": "float64",
         "type": "float"
        },
        {
         "name": "sma_20_50_diff_pct_chg",
         "rawType": "float64",
         "type": "float"
        },
        {
         "name": "sma_50_200_diff_abs_chg",
         "rawType": "float64",
         "type": "float"
        },
        {
         "name": "sma_50_200_diff_pct_chg",
         "rawType": "float64",
         "type": "float"
        },
        {
         "name": "ema_5_20_diff_abs_chg",
         "rawType": "float64",
         "type": "float"
        },
        {
         "name": "ema_5_20_diff_pct_chg",
         "rawType": "float64",
         "type": "float"
        },
        {
         "name": "ema_20_50_diff_abs_chg",
         "rawType": "float64",
         "type": "float"
        },
        {
         "name": "ema_20_50_diff_pct_chg",
         "rawType": "float64",
         "type": "float"
        },
        {
         "name": "ema_50_200_diff_abs_chg",
         "rawType": "float64",
         "type": "float"
        },
        {
         "name": "ema_50_200_diff_pct_chg",
         "rawType": "float64",
         "type": "float"
        },
        {
         "name": "macd_12_26",
         "rawType": "float64",
         "type": "float"
        },
        {
         "name": "signal_line_9",
         "rawType": "float64",
         "type": "float"
        },
        {
         "name": "macd_histogram",
         "rawType": "float64",
         "type": "float"
        },
        {
         "name": "macd_position",
         "rawType": "float64",
         "type": "float"
        },
        {
         "name": "macd_crossover",
         "rawType": "float64",
         "type": "float"
        },
        {
         "name": "adx",
         "rawType": "float64",
         "type": "float"
        },
        {
         "name": "+di",
         "rawType": "float64",
         "type": "float"
        },
        {
         "name": "-di",
         "rawType": "float64",
         "type": "float"
        },
        {
         "name": "adx_slope",
         "rawType": "float64",
         "type": "float"
        },
        {
         "name": "adx_strength",
         "rawType": "float64",
         "type": "float"
        },
        {
         "name": "di_crossover",
         "rawType": "float64",
         "type": "float"
        },
        {
         "name": "di_spread",
         "rawType": "float64",
         "type": "float"
        },
        {
         "name": "adx_di_composite",
         "rawType": "float64",
         "type": "float"
        },
        {
         "name": "rsi_7",
         "rawType": "float64",
         "type": "float"
        },
        {
         "name": "rsi_14",
         "rawType": "float64",
         "type": "float"
        },
        {
         "name": "rsi_7_slope",
         "rawType": "float64",
         "type": "float"
        },
        {
         "name": "rsi_7_chg",
         "rawType": "float64",
         "type": "float"
        },
        {
         "name": "rsi_7_acceleration",
         "rawType": "float64",
         "type": "float"
        },
        {
         "name": "rsi_14_slope",
         "rawType": "float64",
         "type": "float"
        },
        {
         "name": "rsi_14_chg",
         "rawType": "float64",
         "type": "float"
        },
        {
         "name": "rsi_14_acceleration",
         "rawType": "float64",
         "type": "float"
        },
        {
         "name": "rsi_ratio",
         "rawType": "float64",
         "type": "float"
        },
        {
         "name": "atr_7",
         "rawType": "float64",
         "type": "float"
        },
        {
         "name": "atr_14",
         "rawType": "float64",
         "type": "float"
        },
        {
         "name": "atr_7_slope",
         "rawType": "float64",
         "type": "float"
        },
        {
         "name": "atr_7_chg",
         "rawType": "float64",
         "type": "float"
        },
        {
         "name": "atr_14_slope",
         "rawType": "float64",
         "type": "float"
        },
        {
         "name": "atr_14_chg",
         "rawType": "float64",
         "type": "float"
        },
        {
         "name": "norm_price_change_7",
         "rawType": "float64",
         "type": "float"
        },
        {
         "name": "norm_price_change_14",
         "rawType": "float64",
         "type": "float"
        },
        {
         "name": "atr_ratio",
         "rawType": "float64",
         "type": "float"
        },
        {
         "name": "trailing_stop_long_7",
         "rawType": "float64",
         "type": "float"
        },
        {
         "name": "trailing_stop_long_14",
         "rawType": "float64",
         "type": "float"
        },
        {
         "name": "trailing_stop_short_7",
         "rawType": "float64",
         "type": "float"
        },
        {
         "name": "trailing_stop_short_14",
         "rawType": "float64",
         "type": "float"
        },
        {
         "name": "upper_band_10",
         "rawType": "float64",
         "type": "float"
        },
        {
         "name": "middle_band_10",
         "rawType": "float64",
         "type": "float"
        },
        {
         "name": "lower_band_10",
         "rawType": "float64",
         "type": "float"
        },
        {
         "name": "upper_band_20",
         "rawType": "float64",
         "type": "float"
        },
        {
         "name": "middle_band_20",
         "rawType": "float64",
         "type": "float"
        },
        {
         "name": "lower_band_20",
         "rawType": "float64",
         "type": "float"
        },
        {
         "name": "10_band_width",
         "rawType": "float64",
         "type": "float"
        },
        {
         "name": "pct_b_10",
         "rawType": "float64",
         "type": "float"
        },
        {
         "name": "20_band_width",
         "rawType": "float64",
         "type": "float"
        },
        {
         "name": "pct_b_20",
         "rawType": "float64",
         "type": "float"
        },
        {
         "name": "year",
         "rawType": "int32",
         "type": "integer"
        },
        {
         "name": "target",
         "rawType": "int64",
         "type": "integer"
        },
        {
         "name": "tanalysis_absa_ewm_5h",
         "rawType": "float64",
         "type": "float"
        },
        {
         "name": "tanalysis_absa_ewm_100h",
         "rawType": "float64",
         "type": "float"
        },
        {
         "name": "economy_absa_ewm_5h",
         "rawType": "float64",
         "type": "float"
        },
        {
         "name": "economy_absa_ewm_100h",
         "rawType": "float64",
         "type": "float"
        },
        {
         "name": "regulation_absa_ewm_5h",
         "rawType": "float64",
         "type": "float"
        },
        {
         "name": "regulation_absa_ewm_100h",
         "rawType": "float64",
         "type": "float"
        },
        {
         "name": "technology_absa_ewm_5h",
         "rawType": "float64",
         "type": "float"
        },
        {
         "name": "technology_absa_ewm_100h",
         "rawType": "float64",
         "type": "float"
        },
        {
         "name": "adoption_absa_ewm_5h",
         "rawType": "float64",
         "type": "float"
        },
        {
         "name": "adoption_absa_ewm_100h",
         "rawType": "float64",
         "type": "float"
        },
        {
         "name": "cybersecurity_absa_ewm_5h",
         "rawType": "float64",
         "type": "float"
        },
        {
         "name": "cybersecurity_absa_ewm_100h",
         "rawType": "float64",
         "type": "float"
        },
        {
         "name": "source_AMBCrypto_last3",
         "rawType": "int64",
         "type": "integer"
        },
        {
         "name": "source_AMBCrypto_last24",
         "rawType": "int64",
         "type": "integer"
        },
        {
         "name": "source_BeInCrypto_last3",
         "rawType": "int64",
         "type": "integer"
        },
        {
         "name": "source_BeInCrypto_last24",
         "rawType": "int64",
         "type": "integer"
        },
        {
         "name": "source_Benzinga_last3",
         "rawType": "int64",
         "type": "integer"
        },
        {
         "name": "source_Benzinga_last24",
         "rawType": "int64",
         "type": "integer"
        },
        {
         "name": "source_Bitcoin_last3",
         "rawType": "int64",
         "type": "integer"
        },
        {
         "name": "source_Bitcoin_last24",
         "rawType": "int64",
         "type": "integer"
        },
        {
         "name": "source_Bitcoin Magazine_last3",
         "rawType": "int64",
         "type": "integer"
        },
        {
         "name": "source_Bitcoin Magazine_last24",
         "rawType": "int64",
         "type": "integer"
        },
        {
         "name": "source_CoinPedia_last3",
         "rawType": "int64",
         "type": "integer"
        },
        {
         "name": "source_CoinPedia_last24",
         "rawType": "int64",
         "type": "integer"
        },
        {
         "name": "source_Coindesk_last3",
         "rawType": "int64",
         "type": "integer"
        },
        {
         "name": "source_Coindesk_last24",
         "rawType": "int64",
         "type": "integer"
        },
        {
         "name": "source_Coingape_last3",
         "rawType": "int64",
         "type": "integer"
        },
        {
         "name": "source_Coingape_last24",
         "rawType": "int64",
         "type": "integer"
        },
        {
         "name": "source_Cointelegraph_last3",
         "rawType": "int64",
         "type": "integer"
        },
        {
         "name": "source_Cointelegraph_last24",
         "rawType": "int64",
         "type": "integer"
        },
        {
         "name": "source_CryptoPotato_last3",
         "rawType": "int64",
         "type": "integer"
        },
        {
         "name": "source_CryptoPotato_last24",
         "rawType": "int64",
         "type": "integer"
        },
        {
         "name": "source_Cryptopolitan_last3",
         "rawType": "int64",
         "type": "integer"
        },
        {
         "name": "source_Cryptopolitan_last24",
         "rawType": "int64",
         "type": "integer"
        },
        {
         "name": "source_NewsBTC_last3",
         "rawType": "int64",
         "type": "integer"
        },
        {
         "name": "source_NewsBTC_last24",
         "rawType": "int64",
         "type": "integer"
        },
        {
         "name": "source_Other_last3",
         "rawType": "int64",
         "type": "integer"
        },
        {
         "name": "source_Other_last24",
         "rawType": "int64",
         "type": "integer"
        },
        {
         "name": "source_The Currency Analytics_last3",
         "rawType": "int64",
         "type": "integer"
        },
        {
         "name": "source_The Currency Analytics_last24",
         "rawType": "int64",
         "type": "integer"
        },
        {
         "name": "source_The Daily Hodl_last3",
         "rawType": "int64",
         "type": "integer"
        },
        {
         "name": "source_The Daily Hodl_last24",
         "rawType": "int64",
         "type": "integer"
        },
        {
         "name": "source_UToday_last3",
         "rawType": "int64",
         "type": "integer"
        },
        {
         "name": "source_UToday_last24",
         "rawType": "int64",
         "type": "integer"
        },
        {
         "name": "topic_Other_last3",
         "rawType": "int64",
         "type": "integer"
        },
        {
         "name": "topic_exchange traded funds, ETF_last3",
         "rawType": "int64",
         "type": "integer"
        },
        {
         "name": "topic_exchange traded funds, ETF_last24",
         "rawType": "int64",
         "type": "integer"
        },
        {
         "name": "topic_institutional investments_last3",
         "rawType": "int64",
         "type": "integer"
        },
        {
         "name": "topic_institutional investments_last24",
         "rawType": "int64",
         "type": "integer"
        },
        {
         "name": "topic_market sentiment_last3",
         "rawType": "int64",
         "type": "integer"
        },
        {
         "name": "topic_market sentiment_last24",
         "rawType": "int64",
         "type": "integer"
        },
        {
         "name": "topic_others_last3",
         "rawType": "int64",
         "type": "integer"
        },
        {
         "name": "topic_price action, price movement, trading_last3",
         "rawType": "int64",
         "type": "integer"
        },
        {
         "name": "NER_binance_last3",
         "rawType": "int64",
         "type": "integer"
        },
        {
         "name": "NER_binance_last24",
         "rawType": "int64",
         "type": "integer"
        },
        {
         "name": "NER_blackrock_last3",
         "rawType": "int64",
         "type": "integer"
        },
        {
         "name": "NER_blackrock_last24",
         "rawType": "int64",
         "type": "integer"
        },
        {
         "name": "NER_coinbase_last3",
         "rawType": "int64",
         "type": "integer"
        },
        {
         "name": "NER_coinbase_last24",
         "rawType": "int64",
         "type": "integer"
        },
        {
         "name": "NER_el salvador_last3",
         "rawType": "int64",
         "type": "integer"
        },
        {
         "name": "NER_el salvador_last24",
         "rawType": "int64",
         "type": "integer"
        },
        {
         "name": "NER_fed_last3",
         "rawType": "int64",
         "type": "integer"
        },
        {
         "name": "NER_fed_last24",
         "rawType": "int64",
         "type": "integer"
        },
        {
         "name": "NER_grayscale_last3",
         "rawType": "int64",
         "type": "integer"
        },
        {
         "name": "NER_grayscale_last24",
         "rawType": "int64",
         "type": "integer"
        },
        {
         "name": "NER_michael saylor_last3",
         "rawType": "int64",
         "type": "integer"
        },
        {
         "name": "NER_michael saylor_last24",
         "rawType": "int64",
         "type": "integer"
        },
        {
         "name": "NER_microstrategy_last3",
         "rawType": "int64",
         "type": "integer"
        },
        {
         "name": "NER_microstrategy_last24",
         "rawType": "int64",
         "type": "integer"
        },
        {
         "name": "NER_sec_last3",
         "rawType": "int64",
         "type": "integer"
        },
        {
         "name": "NER_sec_last24",
         "rawType": "int64",
         "type": "integer"
        },
        {
         "name": "NER_us_last3",
         "rawType": "int64",
         "type": "integer"
        },
        {
         "name": "reddit_total_sentiment_ewm_2h",
         "rawType": "float64",
         "type": "float"
        },
        {
         "name": "reddit_total_sentiment_ewm_100h",
         "rawType": "float64",
         "type": "float"
        },
        {
         "name": "reddit_average_sentiment_ewm_2h",
         "rawType": "float64",
         "type": "float"
        },
        {
         "name": "reddit_average_sentiment_ewm_100h",
         "rawType": "float64",
         "type": "float"
        },
        {
         "name": "predicted_class",
         "rawType": "int64",
         "type": "integer"
        },
        {
         "name": "prob_bearish",
         "rawType": "float64",
         "type": "float"
        },
        {
         "name": "prob_neutral",
         "rawType": "float64",
         "type": "float"
        },
        {
         "name": "prob_bullish",
         "rawType": "float64",
         "type": "float"
        },
        {
         "name": "actual_label",
         "rawType": "object",
         "type": "string"
        },
        {
         "name": "predicted_label",
         "rawType": "object",
         "type": "string"
        },
        {
         "name": "correct_prediction",
         "rawType": "int64",
         "type": "integer"
        }
       ],
       "conversionMethod": "pd.DataFrame",
       "ref": "ce12e92e-b2db-460d-8f89-485c458258b7",
       "rows": [
        [
         "2024-01-01 00:00:00",
         "0.0",
         "0.0",
         "0.0",
         "0.0",
         "0.0",
         "0.0",
         "0.0",
         "-0.0013851065827776843",
         "143.54999999999563",
         "210.51000000000204",
         "-647.125",
         "123.18237537524692",
         "73.24175679362088",
         "-290.1642943383122",
         "-3.400000000001455",
         "-0.023137121469898103",
         "6.040000000000873",
         "0.029539785787650263",
         "21.24500000000262",
         "-0.03178628603917366",
         "-6.7390839477666304",
         "-0.0518704452896559",
         "5.9659860475876485",
         "0.08867956444689895",
         "9.444798146389076",
         "-0.03152373670659325",
         "97.15707386183931",
         "85.79744270233458",
         "11.35963115950473",
         "1.0",
         "0.0",
         "20.30979418325393",
         "25.43543622227623",
         "13.83060041246407",
         "0.6734116015727345",
         "-1.0",
         "1.0",
         "11.60483580981216",
         "235.69182682773993",
         "59.83365719100113",
         "57.8084231931855",
         "-0.3976498959292793",
         "-0.08539379856451701",
         "-3.0022145320085913",
         "-0.013465885807406153",
         "-0.03501317567867823",
         "-1.172129664252336",
         "1.0350335450432138",
         "184.2851122151845",
         "198.42880729613117",
         "-8.10834761007473",
         "-0.069263808187768",
         "-4.458436897433425",
         "-0.03603463688509145",
         "-0.23333409564734733",
         "-0.21670240619764278",
         "0.9287215638007696",
         "42302.42977556963",
         "42274.14238540774",
         "42937.57022443037",
         "42965.85761459226",
         "42694.6892478116",
         "42540.30000000028",
         "42385.91075218896",
         "42794.74959105287",
         "42428.04999999998",
         "42061.350408947095",
         "0.007258493607770437",
         "0.6803882096368269",
         "0.017285715042425282",
         "0.7290021643026553",
         "2024",
         "0",
         "0.25722206021047406",
         "0.1367780916861884",
         "0.00014820173382950515",
         "0.002234351449515754",
         "-0.018525028109526113",
         "0.07645297605341596",
         "0.016518285405035287",
         "0.025786661378527066",
         "0.028619324752973525",
         "0.38354126976428016",
         "-0.0004734490125564352",
         "-0.029204275220421475",
         "0",
         "1",
         "1",
         "1",
         "0",
         "1",
         "0",
         "1",
         "0",
         "0",
         "0",
         "1",
         "0",
         "0",
         "0",
         "1",
         "0",
         "1",
         "0",
         "1",
         "0",
         "1",
         "0",
         "1",
         "1",
         "1",
         "0",
         "1",
         "1",
         "1",
         "0",
         "1",
         "0",
         "1",
         "1",
         "0",
         "1",
         "0",
         "1",
         "1",
         "1",
         "0",
         "0",
         "0",
         "1",
         "0",
         "1",
         "0",
         "1",
         "0",
         "0",
         "0",
         "1",
         "1",
         "1",
         "1",
         "1",
         "0",
         "1",
         "0",
         "0.05486524363149411",
         "0.1097223500558173",
         "0.003366590942939951",
         "0.013554238475846114",
         "1",
         "0.2209799809643385",
         "0.5754480124402277",
         "0.20357200659543392",
         "Bearish",
         "Neutral",
         "0"
        ],
        [
         "2024-01-01 01:00:00",
         "1.0",
         "-0.30000000000000004",
         "0.0",
         "0.0",
         "0.0",
         "0.2",
         "0.0",
         "-0.0007287772997625064",
         "151.34999999999854",
         "210.80999999999767",
         "-631.6650000000009",
         "101.15936044246337",
         "74.84900794499117",
         "-282.79361012185836",
         "7.80000000000291",
         "0.054336468129593474",
         "0.2999999999956344",
         "0.0014251104460387687",
         "15.459999999999127",
         "-0.023890283948231228",
         "-22.023014932783553",
         "-0.17878381437032265",
         "1.607251151370292",
         "0.021944464766173954",
         "7.37068421645381",
         "-0.025401761554645574",
         "91.34464231998572",
         "86.90688262586481",
         "4.437759694120913",
         "1.0",
         "0.0",
         "20.37993818443991",
         "24.09947006720275",
         "15.638530425152068",
         "0.5156968438691756",
         "-1.0",
         "1.0",
         "8.46093964205068",
         "172.43342688727003",
         "52.63820999162405",
         "54.96472313420485",
         "-3.333518165565844",
         "-0.12025751954970354",
         "-5.397501542483276",
         "-1.214646097933714",
         "-0.04919179423866149",
         "-2.14823171210273",
         "0.9576726123608362",
         "178.38723904158672",
         "194.46960677497896",
         "-8.092869380064059",
         "-0.03200406751637652",
         "-4.711405690473896",
         "-0.01995275068727087",
         "-0.330741146715352",
         "-0.30338931094908306",
         "0.917301381948074",
         "42286.22552191683",
         "42254.06078645004",
         "42856.77447808317",
         "42888.93921354996",
         "42664.15375813106",
         "42528.80000000028",
         "42393.4462418695",
         "42805.19576365746",
         "42437.849999999984",
         "42070.50423634251",
         "0.006365275207895916",
         "0.5302909949193931",
         "0.017312175977693262",
         "0.6349545983773297",
         "2024",
         "1",
         "0.07148137347364938",
         "0.1281290205636896",
         "9.880115588633678e-05",
         "0.002190106866357026",
         "-0.012350018739684077",
         "0.07493905573552653",
         "0.011012190270023526",
         "0.02527603442053643",
         "0.08574621650198234",
         "0.37990678917488846",
         "-0.0003156326750376235",
         "-0.028625972740809167",
         "0",
         "1",
         "1",
         "1",
         "0",
         "1",
         "0",
         "1",
         "0",
         "0",
         "0",
         "1",
         "0",
         "0",
         "0",
         "1",
         "0",
         "1",
         "0",
         "1",
         "0",
         "1",
         "0",
         "1",
         "1",
         "1",
         "0",
         "1",
         "1",
         "1",
         "0",
         "1",
         "0",
         "1",
         "1",
         "0",
         "1",
         "0",
         "1",
         "0",
         "1",
         "0",
         "0",
         "0",
         "1",
         "0",
         "1",
         "0",
         "1",
         "0",
         "0",
         "0",
         "1",
         "0",
         "1",
         "0",
         "1",
         "0",
         "1",
         "0",
         "0.027432621815747054",
         "0.10754963025273181",
         "0.0016832954714699755",
         "0.013285837713948171",
         "1",
         "0.21480907264953392",
         "0.5662193858409152",
         "0.21897154150955087",
         "Neutral",
         "Neutral",
         "1"
        ],
        [
         "2024-01-01 02:00:00",
         "3.0",
         "-0.23333333333333336",
         "0.0",
         "-0.0666666666666667",
         "0.0",
         "0.3333333333333333",
         "0.0",
         "-0.005928574789441532",
         "120.59999999999854",
         "219.6600000000035",
         "-617.5049999999974",
         "77.28327650071151",
         "74.22991811319662",
         "-276.579317249445",
         "-30.75",
         "-0.20317145688800986",
         "8.85000000000582",
         "0.04198093069591535",
         "14.160000000003492",
         "-0.022416945691155044",
         "-23.876083941751858",
         "-0.2360244651342167",
         "-0.6190898317945539",
         "-0.008271182862564341",
         "6.214292872413353",
         "-0.021974658019095816",
         "83.27684390605282",
         "86.18087488190241",
         "-2.9040309758495937",
         "-1.0",
         "2.9040309758495937",
         "20.445071899826893",
         "22.886396531493688",
         "14.851347663737311",
         "0.282133373369754",
         "-1.0",
         "1.0",
         "8.035048867756377",
         "164.27715181990177",
         "49.02427843106488",
         "53.47622674625363",
         "-5.465284072902428",
         "-0.06865604968585048",
         "-10.060238783851155",
         "-2.1432309789980715",
         "-0.02708094033907582",
         "-4.209927395989192",
         "0.916749019404204",
         "172.0462048927886",
         "190.15034914819475",
         "-8.651030897197776",
         "-0.03554645602940165",
         "-5.232019569725755",
         "-0.022210450766129375",
         "-0.1801841547119147",
         "-0.16302888813440977",
         "0.9047903706908443",
         "42295.907590214425",
         "42259.69930170361",
         "42850.092409785575",
         "42886.30069829639",
         "42664.2757009222",
         "42529.30000000028",
         "42394.32429907836",
         "42801.28324646154",
         "42454.79999999998",
         "42108.31675353842",
         "0.006347421703245365",
         "0.4136881681623632",
         "0.016322453360353185",
         "0.5738852462895332",
         "2024",
         "0",
         "-0.03012352879534485",
         "0.12097135018949112",
         "6.586743725755786e-05",
         "0.0021467384135578768",
         "-0.030455568048678282",
         "0.07213498202459201",
         "0.007341460180015685",
         "0.0247755188874565",
         "0.16827525544576602",
         "0.37898454252456065",
         "-0.0002104217833584157",
         "-0.028059121795446607",
         "1",
         "1",
         "1",
         "1",
         "0",
         "1",
         "1",
         "1",
         "0",
         "0",
         "0",
         "1",
         "0",
         "0",
         "0",
         "1",
         "0",
         "1",
         "0",
         "1",
         "0",
         "1",
         "1",
         "1",
         "1",
         "1",
         "0",
         "1",
         "0",
         "1",
         "0",
         "1",
         "1",
         "1",
         "1",
         "0",
         "1",
         "0",
         "1",
         "0",
         "1",
         "0",
         "0",
         "0",
         "1",
         "1",
         "1",
         "0",
         "1",
         "0",
         "0",
         "0",
         "1",
         "0",
         "1",
         "0",
         "1",
         "1",
         "1",
         "0",
         "0.3409163109078735",
         "0.11837835044574703",
         "0.04174164773573499",
         "0.014642553798820485",
         "1",
         "0.21529029022532847",
         "0.552858470362741",
         "0.2318512394119304",
         "Bearish",
         "Neutral",
         "0"
        ],
        [
         "2024-01-01 03:00:00",
         "4.0",
         "0.25",
         "0.0",
         "-0.5",
         "0.0",
         "-0.17500000000000002",
         "0.0",
         "9.466559378989992e-05",
         "43.450000000004366",
         "223.38999999999942",
         "-605.3199999999997",
         "0.4283916945569217",
         "59.29687207598181",
         "-277.935098434893",
         "-77.14999999999418",
         "-0.6397180762851999",
         "3.7299999999959255",
         "0.016980788491285814",
         "12.184999999997672",
         "-0.01973263374385259",
         "-76.85488480615459",
         "-0.9944568642278905",
         "-14.933046037214808",
         "-0.20117287499149228",
         "-1.355781185447995",
         "0.004901961574462987",
         "55.904331258025195",
         "80.12556615712697",
         "-24.221234899101773",
         "-1.0",
         "0.0",
         "20.109054375934726",
         "19.249747158852703",
         "26.442006923637564",
         "-0.0669132691064019",
         "-1.0",
         "-1.0",
         "-7.192259764784861",
         "-144.62954269590628",
         "29.691437641431957",
         "43.22792965566838",
         "-10.047406516523058",
         "-0.39435237821639024",
         "-9.649756620593779",
         "-4.860164512505705",
         "-0.19164211303115564",
         "-4.8466986266982985",
         "0.6868577301281553",
         "214.18246133667594",
         "209.925324209038",
         "9.965783040497143",
         "0.2449124435505261",
         "3.8321723043022757",
         "0.10399652248564384",
         "-1.1765669253556583",
         "-1.2004268706002577",
         "1.020279292856534",
         "42134.635077326646",
         "42143.149351581924",
         "42524.364922673354",
         "42515.850648418076",
         "42720.16659981659",
         "42511.20000000028",
         "42302.23340018397",
         "42781.35067537297",
         "42462.94999999998",
         "42144.549324627",
         "0.009831131551982043",
         "-0.11540935304103338",
         "0.014996634730888206",
         "0.1718756959996835",
         "2024",
         "1",
         "0.06325098080310343",
         "0.12352637295801605",
         "4.3911624838371914e-05",
         "0.0021042287420022752",
         "-0.18697037869911884",
         "0.06080557643994662",
         "0.004894306786677124",
         "0.024284914553051422",
         "0.053850170297177355",
         "0.36801455158348023",
         "-0.0001402811889056105",
         "-0.027503495621279347",
         "1",
         "1",
         "1",
         "1",
         "0",
         "1",
         "1",
         "1",
         "0",
         "0",
         "1",
         "1",
         "0",
         "0",
         "0",
         "1",
         "1",
         "1",
         "0",
         "1",
         "0",
         "1",
         "1",
         "1",
         "1",
         "1",
         "0",
         "1",
         "0",
         "1",
         "0",
         "1",
         "1",
         "1",
         "1",
         "0",
         "1",
         "0",
         "1",
         "1",
         "1",
         "0",
         "0",
         "0",
         "1",
         "1",
         "1",
         "0",
         "1",
         "0",
         "0",
         "0",
         "1",
         "0",
         "1",
         "0",
         "1",
         "1",
         "1",
         "0",
         "0.17045815545393675",
         "0.1160342246943461",
         "0.020870823867867493",
         "0.014352602238447802",
         "1",
         "0.23635008507193228",
         "0.4071537723473658",
         "0.3564961425807019",
         "Neutral",
         "Neutral",
         "1"
        ],
        [
         "2024-01-01 04:00:00",
         "2.0",
         "0.0",
         "0.0",
         "-0.45",
         "0.0",
         "0.15000000000000002",
         "0.0",
         "0.0050168015523688325",
         "-37.10000000000582",
         "221.12000000000262",
         "-591.0999999999985",
         "-44.98974173438182",
         "46.31848426183569",
         "-278.9992367575469",
         "-80.55000000001019",
         "-1.8538550057537881",
         "-2.2699999999967986",
         "-0.010161600787845448",
         "14.220000000001164",
         "-0.02349170686579194",
         "-45.418133428938745",
         "-106.02010731303731",
         "-12.978387814146117",
         "-0.21887137313947813",
         "-1.0641383226538892",
         "0.0038287295438621527",
         "34.14063238840026",
         "70.92857940338163",
         "-36.78794701498137",
         "-1.0",
         "0.0",
         "19.910689533058356",
         "17.575312450533957",
         "24.94489147956228",
         "-0.1564162171271851",
         "-1.0",
         "-1.0",
         "-7.369579029028323",
         "-146.7334000363206",
         "30.201166088648108",
         "43.41330391221053",
         "-7.479014634325314",
         "0.01716752328977389",
         "-4.14549646875947",
         "-3.8504730739981077",
         "0.004288298283511294",
         "-2.6358269760643935",
         "0.6956661522403426",
         "220.7278240028651",
         "213.5020867655353",
         "14.113528320426127",
         "0.03055975090276153",
         "6.344159996852113",
         "0.0170382614387945",
         "0.0181218657777738",
         "0.01873517987855893",
         "1.0338438717241438",
         "41890.54435199427",
         "41904.99582646893",
         "42513.45564800573",
         "42499.00417353107",
         "42749.32277883075",
         "42491.40000000028",
         "42233.47722116981",
         "42771.69651784952",
         "42467.29999999998",
         "42162.90348215044",
         "0.012139999097721843",
         "0.047538993921725704",
         "0.014335571974179756",
         "0.15620500280585567",
         "2024",
         "2",
         "0.04216732053540229",
         "0.12108030616676821",
         "2.927441655891461e-05",
         "0.002062560846121042",
         "-0.2746469191327459",
         "0.050690614530244704",
         "0.003262871191118083",
         "0.023804025155961295",
         "0.08590011353145158",
         "0.36369743175014396",
         "-9.352079260374034e-05",
         "-0.02695887194561045",
         "1",
         "1",
         "0",
         "1",
         "0",
         "1",
         "1",
         "1",
         "0",
         "0",
         "1",
         "1",
         "0",
         "0",
         "0",
         "1",
         "1",
         "1",
         "0",
         "1",
         "0",
         "1",
         "1",
         "1",
         "1",
         "1",
         "0",
         "1",
         "0",
         "1",
         "0",
         "1",
         "1",
         "1",
         "1",
         "0",
         "1",
         "0",
         "1",
         "1",
         "1",
         "0",
         "0",
         "0",
         "1",
         "1",
         "1",
         "0",
         "1",
         "0",
         "0",
         "0",
         "1",
         "0",
         "1",
         "0",
         "1",
         "1",
         "1",
         "1",
         "0.08522907772696837",
         "0.11373651727465607",
         "0.010435411933933747",
         "0.014068392293132004",
         "1",
         "0.22743962183850613",
         "0.4488072555987005",
         "0.3237531225627934",
         "Bullish",
         "Neutral",
         "0"
        ]
       ],
       "shape": {
        "columns": 156,
        "rows": 5
       }
      },
      "text/html": [
       "<div>\n",
       "<style scoped>\n",
       "    .dataframe tbody tr th:only-of-type {\n",
       "        vertical-align: middle;\n",
       "    }\n",
       "\n",
       "    .dataframe tbody tr th {\n",
       "        vertical-align: top;\n",
       "    }\n",
       "\n",
       "    .dataframe thead th {\n",
       "        text-align: right;\n",
       "    }\n",
       "</style>\n",
       "<table border=\"1\" class=\"dataframe\">\n",
       "  <thead>\n",
       "    <tr style=\"text-align: right;\">\n",
       "      <th></th>\n",
       "      <th>news_count</th>\n",
       "      <th>tanalysis_absa</th>\n",
       "      <th>economy_absa</th>\n",
       "      <th>regulation_absa</th>\n",
       "      <th>technology_absa</th>\n",
       "      <th>adoption_absa</th>\n",
       "      <th>cybersecurity_absa</th>\n",
       "      <th>return_forward</th>\n",
       "      <th>sma_5_20_diff</th>\n",
       "      <th>sma_20_50_diff</th>\n",
       "      <th>...</th>\n",
       "      <th>reddit_total_sentiment_ewm_100h</th>\n",
       "      <th>reddit_average_sentiment_ewm_2h</th>\n",
       "      <th>reddit_average_sentiment_ewm_100h</th>\n",
       "      <th>predicted_class</th>\n",
       "      <th>prob_bearish</th>\n",
       "      <th>prob_neutral</th>\n",
       "      <th>prob_bullish</th>\n",
       "      <th>actual_label</th>\n",
       "      <th>predicted_label</th>\n",
       "      <th>correct_prediction</th>\n",
       "    </tr>\n",
       "  </thead>\n",
       "  <tbody>\n",
       "    <tr>\n",
       "      <th>2024-01-01 00:00:00</th>\n",
       "      <td>0.0</td>\n",
       "      <td>0.000000</td>\n",
       "      <td>0.0</td>\n",
       "      <td>0.000000</td>\n",
       "      <td>0.0</td>\n",
       "      <td>0.000000</td>\n",
       "      <td>0.0</td>\n",
       "      <td>-0.001385</td>\n",
       "      <td>143.55</td>\n",
       "      <td>210.51</td>\n",
       "      <td>...</td>\n",
       "      <td>0.109722</td>\n",
       "      <td>0.003367</td>\n",
       "      <td>0.013554</td>\n",
       "      <td>1</td>\n",
       "      <td>0.220980</td>\n",
       "      <td>0.575448</td>\n",
       "      <td>0.203572</td>\n",
       "      <td>Bearish</td>\n",
       "      <td>Neutral</td>\n",
       "      <td>0</td>\n",
       "    </tr>\n",
       "    <tr>\n",
       "      <th>2024-01-01 01:00:00</th>\n",
       "      <td>1.0</td>\n",
       "      <td>-0.300000</td>\n",
       "      <td>0.0</td>\n",
       "      <td>0.000000</td>\n",
       "      <td>0.0</td>\n",
       "      <td>0.200000</td>\n",
       "      <td>0.0</td>\n",
       "      <td>-0.000729</td>\n",
       "      <td>151.35</td>\n",
       "      <td>210.81</td>\n",
       "      <td>...</td>\n",
       "      <td>0.107550</td>\n",
       "      <td>0.001683</td>\n",
       "      <td>0.013286</td>\n",
       "      <td>1</td>\n",
       "      <td>0.214809</td>\n",
       "      <td>0.566219</td>\n",
       "      <td>0.218972</td>\n",
       "      <td>Neutral</td>\n",
       "      <td>Neutral</td>\n",
       "      <td>1</td>\n",
       "    </tr>\n",
       "    <tr>\n",
       "      <th>2024-01-01 02:00:00</th>\n",
       "      <td>3.0</td>\n",
       "      <td>-0.233333</td>\n",
       "      <td>0.0</td>\n",
       "      <td>-0.066667</td>\n",
       "      <td>0.0</td>\n",
       "      <td>0.333333</td>\n",
       "      <td>0.0</td>\n",
       "      <td>-0.005929</td>\n",
       "      <td>120.60</td>\n",
       "      <td>219.66</td>\n",
       "      <td>...</td>\n",
       "      <td>0.118378</td>\n",
       "      <td>0.041742</td>\n",
       "      <td>0.014643</td>\n",
       "      <td>1</td>\n",
       "      <td>0.215290</td>\n",
       "      <td>0.552858</td>\n",
       "      <td>0.231851</td>\n",
       "      <td>Bearish</td>\n",
       "      <td>Neutral</td>\n",
       "      <td>0</td>\n",
       "    </tr>\n",
       "    <tr>\n",
       "      <th>2024-01-01 03:00:00</th>\n",
       "      <td>4.0</td>\n",
       "      <td>0.250000</td>\n",
       "      <td>0.0</td>\n",
       "      <td>-0.500000</td>\n",
       "      <td>0.0</td>\n",
       "      <td>-0.175000</td>\n",
       "      <td>0.0</td>\n",
       "      <td>0.000095</td>\n",
       "      <td>43.45</td>\n",
       "      <td>223.39</td>\n",
       "      <td>...</td>\n",
       "      <td>0.116034</td>\n",
       "      <td>0.020871</td>\n",
       "      <td>0.014353</td>\n",
       "      <td>1</td>\n",
       "      <td>0.236350</td>\n",
       "      <td>0.407154</td>\n",
       "      <td>0.356496</td>\n",
       "      <td>Neutral</td>\n",
       "      <td>Neutral</td>\n",
       "      <td>1</td>\n",
       "    </tr>\n",
       "    <tr>\n",
       "      <th>2024-01-01 04:00:00</th>\n",
       "      <td>2.0</td>\n",
       "      <td>0.000000</td>\n",
       "      <td>0.0</td>\n",
       "      <td>-0.450000</td>\n",
       "      <td>0.0</td>\n",
       "      <td>0.150000</td>\n",
       "      <td>0.0</td>\n",
       "      <td>0.005017</td>\n",
       "      <td>-37.10</td>\n",
       "      <td>221.12</td>\n",
       "      <td>...</td>\n",
       "      <td>0.113737</td>\n",
       "      <td>0.010435</td>\n",
       "      <td>0.014068</td>\n",
       "      <td>1</td>\n",
       "      <td>0.227440</td>\n",
       "      <td>0.448807</td>\n",
       "      <td>0.323753</td>\n",
       "      <td>Bullish</td>\n",
       "      <td>Neutral</td>\n",
       "      <td>0</td>\n",
       "    </tr>\n",
       "  </tbody>\n",
       "</table>\n",
       "<p>5 rows × 156 columns</p>\n",
       "</div>"
      ],
      "text/plain": [
       "                     news_count  tanalysis_absa  economy_absa  \\\n",
       "2024-01-01 00:00:00         0.0        0.000000           0.0   \n",
       "2024-01-01 01:00:00         1.0       -0.300000           0.0   \n",
       "2024-01-01 02:00:00         3.0       -0.233333           0.0   \n",
       "2024-01-01 03:00:00         4.0        0.250000           0.0   \n",
       "2024-01-01 04:00:00         2.0        0.000000           0.0   \n",
       "\n",
       "                     regulation_absa  technology_absa  adoption_absa  \\\n",
       "2024-01-01 00:00:00         0.000000              0.0       0.000000   \n",
       "2024-01-01 01:00:00         0.000000              0.0       0.200000   \n",
       "2024-01-01 02:00:00        -0.066667              0.0       0.333333   \n",
       "2024-01-01 03:00:00        -0.500000              0.0      -0.175000   \n",
       "2024-01-01 04:00:00        -0.450000              0.0       0.150000   \n",
       "\n",
       "                     cybersecurity_absa  return_forward  sma_5_20_diff  \\\n",
       "2024-01-01 00:00:00                 0.0       -0.001385         143.55   \n",
       "2024-01-01 01:00:00                 0.0       -0.000729         151.35   \n",
       "2024-01-01 02:00:00                 0.0       -0.005929         120.60   \n",
       "2024-01-01 03:00:00                 0.0        0.000095          43.45   \n",
       "2024-01-01 04:00:00                 0.0        0.005017         -37.10   \n",
       "\n",
       "                     sma_20_50_diff  ...  reddit_total_sentiment_ewm_100h  \\\n",
       "2024-01-01 00:00:00          210.51  ...                         0.109722   \n",
       "2024-01-01 01:00:00          210.81  ...                         0.107550   \n",
       "2024-01-01 02:00:00          219.66  ...                         0.118378   \n",
       "2024-01-01 03:00:00          223.39  ...                         0.116034   \n",
       "2024-01-01 04:00:00          221.12  ...                         0.113737   \n",
       "\n",
       "                     reddit_average_sentiment_ewm_2h  \\\n",
       "2024-01-01 00:00:00                         0.003367   \n",
       "2024-01-01 01:00:00                         0.001683   \n",
       "2024-01-01 02:00:00                         0.041742   \n",
       "2024-01-01 03:00:00                         0.020871   \n",
       "2024-01-01 04:00:00                         0.010435   \n",
       "\n",
       "                     reddit_average_sentiment_ewm_100h  predicted_class  \\\n",
       "2024-01-01 00:00:00                           0.013554                1   \n",
       "2024-01-01 01:00:00                           0.013286                1   \n",
       "2024-01-01 02:00:00                           0.014643                1   \n",
       "2024-01-01 03:00:00                           0.014353                1   \n",
       "2024-01-01 04:00:00                           0.014068                1   \n",
       "\n",
       "                     prob_bearish  prob_neutral  prob_bullish  actual_label  \\\n",
       "2024-01-01 00:00:00      0.220980      0.575448      0.203572       Bearish   \n",
       "2024-01-01 01:00:00      0.214809      0.566219      0.218972       Neutral   \n",
       "2024-01-01 02:00:00      0.215290      0.552858      0.231851       Bearish   \n",
       "2024-01-01 03:00:00      0.236350      0.407154      0.356496       Neutral   \n",
       "2024-01-01 04:00:00      0.227440      0.448807      0.323753       Bullish   \n",
       "\n",
       "                     predicted_label  correct_prediction  \n",
       "2024-01-01 00:00:00          Neutral                   0  \n",
       "2024-01-01 01:00:00          Neutral                   1  \n",
       "2024-01-01 02:00:00          Neutral                   0  \n",
       "2024-01-01 03:00:00          Neutral                   1  \n",
       "2024-01-01 04:00:00          Neutral                   0  \n",
       "\n",
       "[5 rows x 156 columns]"
      ]
     },
     "execution_count": 12,
     "metadata": {},
     "output_type": "execute_result"
    }
   ],
   "source": [
    "df_test.head()"
   ]
  },
  {
   "cell_type": "code",
   "execution_count": 13,
   "id": "b5a77c7b",
   "metadata": {},
   "outputs": [
    {
     "name": "stdout",
     "output_type": "stream",
     "text": [
      "Overall Annual Return: 7.61%\n",
      "Overall Annual Sharpe Ratio: 0.3871\n",
      "Maximum Drawdown: -38.81 %\n",
      "Alpha: 0.0982\n",
      "Beta: 0.0839\n",
      "\n",
      "Yearly Metrics:\n",
      "   year  yearly_return  yearly_std  yearly_beta  yearly_alpha  yearly_sharpe\n",
      "0  2024       0.076058    0.443565     0.083867      0.093647        0.38713\n"
     ]
    },
    {
     "data": {
      "image/png": "[encoded data removed]",
      "text/plain": [
       "<Figure size 800x400 with 1 Axes>"
      ]
     },
     "metadata": {},
     "output_type": "display_data"
    },
    {
     "data": {
      "image/png": "[encoded data removed]",
      "text/plain": [
       "<Figure size 800x400 with 1 Axes>"
      ]
     },
     "metadata": {},
     "output_type": "display_data"
    }
   ],
   "source": [
    "df_test['signal'] = df_test['predicted_class'] - 1\n",
    "run_backtest(df_test, freq='h')"
   ]
  }
 ],
 "metadata": {
  "kernelspec": {
   "display_name": "myenv",
   "language": "python",
   "name": "python3"
  },
  "language_info": {
   "codemirror_mode": {
    "name": "ipython",
    "version": 3
   },
   "file_extension": ".py",
   "mimetype": "text/x-python",
   "name": "python",
   "nbconvert_exporter": "python",
   "pygments_lexer": "ipython3",
   "version": "3.11.11"
  }
 },
 "nbformat": 4,
 "nbformat_minor": 5
}
