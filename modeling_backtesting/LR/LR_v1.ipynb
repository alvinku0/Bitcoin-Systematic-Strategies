{
 "cells": [
  {
   "cell_type": "code",
   "execution_count": 1,
   "id": "bbc2facf",
   "metadata": {},
   "outputs": [],
   "source": [
    "import pandas as pd\n",
    "import numpy as np\n",
    "import time\n",
    "from pprint import pprint\n",
    "\n",
    "import matplotlib.pyplot as plt\n",
    "import seaborn as sns\n",
    "\n",
    "from sklearn.linear_model import LogisticRegression\n",
    "from sklearn.metrics import classification_report, accuracy_score, precision_recall_fscore_support, confusion_matrix, roc_auc_score, make_scorer\n",
    "from sklearn.preprocessing import StandardScaler\n",
    "from sklearn.feature_selection import RFE, RFECV\n",
    "from sklearn.model_selection import GridSearchCV, TimeSeriesSplit\n",
    "from sklearn.pipeline import Pipeline\n",
    "from sklearn.multiclass import OneVsRestClassifier\n",
    "\n",
    "from backtest_functions_v2 import *"
   ]
  },
  {
   "cell_type": "code",
   "execution_count": 2,
   "id": "57bfb84a",
   "metadata": {},
   "outputs": [],
   "source": [
    "df = pd.read_parquet(\"../data/full_dataset_feature_engineering_v2.parquet\")"
   ]
  },
  {
   "cell_type": "markdown",
   "id": "6444a795",
   "metadata": {},
   "source": [
    "### Spliting dataset"
   ]
  },
  {
   "cell_type": "code",
   "execution_count": 3,
   "id": "e7573d07",
   "metadata": {},
   "outputs": [],
   "source": [
    "# list of features column names\n",
    "all_features = df.columns.drop(['target', 'return_forward'])"
   ]
  },
  {
   "cell_type": "code",
   "execution_count": 4,
   "id": "6d487a73",
   "metadata": {},
   "outputs": [
    {
     "name": "stdout",
     "output_type": "stream",
     "text": [
      "Training set class distribution: [ 9993  6038 10243]\n",
      "Test set class distribution: [2648 3274 2862]\n"
     ]
    }
   ],
   "source": [
    "df_train = df[df['year'].isin([2021, 2022, 2023])]\n",
    "df_test = df[df['year'] == 2024]\n",
    "\n",
    "X_train = df_train[all_features]\n",
    "y_train = df_train['target']\n",
    "X_test = df_test[all_features]\n",
    "y_test = df_test['target']\n",
    "\n",
    "# Print class distribution\n",
    "print(f\"Training set class distribution: {np.bincount(y_train)}\")\n",
    "print(f\"Test set class distribution: {np.bincount(y_test)}\")"
   ]
  },
  {
   "cell_type": "markdown",
   "id": "b4202eb6",
   "metadata": {},
   "source": [
    "### Logistic regression"
   ]
  },
  {
   "cell_type": "code",
   "execution_count": 5,
   "id": "306180d0",
   "metadata": {},
   "outputs": [
    {
     "name": "stdout",
     "output_type": "stream",
     "text": [
      "Fitting 5 folds for each of 5 candidates, totalling 25 fits\n",
      "Grid search finished in 1048.92 seconds.\n"
     ]
    }
   ],
   "source": [
    "class RocAucScorer:\n",
    "    def __call__(self, estimator, X, y_true):\n",
    "        # Get predicted probabilities\n",
    "        y_pred_proba = estimator.predict_proba(X)\n",
    "        \n",
    "        # Classes the model was trained on\n",
    "        trained_classes = estimator.classes_\n",
    "        \n",
    "        # Unique classes in the test set\n",
    "        test_classes = np.unique(y_true)\n",
    "        sorted_classes = np.sort(test_classes)\n",
    "        \n",
    "        # Initialize new probability array with zeros\n",
    "        new_y_pred_proba = np.zeros((X.shape[0], len(sorted_classes)))\n",
    "        \n",
    "        # Fill in probabilities for trained classes\n",
    "        for i, cls in enumerate(sorted_classes):\n",
    "            if cls in trained_classes:\n",
    "                trained_idx = list(trained_classes).index(cls)\n",
    "                new_y_pred_proba[:, i] = y_pred_proba[:, trained_idx]\n",
    "            # Classes not in trained_classes already have probability 0\n",
    "        \n",
    "        # Compute ROC AUC score\n",
    "        return roc_auc_score(y_true, new_y_pred_proba, multi_class='ovr', labels=sorted_classes)\n",
    "\n",
    "# Define the pipeline\n",
    "pipeline = Pipeline([\n",
    "    ('scaler', StandardScaler()),\n",
    "    ('model', OneVsRestClassifier(LogisticRegression(\n",
    "        penalty='l1',\n",
    "        solver='saga',\n",
    "        max_iter=13000,\n",
    "        random_state=42,\n",
    "        class_weight='balanced'\n",
    "    )))\n",
    "])\n",
    "\n",
    "# Define the parameter grid\n",
    "param_grid = {\n",
    "    'model__estimator__C': [0.01, 0.1, 1, 10, 100]\n",
    "}\n",
    "\n",
    "# Time Series Cross-Validation\n",
    "tscv = TimeSeriesSplit(n_splits=5)\n",
    "\n",
    "# Instantiate the custom scorer\n",
    "roc_auc_scorer = RocAucScorer()\n",
    "\n",
    "# Set up GridSearchCV with the custom scorer\n",
    "grid_search = GridSearchCV(\n",
    "    estimator=pipeline,\n",
    "    param_grid=param_grid,\n",
    "    cv=tscv,\n",
    "    scoring=roc_auc_scorer,\n",
    "    n_jobs=-1,\n",
    "    verbose=1\n",
    ")\n",
    "\n",
    "# Fit the model (assuming X_train and y_train are defined)\n",
    "start_time = time.time()\n",
    "grid_search.fit(X_train, y_train)\n",
    "end_time = time.time()\n",
    "\n",
    "print(f\"Grid search finished in {end_time - start_time:.2f} seconds.\")\n",
    "\n",
    "# Get the best model\n",
    "best_model = grid_search.best_estimator_"
   ]
  },
  {
   "cell_type": "code",
   "execution_count": 6,
   "id": "2875c81e",
   "metadata": {},
   "outputs": [],
   "source": [
    "# Evaluate on test set\n",
    "y_pred = best_model.predict(X_test)\n",
    "y_proba = best_model.predict_proba(X_test)[:, 1]"
   ]
  },
  {
   "cell_type": "code",
   "execution_count": 7,
   "id": "92e4087e",
   "metadata": {},
   "outputs": [
    {
     "name": "stdout",
     "output_type": "stream",
     "text": [
      "Best Parameters: {'model__estimator__C': 0.01}\n",
      "\n",
      "Test Accuracy: 0.4863\n",
      "Test ROC AUC: 0.6958\n",
      "\n",
      "Classification Report:\n",
      "              precision    recall  f1-score   support\n",
      "\n",
      "           0       0.43      0.24      0.30      2648\n",
      "           1       0.51      0.79      0.62      3274\n",
      "           2       0.46      0.37      0.41      2862\n",
      "\n",
      "    accuracy                           0.49      8784\n",
      "   macro avg       0.47      0.47      0.45      8784\n",
      "weighted avg       0.47      0.49      0.46      8784\n",
      "\n"
     ]
    }
   ],
   "source": [
    "# Performance metrics\n",
    "print(f\"Best Parameters: {grid_search.best_params_}\")\n",
    "print(f\"\\nTest Accuracy: {accuracy_score(y_test, y_pred):.4f}\")\n",
    "\n",
    "# Get the full probability matrix for multi-class ROC AUC\n",
    "y_proba_full = best_model.predict_proba(X_test)\n",
    "print(f\"Test ROC AUC: {roc_auc_score(y_test, y_proba_full, multi_class='ovr'):.4f}\")\n",
    "\n",
    "print(\"\\nClassification Report:\")\n",
    "print(classification_report(y_test, y_pred))"
   ]
  },
  {
   "cell_type": "code",
   "execution_count": 8,
   "id": "6167f0e5",
   "metadata": {},
   "outputs": [
    {
     "name": "stdout",
     "output_type": "stream",
     "text": [
      "Shape of coefficient matrix: (3, 145)\n",
      "\n",
      "Top 15 most important features for Bearish (0):\n",
      "                           Feature  Coefficient  Abs_Coefficient\n",
      "67                        pct_b_10     0.118811         0.118811\n",
      "48                          atr_14     0.093725         0.093725\n",
      "70                            year    -0.078610         0.078610\n",
      "55                       atr_ratio     0.069496         0.069496\n",
      "72          tanalysis_absa_ewm_70h    -0.052013         0.052013\n",
      "93           source_Coindesk_last3     0.039020         0.039020\n",
      "46                       rsi_ratio     0.032075         0.032075\n",
      "62                   lower_band_10     0.028599         0.028599\n",
      "103           source_NewsBTC_last3     0.026951         0.026951\n",
      "125           NER_blackrock_last24    -0.024451         0.024451\n",
      "136        NER_microstrategy_last3    -0.023558         0.023558\n",
      "130                  NER_fed_last3     0.022567         0.022567\n",
      "135      NER_michael saylor_last24     0.021022         0.021022\n",
      "89   source_Bitcoin Magazine_last3     0.021020         0.021020\n",
      "8                   sma_20_50_diff     0.020997         0.020997\n",
      "\n",
      "Top 15 most important features for Neutral (1):\n",
      "                                  Feature  Coefficient  Abs_Coefficient\n",
      "48                                 atr_14    -0.521543         0.521543\n",
      "55                              atr_ratio    -0.139638         0.139638\n",
      "50                              atr_7_chg    -0.096638         0.096638\n",
      "70                                   year     0.091795         0.091795\n",
      "93                  source_Coindesk_last3    -0.084877         0.084877\n",
      "68                          20_band_width    -0.073565         0.073565\n",
      "19                  ema_5_20_diff_abs_chg     0.066890         0.066890\n",
      "74                   economy_absa_ewm_70h     0.062733         0.062733\n",
      "125                  NER_blackrock_last24     0.058710         0.058710\n",
      "108  source_The Currency Analytics_last24     0.041371         0.041371\n",
      "103                  source_NewsBTC_last3    -0.040475         0.040475\n",
      "89          source_Bitcoin Magazine_last3    -0.037297         0.037297\n",
      "128                 NER_el salvador_last3    -0.034028         0.034028\n",
      "86                 source_Benzinga_last24     0.032498         0.032498\n",
      "85                  source_Benzinga_last3    -0.029856         0.029856\n",
      "\n",
      "Top 15 most important features for Bullish (2):\n",
      "                        Feature  Coefficient  Abs_Coefficient\n",
      "48                       atr_14     0.125612         0.125612\n",
      "46                    rsi_ratio    -0.112526         0.112526\n",
      "55                    atr_ratio     0.088489         0.088489\n",
      "67                     pct_b_10    -0.079329         0.079329\n",
      "70                         year    -0.050265         0.050265\n",
      "8                sma_20_50_diff    -0.033726         0.033726\n",
      "32                          -di    -0.028681         0.028681\n",
      "125        NER_blackrock_last24    -0.026597         0.026597\n",
      "81       source_AMBCrypto_last3     0.025043         0.025043\n",
      "68                20_band_width     0.023802         0.023802\n",
      "72       tanalysis_absa_ewm_70h     0.022558         0.022558\n",
      "97   source_Cointelegraph_last3     0.016032         0.016032\n",
      "85        source_Benzinga_last3     0.015899         0.015899\n",
      "93        source_Coindesk_last3     0.015476         0.015476\n",
      "41                    rsi_7_chg    -0.015384         0.015384\n"
     ]
    },
    {
     "data": {
      "image/png": "[encoded data removed]",
      "text/plain": [
       "<Figure size 1500x1500 with 3 Axes>"
      ]
     },
     "metadata": {},
     "output_type": "display_data"
    },
    {
     "name": "stdout",
     "output_type": "stream",
     "text": [
      "\n",
      "Number of features used by the model (non-zero coefficients): 130\n",
      "Total number of features: 435\n",
      "Feature utilization: 29.89%\n"
     ]
    }
   ],
   "source": [
    "# Get the OneVsRestClassifier model from the pipeline\n",
    "model = best_model.named_steps['model']\n",
    "\n",
    "# Extract coefficients from each binary classifier within OneVsRestClassifier\n",
    "# The estimators_ attribute holds the fitted estimator for each class.\n",
    "# Each estimator's coef_ attribute has shape (1, n_features), so we stack them.\n",
    "coefficients = np.vstack([est.coef_ for est in model.estimators_])\n",
    "\n",
    "# Print the shape of coefficients to understand the structure\n",
    "print(f\"Shape of coefficient matrix: {coefficients.shape}\")\n",
    "\n",
    "# Get feature names\n",
    "feature_names = X_train.columns\n",
    "\n",
    "# Create a function to display coefficients for a class\n",
    "def display_class_coefficients(class_idx, class_name):\n",
    "  # For multi-class, coefficients has shape (n_classes, n_features)\n",
    "  class_coefs = coefficients[class_idx]\n",
    "  \n",
    "  # Create a DataFrame\n",
    "  coef_df = pd.DataFrame({\n",
    "    'Feature': feature_names,\n",
    "    'Coefficient': class_coefs\n",
    "  })\n",
    "  \n",
    "  # Sort by absolute coefficient value\n",
    "  coef_df['Abs_Coefficient'] = np.abs(coef_df['Coefficient'])\n",
    "  coef_df = coef_df.sort_values(by='Abs_Coefficient', ascending=False)\n",
    "  \n",
    "  # Display top features\n",
    "  print(f\"\\nTop 15 most important features for {class_name}:\")\n",
    "  print(coef_df.head(15))\n",
    "  \n",
    "  return coef_df\n",
    "\n",
    "# Display coefficients for each class\n",
    "class_names = ['Bearish (0)', 'Neutral (1)', 'Bullish (2)']\n",
    "\n",
    "plt.figure(figsize=(15, 15))\n",
    "\n",
    "for i, class_name in enumerate(class_names):\n",
    "  coef_df = display_class_coefficients(i, class_name)\n",
    "  \n",
    "  # Plot\n",
    "  plt.subplot(3, 1, i+1)\n",
    "  plt.barh(coef_df.head(10)['Feature'], coef_df.head(10)['Coefficient'])\n",
    "  plt.title(f'Top 10 Features for {class_name}')\n",
    "\n",
    "plt.tight_layout()\n",
    "plt.show()\n",
    "\n",
    "# Count number of non-zero coefficients\n",
    "non_zero_coef = (np.abs(coefficients) > 1e-5).sum()\n",
    "print(f\"\\nNumber of features used by the model (non-zero coefficients): {non_zero_coef}\")\n",
    "print(f\"Total number of features: {len(feature_names) * 3}\")\n",
    "print(f\"Feature utilization: {non_zero_coef/(len(feature_names) * 3)*100:.2f}%\")"
   ]
  },
  {
   "cell_type": "code",
   "execution_count": 9,
   "id": "1cbbf87a",
   "metadata": {
    "vscode": {
     "languageId": "ruby"
    }
   },
   "outputs": [
    {
     "data": {
      "image/png": "[encoded data removed]",
      "text/plain": [
       "<Figure size 1200x600 with 1 Axes>"
      ]
     },
     "metadata": {},
     "output_type": "display_data"
    },
    {
     "data": {
      "image/png": "[encoded data removed]",
      "text/plain": [
       "<Figure size 800x600 with 2 Axes>"
      ]
     },
     "metadata": {},
     "output_type": "display_data"
    }
   ],
   "source": [
    "# Add predictions and probabilities to test dataframe\n",
    "df_test.loc[:, 'predicted_class'] = y_pred\n",
    "df_test.loc[:, 'prob_bearish'] = y_proba_full[:, 0]\n",
    "df_test.loc[:, 'prob_neutral'] = y_proba_full[:, 1]\n",
    "df_test.loc[:, 'prob_bullish'] = y_proba_full[:, 2]\n",
    "\n",
    "# Define the mapping from numerical target to labels\n",
    "target_map = {0: 'Bearish', 1: 'Neutral', 2: 'Bullish'}\n",
    "\n",
    "# Map target values to more descriptive labels\n",
    "df_test.loc[:, 'actual_label'] = df_test['target'].map(target_map)\n",
    "df_test.loc[:, 'predicted_label'] = df_test['predicted_class'].map(target_map)\n",
    "\n",
    "# Calculate whether the prediction was correct\n",
    "df_test.loc[:, 'correct_prediction'] = (df_test['target'] == df_test['predicted_class']).astype(int)\n",
    "\n",
    "# Calculate monthly accuracy\n",
    "monthly_accuracy = df_test.resample('ME')['correct_prediction'].mean()\n",
    "\n",
    "# Plot monthly accuracy\n",
    "plt.figure(figsize=(12, 6))\n",
    "monthly_accuracy.plot(kind='bar')\n",
    "plt.title('Model Prediction Accuracy by Month (2024)')\n",
    "plt.ylabel('Accuracy')\n",
    "plt.xlabel('Month')\n",
    "plt.xticks(rotation=45)\n",
    "plt.tight_layout()\n",
    "plt.show()\n",
    "\n",
    "# Show confusion matrix\n",
    "conf_matrix = confusion_matrix(df_test['target'], df_test['predicted_class'])\n",
    "plt.figure(figsize=(8, 6))\n",
    "sns.heatmap(conf_matrix, annot=True, fmt='d', cmap='Blues',\n",
    "      xticklabels=['Bearish', 'Neutral', 'Bullish'],\n",
    "      yticklabels=['Bearish', 'Neutral', 'Bullish'])\n",
    "plt.title('Confusion Matrix')\n",
    "plt.ylabel('Actual')\n",
    "plt.xlabel('Predicted')\n",
    "plt.tight_layout()\n",
    "plt.show()"
   ]
  },
  {
   "cell_type": "markdown",
   "id": "d8b92c37",
   "metadata": {},
   "source": [
    "### Backtest"
   ]
  },
  {
   "cell_type": "code",
   "execution_count": 10,
   "id": "ea30d854",
   "metadata": {},
   "outputs": [
    {
     "data": {
      "application/vnd.microsoft.datawrangler.viewer.v0+json": {
       "columns": [
        {
         "name": "index",
         "rawType": "datetime64[ns]",
         "type": "datetime"
        },
        {
         "name": "news_count",
         "rawType": "float64",
         "type": "float"
        },
        {
         "name": "tanalysis_absa",
         "rawType": "float64",
         "type": "float"
        },
        {
         "name": "economy_absa",
         "rawType": "float64",
         "type": "float"
        },
        {
         "name": "regulation_absa",
         "rawType": "float64",
         "type": "float"
        },
        {
         "name": "technology_absa",
         "rawType": "float64",
         "type": "float"
        },
        {
         "name": "adoption_absa",
         "rawType": "float64",
         "type": "float"
        },
        {
         "name": "cybersecurity_absa",
         "rawType": "float64",
         "type": "float"
        },
        {
         "name": "return_forward",
         "rawType": "float64",
         "type": "float"
        },
        {
         "name": "sma_5_20_diff",
         "rawType": "float64",
         "type": "float"
        },
        {
         "name": "sma_20_50_diff",
         "rawType": "float64",
         "type": "float"
        },
        {
         "name": "sma_50_200_diff",
         "rawType": "float64",
         "type": "float"
        },
        {
         "name": "ema_5_20_diff",
         "rawType": "float64",
         "type": "float"
        },
        {
         "name": "ema_20_50_diff",
         "rawType": "float64",
         "type": "float"
        },
        {
         "name": "ema_50_200_diff",
         "rawType": "float64",
         "type": "float"
        },
        {
         "name": "sma_5_20_diff_abs_chg",
         "rawType": "float64",
         "type": "float"
        },
        {
         "name": "sma_5_20_diff_pct_chg",
         "rawType": "float64",
         "type": "float"
        },
        {
         "name": "sma_20_50_diff_abs_chg",
         "rawType": "float64",
         "type": "float"
        },
        {
         "name": "sma_20_50_diff_pct_chg",
         "rawType": "float64",
         "type": "float"
        },
        {
         "name": "sma_50_200_diff_abs_chg",
         "rawType": "float64",
         "type": "float"
        },
        {
         "name": "sma_50_200_diff_pct_chg",
         "rawType": "float64",
         "type": "float"
        },
        {
         "name": "ema_5_20_diff_abs_chg",
         "rawType": "float64",
         "type": "float"
        },
        {
         "name": "ema_5_20_diff_pct_chg",
         "rawType": "float64",
         "type": "float"
        },
        {
         "name": "ema_20_50_diff_abs_chg",
         "rawType": "float64",
         "type": "float"
        },
        {
         "name": "ema_20_50_diff_pct_chg",
         "rawType": "float64",
         "type": "float"
        },
        {
         "name": "ema_50_200_diff_abs_chg",
         "rawType": "float64",
         "type": "float"
        },
        {
         "name": "ema_50_200_diff_pct_chg",
         "rawType": "float64",
         "type": "float"
        },
        {
         "name": "macd_12_26",
         "rawType": "float64",
         "type": "float"
        },
        {
         "name": "signal_line_9",
         "rawType": "float64",
         "type": "float"
        },
        {
         "name": "macd_histogram",
         "rawType": "float64",
         "type": "float"
        },
        {
         "name": "macd_position",
         "rawType": "float64",
         "type": "float"
        },
        {
         "name": "macd_crossover",
         "rawType": "float64",
         "type": "float"
        },
        {
         "name": "adx",
         "rawType": "float64",
         "type": "float"
        },
        {
         "name": "+di",
         "rawType": "float64",
         "type": "float"
        },
        {
         "name": "-di",
         "rawType": "float64",
         "type": "float"
        },
        {
         "name": "adx_slope",
         "rawType": "float64",
         "type": "float"
        },
        {
         "name": "adx_strength",
         "rawType": "float64",
         "type": "float"
        },
        {
         "name": "di_crossover",
         "rawType": "float64",
         "type": "float"
        },
        {
         "name": "di_spread",
         "rawType": "float64",
         "type": "float"
        },
        {
         "name": "adx_di_composite",
         "rawType": "float64",
         "type": "float"
        },
        {
         "name": "rsi_7",
         "rawType": "float64",
         "type": "float"
        },
        {
         "name": "rsi_14",
         "rawType": "float64",
         "type": "float"
        },
        {
         "name": "rsi_7_slope",
         "rawType": "float64",
         "type": "float"
        },
        {
         "name": "rsi_7_chg",
         "rawType": "float64",
         "type": "float"
        },
        {
         "name": "rsi_7_acceleration",
         "rawType": "float64",
         "type": "float"
        },
        {
         "name": "rsi_14_slope",
         "rawType": "float64",
         "type": "float"
        },
        {
         "name": "rsi_14_chg",
         "rawType": "float64",
         "type": "float"
        },
        {
         "name": "rsi_14_acceleration",
         "rawType": "float64",
         "type": "float"
        },
        {
         "name": "rsi_ratio",
         "rawType": "float64",
         "type": "float"
        },
        {
         "name": "atr_7",
         "rawType": "float64",
         "type": "float"
        },
        {
         "name": "atr_14",
         "rawType": "float64",
         "type": "float"
        },
        {
         "name": "atr_7_slope",
         "rawType": "float64",
         "type": "float"
        },
        {
         "name": "atr_7_chg",
         "rawType": "float64",
         "type": "float"
        },
        {
         "name": "atr_14_slope",
         "rawType": "float64",
         "type": "float"
        },
        {
         "name": "atr_14_chg",
         "rawType": "float64",
         "type": "float"
        },
        {
         "name": "norm_price_change_7",
         "rawType": "float64",
         "type": "float"
        },
        {
         "name": "norm_price_change_14",
         "rawType": "float64",
         "type": "float"
        },
        {
         "name": "atr_ratio",
         "rawType": "float64",
         "type": "float"
        },
        {
         "name": "trailing_stop_long_7",
         "rawType": "float64",
         "type": "float"
        },
        {
         "name": "trailing_stop_long_14",
         "rawType": "float64",
         "type": "float"
        },
        {
         "name": "trailing_stop_short_7",
         "rawType": "float64",
         "type": "float"
        },
        {
         "name": "trailing_stop_short_14",
         "rawType": "float64",
         "type": "float"
        },
        {
         "name": "upper_band_10",
         "rawType": "float64",
         "type": "float"
        },
        {
         "name": "middle_band_10",
         "rawType": "float64",
         "type": "float"
        },
        {
         "name": "lower_band_10",
         "rawType": "float64",
         "type": "float"
        },
        {
         "name": "upper_band_20",
         "rawType": "float64",
         "type": "float"
        },
        {
         "name": "middle_band_20",
         "rawType": "float64",
         "type": "float"
        },
        {
         "name": "lower_band_20",
         "rawType": "float64",
         "type": "float"
        },
        {
         "name": "10_band_width",
         "rawType": "float64",
         "type": "float"
        },
        {
         "name": "pct_b_10",
         "rawType": "float64",
         "type": "float"
        },
        {
         "name": "20_band_width",
         "rawType": "float64",
         "type": "float"
        },
        {
         "name": "pct_b_20",
         "rawType": "float64",
         "type": "float"
        },
        {
         "name": "year",
         "rawType": "int32",
         "type": "integer"
        },
        {
         "name": "target",
         "rawType": "int32",
         "type": "integer"
        },
        {
         "name": "tanalysis_absa_ewm_12h",
         "rawType": "float64",
         "type": "float"
        },
        {
         "name": "tanalysis_absa_ewm_70h",
         "rawType": "float64",
         "type": "float"
        },
        {
         "name": "economy_absa_ewm_12h",
         "rawType": "float64",
         "type": "float"
        },
        {
         "name": "economy_absa_ewm_70h",
         "rawType": "float64",
         "type": "float"
        },
        {
         "name": "regulation_absa_ewm_12h",
         "rawType": "float64",
         "type": "float"
        },
        {
         "name": "regulation_absa_ewm_70h",
         "rawType": "float64",
         "type": "float"
        },
        {
         "name": "technology_absa_ewm_12h",
         "rawType": "float64",
         "type": "float"
        },
        {
         "name": "technology_absa_ewm_70h",
         "rawType": "float64",
         "type": "float"
        },
        {
         "name": "adoption_absa_ewm_12h",
         "rawType": "float64",
         "type": "float"
        },
        {
         "name": "adoption_absa_ewm_70h",
         "rawType": "float64",
         "type": "float"
        },
        {
         "name": "source_AMBCrypto_last3",
         "rawType": "int32",
         "type": "integer"
        },
        {
         "name": "source_AMBCrypto_last24",
         "rawType": "int32",
         "type": "integer"
        },
        {
         "name": "source_BeInCrypto_last3",
         "rawType": "int32",
         "type": "integer"
        },
        {
         "name": "source_BeInCrypto_last24",
         "rawType": "int32",
         "type": "integer"
        },
        {
         "name": "source_Benzinga_last3",
         "rawType": "int64",
         "type": "integer"
        },
        {
         "name": "source_Benzinga_last24",
         "rawType": "int64",
         "type": "integer"
        },
        {
         "name": "source_Bitcoin_last3",
         "rawType": "int64",
         "type": "integer"
        },
        {
         "name": "source_Bitcoin_last24",
         "rawType": "int64",
         "type": "integer"
        },
        {
         "name": "source_Bitcoin Magazine_last3",
         "rawType": "int64",
         "type": "integer"
        },
        {
         "name": "source_Bitcoin Magazine_last24",
         "rawType": "int64",
         "type": "integer"
        },
        {
         "name": "source_CoinPedia_last3",
         "rawType": "int64",
         "type": "integer"
        },
        {
         "name": "source_CoinPedia_last24",
         "rawType": "int64",
         "type": "integer"
        },
        {
         "name": "source_Coindesk_last3",
         "rawType": "int64",
         "type": "integer"
        },
        {
         "name": "source_Coindesk_last24",
         "rawType": "int64",
         "type": "integer"
        },
        {
         "name": "source_Coingape_last3",
         "rawType": "int64",
         "type": "integer"
        },
        {
         "name": "source_Coingape_last24",
         "rawType": "int64",
         "type": "integer"
        },
        {
         "name": "source_Cointelegraph_last3",
         "rawType": "int64",
         "type": "integer"
        },
        {
         "name": "source_Cointelegraph_last24",
         "rawType": "int64",
         "type": "integer"
        },
        {
         "name": "source_CryptoPotato_last3",
         "rawType": "int64",
         "type": "integer"
        },
        {
         "name": "source_CryptoPotato_last24",
         "rawType": "int64",
         "type": "integer"
        },
        {
         "name": "source_Cryptopolitan_last3",
         "rawType": "int64",
         "type": "integer"
        },
        {
         "name": "source_Cryptopolitan_last24",
         "rawType": "int64",
         "type": "integer"
        },
        {
         "name": "source_NewsBTC_last3",
         "rawType": "int64",
         "type": "integer"
        },
        {
         "name": "source_NewsBTC_last24",
         "rawType": "int64",
         "type": "integer"
        },
        {
         "name": "source_Other_last3",
         "rawType": "int64",
         "type": "integer"
        },
        {
         "name": "source_Other_last24",
         "rawType": "int64",
         "type": "integer"
        },
        {
         "name": "source_The Currency Analytics_last3",
         "rawType": "int64",
         "type": "integer"
        },
        {
         "name": "source_The Currency Analytics_last24",
         "rawType": "int64",
         "type": "integer"
        },
        {
         "name": "source_The Daily Hodl_last3",
         "rawType": "int64",
         "type": "integer"
        },
        {
         "name": "source_The Daily Hodl_last24",
         "rawType": "int64",
         "type": "integer"
        },
        {
         "name": "source_UToday_last3",
         "rawType": "int64",
         "type": "integer"
        },
        {
         "name": "source_UToday_last24",
         "rawType": "int64",
         "type": "integer"
        },
        {
         "name": "topic_Other_last3",
         "rawType": "int32",
         "type": "integer"
        },
        {
         "name": "topic_exchange traded funds, ETF_last3",
         "rawType": "int32",
         "type": "integer"
        },
        {
         "name": "topic_exchange traded funds, ETF_last24",
         "rawType": "int32",
         "type": "integer"
        },
        {
         "name": "topic_institutional investments_last3",
         "rawType": "int32",
         "type": "integer"
        },
        {
         "name": "topic_institutional investments_last24",
         "rawType": "int32",
         "type": "integer"
        },
        {
         "name": "topic_market sentiment_last3",
         "rawType": "int32",
         "type": "integer"
        },
        {
         "name": "topic_market sentiment_last24",
         "rawType": "int32",
         "type": "integer"
        },
        {
         "name": "topic_others_last3",
         "rawType": "int32",
         "type": "integer"
        },
        {
         "name": "topic_price action, price movement, trading_last3",
         "rawType": "int32",
         "type": "integer"
        },
        {
         "name": "NER_binance_last3",
         "rawType": "int32",
         "type": "integer"
        },
        {
         "name": "NER_binance_last24",
         "rawType": "int32",
         "type": "integer"
        },
        {
         "name": "NER_blackrock_last3",
         "rawType": "int32",
         "type": "integer"
        },
        {
         "name": "NER_blackrock_last24",
         "rawType": "int32",
         "type": "integer"
        },
        {
         "name": "NER_coinbase_last3",
         "rawType": "int32",
         "type": "integer"
        },
        {
         "name": "NER_coinbase_last24",
         "rawType": "int32",
         "type": "integer"
        },
        {
         "name": "NER_el salvador_last3",
         "rawType": "int32",
         "type": "integer"
        },
        {
         "name": "NER_el salvador_last24",
         "rawType": "int32",
         "type": "integer"
        },
        {
         "name": "NER_fed_last3",
         "rawType": "int32",
         "type": "integer"
        },
        {
         "name": "NER_fed_last24",
         "rawType": "int32",
         "type": "integer"
        },
        {
         "name": "NER_grayscale_last3",
         "rawType": "int32",
         "type": "integer"
        },
        {
         "name": "NER_grayscale_last24",
         "rawType": "int32",
         "type": "integer"
        },
        {
         "name": "NER_michael saylor_last3",
         "rawType": "int32",
         "type": "integer"
        },
        {
         "name": "NER_michael saylor_last24",
         "rawType": "int32",
         "type": "integer"
        },
        {
         "name": "NER_microstrategy_last3",
         "rawType": "int32",
         "type": "integer"
        },
        {
         "name": "NER_microstrategy_last24",
         "rawType": "int32",
         "type": "integer"
        },
        {
         "name": "NER_sec_last3",
         "rawType": "int32",
         "type": "integer"
        },
        {
         "name": "NER_sec_last24",
         "rawType": "int32",
         "type": "integer"
        },
        {
         "name": "NER_us_last3",
         "rawType": "int32",
         "type": "integer"
        },
        {
         "name": "reddit_total_sentiment_ewm_5h",
         "rawType": "float64",
         "type": "float"
        },
        {
         "name": "reddit_total_sentiment_ewm_24h",
         "rawType": "float64",
         "type": "float"
        },
        {
         "name": "reddit_average_sentiment_ewm_5h",
         "rawType": "float64",
         "type": "float"
        },
        {
         "name": "reddit_average_sentiment_ewm_24h",
         "rawType": "float64",
         "type": "float"
        },
        {
         "name": "predicted_class",
         "rawType": "int32",
         "type": "integer"
        },
        {
         "name": "prob_bearish",
         "rawType": "float64",
         "type": "float"
        },
        {
         "name": "prob_neutral",
         "rawType": "float64",
         "type": "float"
        },
        {
         "name": "prob_bullish",
         "rawType": "float64",
         "type": "float"
        },
        {
         "name": "actual_label",
         "rawType": "object",
         "type": "string"
        },
        {
         "name": "predicted_label",
         "rawType": "object",
         "type": "string"
        },
        {
         "name": "correct_prediction",
         "rawType": "int64",
         "type": "integer"
        }
       ],
       "conversionMethod": "pd.DataFrame",
       "ref": "5f02563f-fed3-4976-af88-6a3f5461ccef",
       "rows": [
        [
         "2024-01-01 00:00:00",
         "0.0",
         "0.0",
         "0.0",
         "0.0",
         "0.0",
         "0.0",
         "0.0",
         "-0.0013851065827776843",
         "143.54999999999563",
         "210.51000000000204",
         "-647.125",
         "123.18237537524692",
         "73.24175679362088",
         "-290.1642943383122",
         "-3.400000000001455",
         "-0.023137121469898103",
         "6.040000000000873",
         "0.029539785787650263",
         "21.24500000000262",
         "-0.03178628603917366",
         "-6.7390839477666304",
         "-0.0518704452896559",
         "5.9659860475876485",
         "0.08867956444689895",
         "9.444798146389076",
         "-0.03152373670659325",
         "97.15707386183931",
         "85.79744270233458",
         "11.35963115950473",
         "1.0",
         "0.0",
         "20.30979418325393",
         "25.43543622227623",
         "13.83060041246407",
         "0.6734116015727345",
         "-1.0",
         "1.0",
         "11.60483580981216",
         "235.69182682773993",
         "59.83365719100113",
         "57.8084231931855",
         "-0.3976498959292793",
         "-0.08539379856451701",
         "-3.0022145320085913",
         "-0.013465885807406153",
         "-0.03501317567867823",
         "-1.172129664252336",
         "1.0350335450432138",
         "184.2851122151845",
         "198.42880729613117",
         "-8.10834761007473",
         "-0.069263808187768",
         "-4.458436897433425",
         "-0.03603463688509145",
         "-0.23333409564734733",
         "-0.21670240619764278",
         "0.9287215638007696",
         "42302.42977556963",
         "42274.14238540774",
         "42937.57022443037",
         "42965.85761459226",
         "42694.6892478116",
         "42540.30000000028",
         "42385.91075218896",
         "42794.74959105287",
         "42428.04999999998",
         "42061.350408947095",
         "0.007258493607770437",
         "0.6803882096368269",
         "0.017285715042425282",
         "0.7290021643026553",
         "2024",
         "0",
         "0.22366468150213006",
         "0.13733012092985097",
         "0.002303980192397039",
         "0.002474664739279701",
         "-0.016407247999448496",
         "0.054573927679237216",
         "0.020696256474579233",
         "0.023116982458819466",
         "0.15258846306377433",
         "0.3529091583631931",
         "0",
         "1",
         "1",
         "1",
         "0",
         "1",
         "0",
         "1",
         "0",
         "0",
         "0",
         "1",
         "0",
         "0",
         "0",
         "1",
         "0",
         "1",
         "0",
         "1",
         "0",
         "1",
         "0",
         "1",
         "1",
         "1",
         "0",
         "1",
         "1",
         "1",
         "0",
         "1",
         "0",
         "1",
         "1",
         "0",
         "1",
         "0",
         "1",
         "1",
         "1",
         "0",
         "0",
         "0",
         "1",
         "0",
         "1",
         "0",
         "1",
         "0",
         "0",
         "0",
         "1",
         "1",
         "1",
         "1",
         "1",
         "0",
         "1",
         "0",
         "0.07157685802170238",
         "0.09777807441598635",
         "0.0035389442268025043",
         "0.010172849524415562",
         "1",
         "0.25528448625311634",
         "0.48811776145564856",
         "0.2565977522912352",
         "Bearish",
         "Neutral",
         "0"
        ],
        [
         "2024-01-01 01:00:00",
         "1.0",
         "-0.30000000000000004",
         "0.0",
         "0.0",
         "0.0",
         "0.2",
         "0.0",
         "-0.0007287772997625064",
         "151.34999999999854",
         "210.80999999999767",
         "-631.6650000000009",
         "101.15936044246337",
         "74.84900794499117",
         "-282.79361012185836",
         "7.80000000000291",
         "0.054336468129593474",
         "0.2999999999956344",
         "0.0014251104460387687",
         "15.459999999999127",
         "-0.023890283948231228",
         "-22.023014932783553",
         "-0.17878381437032265",
         "1.607251151370292",
         "0.021944464766173954",
         "7.37068421645381",
         "-0.025401761554645574",
         "91.34464231998572",
         "86.90688262586481",
         "4.437759694120913",
         "1.0",
         "0.0",
         "20.37993818443991",
         "24.09947006720275",
         "15.638530425152068",
         "0.5156968438691756",
         "-1.0",
         "1.0",
         "8.46093964205068",
         "172.43342688727003",
         "52.63820999162405",
         "54.96472313420485",
         "-3.333518165565844",
         "-0.12025751954970354",
         "-5.397501542483276",
         "-1.214646097933714",
         "-0.04919179423866149",
         "-2.14823171210273",
         "0.9576726123608362",
         "178.38723904158672",
         "194.46960677497896",
         "-8.092869380064059",
         "-0.03200406751637652",
         "-4.711405690473896",
         "-0.01995275068727087",
         "-0.330741146715352",
         "-0.30338931094908306",
         "0.917301381948074",
         "42286.22552191683",
         "42254.06078645004",
         "42856.77447808317",
         "42888.93921354996",
         "42664.15375813106",
         "42528.80000000028",
         "42393.4462418695",
         "42805.19576365746",
         "42437.849999999984",
         "42070.50423634251",
         "0.006365275207895916",
         "0.5302909949193931",
         "0.017312175977693262",
         "0.6349545983773297",
         "2024",
         "1",
         "0.1431008843479562",
         "0.12501096259379885",
         "0.001949521701259033",
         "0.0024049558733844983",
         "-0.013883055999533343",
         "0.05303663394179391",
         "0.01751221701695166",
         "0.02246579985434568",
         "0.1598825456693475",
         "0.3486018581276102",
         "0",
         "1",
         "1",
         "1",
         "0",
         "1",
         "0",
         "1",
         "0",
         "0",
         "0",
         "1",
         "0",
         "0",
         "0",
         "1",
         "0",
         "1",
         "0",
         "1",
         "0",
         "1",
         "0",
         "1",
         "1",
         "1",
         "0",
         "1",
         "1",
         "1",
         "0",
         "1",
         "0",
         "1",
         "1",
         "0",
         "1",
         "0",
         "1",
         "0",
         "1",
         "0",
         "0",
         "0",
         "1",
         "0",
         "1",
         "0",
         "1",
         "0",
         "0",
         "0",
         "1",
         "0",
         "1",
         "0",
         "1",
         "0",
         "1",
         "0",
         "0.04771790534780159",
         "0.08995582846270744",
         "0.00235929615120167",
         "0.009359021562462318",
         "1",
         "0.2678497368713104",
         "0.47531980326493534",
         "0.25683045986375425",
         "Neutral",
         "Neutral",
         "1"
        ],
        [
         "2024-01-01 02:00:00",
         "3.0",
         "-0.23333333333333336",
         "0.0",
         "-0.0666666666666667",
         "0.0",
         "0.3333333333333333",
         "0.0",
         "-0.005928574789441532",
         "120.59999999999854",
         "219.6600000000035",
         "-617.5049999999974",
         "77.28327650071151",
         "74.22991811319662",
         "-276.579317249445",
         "-30.75",
         "-0.20317145688800986",
         "8.85000000000582",
         "0.04198093069591535",
         "14.160000000003492",
         "-0.022416945691155044",
         "-23.876083941751858",
         "-0.2360244651342167",
         "-0.6190898317945539",
         "-0.008271182862564341",
         "6.214292872413353",
         "-0.021974658019095816",
         "83.27684390605282",
         "86.18087488190241",
         "-2.9040309758495937",
         "-1.0",
         "2.9040309758495937",
         "20.445071899826893",
         "22.886396531493688",
         "14.851347663737311",
         "0.282133373369754",
         "-1.0",
         "1.0",
         "8.035048867756377",
         "164.27715181990177",
         "49.02427843106488",
         "53.47622674625363",
         "-5.465284072902428",
         "-0.06865604968585048",
         "-10.060238783851155",
         "-2.1432309789980715",
         "-0.02708094033907582",
         "-4.209927395989192",
         "0.916749019404204",
         "172.0462048927886",
         "190.15034914819475",
         "-8.651030897197776",
         "-0.03554645602940165",
         "-5.232019569725755",
         "-0.022210450766129375",
         "-0.1801841547119147",
         "-0.16302888813440977",
         "0.9047903706908443",
         "42295.907590214425",
         "42259.69930170361",
         "42850.092409785575",
         "42886.30069829639",
         "42664.2757009222",
         "42529.30000000028",
         "42394.32429907836",
         "42801.28324646154",
         "42454.79999999998",
         "42108.31675353842",
         "0.006347421703245365",
         "0.4136881681623632",
         "0.016322453360353185",
         "0.5738852462895332",
         "2024",
         "0",
         "0.08518792778160397",
         "0.1149167570747247",
         "0.0016495952856807202",
         "0.0023372106375145127",
         "-0.02200361148678463",
         "0.049664709980992205",
         "0.014818029783574481",
         "0.0218329604218289",
         "0.18656728223303765",
         "0.3481717588376306",
         "1",
         "1",
         "1",
         "1",
         "0",
         "1",
         "1",
         "1",
         "0",
         "0",
         "0",
         "1",
         "0",
         "0",
         "0",
         "1",
         "0",
         "1",
         "0",
         "1",
         "0",
         "1",
         "1",
         "1",
         "1",
         "1",
         "0",
         "1",
         "0",
         "1",
         "0",
         "1",
         "1",
         "1",
         "1",
         "0",
         "1",
         "0",
         "1",
         "0",
         "1",
         "0",
         "0",
         "0",
         "1",
         "1",
         "1",
         "0",
         "1",
         "0",
         "0",
         "0",
         "1",
         "0",
         "1",
         "0",
         "1",
         "1",
         "1",
         "0",
         "0.24994527023186772",
         "0.13511136218569086",
         "0.02883953076746778",
         "0.015154299837465333",
         "1",
         "0.26792337191314636",
         "0.46043205360917333",
         "0.2716445744776803",
         "Bearish",
         "Neutral",
         "0"
        ],
        [
         "2024-01-01 03:00:00",
         "4.0",
         "0.25",
         "0.0",
         "-0.5",
         "0.0",
         "-0.17500000000000002",
         "0.0",
         "9.466559378989992e-05",
         "43.450000000004366",
         "223.38999999999942",
         "-605.3199999999997",
         "0.4283916945569217",
         "59.29687207598181",
         "-277.935098434893",
         "-77.14999999999418",
         "-0.6397180762851999",
         "3.7299999999959255",
         "0.016980788491285814",
         "12.184999999997672",
         "-0.01973263374385259",
         "-76.85488480615459",
         "-0.9944568642278905",
         "-14.933046037214808",
         "-0.20117287499149228",
         "-1.355781185447995",
         "0.004901961574462987",
         "55.904331258025195",
         "80.12556615712697",
         "-24.221234899101773",
         "-1.0",
         "0.0",
         "20.109054375934726",
         "19.249747158852703",
         "26.442006923637564",
         "-0.0669132691064019",
         "-1.0",
         "-1.0",
         "-7.192259764784861",
         "-144.62954269590628",
         "29.691437641431957",
         "43.22792965566838",
         "-10.047406516523058",
         "-0.39435237821639024",
         "-9.649756620593779",
         "-4.860164512505705",
         "-0.19164211303115564",
         "-4.8466986266982985",
         "0.6868577301281553",
         "214.18246133667594",
         "209.925324209038",
         "9.965783040497143",
         "0.2449124435505261",
         "3.8321723043022757",
         "0.10399652248564384",
         "-1.1765669253556583",
         "-1.2004268706002577",
         "1.020279292856534",
         "42134.635077326646",
         "42143.149351581924",
         "42524.364922673354",
         "42515.850648418076",
         "42720.16659981659",
         "42511.20000000028",
         "42302.23340018397",
         "42781.35067537297",
         "42462.94999999998",
         "42144.549324627",
         "0.009831131551982043",
         "-0.11540935304103338",
         "0.014996634730888206",
         "0.1718756959996835",
         "2024",
         "1",
         "0.11054363119981875",
         "0.11872191884726768",
         "0.001395811395575994",
         "0.0022713737181479067",
         "-0.09554151741189469",
         "0.034181197023781154",
         "0.012538332893793792",
         "0.021217947452199917",
         "0.130941546504878",
         "0.33343452619431707",
         "1",
         "1",
         "1",
         "1",
         "0",
         "1",
         "1",
         "1",
         "0",
         "0",
         "1",
         "1",
         "0",
         "0",
         "0",
         "1",
         "1",
         "1",
         "0",
         "1",
         "0",
         "1",
         "1",
         "1",
         "1",
         "1",
         "0",
         "1",
         "0",
         "1",
         "0",
         "1",
         "1",
         "1",
         "1",
         "0",
         "1",
         "0",
         "1",
         "1",
         "1",
         "0",
         "0",
         "0",
         "1",
         "1",
         "1",
         "0",
         "1",
         "0",
         "0",
         "0",
         "1",
         "0",
         "1",
         "0",
         "1",
         "1",
         "1",
         "0",
         "0.1666301801545785",
         "0.1243024532108356",
         "0.019226353844978523",
         "0.013941955850468106",
         "1",
         "0.239237150283275",
         "0.3926767776231272",
         "0.36808607209359784",
         "Neutral",
         "Neutral",
         "1"
        ],
        [
         "2024-01-01 04:00:00",
         "2.0",
         "0.0",
         "0.0",
         "-0.45",
         "0.0",
         "0.15000000000000002",
         "0.0",
         "0.0050168015523688325",
         "-37.10000000000582",
         "221.12000000000262",
         "-591.0999999999985",
         "-44.98974173438182",
         "46.31848426183569",
         "-278.9992367575469",
         "-80.55000000001019",
         "-1.8538550057537881",
         "-2.2699999999967986",
         "-0.010161600787845448",
         "14.220000000001164",
         "-0.02349170686579194",
         "-45.418133428938745",
         "-106.02010731303731",
         "-12.978387814146117",
         "-0.21887137313947813",
         "-1.0641383226538892",
         "0.0038287295438621527",
         "34.14063238840026",
         "70.92857940338163",
         "-36.78794701498137",
         "-1.0",
         "0.0",
         "19.910689533058356",
         "17.575312450533957",
         "24.94489147956228",
         "-0.1564162171271851",
         "-1.0",
         "-1.0",
         "-7.369579029028323",
         "-146.7334000363206",
         "30.201166088648108",
         "43.41330391221053",
         "-7.479014634325314",
         "0.01716752328977389",
         "-4.14549646875947",
         "-3.8504730739981077",
         "0.004288298283511294",
         "-2.6358269760643935",
         "0.6956661522403426",
         "220.7278240028651",
         "213.5020867655353",
         "14.113528320426127",
         "0.03055975090276153",
         "6.344159996852113",
         "0.0170382614387945",
         "0.0181218657777738",
         "0.01873517987855893",
         "1.0338438717241438",
         "41890.54435199427",
         "41904.99582646893",
         "42513.45564800573",
         "42499.00417353107",
         "42749.32277883075",
         "42491.40000000028",
         "42233.47722116981",
         "42771.69651784952",
         "42467.29999999998",
         "42162.90348215044",
         "0.012139999097721843",
         "0.047538993921725704",
         "0.014335571974179756",
         "0.15620500280585567",
         "2024",
         "2",
         "0.09353691870753894",
         "0.1153776394431193",
         "0.0011810711808719948",
         "0.002207391359890219",
         "-0.15007359165621859",
         "0.020542290065364784",
         "0.0106093586024409",
         "0.02062025879157457",
         "0.1338736162733583",
         "0.3282673564423645",
         "1",
         "1",
         "0",
         "1",
         "0",
         "1",
         "1",
         "1",
         "0",
         "0",
         "1",
         "1",
         "0",
         "0",
         "0",
         "1",
         "1",
         "1",
         "0",
         "1",
         "0",
         "1",
         "1",
         "1",
         "1",
         "1",
         "0",
         "1",
         "0",
         "1",
         "0",
         "1",
         "1",
         "1",
         "1",
         "0",
         "1",
         "0",
         "1",
         "1",
         "1",
         "0",
         "0",
         "0",
         "1",
         "1",
         "1",
         "0",
         "1",
         "0",
         "0",
         "0",
         "1",
         "0",
         "1",
         "0",
         "1",
         "1",
         "1",
         "1",
         "0.11108678676971902",
         "0.11435825695396876",
         "0.012817569229985682",
         "0.012826599382430658",
         "1",
         "0.2443423314523097",
         "0.4133200381252756",
         "0.34233763042241483",
         "Bullish",
         "Neutral",
         "0"
        ]
       ],
       "shape": {
        "columns": 154,
        "rows": 5
       }
      },
      "text/html": [
       "<div>\n",
       "<style scoped>\n",
       "    .dataframe tbody tr th:only-of-type {\n",
       "        vertical-align: middle;\n",
       "    }\n",
       "\n",
       "    .dataframe tbody tr th {\n",
       "        vertical-align: top;\n",
       "    }\n",
       "\n",
       "    .dataframe thead th {\n",
       "        text-align: right;\n",
       "    }\n",
       "</style>\n",
       "<table border=\"1\" class=\"dataframe\">\n",
       "  <thead>\n",
       "    <tr style=\"text-align: right;\">\n",
       "      <th></th>\n",
       "      <th>news_count</th>\n",
       "      <th>tanalysis_absa</th>\n",
       "      <th>economy_absa</th>\n",
       "      <th>regulation_absa</th>\n",
       "      <th>technology_absa</th>\n",
       "      <th>adoption_absa</th>\n",
       "      <th>cybersecurity_absa</th>\n",
       "      <th>return_forward</th>\n",
       "      <th>sma_5_20_diff</th>\n",
       "      <th>sma_20_50_diff</th>\n",
       "      <th>...</th>\n",
       "      <th>reddit_total_sentiment_ewm_24h</th>\n",
       "      <th>reddit_average_sentiment_ewm_5h</th>\n",
       "      <th>reddit_average_sentiment_ewm_24h</th>\n",
       "      <th>predicted_class</th>\n",
       "      <th>prob_bearish</th>\n",
       "      <th>prob_neutral</th>\n",
       "      <th>prob_bullish</th>\n",
       "      <th>actual_label</th>\n",
       "      <th>predicted_label</th>\n",
       "      <th>correct_prediction</th>\n",
       "    </tr>\n",
       "  </thead>\n",
       "  <tbody>\n",
       "    <tr>\n",
       "      <th>2024-01-01 00:00:00</th>\n",
       "      <td>0.0</td>\n",
       "      <td>0.000000</td>\n",
       "      <td>0.0</td>\n",
       "      <td>0.000000</td>\n",
       "      <td>0.0</td>\n",
       "      <td>0.000000</td>\n",
       "      <td>0.0</td>\n",
       "      <td>-0.001385</td>\n",
       "      <td>143.55</td>\n",
       "      <td>210.51</td>\n",
       "      <td>...</td>\n",
       "      <td>0.097778</td>\n",
       "      <td>0.003539</td>\n",
       "      <td>0.010173</td>\n",
       "      <td>1</td>\n",
       "      <td>0.255284</td>\n",
       "      <td>0.488118</td>\n",
       "      <td>0.256598</td>\n",
       "      <td>Bearish</td>\n",
       "      <td>Neutral</td>\n",
       "      <td>0</td>\n",
       "    </tr>\n",
       "    <tr>\n",
       "      <th>2024-01-01 01:00:00</th>\n",
       "      <td>1.0</td>\n",
       "      <td>-0.300000</td>\n",
       "      <td>0.0</td>\n",
       "      <td>0.000000</td>\n",
       "      <td>0.0</td>\n",
       "      <td>0.200000</td>\n",
       "      <td>0.0</td>\n",
       "      <td>-0.000729</td>\n",
       "      <td>151.35</td>\n",
       "      <td>210.81</td>\n",
       "      <td>...</td>\n",
       "      <td>0.089956</td>\n",
       "      <td>0.002359</td>\n",
       "      <td>0.009359</td>\n",
       "      <td>1</td>\n",
       "      <td>0.267850</td>\n",
       "      <td>0.475320</td>\n",
       "      <td>0.256830</td>\n",
       "      <td>Neutral</td>\n",
       "      <td>Neutral</td>\n",
       "      <td>1</td>\n",
       "    </tr>\n",
       "    <tr>\n",
       "      <th>2024-01-01 02:00:00</th>\n",
       "      <td>3.0</td>\n",
       "      <td>-0.233333</td>\n",
       "      <td>0.0</td>\n",
       "      <td>-0.066667</td>\n",
       "      <td>0.0</td>\n",
       "      <td>0.333333</td>\n",
       "      <td>0.0</td>\n",
       "      <td>-0.005929</td>\n",
       "      <td>120.60</td>\n",
       "      <td>219.66</td>\n",
       "      <td>...</td>\n",
       "      <td>0.135111</td>\n",
       "      <td>0.028840</td>\n",
       "      <td>0.015154</td>\n",
       "      <td>1</td>\n",
       "      <td>0.267923</td>\n",
       "      <td>0.460432</td>\n",
       "      <td>0.271645</td>\n",
       "      <td>Bearish</td>\n",
       "      <td>Neutral</td>\n",
       "      <td>0</td>\n",
       "    </tr>\n",
       "    <tr>\n",
       "      <th>2024-01-01 03:00:00</th>\n",
       "      <td>4.0</td>\n",
       "      <td>0.250000</td>\n",
       "      <td>0.0</td>\n",
       "      <td>-0.500000</td>\n",
       "      <td>0.0</td>\n",
       "      <td>-0.175000</td>\n",
       "      <td>0.0</td>\n",
       "      <td>0.000095</td>\n",
       "      <td>43.45</td>\n",
       "      <td>223.39</td>\n",
       "      <td>...</td>\n",
       "      <td>0.124302</td>\n",
       "      <td>0.019226</td>\n",
       "      <td>0.013942</td>\n",
       "      <td>1</td>\n",
       "      <td>0.239237</td>\n",
       "      <td>0.392677</td>\n",
       "      <td>0.368086</td>\n",
       "      <td>Neutral</td>\n",
       "      <td>Neutral</td>\n",
       "      <td>1</td>\n",
       "    </tr>\n",
       "    <tr>\n",
       "      <th>2024-01-01 04:00:00</th>\n",
       "      <td>2.0</td>\n",
       "      <td>0.000000</td>\n",
       "      <td>0.0</td>\n",
       "      <td>-0.450000</td>\n",
       "      <td>0.0</td>\n",
       "      <td>0.150000</td>\n",
       "      <td>0.0</td>\n",
       "      <td>0.005017</td>\n",
       "      <td>-37.10</td>\n",
       "      <td>221.12</td>\n",
       "      <td>...</td>\n",
       "      <td>0.114358</td>\n",
       "      <td>0.012818</td>\n",
       "      <td>0.012827</td>\n",
       "      <td>1</td>\n",
       "      <td>0.244342</td>\n",
       "      <td>0.413320</td>\n",
       "      <td>0.342338</td>\n",
       "      <td>Bullish</td>\n",
       "      <td>Neutral</td>\n",
       "      <td>0</td>\n",
       "    </tr>\n",
       "  </tbody>\n",
       "</table>\n",
       "<p>5 rows × 154 columns</p>\n",
       "</div>"
      ],
      "text/plain": [
       "                     news_count  tanalysis_absa  economy_absa  \\\n",
       "2024-01-01 00:00:00         0.0        0.000000           0.0   \n",
       "2024-01-01 01:00:00         1.0       -0.300000           0.0   \n",
       "2024-01-01 02:00:00         3.0       -0.233333           0.0   \n",
       "2024-01-01 03:00:00         4.0        0.250000           0.0   \n",
       "2024-01-01 04:00:00         2.0        0.000000           0.0   \n",
       "\n",
       "                     regulation_absa  technology_absa  adoption_absa  \\\n",
       "2024-01-01 00:00:00         0.000000              0.0       0.000000   \n",
       "2024-01-01 01:00:00         0.000000              0.0       0.200000   \n",
       "2024-01-01 02:00:00        -0.066667              0.0       0.333333   \n",
       "2024-01-01 03:00:00        -0.500000              0.0      -0.175000   \n",
       "2024-01-01 04:00:00        -0.450000              0.0       0.150000   \n",
       "\n",
       "                     cybersecurity_absa  return_forward  sma_5_20_diff  \\\n",
       "2024-01-01 00:00:00                 0.0       -0.001385         143.55   \n",
       "2024-01-01 01:00:00                 0.0       -0.000729         151.35   \n",
       "2024-01-01 02:00:00                 0.0       -0.005929         120.60   \n",
       "2024-01-01 03:00:00                 0.0        0.000095          43.45   \n",
       "2024-01-01 04:00:00                 0.0        0.005017         -37.10   \n",
       "\n",
       "                     sma_20_50_diff  ...  reddit_total_sentiment_ewm_24h  \\\n",
       "2024-01-01 00:00:00          210.51  ...                        0.097778   \n",
       "2024-01-01 01:00:00          210.81  ...                        0.089956   \n",
       "2024-01-01 02:00:00          219.66  ...                        0.135111   \n",
       "2024-01-01 03:00:00          223.39  ...                        0.124302   \n",
       "2024-01-01 04:00:00          221.12  ...                        0.114358   \n",
       "\n",
       "                     reddit_average_sentiment_ewm_5h  \\\n",
       "2024-01-01 00:00:00                         0.003539   \n",
       "2024-01-01 01:00:00                         0.002359   \n",
       "2024-01-01 02:00:00                         0.028840   \n",
       "2024-01-01 03:00:00                         0.019226   \n",
       "2024-01-01 04:00:00                         0.012818   \n",
       "\n",
       "                     reddit_average_sentiment_ewm_24h  predicted_class  \\\n",
       "2024-01-01 00:00:00                          0.010173                1   \n",
       "2024-01-01 01:00:00                          0.009359                1   \n",
       "2024-01-01 02:00:00                          0.015154                1   \n",
       "2024-01-01 03:00:00                          0.013942                1   \n",
       "2024-01-01 04:00:00                          0.012827                1   \n",
       "\n",
       "                     prob_bearish  prob_neutral  prob_bullish  actual_label  \\\n",
       "2024-01-01 00:00:00      0.255284      0.488118      0.256598       Bearish   \n",
       "2024-01-01 01:00:00      0.267850      0.475320      0.256830       Neutral   \n",
       "2024-01-01 02:00:00      0.267923      0.460432      0.271645       Bearish   \n",
       "2024-01-01 03:00:00      0.239237      0.392677      0.368086       Neutral   \n",
       "2024-01-01 04:00:00      0.244342      0.413320      0.342338       Bullish   \n",
       "\n",
       "                     predicted_label  correct_prediction  \n",
       "2024-01-01 00:00:00          Neutral                   0  \n",
       "2024-01-01 01:00:00          Neutral                   1  \n",
       "2024-01-01 02:00:00          Neutral                   0  \n",
       "2024-01-01 03:00:00          Neutral                   1  \n",
       "2024-01-01 04:00:00          Neutral                   0  \n",
       "\n",
       "[5 rows x 154 columns]"
      ]
     },
     "execution_count": 10,
     "metadata": {},
     "output_type": "execute_result"
    }
   ],
   "source": [
    "df_test.head()"
   ]
  },
  {
   "cell_type": "code",
   "execution_count": 11,
   "id": "b5a77c7b",
   "metadata": {},
   "outputs": [
    {
     "name": "stdout",
     "output_type": "stream",
     "text": [
      "Overall Annual Return: 62.94%\n",
      "Overall Annual Sharpe Ratio: 1.3556\n",
      "Maximum Drawdown: -19.0 %\n",
      "Alpha: 0.5017\n",
      "Beta: 0.186\n",
      "\n",
      "Yearly Metrics:\n",
      "   year  yearly_return  yearly_std  yearly_beta  yearly_alpha  yearly_sharpe\n",
      "0  2024       0.629354    0.427637     0.185952      0.406585       1.355553\n"
     ]
    },
    {
     "data": {
      "image/png": "[encoded data removed]",
      "text/plain": [
       "<Figure size 800x400 with 1 Axes>"
      ]
     },
     "metadata": {},
     "output_type": "display_data"
    },
    {
     "data": {
      "image/png": "[encoded data removed]",
      "text/plain": [
       "<Figure size 800x400 with 1 Axes>"
      ]
     },
     "metadata": {},
     "output_type": "display_data"
    }
   ],
   "source": [
    "df_test['signal'] = df_test['predicted_class'] - 1\n",
    "\n",
    "run_backtest(df_test, freq='h')"
   ]
  }
 ],
 "metadata": {
  "kernelspec": {
   "display_name": "myenv",
   "language": "python",
   "name": "python3"
  },
  "language_info": {
   "codemirror_mode": {
    "name": "ipython",
    "version": 3
   },
   "file_extension": ".py",
   "mimetype": "text/x-python",
   "name": "python",
   "nbconvert_exporter": "python",
   "pygments_lexer": "ipython3",
   "version": "3.11.11"
  }
 },
 "nbformat": 4,
 "nbformat_minor": 5
}
