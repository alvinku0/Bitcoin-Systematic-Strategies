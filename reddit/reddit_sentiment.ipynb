{
 "cells": [
  {
   "cell_type": "code",
   "execution_count": null,
   "id": "81eb81d0",
   "metadata": {},
   "outputs": [],
   "source": [
    "# ! pip install vaderSentiment fastparquet spacy textacy pandas"
   ]
  },
  {
   "cell_type": "code",
   "execution_count": 4,
   "id": "0678c7dc",
   "metadata": {},
   "outputs": [],
   "source": [
    "# ! python3 -m spacy download en_core_web_sm"
   ]
  },
  {
   "cell_type": "code",
   "execution_count": null,
   "id": "f95a0584",
   "metadata": {},
   "outputs": [],
   "source": [
    "import pandas as pd\n",
    "import numpy as np\n",
    "\n",
    "from vaderSentiment.vaderSentiment import SentimentIntensityAnalyzer\n",
    "from textacy import preprocessing\n",
    "import spacy\n",
    "\n",
    "from datetime import datetime\n",
    "import json\n",
    "import re\n",
    "from multiprocessing import Pool"
   ]
  },
  {
   "cell_type": "code",
   "execution_count": null,
   "id": "d8e01aa7",
   "metadata": {},
   "outputs": [],
   "source": [
    "nlp = spacy.load(\"en_core_web_sm\")"
   ]
  },
  {
   "cell_type": "code",
   "execution_count": 6,
   "id": "f92f5362",
   "metadata": {},
   "outputs": [
    {
     "data": {
      "application/vnd.microsoft.datawrangler.viewer.v0+json": {
       "columns": [
        {
         "name": "index",
         "rawType": "int64",
         "type": "integer"
        },
        {
         "name": "score",
         "rawType": "int64",
         "type": "integer"
        },
        {
         "name": "time",
         "rawType": "object",
         "type": "string"
        },
        {
         "name": "title",
         "rawType": "object",
         "type": "unknown"
        },
        {
         "name": "author",
         "rawType": "object",
         "type": "string"
        },
        {
         "name": "url",
         "rawType": "object",
         "type": "string"
        },
        {
         "name": "body",
         "rawType": "object",
         "type": "unknown"
        },
        {
         "name": "upvote",
         "rawType": "float64",
         "type": "float"
        },
        {
         "name": "num_comments",
         "rawType": "float64",
         "type": "float"
        }
       ],
       "conversionMethod": "pd.DataFrame",
       "ref": "4613c1e2-ec35-4385-935e-660599e31c91",
       "rows": [
        [
         "0",
         "0",
         "2021-01-01 00:00:08",
         "First Time Saved/ Made Money",
         "u/[deleted]",
         "https://www.reddit.com/r/Bitcoin/comments/ko10pg/first_time_saved_made_money/",
         "[deleted]",
         "0.0",
         "6.0"
        ],
        [
         "1",
         "0",
         "2021-01-01 00:02:58",
         "Btc dip to 20k?",
         "u/randum-guy",
         "https://www.reddit.com/r/Bitcoin/comments/ko12mk/btc_dip_to_20k/",
         "Is it possible for Bitcoin to dip to 20k? My bro thinks it’s gonna go to 30k then dip to 20k. He sells I should sell it and then buy back the dip to accumulate more.",
         "0.0",
         "19.0"
        ],
        [
         "2",
         "119",
         "2021-01-01 00:07:47",
         "BTC just had the monthly and yearly close! 2020 close was at $28,990",
         "u/Mari0805",
         "https://www.reddit.com/r/Bitcoin/comments/ko15jt/btc_just_had_the_monthly_and_yearly_close_2020/",
         "Let's see what 2021 brings us. I predict 2021 will be the year where we will see BTC go over $100k. Not financial advice by the way. #HODL\n\nhttps://preview.redd.it/jfo4kqi84m861.png?width=1256&amp;format=png&amp;auto=webp&amp;s=45ccabb9bd6324906f587205043036c10d1a754b",
         "119.0",
         "29.0"
        ],
        [
         "3",
         "0",
         "2021-01-01 00:10:20",
         "I believe in Bitcoin.",
         "u/[deleted]",
         "https://www.reddit.com/r/Bitcoin/comments/ko171i/i_believe_in_bitcoin/",
         "[deleted]",
         "0.0",
         "5.0"
        ],
        [
         "4",
         "1",
         "2021-01-01 00:12:15",
         "Please help me find a solution with my BTC wallet !!",
         "u/[deleted]",
         "https://www.reddit.com/r/Bitcoin/comments/ko1877/please_help_me_find_a_solution_with_my_btc_wallet/",
         "[deleted]",
         "1.0",
         "28.0"
        ],
        [
         "5",
         "1",
         "2021-01-01 00:15:41",
         "What’s your Buy ceiling?",
         "u/Sillyfiremans",
         "https://www.reddit.com/r/Bitcoin/comments/ko1a6j/whats_your_buy_ceiling/",
         "I tried to make a poll, but they are disabled. Anyway, I thought I would get some other people’s thoughts. At what price do you go from Buy (DCA or LSI) to strictly hodl?",
         "1.0",
         "11.0"
        ],
        [
         "6",
         "41",
         "2021-01-01 00:19:00",
         "Just waiting for a dip...",
         "u/jmr_iv",
         "https://www.reddit.com/r/Bitcoin/comments/ko1c7e/just_waiting_for_a_dip/",
         "The problem facing people that don't own bitcoin - Everyone wants to buy once it starts taking off but no one wants to buy a new all time high.\n\n\"I'm just waiting for a dip\"\n\n\"I'll get in when it cools off some\"\n\n\"Man, you really should've tried harder to convince me earlier this year\"\n\nI'm sure most of you have heard one of these in the past few weeks.\n\nIMO, This bull run we're experiencing is not about how great bitcoin is - but rather how awful the US dollar and other fiat currencies are...\n\nHODL babyyyy",
         "41.0",
         "41.0"
        ],
        [
         "7",
         "0",
         "2021-01-01 00:24:56",
         "WHO IS IN BITCOIN",
         "u/Midaz_Touch",
         "https://www.reddit.com/r/Bitcoin/comments/ko1fqy/who_is_in_bitcoin/",
         "[removed]",
         "0.0",
         "2.0"
        ],
        [
         "8",
         "1",
         "2021-01-01 00:27:42",
         "The ultimate success is happiness and fulfillment",
         "u/Ashrafumar",
         "https://www.reddit.com/r/Bitcoin/comments/ko1hd6/the_ultimate_success_is_happiness_and_fulfillment/",
         "https://i.redd.it/xnkyft2y7m861.jpg",
         null,
         null
        ],
        [
         "9",
         "1",
         "2021-01-01 00:28:12",
         "BTC!",
         "u/[deleted]",
         "https://www.reddit.com/r/Bitcoin/comments/ko1ho2/btc/",
         "https://i.redd.it/dszhz1718m861.jpg",
         null,
         null
        ],
        [
         "10",
         "8",
         "2021-01-01 00:30:24",
         "Noob here: Wanting to invest in BTC, was trying to determine the best way to store it...",
         "u/sheracraft",
         "https://www.reddit.com/r/Bitcoin/comments/ko1j1e/noob_here_wanting_to_invest_in_btc_was_trying_to/",
         "Learning and reading about BTC and wanting to start by investing 1k and storing it on a hardware wallet. Can I make a copy of it on a second one in case something happens to the first hardware wallet? Also, when they say to keep the numbers, do they mean write them down on a literal piece of paper or do you think throwing it on a note in my LastPass vault would be secure? \nAny and all advice would be helpful!!",
         "8.0",
         "11.0"
        ],
        [
         "11",
         "0",
         "2021-01-01 00:34:13",
         "This is my plan to become a millionnaire",
         "u/V_oDA",
         "https://www.reddit.com/r/Bitcoin/comments/ko1l6k/this_is_my_plan_to_become_a_millionnaire/",
         "[removed]",
         "0.0",
         "14.0"
        ],
        [
         "12",
         "1",
         "2021-01-01 00:35:20",
         "Paypal",
         "u/[deleted]",
         "https://www.reddit.com/r/Bitcoin/comments/ko1lsh/paypal/",
         "[removed]",
         "1.0",
         "11.0"
        ],
        [
         "13",
         "1",
         "2021-01-01 00:40:51",
         "BITCOIN INVESTMENT TO EARN DAILY INTEREST",
         "u/support112",
         "https://www.reddit.com/r/Bitcoin/comments/ko1p0a/bitcoin_investment_to_earn_daily_interest/",
         "[removed]",
         "1.0",
         "0.0"
        ],
        [
         "14",
         "1",
         "2021-01-01 00:43:21",
         "Hello hodler, perhaps in 2021 we'll switch the question from Who is Satoshi Nakamoto to when is Satashi Nakamoto?",
         "u/[deleted]",
         "https://www.reddit.com/r/Bitcoin/comments/ko1qff/hello_hodler_perhaps_in_2021_well_switch_the/",
         "https://i.redd.it/uab77k8x9m861.jpg",
         null,
         null
        ],
        [
         "15",
         "22",
         "2021-01-01 00:43:37",
         "best bitcoin wallet?",
         "u/[deleted]",
         "https://www.reddit.com/r/Bitcoin/comments/ko1qla/best_bitcoin_wallet/",
         "[deleted]",
         "22.0",
         "24.0"
        ],
        [
         "16",
         "1",
         "2021-01-01 00:48:22",
         "Hello hodler, perhaps in 2021 we'll switch the question from Who is Satoshi Nakamoto to When is Satoshi Nakamoto?",
         "u/[deleted]",
         "https://www.reddit.com/r/Bitcoin/comments/ko1t75/hello_hodler_perhaps_in_2021_well_switch_the/",
         "https://i.redd.it/sw1c2cscbm861.jpg",
         null,
         null
        ],
        [
         "17",
         "1861",
         "2021-01-01 00:54:10",
         "I bought the ATH in 2011: A decade of HODLing",
         "u/Graphene_Hands",
         "https://www.reddit.com/r/Bitcoin/comments/ko1wk3/i_bought_the_ath_in_2011_a_decade_of_hodling/",
         "There have been a few other long-term HODLers sharing their stories recently and I've greatly enjoyed reading them and reminiscing about Bitcoin's past. Here's my story - I hope it's as entertaining as the others.\n\n\\---\n\nEvery number between 0 cents and the current ATH has been, by definition, the all-time-high at one point. Don't let that prevent you from taking a risk in something you believe in. Extend your time horizon to a decade and lock your coins away.\n\n\\---\n\nI've been a libertarian since I was a teenager. The expanding role of the State is something that I've been worrying about for most of my life. While learning about the immorality of the existence of the State, at some point I learned about monetary policy and how inflation is robbing everyone on an unprecedented scale. I tucked this knowledge away and was determined to figure out a way around it when I started making my own money. (This paragraph is the only one involving political philosophy, go ahead and continue reading)\n\nI first heard of Bitcoin in 2010 on one of the many forums I frequented in my libertarian internet circle. It was an interesting concept to me, but I didn't pursue it at all. Again I tucked this knowledge away for future use.\n\nI heard of it again several months later (2010). This time I decided to try it out. I remember downloading and syncing the reference wallet and using a BTC faucet to send coins to my wallet. I forget exactly how many it was... 5, maybe? That's as far as I went with it though. At some point I deleted the wallet and the downloaded blockchain - probably to make room for a Steam game or something. Those coins are gone.\n\nThat's right - Steam. I have been a gamer for most of my life as well. I owned a powerful graphics card at the time: The Radeon 5970.\n\nThe third time I heard about Bitcoin was in May 2011. I had heard that the price was lifting off and people were making a lot of money from it. This time I decided to dive in and see what I could figure out.\n\nThis was where I fell into the deep rabbit hole of Bitcoin. I remember getting so absorbed in it that I didn't sleep some nights. I was working my day job, going home and learning all that I could about Bitcoin. Learning about how addresses were generated, how wallets worked, how mining worked, how the difficulty adjustment worked, everything that I possibly could.\n\nAfter a week or two of obsessing and reading about Bitcoin, I decided that this was the most important invention since the internet - the most perfect form of money ever created. One of the most ingenious systems ever designed by man - and NO ONE KNOWS ABOUT IT YET.\n\nI can't recall if any other coins existed at the time, but between 2011-2012 I remember other coins like Namecoin, Peercoin, Feathercoin, and some others. I don't hear about any of those other coins these days... besides LTC and XRP, of course.\n\nI decided that I wanted in. I needed to get some Bitcoin. I needed it NOW!! This would be like buying stock in the Internet itself but better - no counterparty risk, and I could be my own bank!\n\nI wasn't making a lot of money at the time, so putting money towards anything discretionary wasn't going to be friendly to my budget. Yes, I owned a badass gaming rig, but that was my only luxury in life. I knew I was going to buy for the long term, so I decided to put aside $500 and go for it. I was going to buy Bitcoin.\n\nAt the time, Mt Gox was the only game in town that I can remember. I don't think BTC-e existed yet, or maybe I just hadn't heard of it.\n\nI signed up for a Gox account and figured out how to fund it. There were a few ways to do this, one of which was another app called Dwolla. So I signed up for Dwolla and got verified. I then deposited my $500 and initiated the ACH transfer to Gox. BTC price at the time: $3.\n\nI had initiated the transfer on a Tuesday evening after work. I was informed that the transfer would arrive at Gox on Friday.\n\nI watched agonizingly as the price climbed hour after hour, day after day. $3.50. $4. $5. $6. I was missing the boat!!! By Thursday evening the price had doubled.\n\nAt work on Friday, I checked my email on my phone practically every five minutes. The transfer didn't go through the entire work day. I had plans with friends that evening - damn it, I was going to have to try and do this on my phone while hanging with my friends?!\n\nI ended up making my first BTC purchase while sitting in a movie theater. I bought 50 Bitcoin for $10 each - during an all-time-high.\n\nI still hodl every one of these coins today.\n\n(The movie, for the curious: X-Men: First Class)\n\nI couldn't stop there, though. The more I learned, the more I had to know. The more I had to DO. That's when I got into GPU mining.\n\nThis was a time before ASICs. I believe GPU mining was relatively new -- before this, miners were only using CPUs (which were in 2011 -- like GPUs in 2020 -- obsolete for SHA256 mining).\n\nThe next day I dove headfirst into Bitcoin mining. I downloaded the software and set up an account on Slush Pool. I ran my 5970 on full blast for a while and went out with some friends. When I got back, my bedroom was noticeably hotter than it was when I left. So that's what I was going to be dealing with? Ok, fine.\n\nI also couldn't play any demanding video games while the miner was running. I'd have to dial the hashrate down, or disable it completely. Ok, I guess I can manage that.\n\nAfter a few days of dealing with that, I decided to buy another 5970. If I got bored of Bitcoin, it would still make The Witcher 2 run better!\n\nAll told, between mining with Slush Pool and BTCGuild for a month, I managed to mine an additional 50BTC that month.\n\nI still hodl every one of these coins today.\n\nOne day, my electric bill came. $350. For my 1BR apartment? That can't be right...\n\nI called up the electric company and told them they double-billed me.\n\n\"Nope, that amount is accurate. That's what you owe for this month. Have a nice day!\"\n\nAnd that was the day I stopped Bitcoin mining.\n\nI had been telling all my friends and gamer friends about Bitcoin the entire time. They laughed at me. I told them they wouldn't be laughing when I was a millionaire.\n\nSoon after, Bitcoin crashed -- HARD. Dropping from $32 at its peak to $2 over the next few months -- one of the largest price drops in its history.\n\nI was dejected. I stopped talking about it with my friends. The gamer communities I was a member of made fun of me relentlessly, trashing Bitcoin every day. News articles celebrating Bitcoin's death popped up everywhere. It was the first major public crash, and I felt all alone.\n\nI uninstalled the Bitcoin price widget from my phone. I moved on with my life and tried to forget about Bitcoin. I left the wallet on my PC, but deleted my copy of the blockchain.\n\nI barely thought about Bitcoin for the next two years. Any time someone brought it up at work or in my friend group, I changed the subject. I was completely demoralized and thought I had fallen for the biggest scam of all time.\n\nAfter this unbearable TWO YEAR period... Bitcoin came back.\n\nOne day I opened r/Bitcoin and saw utter elation all over the front page. What the hell was going on?\n\nBitcoin had surpassed the last all-time-high and was climbing still. $50... $100. And it was still going!!!\n\nI snapped out of my multi-year funk right then and there. Somehow my paper financial loss had clouded my judgment and made me forget about the fundamentals that made me interested in Bitcoin in the first place.\n\n\"Bitcoin was back?\" It had never left. It was still the same decentralized, unforgeable, instantly transferrable miracle asset that I had fallen in love with.\n\nI got back into mining again, but I didn't leave my GPUs running 24/7 like I had before. Eventually, ASICs started coming out and obsoleted GPU miners, so I had to start mining LTC instead and selling them for BTC. I mined on a site called give-me-ltc and did my trades on BTC-e.\n\nEventually I got tired of managing my miners, paying extra for electricity, and dealing with switching stuff around for gaming. I stopped mining again and moved on to other things.\n\nI exited this phase with an additional 30BTC and over 400LTC. I still hodl every one of these coins today.\n\nEventually, BTC hit $1000. I watched this live on [bitcoinity.org](https://bitcoinity.org). I remember this day vividly.\n\nThe graphic shown on bitcoinity for every price point was usually some sort of funny gif - someone dancing, someone acting crazy, someone making a funny face, Mr. Bean watching signposts fly past his car. This time, the gif was different - it was serious.\n\nIt was an astronaut on the moon. A flag was planted behind him bearing the Bitcoin logo.\n\nTears welled up in my eyes. This was significant. Bitcoin was being recognized for what it was - the most perfect form of money ever created.\n\nMy stack was now worth enough to pay off all of my six-figure student loan debt. I had thought that I would be paying this debt off for the rest of my life. Bitcoin meant potential financial freedom to me.\n\nI didn't sell a single satoshi.\n\nOf course, $1000 didn't last, and paying off all my loans with my stack was no longer a possibility. The price did not recover for almost FOUR years -- even longer than the previous crypto winter. During this time I bought a few more coins through Coinbase.\n\nThe 2017 run-up was a blur -- except for one day...\n\nThe day I became a crypto millionaire.\n\nMy family didn't grow up with a ton of money. I never had the latest clothes, toys -- well, anything. We weren't poor, but we scraped by. I didn't have a great education in personal finance.\n\nBeing a crypto millionaire went straight to my head.\n\nDriving to work on that day, I remember thinking I was the most badass person on Earth. Somehow I had managed to manipulate some computer numbers around that were now worth over a million dollars!!\n\nI couldn't help it - I told everyone at work. I was a crypto millionaire. I couldn't shut up about it. I told my family. I told my friends. I told everyone.\n\nI went to the store to grab a few things. Walking the aisles, I couldn't stop thinking about it. \"These people have no idea they're standing next to a MILLIONAIRE.\"\n\nOf course, my crypto millionaire status didn't last long.\n\nThis time, though, I SODL a few coins at the peak. I bought a house and a car.\n\nA month or two later, I was no longer a crypto millionaire.\n\nSeeing the altcoin season was kind of crazy to me. For a few months, you literally could not pick a losing coin. Everyone was a winner. It was sheer insanity. I picked up a few ETH to get some exposure, even though I didn't (and still don't) believe in it long term.\n\nI'm doing pretty well these days. I am numb to any price activity at this point. The last time I bought was the dip down to $4000 in March. I don't know how anyone could have resisted that one.\n\nOther than what I SODL in 2017, I still hodl all of my coins.\n\nYou may be able to see a pattern here. There's always going to be another all-time-high. There's always going to be a crash or a correction. You're probably going to feel stupid more than a handful of times being a HODLer. But eventually these feelings go away.\n\nI have a few more anecdotes and random thoughts to share, so I'll make them bullet points below:\n\n&amp;#x200B;\n\n\\- I held on to my BCH for a while. I will admit that I was TERRIFIED during the flippening. 6-12 months later, I sold them all for BTC.\n\n\\- I immediately sold all my BSV for LTC.\n\n\\- I hold BTC, LTC, and ETH. That's it.\n\n\\- I don't believe in any of these centralized or \"new and improved\" shitcoins. I'm a BTC maximalist through-and-through. The only other coin I'd consider at this point would be Monero. I know almost nothing about it and I haven't done any research on it, so I don't hold any.\n\n&amp;#x200B;\n\nFUNNY\n\n\\- I gave $5 of BTC to a friend in 2013. They forgot about it. I reminded them about it this year. They sold it for $175.\n\n\\- I gave $30 of BTC to a friend in 2013. They sold it in 2017 for $750.\n\n\\- I solo mined IxCoin (literal who?) for a few days because I wanted to feel what it was like to solo mine a block. I did not solo mine a block.\n\n\\- My favorite Bitcoin meme is \"This is gentlemen.\" Why don't people say that anymore?\n\n&amp;#x200B;\n\nREMINISCING\n\n\\- Wallets I used: Bitcoin core -&gt; Armory Offline (airgapped with TAILS) -&gt; Electrum Offline (airgapped with TAILS) -&gt; trezor\n\n\\- Armory was flaky as fuck. I moved on to Electrum after the 20th time Armory failed to sync the blockchain. I remember having to manually export the private keys using some Python script because I couldn't get the wallet synced.\n\n\\- Reddit is too slow for BTC sometimes, so I would go to the BTC-e trollbox to get some realtime action. Now that BTC-e is gone, I typically hang out in /biz/ when Reddit is boring.\n\n&amp;#x200B;\n\nREGRETS\n\n\\- Not buying more. Not mining more.\n\n\\- Not selling BCH for BTC immediately. That one still stings.\n\n\\- Focusing a little too much on paying down debt vs buying more BTC.\n\n\\- Buying precious metals in 2013. What a waste.\n\n\\- Selling in 2017. But, I wanted a house and a car. Regretting taking profit is stupid, but I can't help it.\n\n&amp;#x200B;\n\nTHOUGHTS\n\n\\- I never once tried to convince anyone to buy Bitcoin, despite how much I talked about it. I tried to convince people of the potential and that the Fed was evil, but I never once said, \"You should buy Bitcoin\" to anyone.\n\n\\- I see another 10x for BTC. Just buy BTC. Don't buy anything else. Just buy BTC and fucking HODL.\n\n\\- HODL through these crashes. They make you stronger. After a few of them, nothing will faze you. Be a fucking man and HODL on to your coins!!!!!\n\n\\- People just don't understand the network effect of the BTC protocol. No one cares that another coin has better features. No one cares that there are better internet protocols. They use what has the most infrastructure and support. Don't fall for these shitcoins.\n\n\\- People don't understand the layering concept. Increasing blocksize simply isn't the solution to scaling Bitcoin - second layer and beyond is the solution.\n\n\\- Taxation is theft.\n\n&amp;#x200B;\n\nHopefully this was at least mildly entertaining.\n\nHappy New Year!!!!!\n\n&amp;#x200B;\n\nEdit 1: Lots of comments about \"taxation is theft\" - some genuine, some not. If you're open minded and want to learn more, check out these short videos: [https://blog.georgeoughttohelp.com/george-ought-to-help/](https://blog.georgeoughttohelp.com/george-ought-to-help/)\n\nEdit 2: My thoughts on Ethereum: [https://www.reddit.com/r/Bitcoin/comments/ko1wk3/i\\_bought\\_the\\_ath\\_in\\_2011\\_a\\_decade\\_of\\_hodling/ghopkjj?utm\\_source=share&amp;utm\\_medium=web2x&amp;context=3](https://www.reddit.com/r/Bitcoin/comments/ko1wk3/i_bought_the_ath_in_2011_a_decade_of_hodling/ghopkjj?utm_source=share&amp;utm_medium=web2x&amp;context=3)",
         "1861.0",
         "371.0"
        ],
        [
         "18",
         "1",
         "2021-01-01 00:56:55",
         "2020 was the worst...🤣😂🥳",
         "u/[deleted]",
         "https://www.reddit.com/r/Bitcoin/comments/ko1y38/2020_was_the_worst/",
         "https://i.redd.it/v2szs9u5dm861.jpg",
         null,
         null
        ],
        [
         "19",
         "1",
         "2021-01-01 01:01:11",
         "My mum sent me a picture last night...",
         "u/shimshimmash",
         "https://www.reddit.com/r/Bitcoin/comments/ko20lo/my_mum_sent_me_a_picture_last_night/",
         "https://i.redd.it/0b5qwldrdm861.jpg",
         null,
         null
        ],
        [
         "20",
         "1",
         "2021-01-01 01:02:07",
         "If you think about it, our style of investing is more like mountain goats or lemmings",
         "u/[deleted]",
         "https://www.reddit.com/r/Bitcoin/comments/ko215e/if_you_think_about_it_our_style_of_investing_is/",
         "https://i.redd.it/h8pdgik2em861.png",
         null,
         null
        ],
        [
         "21",
         "0",
         "2021-01-01 01:05:11",
         "Is the Ledger Nano S good enough or is the Nano X worth the extra money?",
         "u/[deleted]",
         "https://www.reddit.com/r/Bitcoin/comments/ko2301/is_the_ledger_nano_s_good_enough_or_is_the_nano_x/",
         "[deleted]",
         "0.0",
         "6.0"
        ],
        [
         "22",
         "0",
         "2021-01-01 01:06:06",
         "BTC $30k",
         "u/Noah_saav",
         "https://www.reddit.com/r/Bitcoin/comments/ko23js/btc_30k/",
         "[removed]",
         "0.0",
         "9.0"
        ],
        [
         "23",
         "1",
         "2021-01-01 01:11:53",
         "BEST NEW YEAR EVER!!",
         "u/MemeProtocol",
         "https://www.reddit.com/r/Bitcoin/comments/ko26tc/best_new_year_ever/",
         "HLOD ON",
         "1.0",
         "1.0"
        ],
        [
         "24",
         "1",
         "2021-01-01 01:11:55",
         "Mortgage Question",
         "u/[deleted]",
         "https://www.reddit.com/r/Bitcoin/comments/ko26ty/mortgage_question/",
         "[deleted]",
         "1.0",
         "8.0"
        ],
        [
         "25",
         "311",
         "2021-01-01 01:13:50",
         "Bitcoin vs Other Assets 2020",
         "u/BITCOINMOVIECLIPS",
         "https://www.reddit.com/r/Bitcoin/comments/ko27ww/bitcoin_vs_other_assets_2020/",
         "https://v.redd.it/wse6bj7xfm861",
         null,
         null
        ],
        [
         "26",
         "0",
         "2021-01-01 01:14:03",
         "KOHO Rules - Best Card 2021",
         "u/Khooolio",
         "https://www.reddit.com/r/Bitcoin/comments/ko280y/koho_rules_best_card_2021/",
         "Let me just say this I’ve use a lot of prepaid credit cards for a lot of different reasons and most of them come up short in terms of being able to do certain things major credit cards do like renting a hotel room, a car or even gambling  online. Imho, all of them just became obsolete thanks to KOHO.\n\nI found the holy grail of prepaid cards and if you played hockey in the 80’s and 90’s, you’ll ask yourself what tempted them to get out of the stick business and into micro-finance.  \n\nThe app is amazing; you could accept a portion of your payroll directly to the card and if you’re in a real tight squeeze, they’ll even lend you 100 bucks !!!!!  You can even e-transfer to load it, INSTANTLY!!!!I The app is full of features to help save money and even comes with a cute little vault so you can squirrel-away a rainy day!\n\nNo more going to the corner store and inputting receipt codes! No more paying five dollars for a single transaction and the app they have will knock your socks off until next Tuesday!!!\n\nThey have a contest going on right now and if you use my referral code,  I might win a ton of money!!! For you frequent travellers out there, they even give you 6% cash-back on booking.com!!!!\n\nIf you’re Canadian you know what an E transfer is and the ability to top up your account with a \nstate—the-art app like this blows any other competition right out of the water.\n\nUse my referral code and get in on this. They even send the card out free. Trust me when I say you’ll be very happy with the results and I’m extremely impressed and will be using KOHO from here on out for all my dirty little deeds :-D\n\nDownload the app and check it out !!\n\nhttps://web.koho.ca/referral/4FRPT7J3\n\nYou can use my code to sign up and start stacking your cashback options. Your welcome!!\n\n4FRPT7J3",
         "0.0",
         "2.0"
        ],
        [
         "27",
         "4",
         "2021-01-01 01:14:13",
         "Back in",
         "u/andrewmcm7",
         "https://www.reddit.com/r/Bitcoin/comments/ko2845/back_in/",
         "[removed]",
         "4.0",
         "9.0"
        ],
        [
         "28",
         "1",
         "2021-01-01 01:16:28",
         "Gemini pro vs Coinbase pro?",
         "u/[deleted]",
         "https://www.reddit.com/r/Bitcoin/comments/ko29bu/gemini_pro_vs_coinbase_pro/",
         "[deleted]",
         "1.0",
         "4.0"
        ],
        [
         "29",
         "1",
         "2021-01-01 01:17:23",
         "is diversifying even worth it?",
         "u/oli9444",
         "https://www.reddit.com/r/Bitcoin/comments/ko29uo/is_diversifying_even_worth_it/",
         "[removed]",
         "1.0",
         "0.0"
        ],
        [
         "30",
         "1",
         "2021-01-01 01:19:36",
         "Pokemon Go Hack Android/iOS ✅ Pokemon Go Spoofing Joystick GPS &amp; Telepor...",
         "u/lupluplupdeulup",
         "https://www.reddit.com/r/Bitcoin/comments/ko2b1a/pokemon_go_hack_androidios_pokemon_go_spoofing/",
         "https://youtube.com/watch?v=3hrzOD9ADFg&amp;feature=share",
         null,
         null
        ],
        [
         "31",
         "10",
         "2021-01-01 01:19:47",
         "For the last 2-days I've donated my gains",
         "u/TotalConfetti",
         "https://www.reddit.com/r/Bitcoin/comments/ko2b4x/for_the_last_2days_ive_donated_my_gains/",
         "Not a brag at all - I'm a very small Bitcoin holder, but for the past two days I've taken the increases my holdings have made and donated them to local charities. I made the donations from my credit card, so I still have all my bitcoin- but those last two days of increases went somewhere good. I'm not ready to cash out yet- but I've paid those \"profits\" forward.\n\nI encourage all of you to consider doing the same. A lambo is nice- but you don't have to wait that long to start feeling good about the imaginary money our weird internet currency is generating right now.",
         "10.0",
         "8.0"
        ],
        [
         "32",
         "3",
         "2021-01-01 01:19:59",
         "If I take my btc off Coinbase now, will the new FinCEN regulations result in them having my information to my wallet?",
         "u/broadenandbuild",
         "https://www.reddit.com/r/Bitcoin/comments/ko2b8b/if_i_take_my_btc_off_coinbase_now_will_the_new/",
         "I have a bit of btc on Coinbase in a Coinbase wallet. I don’t really trust those ledger or Trezor devices but am considering getting one as a result of this FinCEN stuff. Any advice as to whether I’m okay keeping my btc on Coinbase? If not what’s the recommend device to store Bitcoin on?",
         "3.0",
         "9.0"
        ],
        [
         "33",
         "12",
         "2021-01-01 01:23:35",
         "There will not be a dip. Stop waiting to buy.",
         "u/testiclespectacles2",
         "https://www.reddit.com/r/Bitcoin/comments/ko2d73/there_will_not_be_a_dip_stop_waiting_to_buy/",
         null,
         "12.0",
         "17.0"
        ],
        [
         "34",
         "0",
         "2021-01-01 01:28:36",
         "People say Bitcoin in not a store of value. They are absolutely right, it is not. Bitcoin is enhancement of value. “Store of value” theory is obsolete. Bitcoin is value REDEFINED.",
         "u/WorldSpark",
         "https://www.reddit.com/r/Bitcoin/comments/ko2fv2/people_say_bitcoin_in_not_a_store_of_value_they/",
         null,
         "0.0",
         "4.0"
        ],
        [
         "35",
         "1",
         "2021-01-01 01:28:52",
         "2020 was the worst...🤣😂🥳",
         "u/[deleted]",
         "https://www.reddit.com/r/Bitcoin/comments/ko2g01/2020_was_the_worst/",
         "https://i.redd.it/xnski81vim861.jpg",
         null,
         null
        ],
        [
         "36",
         "2",
         "2021-01-01 01:28:55",
         "Help needed with strange mnemonic recovery seed !",
         "u/Frednn",
         "https://www.reddit.com/r/Bitcoin/comments/ko2g11/help_needed_with_strange_mnemonic_recovery_seed/",
         "Hello people of r/bitcoin !  \n\n\nI'm helping a friend restore a probable wallet of his deceased brother. He said his brother mentioned bitcoin a number of times. this goes back more than 5 years from now.\n\n&amp;#x200B;\n\nMy friend didn't think anything about it, but with the recent spike in the price, he said he couldn't close his eyes on it anymore. it could be a small fortune.\n\n&amp;#x200B;\n\nI tried to help him, we went through everything that was left from him. the only thing of interest we found was a text file on a usb thumb drive. \n\n&amp;#x200B;\n\nthere is only a 12 word phrase in that file, with no mention of any wallet name or version, or any specific web wallet service.\n\n&amp;#x200B;\n\nI myself am familiar with mnemonic phrases and how wallets and addresses are created. but there is something strange about this one.\n\n&amp;#x200B;\n\nall the words should be on the bip39 standard word list, right ?   \n\n\n[https://github.com/bitcoin/bips/blob/master/bip-0039/english.txt](https://github.com/bitcoin/bips/blob/master/bip-0039/english.txt)\n\n&amp;#x200B;\n\nall of them are, except 2. both are English words, but are not on that list.\n\n&amp;#x200B;\n\nI kept searching online, and i discovered there is another list that Electrum used before version 2.0:\n\n&amp;#x200B;\n\n[https://github.com/spesmilo/electrum/blob/1.9.8/lib/mnemonic.py](https://github.com/spesmilo/electrum/blob/1.9.8/lib/mnemonic.py)\n\n&amp;#x200B;\n\nthis is where things get a little odd. those 2 words that were not on the bip39 list, they ARE in the latter electrum 1.8 list.\n\n&amp;#x200B;\n\nI thought \" hey, this is an old Electrum seed !\" \n\n&amp;#x200B;\n\nbut no ... there are 4 words in the seed that are NOT on the Electrum 1.8 word list. those 4 words ARE in the bip39 wordlist\n\n&amp;#x200B;\n\n&amp;#x200B;\n\nTLDR; 12 word mnemonic seed, 10 are on bip39 wordlist, 8 are on Electrum 1.8 wordlist.\n\n2 are not on bip39 wordlist, 4 are not on electrum 1.8 wordlist.\n\n&amp;#x200B;\n\nit seems like this seed belongs to the neither of those lists.\n\n&amp;#x200B;\n\nI have tried to help people on this sub with their wallets and seeds as much as i could. I thought I knew my way around wallets, but now I'm baffled by this !\n\n&amp;#x200B;\n\nHis brother passed away about 4 years ago. the way he tells, this wallet could be more than 6 years old. there could be a sizable chunk in there. \n\n&amp;#x200B;\n\nI'm sure if i can crack this, my friend will be passing some to me as a thank you, and i won't forget anyone who helps me crack this mystery !\n\n&amp;#x200B;\n\nthank you ! stay amazing !",
         "2.0",
         "37.0"
        ],
        [
         "37",
         "1",
         "2021-01-01 01:32:09",
         "Bitcoin - All Time High: Jan 1, 2021. Great start of the New Year!",
         "u/tcherkin",
         "https://www.reddit.com/r/Bitcoin/comments/ko2hqf/bitcoin_all_time_high_jan_1_2021_great_start_of/",
         "https://i.redd.it/pffkq02gjm861.jpg",
         null,
         null
        ],
        [
         "38",
         "16",
         "2021-01-01 01:33:26",
         "C'mon bitcoin",
         "u/TheWonderCheeses",
         "https://www.reddit.com/r/Bitcoin/comments/ko2ien/cmon_bitcoin/",
         null,
         "16.0",
         "21.0"
        ],
        [
         "39",
         "1",
         "2021-01-01 01:34:51",
         "While the average normie enjoying the New Years posting in social media on how bad their year was, we out here (hopefully) breaking $30k 😁😁😁",
         "u/-DunDin-",
         "https://www.reddit.com/r/Bitcoin/comments/ko2j5f/while_the_average_normie_enjoying_the_new_years/",
         "https://i.imgur.com/Zd9fKrj.jpg",
         null,
         null
        ],
        [
         "40",
         "18",
         "2021-01-01 01:35:47",
         "$7 Billion “Lost” and HODLed Bitcoin Found Since Start of Bull Run - Decrypt",
         "u/_BlockBot_",
         "https://www.reddit.com/r/Bitcoin/comments/ko2jnv/7_billion_lost_and_hodled_bitcoin_found_since/",
         "https://decrypt.co/52980/amount-of-lost-bitcoin-hits-8-month-low",
         null,
         null
        ],
        [
         "41",
         "4",
         "2021-01-01 01:35:49",
         "Importing paper wallet help",
         "u/thegreathulk",
         "https://www.reddit.com/r/Bitcoin/comments/ko2joc/importing_paper_wallet_help/",
         "In USA\n\nCurious can you still import paper wallets on blockchain.com  and send them to another exchange or do you need to get verified? Is there a sending limit as well? I haven't used them in a while\n\nI'm a noob",
         "4.0",
         "41.0"
        ],
        [
         "42",
         "4",
         "2021-01-01 01:38:39",
         "Is the Cold Card mark 1 still worth using?",
         "u/[deleted]",
         "https://www.reddit.com/r/Bitcoin/comments/ko2l6u/is_the_cold_card_mark_1_still_worth_using/",
         "[deleted]",
         "4.0",
         "5.0"
        ],
        [
         "43",
         "5",
         "2021-01-01 01:41:24",
         "Will the the stock market suffer from massive Bitcoin investing over the coming years?",
         "u/[deleted]",
         "https://www.reddit.com/r/Bitcoin/comments/ko2mo0/will_the_the_stock_market_suffer_from_massive/",
         "[deleted]",
         "5.0",
         "13.0"
        ],
        [
         "44",
         "19",
         "2021-01-01 01:42:32",
         "HAPPY F**KING BITCOIN YEAR 2021 !!",
         "u/Armyvet2019_Qatar",
         "https://www.reddit.com/r/Bitcoin/comments/ko2na9/happy_fking_bitcoin_year_2021/",
         "It's ain't new year anymore, it's gonna be BITCOIN year from hear on :)",
         "19.0",
         "2.0"
        ],
        [
         "45",
         "1",
         "2021-01-01 01:44:53",
         "Close, but no cigar! Here are 2020’s worst Bitcoin price predictions",
         "u/_BlockBot_",
         "https://www.reddit.com/r/Bitcoin/comments/ko2onk/close_but_no_cigar_here_are_2020s_worst_bitcoin/",
         "https://cointelegraph.com/news/close-but-no-cigar-here-are-2020-s-worst-bitcoin-price-predictions",
         null,
         null
        ],
        [
         "46",
         "1",
         "2021-01-01 01:44:55",
         "WE ARE MOONING 🚀🚀🚀 new ATH 🌕",
         "u/[deleted]",
         "https://www.reddit.com/r/Bitcoin/comments/ko2onw/we_are_mooning_new_ath/",
         "https://i.redd.it/qpfx2s3qlm861.jpg",
         null,
         null
        ],
        [
         "47",
         "18",
         "2021-01-01 01:45:57",
         "Just bought more at 29,400",
         "u/Former_Two_5253",
         "https://www.reddit.com/r/Bitcoin/comments/ko2p7w/just_bought_more_at_29400/",
         "Should I not be buying at all time highs? We will see how this post ages.",
         "18.0",
         "15.0"
        ],
        [
         "48",
         "0",
         "2021-01-01 01:47:18",
         "BITCOIN is NIBS (Not in Books Stupid). Bitcoin is an asset that has put max no of economist, financial experts, noble laureates,wall streeters to shame. It has proven most of them wrong -big time- again and again. High profile Financial degrees are highly over-rated.",
         "u/WorldSpark",
         "https://www.reddit.com/r/Bitcoin/comments/ko2py6/bitcoin_is_nibs_not_in_books_stupid_bitcoin_is_an/",
         "They are still looking in books to define it, too old school. Bitcoin is NIBS( not in books stupid).",
         "0.0",
         "2.0"
        ],
        [
         "49",
         "4",
         "2021-01-01 01:52:51",
         "FinCEN's comment deadline happens to be on Bitcoin's exact 12th anniversary",
         "u/Adamsimecka",
         "https://www.reddit.com/r/Bitcoin/comments/ko2t00/fincens_comment_deadline_happens_to_be_on/",
         "Is it ironic that FinCEN's attempted regulation (last day of public comment) happens on Bitcoin's birthday, January 3rd? Coincidence?",
         "4.0",
         "1.0"
        ]
       ],
       "shape": {
        "columns": 8,
        "rows": 387276
       }
      },
      "text/html": [
       "<div>\n",
       "<style scoped>\n",
       "    .dataframe tbody tr th:only-of-type {\n",
       "        vertical-align: middle;\n",
       "    }\n",
       "\n",
       "    .dataframe tbody tr th {\n",
       "        vertical-align: top;\n",
       "    }\n",
       "\n",
       "    .dataframe thead th {\n",
       "        text-align: right;\n",
       "    }\n",
       "</style>\n",
       "<table border=\"1\" class=\"dataframe\">\n",
       "  <thead>\n",
       "    <tr style=\"text-align: right;\">\n",
       "      <th></th>\n",
       "      <th>score</th>\n",
       "      <th>time</th>\n",
       "      <th>title</th>\n",
       "      <th>author</th>\n",
       "      <th>url</th>\n",
       "      <th>body</th>\n",
       "      <th>upvote</th>\n",
       "      <th>num_comments</th>\n",
       "    </tr>\n",
       "  </thead>\n",
       "  <tbody>\n",
       "    <tr>\n",
       "      <th>0</th>\n",
       "      <td>0</td>\n",
       "      <td>2021-01-01 00:00:08</td>\n",
       "      <td>First Time Saved/ Made Money</td>\n",
       "      <td>u/[deleted]</td>\n",
       "      <td>https://www.reddit.com/r/Bitcoin/comments/ko10...</td>\n",
       "      <td>[deleted]</td>\n",
       "      <td>0.0</td>\n",
       "      <td>6.0</td>\n",
       "    </tr>\n",
       "    <tr>\n",
       "      <th>1</th>\n",
       "      <td>0</td>\n",
       "      <td>2021-01-01 00:02:58</td>\n",
       "      <td>Btc dip to 20k?</td>\n",
       "      <td>u/randum-guy</td>\n",
       "      <td>https://www.reddit.com/r/Bitcoin/comments/ko12...</td>\n",
       "      <td>Is it possible for Bitcoin to dip to 20k? My b...</td>\n",
       "      <td>0.0</td>\n",
       "      <td>19.0</td>\n",
       "    </tr>\n",
       "    <tr>\n",
       "      <th>2</th>\n",
       "      <td>119</td>\n",
       "      <td>2021-01-01 00:07:47</td>\n",
       "      <td>BTC just had the monthly and yearly close! 202...</td>\n",
       "      <td>u/Mari0805</td>\n",
       "      <td>https://www.reddit.com/r/Bitcoin/comments/ko15...</td>\n",
       "      <td>Let's see what 2021 brings us. I predict 2021 ...</td>\n",
       "      <td>119.0</td>\n",
       "      <td>29.0</td>\n",
       "    </tr>\n",
       "    <tr>\n",
       "      <th>3</th>\n",
       "      <td>0</td>\n",
       "      <td>2021-01-01 00:10:20</td>\n",
       "      <td>I believe in Bitcoin.</td>\n",
       "      <td>u/[deleted]</td>\n",
       "      <td>https://www.reddit.com/r/Bitcoin/comments/ko17...</td>\n",
       "      <td>[deleted]</td>\n",
       "      <td>0.0</td>\n",
       "      <td>5.0</td>\n",
       "    </tr>\n",
       "    <tr>\n",
       "      <th>4</th>\n",
       "      <td>1</td>\n",
       "      <td>2021-01-01 00:12:15</td>\n",
       "      <td>Please help me find a solution with my BTC wal...</td>\n",
       "      <td>u/[deleted]</td>\n",
       "      <td>https://www.reddit.com/r/Bitcoin/comments/ko18...</td>\n",
       "      <td>[deleted]</td>\n",
       "      <td>1.0</td>\n",
       "      <td>28.0</td>\n",
       "    </tr>\n",
       "    <tr>\n",
       "      <th>...</th>\n",
       "      <td>...</td>\n",
       "      <td>...</td>\n",
       "      <td>...</td>\n",
       "      <td>...</td>\n",
       "      <td>...</td>\n",
       "      <td>...</td>\n",
       "      <td>...</td>\n",
       "      <td>...</td>\n",
       "    </tr>\n",
       "    <tr>\n",
       "      <th>387271</th>\n",
       "      <td>1</td>\n",
       "      <td>2024-12-31 23:42:29</td>\n",
       "      <td>BTC Noob Here Looking for a Pep Talk</td>\n",
       "      <td>u/ExplorerNo3464</td>\n",
       "      <td>https://www.reddit.com/r/Bitcoin/comments/1hqq...</td>\n",
       "      <td>Never really considered crypto as an investmen...</td>\n",
       "      <td>1.0</td>\n",
       "      <td>13.0</td>\n",
       "    </tr>\n",
       "    <tr>\n",
       "      <th>387272</th>\n",
       "      <td>1</td>\n",
       "      <td>2024-12-31 23:47:15</td>\n",
       "      <td>Why can't I find a consistent All Time High li...</td>\n",
       "      <td>u/broccolihead</td>\n",
       "      <td>https://www.reddit.com/r/Bitcoin/comments/1hqr...</td>\n",
       "      <td>My title sums up my question.  Why can't I fin...</td>\n",
       "      <td>1.0</td>\n",
       "      <td>5.0</td>\n",
       "    </tr>\n",
       "    <tr>\n",
       "      <th>387273</th>\n",
       "      <td>2</td>\n",
       "      <td>2024-12-31 23:49:33</td>\n",
       "      <td>Bitcoin node</td>\n",
       "      <td>u/woreoutmachinist</td>\n",
       "      <td>https://www.reddit.com/r/Bitcoin/comments/1hqr...</td>\n",
       "      <td>So I am running a node. I have one issue.  I f...</td>\n",
       "      <td>2.0</td>\n",
       "      <td>9.0</td>\n",
       "    </tr>\n",
       "    <tr>\n",
       "      <th>387274</th>\n",
       "      <td>1</td>\n",
       "      <td>2024-12-31 23:57:17</td>\n",
       "      <td>I need your opinion</td>\n",
       "      <td>u/SupremeLuis_</td>\n",
       "      <td>https://www.reddit.com/r/Bitcoin/comments/1hqr...</td>\n",
       "      <td>If you had to sell your Bitcoin to max out you...</td>\n",
       "      <td>1.0</td>\n",
       "      <td>6.0</td>\n",
       "    </tr>\n",
       "    <tr>\n",
       "      <th>387275</th>\n",
       "      <td>1</td>\n",
       "      <td>2024-12-31 23:59:44</td>\n",
       "      <td>There Must Be A Lost Book</td>\n",
       "      <td>u/Rare_One_07</td>\n",
       "      <td>https://www.reddit.com/r/Bitcoin/comments/1hqr...</td>\n",
       "      <td>[removed]</td>\n",
       "      <td>1.0</td>\n",
       "      <td>0.0</td>\n",
       "    </tr>\n",
       "  </tbody>\n",
       "</table>\n",
       "<p>387276 rows × 8 columns</p>\n",
       "</div>"
      ],
      "text/plain": [
       "        score                 time  \\\n",
       "0           0  2021-01-01 00:00:08   \n",
       "1           0  2021-01-01 00:02:58   \n",
       "2         119  2021-01-01 00:07:47   \n",
       "3           0  2021-01-01 00:10:20   \n",
       "4           1  2021-01-01 00:12:15   \n",
       "...       ...                  ...   \n",
       "387271      1  2024-12-31 23:42:29   \n",
       "387272      1  2024-12-31 23:47:15   \n",
       "387273      2  2024-12-31 23:49:33   \n",
       "387274      1  2024-12-31 23:57:17   \n",
       "387275      1  2024-12-31 23:59:44   \n",
       "\n",
       "                                                    title              author  \\\n",
       "0                            First Time Saved/ Made Money         u/[deleted]   \n",
       "1                                         Btc dip to 20k?        u/randum-guy   \n",
       "2       BTC just had the monthly and yearly close! 202...          u/Mari0805   \n",
       "3                                   I believe in Bitcoin.         u/[deleted]   \n",
       "4       Please help me find a solution with my BTC wal...         u/[deleted]   \n",
       "...                                                   ...                 ...   \n",
       "387271               BTC Noob Here Looking for a Pep Talk    u/ExplorerNo3464   \n",
       "387272  Why can't I find a consistent All Time High li...      u/broccolihead   \n",
       "387273                                       Bitcoin node  u/woreoutmachinist   \n",
       "387274                                I need your opinion      u/SupremeLuis_   \n",
       "387275                          There Must Be A Lost Book       u/Rare_One_07   \n",
       "\n",
       "                                                      url  \\\n",
       "0       https://www.reddit.com/r/Bitcoin/comments/ko10...   \n",
       "1       https://www.reddit.com/r/Bitcoin/comments/ko12...   \n",
       "2       https://www.reddit.com/r/Bitcoin/comments/ko15...   \n",
       "3       https://www.reddit.com/r/Bitcoin/comments/ko17...   \n",
       "4       https://www.reddit.com/r/Bitcoin/comments/ko18...   \n",
       "...                                                   ...   \n",
       "387271  https://www.reddit.com/r/Bitcoin/comments/1hqq...   \n",
       "387272  https://www.reddit.com/r/Bitcoin/comments/1hqr...   \n",
       "387273  https://www.reddit.com/r/Bitcoin/comments/1hqr...   \n",
       "387274  https://www.reddit.com/r/Bitcoin/comments/1hqr...   \n",
       "387275  https://www.reddit.com/r/Bitcoin/comments/1hqr...   \n",
       "\n",
       "                                                     body  upvote  \\\n",
       "0                                               [deleted]     0.0   \n",
       "1       Is it possible for Bitcoin to dip to 20k? My b...     0.0   \n",
       "2       Let's see what 2021 brings us. I predict 2021 ...   119.0   \n",
       "3                                               [deleted]     0.0   \n",
       "4                                               [deleted]     1.0   \n",
       "...                                                   ...     ...   \n",
       "387271  Never really considered crypto as an investmen...     1.0   \n",
       "387272  My title sums up my question.  Why can't I fin...     1.0   \n",
       "387273  So I am running a node. I have one issue.  I f...     2.0   \n",
       "387274  If you had to sell your Bitcoin to max out you...     1.0   \n",
       "387275                                          [removed]     1.0   \n",
       "\n",
       "        num_comments  \n",
       "0                6.0  \n",
       "1               19.0  \n",
       "2               29.0  \n",
       "3                5.0  \n",
       "4               28.0  \n",
       "...              ...  \n",
       "387271          13.0  \n",
       "387272           5.0  \n",
       "387273           9.0  \n",
       "387274           6.0  \n",
       "387275           0.0  \n",
       "\n",
       "[387276 rows x 8 columns]"
      ]
     },
     "execution_count": 6,
     "metadata": {},
     "output_type": "execute_result"
    }
   ],
   "source": [
    "data = pd.read_csv(\"./Reddit_scripts/filtered_reddit.csv\")\n",
    "reddit_data = data.to_parquet(\"./reddit_hour_raw.parquet.gzip\")\n",
    "data"
   ]
  },
  {
   "cell_type": "code",
   "execution_count": 7,
   "id": "744acca8",
   "metadata": {},
   "outputs": [],
   "source": [
    "## Preprocessing\n",
    "def text_preprocessing(text):\n",
    "    text = re.sub(r'http\\S+|www\\S+|https\\S+', '', text, flags=re.MULTILINE)\n",
    "    text = re.sub(r'www\\S+', '', text, flags=re.MULTILINE)\n",
    "    text = preprocessing.normalize.unicode(text, form=\"NFKD\")\n",
    "\n",
    "    # Standardize quotation marks and dashes\n",
    "    text = preprocessing.normalize.quotation_marks(text)\n",
    "    text = preprocessing.normalize.hyphenated_words(text)\n",
    "\n",
    "    # # Convert to ASCII (removes non-ASCII characters)\n",
    "    # text = preprocessing.remove.accents(text)\n",
    "    doc = nlp(text)\n",
    "\n",
    "    tokens = [token.text for token in doc]\n",
    "    return tokens"
   ]
  },
  {
   "cell_type": "code",
   "execution_count": null,
   "id": "68ce5872",
   "metadata": {},
   "outputs": [],
   "source": [
    "REDDIT_PATH = \"./reddit_hour_raw.parquet.gzip\""
   ]
  },
  {
   "cell_type": "code",
   "execution_count": 27,
   "id": "5982ba21",
   "metadata": {},
   "outputs": [],
   "source": [
    "''''\n",
    "reddit data:\n",
    "\"index\": int,\"date\": str, \"title\": str,\"author\": str,\"link\": str, \"content\": str,\n",
    "\n",
    "twitter:\n",
    "\"user_name\": str,\"user_location\": str, \"date\": str,\"text\": str ,\"hashtags\": str\n",
    "'''\n",
    "\n",
    "sentiment_analyzer = SentimentIntensityAnalyzer()\n",
    "\n",
    "def parquet_to_df(file_path):\n",
    "    df = pd.read_parquet(file_path, engine='pyarrow')\n",
    "    return df\n",
    "\n",
    "def df_to_parquet(df,name):\n",
    "    parquet = df.to_parquet(f'{name}.parquet.gzip',compression='gzip')\n",
    "\n",
    "def getSentiment(text):\n",
    "    return sentiment_analyzer.polarity_scores(text)['compound']\n",
    "\n",
    "def vader_sentimentscore(df,media,flag):\n",
    "\n",
    "    if media == \"reddit\":\n",
    "        df['body'] = df['body'].replace(np.nan, '', regex=True)\n",
    "        df['title'] = df['title'].replace(np.nan, '', regex=True)\n",
    "\n",
    "        df[\"text_data\"] = df[\"title\"] + df[\"body\"]\n",
    "        if flag:\n",
    "          with Pool() as pool:\n",
    "            df['text_data'] = pool.map(text_preprocessing, df['text_data'])\n",
    "\n",
    "        with Pool() as pool:\n",
    "            df['sentiment'] = pool.map(getSentiment, df['text_data'])\n",
    "\n",
    "        # df['sentiment'] = df['text_data'].apply(lambda x: sentiment_analyzer.polarity_scores(x)['compound'])\n",
    "        print(f\"Vader Overall Sentiment score for Reddit has been calculated\")\n",
    "    elif media == \"twitter\":\n",
    "        if flag:\n",
    "          with Pool() as pool:\n",
    "            df['text_data'] = pool.map(text_preprocessing, df['text'])\n",
    "\n",
    "        with Pool() as pool:\n",
    "            df['sentiment'] = pool.map(getSentiment, df['text'])\n",
    "        print(f\"Vader Overall Sentiment score for Twitter has been calculated\")\n",
    "    return df\n",
    "\n",
    "def reduce_to_date(value):\n",
    "    return value.date()\n",
    "\n",
    "\n",
    "def groupby_hour(df):\n",
    "    # Create a new DataFrame with the hour extracted from the 'time' column\n",
    "    new_df = pd.DataFrame()\n",
    "    new_df[\"date\"] = pd.to_datetime(df['time']).dt.strftime(\"%Y-%m-%d %H:00:00\")\n",
    "    new_df['sentiment'] = df['sentiment']\n",
    "    \n",
    "    # Group by hour and calculate average and total sentiment\n",
    "    result = new_df.groupby('date').agg(\n",
    "        total_sentiment=('sentiment', 'sum'),\n",
    "        average_sentiment=('sentiment', 'mean')\n",
    "    ).reset_index()\n",
    "    \n",
    "    return result\n",
    "\n",
    "def convert_to_parquet(file):\n",
    "\n",
    "    if file == \"filtered_reddits.csv\":\n",
    "        data_type = {\"index\": int,\"date\": str , \"title\": str,\"author\": str,\"link\": str, \"content\": str}\n",
    "        df = pd.read_csv(file,dtype=data_type)\n",
    "\n",
    "    else:\n",
    "        data_type = {\"user_name\": str,\"user_location\": str, \"date\": str,\"text\": str ,\"hashtags\": str}\n",
    "        df = pd.read_csv(file,dtype=data_type)\n",
    "        df = df.drop(columns=[\"user_description\",\"user_created\",\"user_followers\", \"user_friends\", \"user_favourites\",\"user_verified\",\"source\",\"is_retweet\" ])\n",
    "    parquet = df.to_parquet(f'./{file[:-4]}.parquet.gzip',compression='gzip')\n",
    "    return\n",
    "\n",
    "# btc_dataframe = parquet_to_df(\"./BTCUSDT.parquet.gzip\")\n"
   ]
  },
  {
   "cell_type": "code",
   "execution_count": 10,
   "id": "549dfa75",
   "metadata": {},
   "outputs": [
    {
     "name": "stdout",
     "output_type": "stream",
     "text": [
      "Vader Overall Sentiment score for Reddit has been calculated\n"
     ]
    }
   ],
   "source": [
    "reddit_dataframe = parquet_to_df(REDDIT_PATH)\n",
    "reddit_dataframe = vader_sentimentscore(reddit_dataframe,\"reddit\",True)\n"
   ]
  },
  {
   "cell_type": "code",
   "execution_count": 28,
   "id": "f1b31ccc",
   "metadata": {},
   "outputs": [
    {
     "name": "stdout",
     "output_type": "stream",
     "text": [
      "                      date  total_sentiment  average_sentiment\n",
      "0      2021-01-01 00:00:00           0.2966           0.015611\n",
      "1      2021-01-01 01:00:00           1.6673           0.049038\n",
      "2      2021-01-01 02:00:00           0.4588           0.021848\n",
      "3      2021-01-01 03:00:00          -0.4329          -0.020614\n",
      "4      2021-01-01 04:00:00           0.0000           0.000000\n",
      "...                    ...              ...                ...\n",
      "34857  2024-12-31 19:00:00           0.0000           0.000000\n",
      "34858  2024-12-31 20:00:00           0.0000           0.000000\n",
      "34859  2024-12-31 21:00:00           0.0000           0.000000\n",
      "34860  2024-12-31 22:00:00           0.6312           0.028691\n",
      "34861  2024-12-31 23:00:00           0.0000           0.000000\n",
      "\n",
      "[34862 rows x 3 columns]\n"
     ]
    }
   ],
   "source": [
    "result_reddit_df = groupby_hour(reddit_dataframe)\n",
    "df_to_parquet(result_reddit_df,\"reddit_sentiment_processed\")\n",
    "print(result_reddit_df)"
   ]
  },
  {
   "cell_type": "code",
   "execution_count": 26,
   "id": "0181a660",
   "metadata": {},
   "outputs": [
    {
     "data": {
      "application/vnd.microsoft.datawrangler.viewer.v0+json": {
       "columns": [
        {
         "name": "index",
         "rawType": "int64",
         "type": "integer"
        },
        {
         "name": "date",
         "rawType": "object",
         "type": "string"
        },
        {
         "name": "total_sentiment",
         "rawType": "float64",
         "type": "float"
        },
        {
         "name": "average_sentiment",
         "rawType": "float64",
         "type": "float"
        }
       ],
       "conversionMethod": "pd.DataFrame",
       "ref": "d3e5b5b1-05ca-4a6f-aa22-9bdf253b1d37",
       "rows": [
        [
         "0",
         "2021-01-01 00",
         "0.2966",
         "0.015610526315789472"
        ],
        [
         "1",
         "2021-01-01 01",
         "1.6673",
         "0.049038235294117646"
        ],
        [
         "2",
         "2021-01-01 02",
         "0.4588",
         "0.021847619047619046"
        ],
        [
         "3",
         "2021-01-01 03",
         "-0.4329",
         "-0.020614285714285713"
        ],
        [
         "4",
         "2021-01-01 04",
         "0.0",
         "0.0"
        ],
        [
         "5",
         "2021-01-01 05",
         "0.0",
         "0.0"
        ],
        [
         "6",
         "2021-01-01 06",
         "-0.891",
         "-0.111375"
        ],
        [
         "7",
         "2021-01-01 07",
         "0.0",
         "0.0"
        ],
        [
         "8",
         "2021-01-01 08",
         "0.0",
         "0.0"
        ],
        [
         "9",
         "2021-01-01 09",
         "0.0",
         "0.0"
        ],
        [
         "10",
         "2021-01-01 10",
         "0.0",
         "0.0"
        ],
        [
         "11",
         "2021-01-01 11",
         "0.0",
         "0.0"
        ],
        [
         "12",
         "2021-01-01 12",
         "0.0",
         "0.0"
        ],
        [
         "13",
         "2021-01-01 13",
         "0.8402",
         "0.05601333333333333"
        ],
        [
         "14",
         "2021-01-01 14",
         "0.4404",
         "0.017616"
        ],
        [
         "15",
         "2021-01-01 15",
         "-0.8516",
         "-0.02936551724137931"
        ],
        [
         "16",
         "2021-01-01 16",
         "0.22450000000000003",
         "0.010690476190476191"
        ],
        [
         "17",
         "2021-01-01 17",
         "0.5229",
         "0.019366666666666667"
        ],
        [
         "18",
         "2021-01-01 18",
         "1.0669",
         "0.03556333333333333"
        ],
        [
         "19",
         "2021-01-01 19",
         "0.0",
         "0.0"
        ],
        [
         "20",
         "2021-01-01 20",
         "0.0",
         "0.0"
        ],
        [
         "21",
         "2021-01-01 21",
         "-0.34",
         "-0.013076923076923078"
        ],
        [
         "22",
         "2021-01-01 22",
         "0.0",
         "0.0"
        ],
        [
         "23",
         "2021-01-01 23",
         "0.2206",
         "0.010027272727272727"
        ],
        [
         "24",
         "2021-01-02 00",
         "0.0",
         "0.0"
        ],
        [
         "25",
         "2021-01-02 01",
         "-0.3789",
         "-0.022288235294117647"
        ],
        [
         "26",
         "2021-01-02 02",
         "0.0",
         "0.0"
        ],
        [
         "27",
         "2021-01-02 03",
         "0.0",
         "0.0"
        ],
        [
         "28",
         "2021-01-02 04",
         "0.4588",
         "0.026988235294117646"
        ],
        [
         "29",
         "2021-01-02 05",
         "0.0",
         "0.0"
        ],
        [
         "30",
         "2021-01-02 06",
         "0.0",
         "0.0"
        ],
        [
         "31",
         "2021-01-02 07",
         "0.8200000000000001",
         "0.048235294117647064"
        ],
        [
         "32",
         "2021-01-02 08",
         "0.0",
         "0.0"
        ],
        [
         "33",
         "2021-01-02 09",
         "0.0",
         "0.0"
        ],
        [
         "34",
         "2021-01-02 10",
         "0.0",
         "0.0"
        ],
        [
         "35",
         "2021-01-02 11",
         "0.0",
         "0.0"
        ],
        [
         "36",
         "2021-01-02 12",
         "0.4019",
         "0.004230526315789474"
        ],
        [
         "37",
         "2021-01-02 13",
         "0.7424",
         "0.012799999999999999"
        ],
        [
         "38",
         "2021-01-02 14",
         "0.0",
         "0.0"
        ],
        [
         "39",
         "2021-01-02 15",
         "0.9058999999999999",
         "0.011919736842105262"
        ],
        [
         "40",
         "2021-01-02 16",
         "1.0408",
         "0.010841666666666666"
        ],
        [
         "41",
         "2021-01-02 17",
         "0.4588",
         "0.0062"
        ],
        [
         "42",
         "2021-01-02 18",
         "0.0",
         "0.0"
        ],
        [
         "43",
         "2021-01-02 19",
         "0.4199",
         "0.00677258064516129"
        ],
        [
         "44",
         "2021-01-02 20",
         "0.0",
         "0.0"
        ],
        [
         "45",
         "2021-01-02 21",
         "-0.3664",
         "-0.006785185185185185"
        ],
        [
         "46",
         "2021-01-02 22",
         "0.3612",
         "0.008209090909090909"
        ],
        [
         "47",
         "2021-01-02 23",
         "0.8455",
         "0.0211375"
        ],
        [
         "48",
         "2021-01-03 00",
         "0.6486",
         "0.021619999999999997"
        ],
        [
         "49",
         "2021-01-03 01",
         "0.0",
         "0.0"
        ]
       ],
       "shape": {
        "columns": 3,
        "rows": 34862
       }
      },
      "text/html": [
       "<div>\n",
       "<style scoped>\n",
       "    .dataframe tbody tr th:only-of-type {\n",
       "        vertical-align: middle;\n",
       "    }\n",
       "\n",
       "    .dataframe tbody tr th {\n",
       "        vertical-align: top;\n",
       "    }\n",
       "\n",
       "    .dataframe thead th {\n",
       "        text-align: right;\n",
       "    }\n",
       "</style>\n",
       "<table border=\"1\" class=\"dataframe\">\n",
       "  <thead>\n",
       "    <tr style=\"text-align: right;\">\n",
       "      <th></th>\n",
       "      <th>date</th>\n",
       "      <th>total_sentiment</th>\n",
       "      <th>average_sentiment</th>\n",
       "    </tr>\n",
       "  </thead>\n",
       "  <tbody>\n",
       "    <tr>\n",
       "      <th>0</th>\n",
       "      <td>2021-01-01 00</td>\n",
       "      <td>0.2966</td>\n",
       "      <td>0.015611</td>\n",
       "    </tr>\n",
       "    <tr>\n",
       "      <th>1</th>\n",
       "      <td>2021-01-01 01</td>\n",
       "      <td>1.6673</td>\n",
       "      <td>0.049038</td>\n",
       "    </tr>\n",
       "    <tr>\n",
       "      <th>2</th>\n",
       "      <td>2021-01-01 02</td>\n",
       "      <td>0.4588</td>\n",
       "      <td>0.021848</td>\n",
       "    </tr>\n",
       "    <tr>\n",
       "      <th>3</th>\n",
       "      <td>2021-01-01 03</td>\n",
       "      <td>-0.4329</td>\n",
       "      <td>-0.020614</td>\n",
       "    </tr>\n",
       "    <tr>\n",
       "      <th>4</th>\n",
       "      <td>2021-01-01 04</td>\n",
       "      <td>0.0000</td>\n",
       "      <td>0.000000</td>\n",
       "    </tr>\n",
       "    <tr>\n",
       "      <th>...</th>\n",
       "      <td>...</td>\n",
       "      <td>...</td>\n",
       "      <td>...</td>\n",
       "    </tr>\n",
       "    <tr>\n",
       "      <th>34857</th>\n",
       "      <td>2024-12-31 19</td>\n",
       "      <td>0.0000</td>\n",
       "      <td>0.000000</td>\n",
       "    </tr>\n",
       "    <tr>\n",
       "      <th>34858</th>\n",
       "      <td>2024-12-31 20</td>\n",
       "      <td>0.0000</td>\n",
       "      <td>0.000000</td>\n",
       "    </tr>\n",
       "    <tr>\n",
       "      <th>34859</th>\n",
       "      <td>2024-12-31 21</td>\n",
       "      <td>0.0000</td>\n",
       "      <td>0.000000</td>\n",
       "    </tr>\n",
       "    <tr>\n",
       "      <th>34860</th>\n",
       "      <td>2024-12-31 22</td>\n",
       "      <td>0.6312</td>\n",
       "      <td>0.028691</td>\n",
       "    </tr>\n",
       "    <tr>\n",
       "      <th>34861</th>\n",
       "      <td>2024-12-31 23</td>\n",
       "      <td>0.0000</td>\n",
       "      <td>0.000000</td>\n",
       "    </tr>\n",
       "  </tbody>\n",
       "</table>\n",
       "<p>34862 rows × 3 columns</p>\n",
       "</div>"
      ],
      "text/plain": [
       "                date  total_sentiment  average_sentiment\n",
       "0      2021-01-01 00           0.2966           0.015611\n",
       "1      2021-01-01 01           1.6673           0.049038\n",
       "2      2021-01-01 02           0.4588           0.021848\n",
       "3      2021-01-01 03          -0.4329          -0.020614\n",
       "4      2021-01-01 04           0.0000           0.000000\n",
       "...              ...              ...                ...\n",
       "34857  2024-12-31 19           0.0000           0.000000\n",
       "34858  2024-12-31 20           0.0000           0.000000\n",
       "34859  2024-12-31 21           0.0000           0.000000\n",
       "34860  2024-12-31 22           0.6312           0.028691\n",
       "34861  2024-12-31 23           0.0000           0.000000\n",
       "\n",
       "[34862 rows x 3 columns]"
      ]
     },
     "execution_count": 26,
     "metadata": {},
     "output_type": "execute_result"
    }
   ],
   "source": [
    "result_reddit_df"
   ]
  }
 ],
 "metadata": {
  "kernelspec": {
   "display_name": "myenv",
   "language": "python",
   "name": "python3"
  },
  "language_info": {
   "codemirror_mode": {
    "name": "ipython",
    "version": 3
   },
   "file_extension": ".py",
   "mimetype": "text/x-python",
   "name": "python",
   "nbconvert_exporter": "python",
   "pygments_lexer": "ipython3",
   "version": "3.11.11"
  }
 },
 "nbformat": 4,
 "nbformat_minor": 5
}
