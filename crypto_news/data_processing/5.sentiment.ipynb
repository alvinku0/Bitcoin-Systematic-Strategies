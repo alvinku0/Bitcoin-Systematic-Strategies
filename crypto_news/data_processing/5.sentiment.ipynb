{
 "cells": [
  {
   "cell_type": "code",
   "execution_count": 1,
   "metadata": {},
   "outputs": [
    {
     "name": "stderr",
     "output_type": "stream",
     "text": [
      "c:\\Users\\phku0\\AppData\\Local\\Programs\\Python\\Python312\\Lib\\site-packages\\tqdm\\auto.py:21: TqdmWarning: IProgress not found. Please update jupyter and ipywidgets. See https://ipywidgets.readthedocs.io/en/stable/user_install.html\n",
      "  from .autonotebook import tqdm as notebook_tqdm\n"
     ]
    }
   ],
   "source": [
    "import pandas as pd\n",
    "from transformers import pipeline\n",
    "from datasets import load_dataset\n",
    "from datasets import Dataset\n",
    "from tqdm.auto import tqdm\n",
    "import torch"
   ]
  },
  {
   "cell_type": "code",
   "execution_count": 2,
   "metadata": {},
   "outputs": [],
   "source": [
    "# pipe = pipeline(\n",
    "#   \"text-classification\",\n",
    "#   model=\"kk08/CryptoBERT\",\n",
    "#   truncation=True,\n",
    "#   max_length=512\n",
    "# )\n",
    "\n",
    "# pipe(\"Bitcoin is a scam. Million of people have lost their money. The SEC decided to ban it.\")"
   ]
  },
  {
   "cell_type": "code",
   "execution_count": 3,
   "metadata": {},
   "outputs": [],
   "source": [
    "# pipe = pipeline(\n",
    "#   \"text-classification\",\n",
    "#   model=\"ProsusAI/finbert\",\n",
    "#   truncation=True,\n",
    "#   max_length=512\n",
    "# )\n",
    "\n",
    "# pipe(\"Bitcoin is a scam. Million of people have lost their money. The SEC decided to ban it.\")"
   ]
  },
  {
   "cell_type": "code",
   "execution_count": 4,
   "metadata": {},
   "outputs": [
    {
     "name": "stdout",
     "output_type": "stream",
     "text": [
      "(159486, 11)\n"
     ]
    },
    {
     "data": {
      "application/vnd.microsoft.datawrangler.viewer.v0+json": {
       "columns": [
        {
         "name": "index",
         "rawType": "int64",
         "type": "integer"
        },
        {
         "name": "title",
         "rawType": "object",
         "type": "string"
        },
        {
         "name": "text",
         "rawType": "object",
         "type": "string"
        },
        {
         "name": "source_name",
         "rawType": "object",
         "type": "string"
        },
        {
         "name": "date",
         "rawType": "object",
         "type": "string"
        },
        {
         "name": "tanalysis_absa",
         "rawType": "float64",
         "type": "float"
        },
        {
         "name": "economy_absa",
         "rawType": "float64",
         "type": "float"
        },
        {
         "name": "regulation_absa",
         "rawType": "float64",
         "type": "float"
        },
        {
         "name": "technology_absa",
         "rawType": "float64",
         "type": "float"
        },
        {
         "name": "adoption_absa",
         "rawType": "float64",
         "type": "float"
        },
        {
         "name": "cybersecurity_absa",
         "rawType": "float64",
         "type": "float"
        },
        {
         "name": "NER",
         "rawType": "object",
         "type": "unknown"
        }
       ],
       "conversionMethod": "pd.DataFrame",
       "ref": "7d815c10-99da-4185-8c9a-5965957e4243",
       "rows": [
        [
         "12",
         "VanEck makes another Bitcoin ETF run",
         "Investment management firm VanEck has filed with the U.S. Securities and Exchange Commission to launch a Bitcoin exchange-traded fund. VanEck is clearly hoping that the departure of SEC chairman Jay Clayton will give its latest ETF application a chance.",
         "Modern Consensus",
         "Fri, 01 Jan 2021 11:07:58 -0500",
         "0.0",
         "0.0",
         "0.3",
         "0.0",
         "0.7",
         "0.0",
         "[array(['VanEck', 'ORG'], dtype=object)\n array(['VanEck', 'ORG'], dtype=object)\n array(['the U.S. Securities and Exchange Commission', 'ORG'], dtype=object)\n array(['VanEck', 'ORG'], dtype=object)\n array(['SEC', 'ORG'], dtype=object)\n array(['Jay Clayton', 'PERSON'], dtype=object)]"
        ],
        [
         "16",
         "Markets Report: Bitcoin starts 2021 with a bang as price targets reach $500,000",
         "Bitcoin begins a new year on a high in almost every way — and price records are just the icing on the cake for hodlers. As 2021 begins, anticipation has never been higher for Bitcoin to have its best year ever, even as December's gains alone topped 40%.",
         "Modern Consensus",
         "Fri, 01 Jan 2021 09:51:10 -0500",
         "0.9",
         "0.0",
         "0.0",
         "0.0",
         "0.5",
         "0.0",
         "[array(['2021', 'DATE'], dtype=object)\n array(['500,000', 'MONEY'], dtype=object)\n array(['a new year', 'DATE'], dtype=object)\n array(['2021', 'DATE'], dtype=object)\n array(['year', 'DATE'], dtype=object)\n array(['December', 'DATE'], dtype=object)\n array(['40%', 'PERCENT'], dtype=object)]"
        ],
        [
         "87",
         "Bitcoin Rally Extends Into New Year",
         "Jan.03 -- Bitcoin is continuing its rally into record highs in the near year, rising above $34,000 before retreating. Su Keenan reports on \"Bloomberg Daybreak: Australia.",
         "Bloomberg Markets and Finance",
         "Sun, 03 Jan 2021 18:46:20 -0500",
         "0.8",
         "0.0",
         "0.0",
         "0.0",
         "0.0",
         "0.0",
         "[array(['New Year', 'EVENT'], dtype=object)\n array(['Jan.03 --', 'DATE'], dtype=object)\n array(['the near year', 'DATE'], dtype=object)\n array(['34,000', 'MONEY'], dtype=object)\n array(['Su Keenan', 'PERSON'], dtype=object)\n array(['Bloomberg Daybreak: Australia', 'WORK_OF_ART'], dtype=object)]"
        ],
        [
         "127",
         "BitPay CCO Says Bitcoin Will Hit $45,000",
         "Jan.04 -- Bitpay Chief Commercial Officer Sonny Singh discusses Bitcoin prices retreating from record highs but believing it will reach $45K within the next month. He speaks with Emily Chang on \"Bloomberg Technology.",
         "Bloomberg Technology",
         "Mon, 04 Jan 2021 20:29:35 -0500",
         "0.8",
         "0.0",
         "0.0",
         "0.0",
         "0.0",
         "0.0",
         "[array(['BitPay CCO', 'ORG'], dtype=object)\n array(['45,000', 'MONEY'], dtype=object)\n array(['Jan.04', 'DATE'], dtype=object)\n array(['Bitpay', 'ORG'], dtype=object)\n array(['Sonny Singh', 'PERSON'], dtype=object)\n array(['45', 'MONEY'], dtype=object) array(['K', 'MONEY'], dtype=object)\n array(['the next month', 'DATE'], dtype=object)\n array(['Emily Chang', 'PERSON'], dtype=object)\n array(['Bloomberg Technology', 'ORG'], dtype=object)]"
        ],
        [
         "166",
         "Markets Report: Bitcoin Dives to $27,700 as a Crazy Weekend Turns Crazier",
         "Bitcoin is seeing a wild start to the week with volatility taking traders up and down by thousands of dollars in under an hour. In what will cause headaches if it sets the tone for the coming days, Bitcoin dropped by $4,000 in less than sixty minutes on Monday — what's next?",
         "Modern Consensus",
         "Mon, 04 Jan 2021 09:01:49 -0500",
         "-0.8",
         "0.0",
         "0.0",
         "0.0",
         "0.0",
         "0.0",
         "[array(['27,700', 'MONEY'], dtype=object)\n array(['a Crazy Weekend', 'DATE'], dtype=object)\n array(['the week', 'DATE'], dtype=object)\n array(['thousands of dollars', 'MONEY'], dtype=object)\n array(['under an hour', 'TIME'], dtype=object)\n array(['the coming days', 'DATE'], dtype=object)\n array(['4,000', 'MONEY'], dtype=object)\n array(['less than sixty minutes', 'TIME'], dtype=object)\n array(['Monday', 'DATE'], dtype=object)]"
        ]
       ],
       "shape": {
        "columns": 11,
        "rows": 5
       }
      },
      "text/html": [
       "<div>\n",
       "<style scoped>\n",
       "    .dataframe tbody tr th:only-of-type {\n",
       "        vertical-align: middle;\n",
       "    }\n",
       "\n",
       "    .dataframe tbody tr th {\n",
       "        vertical-align: top;\n",
       "    }\n",
       "\n",
       "    .dataframe thead th {\n",
       "        text-align: right;\n",
       "    }\n",
       "</style>\n",
       "<table border=\"1\" class=\"dataframe\">\n",
       "  <thead>\n",
       "    <tr style=\"text-align: right;\">\n",
       "      <th></th>\n",
       "      <th>title</th>\n",
       "      <th>text</th>\n",
       "      <th>source_name</th>\n",
       "      <th>date</th>\n",
       "      <th>tanalysis_absa</th>\n",
       "      <th>economy_absa</th>\n",
       "      <th>regulation_absa</th>\n",
       "      <th>technology_absa</th>\n",
       "      <th>adoption_absa</th>\n",
       "      <th>cybersecurity_absa</th>\n",
       "      <th>NER</th>\n",
       "    </tr>\n",
       "  </thead>\n",
       "  <tbody>\n",
       "    <tr>\n",
       "      <th>12</th>\n",
       "      <td>VanEck makes another Bitcoin ETF run</td>\n",
       "      <td>Investment management firm VanEck has filed wi...</td>\n",
       "      <td>Modern Consensus</td>\n",
       "      <td>Fri, 01 Jan 2021 11:07:58 -0500</td>\n",
       "      <td>0.0</td>\n",
       "      <td>0.0</td>\n",
       "      <td>0.3</td>\n",
       "      <td>0.0</td>\n",
       "      <td>0.7</td>\n",
       "      <td>0.0</td>\n",
       "      <td>[[VanEck, ORG], [VanEck, ORG], [the U.S. Secur...</td>\n",
       "    </tr>\n",
       "    <tr>\n",
       "      <th>16</th>\n",
       "      <td>Markets Report: Bitcoin starts 2021 with a ban...</td>\n",
       "      <td>Bitcoin begins a new year on a high in almost ...</td>\n",
       "      <td>Modern Consensus</td>\n",
       "      <td>Fri, 01 Jan 2021 09:51:10 -0500</td>\n",
       "      <td>0.9</td>\n",
       "      <td>0.0</td>\n",
       "      <td>0.0</td>\n",
       "      <td>0.0</td>\n",
       "      <td>0.5</td>\n",
       "      <td>0.0</td>\n",
       "      <td>[[2021, DATE], [500,000, MONEY], [a new year, ...</td>\n",
       "    </tr>\n",
       "    <tr>\n",
       "      <th>87</th>\n",
       "      <td>Bitcoin Rally Extends Into New Year</td>\n",
       "      <td>Jan.03 -- Bitcoin is continuing its rally into...</td>\n",
       "      <td>Bloomberg Markets and Finance</td>\n",
       "      <td>Sun, 03 Jan 2021 18:46:20 -0500</td>\n",
       "      <td>0.8</td>\n",
       "      <td>0.0</td>\n",
       "      <td>0.0</td>\n",
       "      <td>0.0</td>\n",
       "      <td>0.0</td>\n",
       "      <td>0.0</td>\n",
       "      <td>[[New Year, EVENT], [Jan.03 --, DATE], [the ne...</td>\n",
       "    </tr>\n",
       "    <tr>\n",
       "      <th>127</th>\n",
       "      <td>BitPay CCO Says Bitcoin Will Hit $45,000</td>\n",
       "      <td>Jan.04 -- Bitpay Chief Commercial Officer Sonn...</td>\n",
       "      <td>Bloomberg Technology</td>\n",
       "      <td>Mon, 04 Jan 2021 20:29:35 -0500</td>\n",
       "      <td>0.8</td>\n",
       "      <td>0.0</td>\n",
       "      <td>0.0</td>\n",
       "      <td>0.0</td>\n",
       "      <td>0.0</td>\n",
       "      <td>0.0</td>\n",
       "      <td>[[BitPay CCO, ORG], [45,000, MONEY], [Jan.04, ...</td>\n",
       "    </tr>\n",
       "    <tr>\n",
       "      <th>166</th>\n",
       "      <td>Markets Report: Bitcoin Dives to $27,700 as a ...</td>\n",
       "      <td>Bitcoin is seeing a wild start to the week wit...</td>\n",
       "      <td>Modern Consensus</td>\n",
       "      <td>Mon, 04 Jan 2021 09:01:49 -0500</td>\n",
       "      <td>-0.8</td>\n",
       "      <td>0.0</td>\n",
       "      <td>0.0</td>\n",
       "      <td>0.0</td>\n",
       "      <td>0.0</td>\n",
       "      <td>0.0</td>\n",
       "      <td>[[27,700, MONEY], [a Crazy Weekend, DATE], [th...</td>\n",
       "    </tr>\n",
       "  </tbody>\n",
       "</table>\n",
       "</div>"
      ],
      "text/plain": [
       "                                                 title  \\\n",
       "12                VanEck makes another Bitcoin ETF run   \n",
       "16   Markets Report: Bitcoin starts 2021 with a ban...   \n",
       "87                 Bitcoin Rally Extends Into New Year   \n",
       "127           BitPay CCO Says Bitcoin Will Hit $45,000   \n",
       "166  Markets Report: Bitcoin Dives to $27,700 as a ...   \n",
       "\n",
       "                                                  text  \\\n",
       "12   Investment management firm VanEck has filed wi...   \n",
       "16   Bitcoin begins a new year on a high in almost ...   \n",
       "87   Jan.03 -- Bitcoin is continuing its rally into...   \n",
       "127  Jan.04 -- Bitpay Chief Commercial Officer Sonn...   \n",
       "166  Bitcoin is seeing a wild start to the week wit...   \n",
       "\n",
       "                       source_name                             date  \\\n",
       "12                Modern Consensus  Fri, 01 Jan 2021 11:07:58 -0500   \n",
       "16                Modern Consensus  Fri, 01 Jan 2021 09:51:10 -0500   \n",
       "87   Bloomberg Markets and Finance  Sun, 03 Jan 2021 18:46:20 -0500   \n",
       "127           Bloomberg Technology  Mon, 04 Jan 2021 20:29:35 -0500   \n",
       "166               Modern Consensus  Mon, 04 Jan 2021 09:01:49 -0500   \n",
       "\n",
       "     tanalysis_absa  economy_absa  regulation_absa  technology_absa  \\\n",
       "12              0.0           0.0              0.3              0.0   \n",
       "16              0.9           0.0              0.0              0.0   \n",
       "87              0.8           0.0              0.0              0.0   \n",
       "127             0.8           0.0              0.0              0.0   \n",
       "166            -0.8           0.0              0.0              0.0   \n",
       "\n",
       "     adoption_absa  cybersecurity_absa  \\\n",
       "12             0.7                 0.0   \n",
       "16             0.5                 0.0   \n",
       "87             0.0                 0.0   \n",
       "127            0.0                 0.0   \n",
       "166            0.0                 0.0   \n",
       "\n",
       "                                                   NER  \n",
       "12   [[VanEck, ORG], [VanEck, ORG], [the U.S. Secur...  \n",
       "16   [[2021, DATE], [500,000, MONEY], [a new year, ...  \n",
       "87   [[New Year, EVENT], [Jan.03 --, DATE], [the ne...  \n",
       "127  [[BitPay CCO, ORG], [45,000, MONEY], [Jan.04, ...  \n",
       "166  [[27,700, MONEY], [a Crazy Weekend, DATE], [th...  "
      ]
     },
     "execution_count": 4,
     "metadata": {},
     "output_type": "execute_result"
    }
   ],
   "source": [
    "df = pd.read_parquet(\"../data/4c.cryptonews_ner_spacy.parquet\")\n",
    "print(df.shape)\n",
    "df.head()"
   ]
  },
  {
   "cell_type": "code",
   "execution_count": 5,
   "metadata": {},
   "outputs": [
    {
     "name": "stderr",
     "output_type": "stream",
     "text": [
      "Map: 100%|██████████| 159486/159486 [00:15<00:00, 10101.22 examples/s]\n"
     ]
    }
   ],
   "source": [
    "dataset = Dataset.from_pandas(df)\n",
    "\n",
    "dataset = dataset.map(lambda example: {\n",
    "  'news_text_title': example['title'] + ' ' + example['text']\n",
    "})"
   ]
  },
  {
   "cell_type": "code",
   "execution_count": 6,
   "metadata": {},
   "outputs": [
    {
     "name": "stderr",
     "output_type": "stream",
     "text": [
      "Device set to use cuda:0\n",
      "Map:   0%|          | 50/159486 [00:00<32:48, 80.99 examples/s] You seem to be using the pipelines sequentially on GPU. In order to maximize efficiency please use a dataset\n",
      "Map: 100%|██████████| 159486/159486 [24:43<00:00, 107.49 examples/s]\n"
     ]
    }
   ],
   "source": [
    "pipe = pipeline(\n",
    "  \"text-classification\",\n",
    "  model=\"kk08/CryptoBERT\",\n",
    "  truncation=True,\n",
    "  max_length=512\n",
    ")\n",
    "\n",
    "def classify_sentiment(batch):\n",
    "  results = pipe(batch['news_text_title'])\n",
    "  batch['sentiment_CryptoBERT'] = [result['label'] for result in results]\n",
    "  batch['score_CryptoBERT'] = [result['score'] for result in results]\n",
    "  return batch\n",
    "\n",
    "dataset = dataset.map(classify_sentiment, batched=True, batch_size=5)"
   ]
  },
  {
   "cell_type": "code",
   "execution_count": 7,
   "metadata": {},
   "outputs": [
    {
     "name": "stderr",
     "output_type": "stream",
     "text": [
      "Device set to use cuda:0\n",
      "Map: 100%|██████████| 159486/159486 [23:45<00:00, 111.89 examples/s]\n"
     ]
    }
   ],
   "source": [
    "pipe = pipeline(\n",
    "  \"text-classification\",\n",
    "  model=\"ProsusAI/finbert\",\n",
    "  truncation=True,\n",
    "  max_length=512\n",
    ")\n",
    "\n",
    "def classify_sentiment(batch):\n",
    "  results = pipe(batch['news_text_title'])\n",
    "  batch['sentiment_finbert'] = [result['label'] for result in results]\n",
    "  batch['score_finbert'] = [result['score'] for result in results]\n",
    "  return batch\n",
    "\n",
    "dataset = dataset.map(classify_sentiment, batched=True, batch_size=5)"
   ]
  },
  {
   "cell_type": "code",
   "execution_count": 8,
   "metadata": {},
   "outputs": [
    {
     "name": "stdout",
     "output_type": "stream",
     "text": [
      "(159486, 16)\n"
     ]
    },
    {
     "data": {
      "application/vnd.microsoft.datawrangler.viewer.v0+json": {
       "columns": [
        {
         "name": "__index_level_0__",
         "rawType": "int64",
         "type": "integer"
        },
        {
         "name": "title",
         "rawType": "object",
         "type": "string"
        },
        {
         "name": "text",
         "rawType": "object",
         "type": "string"
        },
        {
         "name": "source_name",
         "rawType": "object",
         "type": "string"
        },
        {
         "name": "date",
         "rawType": "object",
         "type": "string"
        },
        {
         "name": "tanalysis_absa",
         "rawType": "float64",
         "type": "float"
        },
        {
         "name": "economy_absa",
         "rawType": "float64",
         "type": "float"
        },
        {
         "name": "regulation_absa",
         "rawType": "float64",
         "type": "float"
        },
        {
         "name": "technology_absa",
         "rawType": "float64",
         "type": "float"
        },
        {
         "name": "adoption_absa",
         "rawType": "float64",
         "type": "float"
        },
        {
         "name": "cybersecurity_absa",
         "rawType": "float64",
         "type": "float"
        },
        {
         "name": "NER",
         "rawType": "object",
         "type": "unknown"
        },
        {
         "name": "news_text_title",
         "rawType": "object",
         "type": "string"
        },
        {
         "name": "sentiment_CryptoBERT",
         "rawType": "object",
         "type": "string"
        },
        {
         "name": "score_CryptoBERT",
         "rawType": "float64",
         "type": "float"
        },
        {
         "name": "sentiment_finbert",
         "rawType": "object",
         "type": "string"
        },
        {
         "name": "score_finbert",
         "rawType": "float64",
         "type": "float"
        }
       ],
       "conversionMethod": "pd.DataFrame",
       "ref": "31764c21-3c2e-4a86-a9b0-ffda82971049",
       "rows": [
        [
         "12",
         "VanEck makes another Bitcoin ETF run",
         "Investment management firm VanEck has filed with the U.S. Securities and Exchange Commission to launch a Bitcoin exchange-traded fund. VanEck is clearly hoping that the departure of SEC chairman Jay Clayton will give its latest ETF application a chance.",
         "Modern Consensus",
         "Fri, 01 Jan 2021 11:07:58 -0500",
         "0.0",
         "0.0",
         "0.3",
         "0.0",
         "0.7",
         "0.0",
         "[array(['VanEck', 'ORG'], dtype=object)\n array(['VanEck', 'ORG'], dtype=object)\n array(['the U.S. Securities and Exchange Commission', 'ORG'], dtype=object)\n array(['VanEck', 'ORG'], dtype=object)\n array(['SEC', 'ORG'], dtype=object)\n array(['Jay Clayton', 'PERSON'], dtype=object)]",
         "VanEck makes another Bitcoin ETF run Investment management firm VanEck has filed with the U.S. Securities and Exchange Commission to launch a Bitcoin exchange-traded fund. VanEck is clearly hoping that the departure of SEC chairman Jay Clayton will give its latest ETF application a chance.",
         "LABEL_1",
         "0.9534627199172974",
         "neutral",
         "0.7049717903137207"
        ],
        [
         "16",
         "Markets Report: Bitcoin starts 2021 with a bang as price targets reach $500,000",
         "Bitcoin begins a new year on a high in almost every way — and price records are just the icing on the cake for hodlers. As 2021 begins, anticipation has never been higher for Bitcoin to have its best year ever, even as December's gains alone topped 40%.",
         "Modern Consensus",
         "Fri, 01 Jan 2021 09:51:10 -0500",
         "0.9",
         "0.0",
         "0.0",
         "0.0",
         "0.5",
         "0.0",
         "[array(['2021', 'DATE'], dtype=object)\n array(['500,000', 'MONEY'], dtype=object)\n array(['a new year', 'DATE'], dtype=object)\n array(['2021', 'DATE'], dtype=object)\n array(['year', 'DATE'], dtype=object)\n array(['December', 'DATE'], dtype=object)\n array(['40%', 'PERCENT'], dtype=object)]",
         "Markets Report: Bitcoin starts 2021 with a bang as price targets reach $500,000 Bitcoin begins a new year on a high in almost every way — and price records are just the icing on the cake for hodlers. As 2021 begins, anticipation has never been higher for Bitcoin to have its best year ever, even as December's gains alone topped 40%.",
         "LABEL_1",
         "0.96602863073349",
         "positive",
         "0.9272623658180237"
        ],
        [
         "87",
         "Bitcoin Rally Extends Into New Year",
         "Jan.03 -- Bitcoin is continuing its rally into record highs in the near year, rising above $34,000 before retreating. Su Keenan reports on \"Bloomberg Daybreak: Australia.",
         "Bloomberg Markets and Finance",
         "Sun, 03 Jan 2021 18:46:20 -0500",
         "0.8",
         "0.0",
         "0.0",
         "0.0",
         "0.0",
         "0.0",
         "[array(['New Year', 'EVENT'], dtype=object)\n array(['Jan.03 --', 'DATE'], dtype=object)\n array(['the near year', 'DATE'], dtype=object)\n array(['34,000', 'MONEY'], dtype=object)\n array(['Su Keenan', 'PERSON'], dtype=object)\n array(['Bloomberg Daybreak: Australia', 'WORK_OF_ART'], dtype=object)]",
         "Bitcoin Rally Extends Into New Year Jan.03 -- Bitcoin is continuing its rally into record highs in the near year, rising above $34,000 before retreating. Su Keenan reports on \"Bloomberg Daybreak: Australia.",
         "LABEL_1",
         "0.9572523236274719",
         "positive",
         "0.817352831363678"
        ],
        [
         "127",
         "BitPay CCO Says Bitcoin Will Hit $45,000",
         "Jan.04 -- Bitpay Chief Commercial Officer Sonny Singh discusses Bitcoin prices retreating from record highs but believing it will reach $45K within the next month. He speaks with Emily Chang on \"Bloomberg Technology.",
         "Bloomberg Technology",
         "Mon, 04 Jan 2021 20:29:35 -0500",
         "0.8",
         "0.0",
         "0.0",
         "0.0",
         "0.0",
         "0.0",
         "[array(['BitPay CCO', 'ORG'], dtype=object)\n array(['45,000', 'MONEY'], dtype=object)\n array(['Jan.04', 'DATE'], dtype=object)\n array(['Bitpay', 'ORG'], dtype=object)\n array(['Sonny Singh', 'PERSON'], dtype=object)\n array(['45', 'MONEY'], dtype=object) array(['K', 'MONEY'], dtype=object)\n array(['the next month', 'DATE'], dtype=object)\n array(['Emily Chang', 'PERSON'], dtype=object)\n array(['Bloomberg Technology', 'ORG'], dtype=object)]",
         "BitPay CCO Says Bitcoin Will Hit $45,000 Jan.04 -- Bitpay Chief Commercial Officer Sonny Singh discusses Bitcoin prices retreating from record highs but believing it will reach $45K within the next month. He speaks with Emily Chang on \"Bloomberg Technology.",
         "LABEL_1",
         "0.914189875125885",
         "neutral",
         "0.36222410202026367"
        ],
        [
         "166",
         "Markets Report: Bitcoin Dives to $27,700 as a Crazy Weekend Turns Crazier",
         "Bitcoin is seeing a wild start to the week with volatility taking traders up and down by thousands of dollars in under an hour. In what will cause headaches if it sets the tone for the coming days, Bitcoin dropped by $4,000 in less than sixty minutes on Monday — what's next?",
         "Modern Consensus",
         "Mon, 04 Jan 2021 09:01:49 -0500",
         "-0.8",
         "0.0",
         "0.0",
         "0.0",
         "0.0",
         "0.0",
         "[array(['27,700', 'MONEY'], dtype=object)\n array(['a Crazy Weekend', 'DATE'], dtype=object)\n array(['the week', 'DATE'], dtype=object)\n array(['thousands of dollars', 'MONEY'], dtype=object)\n array(['under an hour', 'TIME'], dtype=object)\n array(['the coming days', 'DATE'], dtype=object)\n array(['4,000', 'MONEY'], dtype=object)\n array(['less than sixty minutes', 'TIME'], dtype=object)\n array(['Monday', 'DATE'], dtype=object)]",
         "Markets Report: Bitcoin Dives to $27,700 as a Crazy Weekend Turns Crazier Bitcoin is seeing a wild start to the week with volatility taking traders up and down by thousands of dollars in under an hour. In what will cause headaches if it sets the tone for the coming days, Bitcoin dropped by $4,000 in less than sixty minutes on Monday — what's next?",
         "LABEL_0",
         "0.9173840880393982",
         "negative",
         "0.9327932596206665"
        ]
       ],
       "shape": {
        "columns": 16,
        "rows": 5
       }
      },
      "text/html": [
       "<div>\n",
       "<style scoped>\n",
       "    .dataframe tbody tr th:only-of-type {\n",
       "        vertical-align: middle;\n",
       "    }\n",
       "\n",
       "    .dataframe tbody tr th {\n",
       "        vertical-align: top;\n",
       "    }\n",
       "\n",
       "    .dataframe thead th {\n",
       "        text-align: right;\n",
       "    }\n",
       "</style>\n",
       "<table border=\"1\" class=\"dataframe\">\n",
       "  <thead>\n",
       "    <tr style=\"text-align: right;\">\n",
       "      <th></th>\n",
       "      <th>title</th>\n",
       "      <th>text</th>\n",
       "      <th>source_name</th>\n",
       "      <th>date</th>\n",
       "      <th>tanalysis_absa</th>\n",
       "      <th>economy_absa</th>\n",
       "      <th>regulation_absa</th>\n",
       "      <th>technology_absa</th>\n",
       "      <th>adoption_absa</th>\n",
       "      <th>cybersecurity_absa</th>\n",
       "      <th>NER</th>\n",
       "      <th>news_text_title</th>\n",
       "      <th>sentiment_CryptoBERT</th>\n",
       "      <th>score_CryptoBERT</th>\n",
       "      <th>sentiment_finbert</th>\n",
       "      <th>score_finbert</th>\n",
       "    </tr>\n",
       "    <tr>\n",
       "      <th>__index_level_0__</th>\n",
       "      <th></th>\n",
       "      <th></th>\n",
       "      <th></th>\n",
       "      <th></th>\n",
       "      <th></th>\n",
       "      <th></th>\n",
       "      <th></th>\n",
       "      <th></th>\n",
       "      <th></th>\n",
       "      <th></th>\n",
       "      <th></th>\n",
       "      <th></th>\n",
       "      <th></th>\n",
       "      <th></th>\n",
       "      <th></th>\n",
       "      <th></th>\n",
       "    </tr>\n",
       "  </thead>\n",
       "  <tbody>\n",
       "    <tr>\n",
       "      <th>12</th>\n",
       "      <td>VanEck makes another Bitcoin ETF run</td>\n",
       "      <td>Investment management firm VanEck has filed wi...</td>\n",
       "      <td>Modern Consensus</td>\n",
       "      <td>Fri, 01 Jan 2021 11:07:58 -0500</td>\n",
       "      <td>0.0</td>\n",
       "      <td>0.0</td>\n",
       "      <td>0.3</td>\n",
       "      <td>0.0</td>\n",
       "      <td>0.7</td>\n",
       "      <td>0.0</td>\n",
       "      <td>[[VanEck, ORG], [VanEck, ORG], [the U.S. Secur...</td>\n",
       "      <td>VanEck makes another Bitcoin ETF run Investmen...</td>\n",
       "      <td>LABEL_1</td>\n",
       "      <td>0.953463</td>\n",
       "      <td>neutral</td>\n",
       "      <td>0.704972</td>\n",
       "    </tr>\n",
       "    <tr>\n",
       "      <th>16</th>\n",
       "      <td>Markets Report: Bitcoin starts 2021 with a ban...</td>\n",
       "      <td>Bitcoin begins a new year on a high in almost ...</td>\n",
       "      <td>Modern Consensus</td>\n",
       "      <td>Fri, 01 Jan 2021 09:51:10 -0500</td>\n",
       "      <td>0.9</td>\n",
       "      <td>0.0</td>\n",
       "      <td>0.0</td>\n",
       "      <td>0.0</td>\n",
       "      <td>0.5</td>\n",
       "      <td>0.0</td>\n",
       "      <td>[[2021, DATE], [500,000, MONEY], [a new year, ...</td>\n",
       "      <td>Markets Report: Bitcoin starts 2021 with a ban...</td>\n",
       "      <td>LABEL_1</td>\n",
       "      <td>0.966029</td>\n",
       "      <td>positive</td>\n",
       "      <td>0.927262</td>\n",
       "    </tr>\n",
       "    <tr>\n",
       "      <th>87</th>\n",
       "      <td>Bitcoin Rally Extends Into New Year</td>\n",
       "      <td>Jan.03 -- Bitcoin is continuing its rally into...</td>\n",
       "      <td>Bloomberg Markets and Finance</td>\n",
       "      <td>Sun, 03 Jan 2021 18:46:20 -0500</td>\n",
       "      <td>0.8</td>\n",
       "      <td>0.0</td>\n",
       "      <td>0.0</td>\n",
       "      <td>0.0</td>\n",
       "      <td>0.0</td>\n",
       "      <td>0.0</td>\n",
       "      <td>[[New Year, EVENT], [Jan.03 --, DATE], [the ne...</td>\n",
       "      <td>Bitcoin Rally Extends Into New Year Jan.03 -- ...</td>\n",
       "      <td>LABEL_1</td>\n",
       "      <td>0.957252</td>\n",
       "      <td>positive</td>\n",
       "      <td>0.817353</td>\n",
       "    </tr>\n",
       "    <tr>\n",
       "      <th>127</th>\n",
       "      <td>BitPay CCO Says Bitcoin Will Hit $45,000</td>\n",
       "      <td>Jan.04 -- Bitpay Chief Commercial Officer Sonn...</td>\n",
       "      <td>Bloomberg Technology</td>\n",
       "      <td>Mon, 04 Jan 2021 20:29:35 -0500</td>\n",
       "      <td>0.8</td>\n",
       "      <td>0.0</td>\n",
       "      <td>0.0</td>\n",
       "      <td>0.0</td>\n",
       "      <td>0.0</td>\n",
       "      <td>0.0</td>\n",
       "      <td>[[BitPay CCO, ORG], [45,000, MONEY], [Jan.04, ...</td>\n",
       "      <td>BitPay CCO Says Bitcoin Will Hit $45,000 Jan.0...</td>\n",
       "      <td>LABEL_1</td>\n",
       "      <td>0.914190</td>\n",
       "      <td>neutral</td>\n",
       "      <td>0.362224</td>\n",
       "    </tr>\n",
       "    <tr>\n",
       "      <th>166</th>\n",
       "      <td>Markets Report: Bitcoin Dives to $27,700 as a ...</td>\n",
       "      <td>Bitcoin is seeing a wild start to the week wit...</td>\n",
       "      <td>Modern Consensus</td>\n",
       "      <td>Mon, 04 Jan 2021 09:01:49 -0500</td>\n",
       "      <td>-0.8</td>\n",
       "      <td>0.0</td>\n",
       "      <td>0.0</td>\n",
       "      <td>0.0</td>\n",
       "      <td>0.0</td>\n",
       "      <td>0.0</td>\n",
       "      <td>[[27,700, MONEY], [a Crazy Weekend, DATE], [th...</td>\n",
       "      <td>Markets Report: Bitcoin Dives to $27,700 as a ...</td>\n",
       "      <td>LABEL_0</td>\n",
       "      <td>0.917384</td>\n",
       "      <td>negative</td>\n",
       "      <td>0.932793</td>\n",
       "    </tr>\n",
       "  </tbody>\n",
       "</table>\n",
       "</div>"
      ],
      "text/plain": [
       "                                                               title  \\\n",
       "__index_level_0__                                                      \n",
       "12                              VanEck makes another Bitcoin ETF run   \n",
       "16                 Markets Report: Bitcoin starts 2021 with a ban...   \n",
       "87                               Bitcoin Rally Extends Into New Year   \n",
       "127                         BitPay CCO Says Bitcoin Will Hit $45,000   \n",
       "166                Markets Report: Bitcoin Dives to $27,700 as a ...   \n",
       "\n",
       "                                                                text  \\\n",
       "__index_level_0__                                                      \n",
       "12                 Investment management firm VanEck has filed wi...   \n",
       "16                 Bitcoin begins a new year on a high in almost ...   \n",
       "87                 Jan.03 -- Bitcoin is continuing its rally into...   \n",
       "127                Jan.04 -- Bitpay Chief Commercial Officer Sonn...   \n",
       "166                Bitcoin is seeing a wild start to the week wit...   \n",
       "\n",
       "                                     source_name  \\\n",
       "__index_level_0__                                  \n",
       "12                              Modern Consensus   \n",
       "16                              Modern Consensus   \n",
       "87                 Bloomberg Markets and Finance   \n",
       "127                         Bloomberg Technology   \n",
       "166                             Modern Consensus   \n",
       "\n",
       "                                              date  tanalysis_absa  \\\n",
       "__index_level_0__                                                    \n",
       "12                 Fri, 01 Jan 2021 11:07:58 -0500             0.0   \n",
       "16                 Fri, 01 Jan 2021 09:51:10 -0500             0.9   \n",
       "87                 Sun, 03 Jan 2021 18:46:20 -0500             0.8   \n",
       "127                Mon, 04 Jan 2021 20:29:35 -0500             0.8   \n",
       "166                Mon, 04 Jan 2021 09:01:49 -0500            -0.8   \n",
       "\n",
       "                   economy_absa  regulation_absa  technology_absa  \\\n",
       "__index_level_0__                                                   \n",
       "12                          0.0              0.3              0.0   \n",
       "16                          0.0              0.0              0.0   \n",
       "87                          0.0              0.0              0.0   \n",
       "127                         0.0              0.0              0.0   \n",
       "166                         0.0              0.0              0.0   \n",
       "\n",
       "                   adoption_absa  cybersecurity_absa  \\\n",
       "__index_level_0__                                      \n",
       "12                           0.7                 0.0   \n",
       "16                           0.5                 0.0   \n",
       "87                           0.0                 0.0   \n",
       "127                          0.0                 0.0   \n",
       "166                          0.0                 0.0   \n",
       "\n",
       "                                                                 NER  \\\n",
       "__index_level_0__                                                      \n",
       "12                 [[VanEck, ORG], [VanEck, ORG], [the U.S. Secur...   \n",
       "16                 [[2021, DATE], [500,000, MONEY], [a new year, ...   \n",
       "87                 [[New Year, EVENT], [Jan.03 --, DATE], [the ne...   \n",
       "127                [[BitPay CCO, ORG], [45,000, MONEY], [Jan.04, ...   \n",
       "166                [[27,700, MONEY], [a Crazy Weekend, DATE], [th...   \n",
       "\n",
       "                                                     news_text_title  \\\n",
       "__index_level_0__                                                      \n",
       "12                 VanEck makes another Bitcoin ETF run Investmen...   \n",
       "16                 Markets Report: Bitcoin starts 2021 with a ban...   \n",
       "87                 Bitcoin Rally Extends Into New Year Jan.03 -- ...   \n",
       "127                BitPay CCO Says Bitcoin Will Hit $45,000 Jan.0...   \n",
       "166                Markets Report: Bitcoin Dives to $27,700 as a ...   \n",
       "\n",
       "                  sentiment_CryptoBERT  score_CryptoBERT sentiment_finbert  \\\n",
       "__index_level_0__                                                            \n",
       "12                             LABEL_1          0.953463           neutral   \n",
       "16                             LABEL_1          0.966029          positive   \n",
       "87                             LABEL_1          0.957252          positive   \n",
       "127                            LABEL_1          0.914190           neutral   \n",
       "166                            LABEL_0          0.917384          negative   \n",
       "\n",
       "                   score_finbert  \n",
       "__index_level_0__                 \n",
       "12                      0.704972  \n",
       "16                      0.927262  \n",
       "87                      0.817353  \n",
       "127                     0.362224  \n",
       "166                     0.932793  "
      ]
     },
     "execution_count": 8,
     "metadata": {},
     "output_type": "execute_result"
    }
   ],
   "source": [
    "df = dataset.to_pandas()\n",
    "df.set_index('__index_level_0__', inplace=True)\n",
    "\n",
    "print(df.shape)\n",
    "df.head()"
   ]
  },
  {
   "cell_type": "code",
   "execution_count": 10,
   "metadata": {},
   "outputs": [],
   "source": [
    "# rename index column\n",
    "df.index.name = 'index'"
   ]
  },
  {
   "cell_type": "code",
   "execution_count": 11,
   "metadata": {},
   "outputs": [],
   "source": [
    "df.to_parquet(\"../data/5.cryptonews_sentiment.parquet\")"
   ]
  }
 ],
 "metadata": {
  "kernelspec": {
   "display_name": "Python 3",
   "language": "python",
   "name": "python3"
  },
  "language_info": {
   "codemirror_mode": {
    "name": "ipython",
    "version": 3
   },
   "file_extension": ".py",
   "mimetype": "text/x-python",
   "name": "python",
   "nbconvert_exporter": "python",
   "pygments_lexer": "ipython3",
   "version": "3.12.9"
  }
 },
 "nbformat": 4,
 "nbformat_minor": 2
}
