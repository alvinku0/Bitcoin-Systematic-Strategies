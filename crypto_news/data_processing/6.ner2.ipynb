{
 "cells": [
  {
   "cell_type": "code",
   "execution_count": 4,
   "metadata": {},
   "outputs": [],
   "source": [
    "import pandas as pd\n",
    "from transformers import pipeline\n",
    "from datasets import load_dataset\n",
    "# from tqdm.auto import tqdm\n",
    "# import torch"
   ]
  },
  {
   "cell_type": "code",
   "execution_count": 3,
   "metadata": {},
   "outputs": [],
   "source": [
    "# import pandas as pd\n",
    "# df = pd.read_parquet('../data/5b.cryptonews_topic_sentiment.parquet')\n",
    "# df.head()"
   ]
  },
  {
   "cell_type": "markdown",
   "metadata": {},
   "source": [
    "### Approach 1: pretrained model - Jean-Baptiste/roberta-large-ner-english\n",
    "- poor performance"
   ]
  },
  {
   "cell_type": "code",
   "execution_count": 3,
   "metadata": {},
   "outputs": [
    {
     "name": "stdout",
     "output_type": "stream",
     "text": [
      "Dataset({\n",
      "    features: ['title', 'text', 'source_name', 'date', 'topic', 'topic_confidence_score', 'news_text_title', 'sentiment_finbert', 'score_finbert', 'tanalysis_absa', 'economy_absa', 'regulation_absa', 'technology_absa', 'adoption_absa', 'cybersecurity_absa', 'People', 'Organizations', 'Cryptocurrencies', 'Events'],\n",
      "    num_rows: 155376\n",
      "})\n"
     ]
    }
   ],
   "source": [
    "dataset = load_dataset('parquet', data_files='../data/5b.cryptonews_topic_sentiment.parquet')['train']\n",
    "print(dataset)\n",
    "\n",
    "# select first 1000 rows\n",
    "dataset = dataset.select(range(1000))\n",
    "\n",
    "dataset = dataset.map(lambda example: {\n",
    "  'news_text_title': example['title'] + ' ' + example['text']\n",
    "})"
   ]
  },
  {
   "cell_type": "code",
   "execution_count": 4,
   "metadata": {},
   "outputs": [
    {
     "name": "stdout",
     "output_type": "stream",
     "text": [
      "WARNING:tensorflow:From C:\\Users\\phku0\\AppData\\Local\\Packages\\PythonSoftwareFoundation.Python.3.11_qbz5n2kfra8p0\\LocalCache\\local-packages\\Python311\\site-packages\\tf_keras\\src\\losses.py:2976: The name tf.losses.sparse_softmax_cross_entropy is deprecated. Please use tf.compat.v1.losses.sparse_softmax_cross_entropy instead.\n",
      "\n"
     ]
    },
    {
     "name": "stderr",
     "output_type": "stream",
     "text": [
      "Device set to use cuda:0\n"
     ]
    }
   ],
   "source": [
    "# test\n",
    "# NER model from Hugging Face\n",
    "pipe = pipeline(\"token-classification\", model=\"Jean-Baptiste/roberta-large-ner-english\")\n",
    "txt = \"Bank of America: Bitcoin Bull Run Is the 'Mother of All Bubbles' A senior analyst at Bank of America thinks that Bitcoin's latest bull run “blows the doors off prior bubbles.\"\n",
    "ner_result = pipe(txt)"
   ]
  },
  {
   "cell_type": "code",
   "execution_count": 5,
   "metadata": {},
   "outputs": [
    {
     "name": "stderr",
     "output_type": "stream",
     "text": [
      "Device set to use cuda:0\n"
     ]
    }
   ],
   "source": [
    "# NER model from Hugging Face\n",
    "pipe = pipeline(\"token-classification\", model=\"Jean-Baptiste/roberta-large-ner-english\")\n",
    "\n",
    "def NER(batch):\n",
    "  batch['NER'] = pipe(batch['news_text_title'])\n",
    "  return batch\n",
    "\n",
    "dataset = dataset.map(NER, batched=True, batch_size=5)"
   ]
  },
  {
   "cell_type": "code",
   "execution_count": 6,
   "metadata": {},
   "outputs": [],
   "source": [
    "def post_process_ner(ner_output):\n",
    "  processed_entities = []\n",
    "  current_entity = {}\n",
    "  \n",
    "  for token in ner_output:\n",
    "    if current_entity and token['entity'] == current_entity['entity'] and token['start'] == current_entity['end'] + 1:\n",
    "      current_entity['word'] += token['word'].replace('Ġ', ' ')\n",
    "      current_entity['end'] = token['end']\n",
    "    else:\n",
    "      if current_entity:\n",
    "        processed_entities.append(current_entity)\n",
    "      current_entity = token.copy()\n",
    "  \n",
    "  if current_entity:\n",
    "    processed_entities.append(current_entity)\n",
    "  \n",
    "  return processed_entities\n",
    "\n",
    "def get_entities(processed_ner_output, entity_type=None):\n",
    "  if entity_type is None:\n",
    "    return {entity['word'][1:] for entity in processed_ner_output}\n",
    "  else:\n",
    "    return {entity['word'][1:] for entity in processed_ner_output if entity['entity'] == entity_type}\n",
    "\n",
    "\n",
    "# aply post-processing and get entities from NER results\n",
    "dataset = dataset.map(lambda batch: {\n",
    "  'entities': get_entities(post_process_ner(batch['NER']))\n",
    "})"
   ]
  },
  {
   "cell_type": "code",
   "execution_count": 7,
   "metadata": {},
   "outputs": [
    {
     "data": {
      "text/html": [
       "<div>\n",
       "<style scoped>\n",
       "    .dataframe tbody tr th:only-of-type {\n",
       "        vertical-align: middle;\n",
       "    }\n",
       "\n",
       "    .dataframe tbody tr th {\n",
       "        vertical-align: top;\n",
       "    }\n",
       "\n",
       "    .dataframe thead th {\n",
       "        text-align: right;\n",
       "    }\n",
       "</style>\n",
       "<table border=\"1\" class=\"dataframe\">\n",
       "  <thead>\n",
       "    <tr style=\"text-align: right;\">\n",
       "      <th></th>\n",
       "      <th>title</th>\n",
       "      <th>text</th>\n",
       "      <th>entities</th>\n",
       "    </tr>\n",
       "  </thead>\n",
       "  <tbody>\n",
       "    <tr>\n",
       "      <th>0</th>\n",
       "      <td>2021 Bitcoin Price Predictions: Is The Massive...</td>\n",
       "      <td>As the bitcoin price hovers under the psycholo...</td>\n",
       "      <td>[]</td>\n",
       "    </tr>\n",
       "    <tr>\n",
       "      <th>1</th>\n",
       "      <td>Will Central Banks Hold Bitcoin in 2021?</td>\n",
       "      <td>Central banks (CB) will hold bitcoin sooner or...</td>\n",
       "      <td>[Kr, er, ¼]</td>\n",
       "    </tr>\n",
       "    <tr>\n",
       "      <th>2</th>\n",
       "      <td>Bitcoin Is Digital Social Justice, feat. Tyron...</td>\n",
       "      <td>The podcaster and CEO of Onramp Invest discuss...</td>\n",
       "      <td>[, Tyr, i, On, ne Ross, mp Invest, De]</td>\n",
       "    </tr>\n",
       "    <tr>\n",
       "      <th>3</th>\n",
       "      <td>Bitcoin hits all-time high against gold as hav...</td>\n",
       "      <td>BTC has hit another milestone, this time again...</td>\n",
       "      <td>[BTC]</td>\n",
       "    </tr>\n",
       "    <tr>\n",
       "      <th>4</th>\n",
       "      <td>The Last Time This Indicator Flashed, Bitcoin ...</td>\n",
       "      <td>Bitcoin has been facing some turbulence as of ...</td>\n",
       "      <td>[BTC, Bitcoin]</td>\n",
       "    </tr>\n",
       "    <tr>\n",
       "      <th>...</th>\n",
       "      <td>...</td>\n",
       "      <td>...</td>\n",
       "      <td>...</td>\n",
       "    </tr>\n",
       "    <tr>\n",
       "      <th>995</th>\n",
       "      <td>Associated Gas Pilot Could Lead to Huge Boon f...</td>\n",
       "      <td>Russian Bitcoin (BTC) miners could be in for a...</td>\n",
       "      <td>[Russian, , ns, t, TC, Gaz, Kh, rom, Russian B...</td>\n",
       "    </tr>\n",
       "    <tr>\n",
       "      <th>996</th>\n",
       "      <td>Bitcoin Mining Revenue Hits $20 Billion, Doubl...</td>\n",
       "      <td>Bitcoin miners are making a killing from this ...</td>\n",
       "      <td>[]</td>\n",
       "    </tr>\n",
       "    <tr>\n",
       "      <th>997</th>\n",
       "      <td>Low-Fee Bitcoin Trust to Challenge Grayscale</td>\n",
       "      <td>Custodial Fee Wars Cryptocurrency is still bar...</td>\n",
       "      <td>[, Bit, IT, B, ise 10 Crypto Index Fund, ys, a...</td>\n",
       "    </tr>\n",
       "    <tr>\n",
       "      <th>998</th>\n",
       "      <td>Bitcoin Faced First Major Correction In Curren...</td>\n",
       "      <td>This was one of the most intense weeks. Bitcoi...</td>\n",
       "      <td>[Update, The Crypto Weekly]</td>\n",
       "    </tr>\n",
       "    <tr>\n",
       "      <th>999</th>\n",
       "      <td>Bitcoin Faces First Major Correction In Curren...</td>\n",
       "      <td>This was one of the most volatile weeks in the...</td>\n",
       "      <td>[Update, The Crypto Weekly]</td>\n",
       "    </tr>\n",
       "  </tbody>\n",
       "</table>\n",
       "<p>1000 rows × 3 columns</p>\n",
       "</div>"
      ],
      "text/plain": [
       "                                                 title  \\\n",
       "0    2021 Bitcoin Price Predictions: Is The Massive...   \n",
       "1             Will Central Banks Hold Bitcoin in 2021?   \n",
       "2    Bitcoin Is Digital Social Justice, feat. Tyron...   \n",
       "3    Bitcoin hits all-time high against gold as hav...   \n",
       "4    The Last Time This Indicator Flashed, Bitcoin ...   \n",
       "..                                                 ...   \n",
       "995  Associated Gas Pilot Could Lead to Huge Boon f...   \n",
       "996  Bitcoin Mining Revenue Hits $20 Billion, Doubl...   \n",
       "997       Low-Fee Bitcoin Trust to Challenge Grayscale   \n",
       "998  Bitcoin Faced First Major Correction In Curren...   \n",
       "999  Bitcoin Faces First Major Correction In Curren...   \n",
       "\n",
       "                                                  text  \\\n",
       "0    As the bitcoin price hovers under the psycholo...   \n",
       "1    Central banks (CB) will hold bitcoin sooner or...   \n",
       "2    The podcaster and CEO of Onramp Invest discuss...   \n",
       "3    BTC has hit another milestone, this time again...   \n",
       "4    Bitcoin has been facing some turbulence as of ...   \n",
       "..                                                 ...   \n",
       "995  Russian Bitcoin (BTC) miners could be in for a...   \n",
       "996  Bitcoin miners are making a killing from this ...   \n",
       "997  Custodial Fee Wars Cryptocurrency is still bar...   \n",
       "998  This was one of the most intense weeks. Bitcoi...   \n",
       "999  This was one of the most volatile weeks in the...   \n",
       "\n",
       "                                              entities  \n",
       "0                                                   []  \n",
       "1                                          [Kr, er, ¼]  \n",
       "2               [, Tyr, i, On, ne Ross, mp Invest, De]  \n",
       "3                                                [BTC]  \n",
       "4                                       [BTC, Bitcoin]  \n",
       "..                                                 ...  \n",
       "995  [Russian, , ns, t, TC, Gaz, Kh, rom, Russian B...  \n",
       "996                                                 []  \n",
       "997  [, Bit, IT, B, ise 10 Crypto Index Fund, ys, a...  \n",
       "998                        [Update, The Crypto Weekly]  \n",
       "999                        [Update, The Crypto Weekly]  \n",
       "\n",
       "[1000 rows x 3 columns]"
      ]
     },
     "execution_count": 7,
     "metadata": {},
     "output_type": "execute_result"
    }
   ],
   "source": [
    "df = dataset.to_pandas()\n",
    "df[['title','text','entities']]\n",
    "\n",
    "# poor performance, need to look for another NER approach"
   ]
  },
  {
   "cell_type": "markdown",
   "metadata": {},
   "source": [
    "### Approach 2: fine-tune a model\n"
   ]
  },
  {
   "cell_type": "code",
   "execution_count": 8,
   "metadata": {},
   "outputs": [
    {
     "data": {
      "text/plain": [
       "'\\nChoose a Base Model\\nGeneral-purpose: bert-base-uncased, roberta-base\\nDomain-specific: ElKulako/cryptobert (for crypto), ProsusAI/finbert (finance), or modernbert?\\n\\nLoad NER dataset (e.g., CoNLL-2003, or any other crypo news dataset with NER annotations)\\nTokenize and Align Labels\\nFine-tune the Model\\nEvaluate the Model (metrics like precision, recall, and F1-score)\\n'"
      ]
     },
     "execution_count": 8,
     "metadata": {},
     "output_type": "execute_result"
    }
   ],
   "source": [
    "'''\n",
    "Choose a Base Model: bert-base-uncased, roberta-base, ElKulako/cryptobert, ProsusAI/finbert, or modernbert?\n",
    "Load NER dataset - ???????\n",
    "Tokenize and Align Labels\n",
    "Fine-tune the Model\n",
    "Evaluate the Model (metrics like precision, recall, and F1-score)\n",
    "\n",
    "Problem: Do we have suitable crypto news NER dataset?\n",
    "'''"
   ]
  }
 ],
 "metadata": {
  "kernelspec": {
   "display_name": "Python 3",
   "language": "python",
   "name": "python3"
  },
  "language_info": {
   "codemirror_mode": {
    "name": "ipython",
    "version": 3
   },
   "file_extension": ".py",
   "mimetype": "text/x-python",
   "name": "python",
   "nbconvert_exporter": "python",
   "pygments_lexer": "ipython3",
   "version": "3.11.9"
  }
 },
 "nbformat": 4,
 "nbformat_minor": 2
}
