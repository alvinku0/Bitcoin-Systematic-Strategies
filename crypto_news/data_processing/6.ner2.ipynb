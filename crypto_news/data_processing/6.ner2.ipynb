{
 "cells": [
  {
   "cell_type": "code",
   "execution_count": 2,
   "metadata": {},
   "outputs": [
    {
     "name": "stderr",
     "output_type": "stream",
     "text": [
      "/home/alvinku/github_repo/fyp/.venv/lib/python3.12/site-packages/tqdm/auto.py:21: TqdmWarning: IProgress not found. Please update jupyter and ipywidgets. See https://ipywidgets.readthedocs.io/en/stable/user_install.html\n",
      "  from .autonotebook import tqdm as notebook_tqdm\n"
     ]
    }
   ],
   "source": [
    "import pandas as pd\n",
    "from transformers import pipeline\n",
    "from datasets import load_dataset\n",
    "# from datasets import Dataset\n",
    "# from tqdm.auto import tqdm\n",
    "# import torch"
   ]
  },
  {
   "cell_type": "code",
   "execution_count": 2,
   "metadata": {},
   "outputs": [],
   "source": [
    "# import pandas as pd\n",
    "# df = pd.read_parquet('../data/5b.cryptonews_topic_sentiment.parquet')\n",
    "# df"
   ]
  },
  {
   "cell_type": "code",
   "execution_count": 6,
   "metadata": {},
   "outputs": [
    {
     "data": {
      "application/vnd.jupyter.widget-view+json": {
       "model_id": "79dfd548dd13480480ac75a1b540b8bb",
       "version_major": 2,
       "version_minor": 0
      },
      "text/plain": [
       "Generating train split: 0 examples [00:00, ? examples/s]"
      ]
     },
     "metadata": {},
     "output_type": "display_data"
    },
    {
     "name": "stdout",
     "output_type": "stream",
     "text": [
      "Dataset({\n",
      "    features: ['title', 'text', 'source_name', 'date', 'topic', 'topic_confidence_score', 'news_text_title', 'sentiment_finbert', 'score_finbert', 'tanalysis_absa', 'economy_absa', 'regulation_absa', 'technology_absa', 'adoption_absa', 'cybersecurity_absa', 'People', 'Organizations', 'Cryptocurrencies', 'Events'],\n",
      "    num_rows: 155376\n",
      "})\n"
     ]
    },
    {
     "data": {
      "application/vnd.jupyter.widget-view+json": {
       "model_id": "d322ec7efe2c41288bef11be92be9be0",
       "version_major": 2,
       "version_minor": 0
      },
      "text/plain": [
       "Map:   0%|          | 0/155376 [00:00<?, ? examples/s]"
      ]
     },
     "metadata": {},
     "output_type": "display_data"
    }
   ],
   "source": [
    "dataset = load_dataset('parquet', data_files='../data/5b.cryptonews_topic_sentiment.parquet')['train']\n",
    "print(dataset)\n",
    "\n",
    "dataset = dataset.map(lambda example: {\n",
    "  'news_text_title': example['title'] + ' ' + example['text']\n",
    "})"
   ]
  },
  {
   "cell_type": "code",
   "execution_count": null,
   "metadata": {},
   "outputs": [],
   "source": [
    "# NER model from Hugging Face\n",
    "pipe = pipeline(\"token-classification\", model=\"Jean-Baptiste/roberta-large-ner-english\")\n",
    "\n",
    "def NER(batch):\n",
    "  results = pipe(batch['news_text_title'])\n",
    "  # batch['sentiment_CryptoBERT'] = [result['label'] for result in results]\n",
    "  # batch['score_CryptoBERT'] = [result['score'] for result in results]\n",
    "  return batch\n",
    "\n",
    "dataset = dataset.map(NER, batched=True, batch_size=5)"
   ]
  },
  {
   "cell_type": "code",
   "execution_count": null,
   "metadata": {},
   "outputs": [],
   "source": [
    "pipe = pipeline(\"token-classification\", model=\"Jean-Baptiste/roberta-large-ner-english\")\n",
    "txt = \"Bank of America: Bitcoin Bull Run Is the 'Mother of All Bubbles' A senior analyst at Bank of America thinks that Bitcoin's latest bull run “blows the doors off prior bubbles.\"\n",
    "result = pipe(txt)\n",
    "\n",
    "print(\"done\")\n",
    "\n",
    "def process_ner_output(raw_output):\n",
    "  # entities = []\n",
    "  # current_entity = None\n",
    "\n",
    "  for token in raw_output:\n",
    "    print(token)\n",
    "  pass\n",
    "\n",
    "process_ner_output(result)"
   ]
  },
  {
   "cell_type": "code",
   "execution_count": null,
   "metadata": {},
   "outputs": [],
   "source": [
    "'''\n",
    "method 2:\n",
    "directly use the NER model from Hugging Face\n",
    "Jean-Baptiste/roberta-large-ner-english\n",
    "\n",
    "'''"
   ]
  },
  {
   "cell_type": "code",
   "execution_count": null,
   "metadata": {},
   "outputs": [],
   "source": [
    "'''\n",
    "method 1:\n",
    "\n",
    "Choose a Base Model\n",
    "General-purpose: bert-base-uncased, roberta-base\n",
    "Domain-specific: ElKulako/cryptobert (for crypto), ProsusAI/finbert (finance), or modernbert?\n",
    "\n",
    "Load NER dataset (e.g., CoNLL-2003, or any other crypo news dataset with NER annotations)\n",
    "Tokenize and Align Labels\n",
    "Fine-tune the Model\n",
    "Evaluate the Model (metrics like precision, recall, and F1-score)\n",
    "'''"
   ]
  }
 ],
 "metadata": {
  "kernelspec": {
   "display_name": ".venv",
   "language": "python",
   "name": "python3"
  },
  "language_info": {
   "codemirror_mode": {
    "name": "ipython",
    "version": 3
   },
   "file_extension": ".py",
   "mimetype": "text/x-python",
   "name": "python",
   "nbconvert_exporter": "python",
   "pygments_lexer": "ipython3",
   "version": "3.12.3"
  }
 },
 "nbformat": 4,
 "nbformat_minor": 2
}
