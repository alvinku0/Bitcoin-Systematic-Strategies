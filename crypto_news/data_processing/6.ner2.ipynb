{
 "cells": [
  {
   "cell_type": "code",
   "execution_count": 1,
   "metadata": {},
   "outputs": [
    {
     "name": "stderr",
     "output_type": "stream",
     "text": [
      "/home/codespace/.local/lib/python3.12/site-packages/tqdm/auto.py:21: TqdmWarning: IProgress not found. Please update jupyter and ipywidgets. See https://ipywidgets.readthedocs.io/en/stable/user_install.html\n",
      "  from .autonotebook import tqdm as notebook_tqdm\n",
      "2025-04-11 04:40:01.605267: E external/local_xla/xla/stream_executor/cuda/cuda_fft.cc:477] Unable to register cuFFT factory: Attempting to register factory for plugin cuFFT when one has already been registered\n",
      "WARNING: All log messages before absl::InitializeLog() is called are written to STDERR\n",
      "E0000 00:00:1744346401.775756    4609 cuda_dnn.cc:8310] Unable to register cuDNN factory: Attempting to register factory for plugin cuDNN when one has already been registered\n",
      "E0000 00:00:1744346401.826345    4609 cuda_blas.cc:1418] Unable to register cuBLAS factory: Attempting to register factory for plugin cuBLAS when one has already been registered\n",
      "2025-04-11 04:40:02.232264: I tensorflow/core/platform/cpu_feature_guard.cc:210] This TensorFlow binary is optimized to use available CPU instructions in performance-critical operations.\n",
      "To enable the following instructions: AVX2 FMA, in other operations, rebuild TensorFlow with the appropriate compiler flags.\n"
     ]
    }
   ],
   "source": [
    "import pandas as pd\n",
    "from transformers import pipeline\n",
    "from datasets import load_dataset\n",
    "from tqdm.auto import tqdm\n",
    "import torch"
   ]
  },
  {
   "cell_type": "code",
   "execution_count": 2,
   "metadata": {},
   "outputs": [
    {
     "data": {
      "application/vnd.microsoft.datawrangler.viewer.v0+json": {
       "columns": [
        {
         "name": "index",
         "rawType": "int64",
         "type": "integer"
        },
        {
         "name": "title",
         "rawType": "object",
         "type": "string"
        },
        {
         "name": "text",
         "rawType": "object",
         "type": "string"
        },
        {
         "name": "source_name",
         "rawType": "object",
         "type": "string"
        },
        {
         "name": "date",
         "rawType": "datetime64[ns, UTC]",
         "type": "unknown"
        },
        {
         "name": "topic",
         "rawType": "object",
         "type": "string"
        },
        {
         "name": "topic_confidence_score",
         "rawType": "float64",
         "type": "float"
        },
        {
         "name": "news_text_title",
         "rawType": "object",
         "type": "string"
        },
        {
         "name": "sentiment_finbert",
         "rawType": "object",
         "type": "string"
        },
        {
         "name": "score_finbert",
         "rawType": "float64",
         "type": "float"
        },
        {
         "name": "tanalysis_absa",
         "rawType": "float64",
         "type": "float"
        },
        {
         "name": "economy_absa",
         "rawType": "float64",
         "type": "float"
        },
        {
         "name": "regulation_absa",
         "rawType": "float64",
         "type": "float"
        },
        {
         "name": "technology_absa",
         "rawType": "float64",
         "type": "float"
        },
        {
         "name": "adoption_absa",
         "rawType": "float64",
         "type": "float"
        },
        {
         "name": "cybersecurity_absa",
         "rawType": "float64",
         "type": "float"
        },
        {
         "name": "People",
         "rawType": "object",
         "type": "unknown"
        },
        {
         "name": "Organizations",
         "rawType": "object",
         "type": "unknown"
        },
        {
         "name": "Cryptocurrencies",
         "rawType": "object",
         "type": "unknown"
        },
        {
         "name": "Events",
         "rawType": "object",
         "type": "unknown"
        }
       ],
       "conversionMethod": "pd.DataFrame",
       "ref": "b86cb236-5dc1-4734-b02b-263aab7f3370",
       "rows": [
        [
         "0",
         "2021 Bitcoin Price Predictions: Is The Massive Bitcoin Bull Run About To Peak?",
         "As the bitcoin price hovers under the psychological $30,000 per bitcoin level, cryptocurrency traders and investors are looking for clues that might reveal how bitcoin will fare through 2021...",
         "Forbes",
         "2021-01-02 00:20:00+00:00",
         "liquidity, volatility, price action, price movement, trading",
         "0.23857398331165303",
         "2021 Bitcoin Price Predictions: Is The Massive Bitcoin Bull Run About To Peak? As the bitcoin price hovers under the psychological $30,000 per bitcoin level, cryptocurrency traders and investors are looking for clues that might reveal how bitcoin will fare through 2021...",
         "neutral",
         "0.8763935565948486",
         "0.5",
         "0.0",
         "0.0",
         "0.0",
         "0.0",
         "0.0",
         "[]",
         "[]",
         "['Bitcoin']",
         "[]"
        ],
        [
         "1",
         "Will Central Banks Hold Bitcoin in 2021?",
         "Central banks (CB) will hold bitcoin sooner or later, says Krüger. The reason, he says, has to do with gold and how central banks treat it.",
         "BeInCrypto",
         "2021-01-01 20:31:35+00:00",
         "consensus updates",
         "0.19900465011596602",
         "Will Central Banks Hold Bitcoin in 2021? Central banks (CB) will hold bitcoin sooner or later, says Krüger. The reason, he says, has to do with gold and how central banks treat it.",
         "neutral",
         "0.9169489145278931",
         "0.0",
         "0.5",
         "0.0",
         "0.0",
         "0.7000000000000001",
         "0.0",
         "['Krüger']",
         "['Central banks']",
         "['Bitcoin']",
         "[]"
        ],
        [
         "2",
         "Bitcoin Is Digital Social Justice, feat. Tyrone Ross",
         "The podcaster and CEO of Onramp Invest discusses DeFi, income inequality and the opportunity for bitcoin in 2021.",
         "Coindesk",
         "2021-01-01 19:15:02+00:00",
         "social platforms",
         "0.299584984779357",
         "Bitcoin Is Digital Social Justice, feat. Tyrone Ross The podcaster and CEO of Onramp Invest discusses DeFi, income inequality and the opportunity for bitcoin in 2021.",
         "neutral",
         "0.9035671353340149",
         "0.0",
         "0.30000000000000004",
         "0.0",
         "0.5",
         "0.7000000000000001",
         "0.0",
         "['Tyrone Ross']",
         "['Onramp Invest']",
         "['Bitcoin']",
         "[]"
        ],
        [
         "3",
         "Bitcoin hits all-time high against gold as haven battle rages",
         "BTC has hit another milestone, this time against gold bullion, the world's oldest reserve asset.",
         "Cointelegraph",
         "2021-01-01 18:52:00+00:00",
         "liquidity, volatility, price action, price movement, trading",
         "0.430232048034667",
         "Bitcoin hits all-time high against gold as haven battle rages BTC has hit another milestone, this time against gold bullion, the world's oldest reserve asset.",
         "positive",
         "0.9311283826828003",
         "1.0",
         "0.0",
         "0.0",
         "0.0",
         "0.0",
         "0.0",
         "[]",
         "[]",
         "['BTC' 'Bitcoin']",
         "[]"
        ],
        [
         "4",
         "The Last Time This Indicator Flashed, Bitcoin Dropped 38%; Now It's Back",
         "Bitcoin has been facing some turbulence as of late, with the cryptocurrency's price action greatly favoring bulls Each dip has resulted in aggressive buying pressure that leads it to new all-time highs, with the ongoing bull market turning into a full parabolic ascent The crypto is fast approaching $30,000, with this being a key level that could prove to be a major hurdle for the crypto to break above One analyst spoke about BTC's outlook, […]",
         "Bitcoinist",
         "2021-01-01 18:00:00+00:00",
         "liquidity, volatility, price action, price movement, trading",
         "0.522232472896575",
         "The Last Time This Indicator Flashed, Bitcoin Dropped 38%; Now It's Back Bitcoin has been facing some turbulence as of late, with the cryptocurrency's price action greatly favoring bulls Each dip has resulted in aggressive buying pressure that leads it to new all-time highs, with the ongoing bull market turning into a full parabolic ascent The crypto is fast approaching $30,000, with this being a key level that could prove to be a major hurdle for the crypto to break above One analyst spoke about BTC's outlook, […]",
         "negative",
         "0.716468870639801",
         "0.30000000000000004",
         "0.0",
         "0.0",
         "0.0",
         "0.0",
         "0.0",
         "[]",
         "[]",
         "['Bitcoin' 'BTC']",
         "[]"
        ]
       ],
       "shape": {
        "columns": 19,
        "rows": 5
       }
      },
      "text/html": [
       "<div>\n",
       "<style scoped>\n",
       "    .dataframe tbody tr th:only-of-type {\n",
       "        vertical-align: middle;\n",
       "    }\n",
       "\n",
       "    .dataframe tbody tr th {\n",
       "        vertical-align: top;\n",
       "    }\n",
       "\n",
       "    .dataframe thead th {\n",
       "        text-align: right;\n",
       "    }\n",
       "</style>\n",
       "<table border=\"1\" class=\"dataframe\">\n",
       "  <thead>\n",
       "    <tr style=\"text-align: right;\">\n",
       "      <th></th>\n",
       "      <th>title</th>\n",
       "      <th>text</th>\n",
       "      <th>source_name</th>\n",
       "      <th>date</th>\n",
       "      <th>topic</th>\n",
       "      <th>topic_confidence_score</th>\n",
       "      <th>news_text_title</th>\n",
       "      <th>sentiment_finbert</th>\n",
       "      <th>score_finbert</th>\n",
       "      <th>tanalysis_absa</th>\n",
       "      <th>economy_absa</th>\n",
       "      <th>regulation_absa</th>\n",
       "      <th>technology_absa</th>\n",
       "      <th>adoption_absa</th>\n",
       "      <th>cybersecurity_absa</th>\n",
       "      <th>People</th>\n",
       "      <th>Organizations</th>\n",
       "      <th>Cryptocurrencies</th>\n",
       "      <th>Events</th>\n",
       "    </tr>\n",
       "  </thead>\n",
       "  <tbody>\n",
       "    <tr>\n",
       "      <th>0</th>\n",
       "      <td>2021 Bitcoin Price Predictions: Is The Massive...</td>\n",
       "      <td>As the bitcoin price hovers under the psycholo...</td>\n",
       "      <td>Forbes</td>\n",
       "      <td>2021-01-02 00:20:00+00:00</td>\n",
       "      <td>liquidity, volatility, price action, price mov...</td>\n",
       "      <td>0.238574</td>\n",
       "      <td>2021 Bitcoin Price Predictions: Is The Massive...</td>\n",
       "      <td>neutral</td>\n",
       "      <td>0.876394</td>\n",
       "      <td>0.5</td>\n",
       "      <td>0.0</td>\n",
       "      <td>0.0</td>\n",
       "      <td>0.0</td>\n",
       "      <td>0.0</td>\n",
       "      <td>0.0</td>\n",
       "      <td>[]</td>\n",
       "      <td>[]</td>\n",
       "      <td>[Bitcoin]</td>\n",
       "      <td>[]</td>\n",
       "    </tr>\n",
       "    <tr>\n",
       "      <th>1</th>\n",
       "      <td>Will Central Banks Hold Bitcoin in 2021?</td>\n",
       "      <td>Central banks (CB) will hold bitcoin sooner or...</td>\n",
       "      <td>BeInCrypto</td>\n",
       "      <td>2021-01-01 20:31:35+00:00</td>\n",
       "      <td>consensus updates</td>\n",
       "      <td>0.199005</td>\n",
       "      <td>Will Central Banks Hold Bitcoin in 2021? Centr...</td>\n",
       "      <td>neutral</td>\n",
       "      <td>0.916949</td>\n",
       "      <td>0.0</td>\n",
       "      <td>0.5</td>\n",
       "      <td>0.0</td>\n",
       "      <td>0.0</td>\n",
       "      <td>0.7</td>\n",
       "      <td>0.0</td>\n",
       "      <td>[Krüger]</td>\n",
       "      <td>[Central banks]</td>\n",
       "      <td>[Bitcoin]</td>\n",
       "      <td>[]</td>\n",
       "    </tr>\n",
       "    <tr>\n",
       "      <th>2</th>\n",
       "      <td>Bitcoin Is Digital Social Justice, feat. Tyron...</td>\n",
       "      <td>The podcaster and CEO of Onramp Invest discuss...</td>\n",
       "      <td>Coindesk</td>\n",
       "      <td>2021-01-01 19:15:02+00:00</td>\n",
       "      <td>social platforms</td>\n",
       "      <td>0.299585</td>\n",
       "      <td>Bitcoin Is Digital Social Justice, feat. Tyron...</td>\n",
       "      <td>neutral</td>\n",
       "      <td>0.903567</td>\n",
       "      <td>0.0</td>\n",
       "      <td>0.3</td>\n",
       "      <td>0.0</td>\n",
       "      <td>0.5</td>\n",
       "      <td>0.7</td>\n",
       "      <td>0.0</td>\n",
       "      <td>[Tyrone Ross]</td>\n",
       "      <td>[Onramp Invest]</td>\n",
       "      <td>[Bitcoin]</td>\n",
       "      <td>[]</td>\n",
       "    </tr>\n",
       "    <tr>\n",
       "      <th>3</th>\n",
       "      <td>Bitcoin hits all-time high against gold as hav...</td>\n",
       "      <td>BTC has hit another milestone, this time again...</td>\n",
       "      <td>Cointelegraph</td>\n",
       "      <td>2021-01-01 18:52:00+00:00</td>\n",
       "      <td>liquidity, volatility, price action, price mov...</td>\n",
       "      <td>0.430232</td>\n",
       "      <td>Bitcoin hits all-time high against gold as hav...</td>\n",
       "      <td>positive</td>\n",
       "      <td>0.931128</td>\n",
       "      <td>1.0</td>\n",
       "      <td>0.0</td>\n",
       "      <td>0.0</td>\n",
       "      <td>0.0</td>\n",
       "      <td>0.0</td>\n",
       "      <td>0.0</td>\n",
       "      <td>[]</td>\n",
       "      <td>[]</td>\n",
       "      <td>[BTC, Bitcoin]</td>\n",
       "      <td>[]</td>\n",
       "    </tr>\n",
       "    <tr>\n",
       "      <th>4</th>\n",
       "      <td>The Last Time This Indicator Flashed, Bitcoin ...</td>\n",
       "      <td>Bitcoin has been facing some turbulence as of ...</td>\n",
       "      <td>Bitcoinist</td>\n",
       "      <td>2021-01-01 18:00:00+00:00</td>\n",
       "      <td>liquidity, volatility, price action, price mov...</td>\n",
       "      <td>0.522232</td>\n",
       "      <td>The Last Time This Indicator Flashed, Bitcoin ...</td>\n",
       "      <td>negative</td>\n",
       "      <td>0.716469</td>\n",
       "      <td>0.3</td>\n",
       "      <td>0.0</td>\n",
       "      <td>0.0</td>\n",
       "      <td>0.0</td>\n",
       "      <td>0.0</td>\n",
       "      <td>0.0</td>\n",
       "      <td>[]</td>\n",
       "      <td>[]</td>\n",
       "      <td>[Bitcoin, BTC]</td>\n",
       "      <td>[]</td>\n",
       "    </tr>\n",
       "  </tbody>\n",
       "</table>\n",
       "</div>"
      ],
      "text/plain": [
       "                                               title  \\\n",
       "0  2021 Bitcoin Price Predictions: Is The Massive...   \n",
       "1           Will Central Banks Hold Bitcoin in 2021?   \n",
       "2  Bitcoin Is Digital Social Justice, feat. Tyron...   \n",
       "3  Bitcoin hits all-time high against gold as hav...   \n",
       "4  The Last Time This Indicator Flashed, Bitcoin ...   \n",
       "\n",
       "                                                text    source_name  \\\n",
       "0  As the bitcoin price hovers under the psycholo...         Forbes   \n",
       "1  Central banks (CB) will hold bitcoin sooner or...     BeInCrypto   \n",
       "2  The podcaster and CEO of Onramp Invest discuss...       Coindesk   \n",
       "3  BTC has hit another milestone, this time again...  Cointelegraph   \n",
       "4  Bitcoin has been facing some turbulence as of ...     Bitcoinist   \n",
       "\n",
       "                       date  \\\n",
       "0 2021-01-02 00:20:00+00:00   \n",
       "1 2021-01-01 20:31:35+00:00   \n",
       "2 2021-01-01 19:15:02+00:00   \n",
       "3 2021-01-01 18:52:00+00:00   \n",
       "4 2021-01-01 18:00:00+00:00   \n",
       "\n",
       "                                               topic  topic_confidence_score  \\\n",
       "0  liquidity, volatility, price action, price mov...                0.238574   \n",
       "1                                  consensus updates                0.199005   \n",
       "2                                   social platforms                0.299585   \n",
       "3  liquidity, volatility, price action, price mov...                0.430232   \n",
       "4  liquidity, volatility, price action, price mov...                0.522232   \n",
       "\n",
       "                                     news_text_title sentiment_finbert  \\\n",
       "0  2021 Bitcoin Price Predictions: Is The Massive...           neutral   \n",
       "1  Will Central Banks Hold Bitcoin in 2021? Centr...           neutral   \n",
       "2  Bitcoin Is Digital Social Justice, feat. Tyron...           neutral   \n",
       "3  Bitcoin hits all-time high against gold as hav...          positive   \n",
       "4  The Last Time This Indicator Flashed, Bitcoin ...          negative   \n",
       "\n",
       "   score_finbert  tanalysis_absa  economy_absa  regulation_absa  \\\n",
       "0       0.876394             0.5           0.0              0.0   \n",
       "1       0.916949             0.0           0.5              0.0   \n",
       "2       0.903567             0.0           0.3              0.0   \n",
       "3       0.931128             1.0           0.0              0.0   \n",
       "4       0.716469             0.3           0.0              0.0   \n",
       "\n",
       "   technology_absa  adoption_absa  cybersecurity_absa         People  \\\n",
       "0              0.0            0.0                 0.0             []   \n",
       "1              0.0            0.7                 0.0       [Krüger]   \n",
       "2              0.5            0.7                 0.0  [Tyrone Ross]   \n",
       "3              0.0            0.0                 0.0             []   \n",
       "4              0.0            0.0                 0.0             []   \n",
       "\n",
       "     Organizations Cryptocurrencies Events  \n",
       "0               []        [Bitcoin]     []  \n",
       "1  [Central banks]        [Bitcoin]     []  \n",
       "2  [Onramp Invest]        [Bitcoin]     []  \n",
       "3               []   [BTC, Bitcoin]     []  \n",
       "4               []   [Bitcoin, BTC]     []  "
      ]
     },
     "execution_count": 2,
     "metadata": {},
     "output_type": "execute_result"
    }
   ],
   "source": [
    "import pandas as pd\n",
    "df = pd.read_parquet('../data/5b.cryptonews_topic_sentiment.parquet')\n",
    "df.head()"
   ]
  },
  {
   "cell_type": "markdown",
   "metadata": {},
   "source": [
    "### Approach 1: pretrained model - Jean-Baptiste/roberta-large-ner-english\n",
    "- poor performance"
   ]
  },
  {
   "cell_type": "code",
   "execution_count": 3,
   "metadata": {},
   "outputs": [
    {
     "name": "stderr",
     "output_type": "stream",
     "text": [
      "Generating train split: 155376 examples [00:00, 486035.71 examples/s]\n"
     ]
    },
    {
     "name": "stdout",
     "output_type": "stream",
     "text": [
      "Dataset({\n",
      "    features: ['title', 'text', 'source_name', 'date', 'topic', 'topic_confidence_score', 'news_text_title', 'sentiment_finbert', 'score_finbert', 'tanalysis_absa', 'economy_absa', 'regulation_absa', 'technology_absa', 'adoption_absa', 'cybersecurity_absa', 'People', 'Organizations', 'Cryptocurrencies', 'Events'],\n",
      "    num_rows: 155376\n",
      "})\n"
     ]
    },
    {
     "name": "stderr",
     "output_type": "stream",
     "text": [
      "Map: 100%|██████████| 1000/1000 [00:00<00:00, 5442.25 examples/s]\n"
     ]
    }
   ],
   "source": [
    "dataset = load_dataset('parquet', data_files='../data/5b.cryptonews_topic_sentiment.parquet')['train']\n",
    "print(dataset)\n",
    "\n",
    "# select first 1000 rows\n",
    "dataset = dataset.select(range(1000))\n",
    "\n",
    "dataset = dataset.map(lambda example: {\n",
    "  'news_text_title': example['title'] + ' ' + example['text']\n",
    "})"
   ]
  },
  {
   "cell_type": "code",
   "execution_count": 4,
   "metadata": {},
   "outputs": [
    {
     "ename": "RuntimeError",
     "evalue": "Failed to import transformers.models.roberta.modeling_tf_roberta because of the following error (look up to see its traceback):\nYour currently installed version of Keras is Keras 3, but this is not yet supported in Transformers. Please install the backwards-compatible tf-keras package with `pip install tf-keras`.",
     "output_type": "error",
     "traceback": [
      "\u001b[31m---------------------------------------------------------------------------\u001b[39m",
      "\u001b[31mModuleNotFoundError\u001b[39m                       Traceback (most recent call last)",
      "\u001b[36mFile \u001b[39m\u001b[32m~/.local/lib/python3.12/site-packages/transformers/activations_tf.py:22\u001b[39m\n\u001b[32m     21\u001b[39m \u001b[38;5;28;01mtry\u001b[39;00m:\n\u001b[32m---> \u001b[39m\u001b[32m22\u001b[39m     \u001b[38;5;28;01mimport\u001b[39;00m\u001b[38;5;250m \u001b[39m\u001b[34;01mtf_keras\u001b[39;00m\u001b[38;5;250m \u001b[39m\u001b[38;5;28;01mas\u001b[39;00m\u001b[38;5;250m \u001b[39m\u001b[34;01mkeras\u001b[39;00m\n\u001b[32m     23\u001b[39m \u001b[38;5;28;01mexcept\u001b[39;00m (\u001b[38;5;167;01mModuleNotFoundError\u001b[39;00m, \u001b[38;5;167;01mImportError\u001b[39;00m):\n",
      "\u001b[31mModuleNotFoundError\u001b[39m: No module named 'tf_keras'",
      "\nDuring handling of the above exception, another exception occurred:\n",
      "\u001b[31mValueError\u001b[39m                                Traceback (most recent call last)",
      "\u001b[36mFile \u001b[39m\u001b[32m~/.local/lib/python3.12/site-packages/transformers/utils/import_utils.py:1863\u001b[39m, in \u001b[36m_LazyModule._get_module\u001b[39m\u001b[34m(self, module_name)\u001b[39m\n\u001b[32m   1862\u001b[39m \u001b[38;5;28;01mtry\u001b[39;00m:\n\u001b[32m-> \u001b[39m\u001b[32m1863\u001b[39m     \u001b[38;5;28;01mreturn\u001b[39;00m \u001b[43mimportlib\u001b[49m\u001b[43m.\u001b[49m\u001b[43mimport_module\u001b[49m\u001b[43m(\u001b[49m\u001b[33;43m\"\u001b[39;49m\u001b[33;43m.\u001b[39;49m\u001b[33;43m\"\u001b[39;49m\u001b[43m \u001b[49m\u001b[43m+\u001b[49m\u001b[43m \u001b[49m\u001b[43mmodule_name\u001b[49m\u001b[43m,\u001b[49m\u001b[43m \u001b[49m\u001b[38;5;28;43mself\u001b[39;49m\u001b[43m.\u001b[49m\u001b[34;43m__name__\u001b[39;49m\u001b[43m)\u001b[49m\n\u001b[32m   1864\u001b[39m \u001b[38;5;28;01mexcept\u001b[39;00m \u001b[38;5;167;01mException\u001b[39;00m \u001b[38;5;28;01mas\u001b[39;00m e:\n",
      "\u001b[36mFile \u001b[39m\u001b[32m~/.python/current/lib/python3.12/importlib/__init__.py:90\u001b[39m, in \u001b[36mimport_module\u001b[39m\u001b[34m(name, package)\u001b[39m\n\u001b[32m     89\u001b[39m         level += \u001b[32m1\u001b[39m\n\u001b[32m---> \u001b[39m\u001b[32m90\u001b[39m \u001b[38;5;28;01mreturn\u001b[39;00m \u001b[43m_bootstrap\u001b[49m\u001b[43m.\u001b[49m\u001b[43m_gcd_import\u001b[49m\u001b[43m(\u001b[49m\u001b[43mname\u001b[49m\u001b[43m[\u001b[49m\u001b[43mlevel\u001b[49m\u001b[43m:\u001b[49m\u001b[43m]\u001b[49m\u001b[43m,\u001b[49m\u001b[43m \u001b[49m\u001b[43mpackage\u001b[49m\u001b[43m,\u001b[49m\u001b[43m \u001b[49m\u001b[43mlevel\u001b[49m\u001b[43m)\u001b[49m\n",
      "\u001b[36mFile \u001b[39m\u001b[32m<frozen importlib._bootstrap>:1387\u001b[39m, in \u001b[36m_gcd_import\u001b[39m\u001b[34m(name, package, level)\u001b[39m\n",
      "\u001b[36mFile \u001b[39m\u001b[32m<frozen importlib._bootstrap>:1360\u001b[39m, in \u001b[36m_find_and_load\u001b[39m\u001b[34m(name, import_)\u001b[39m\n",
      "\u001b[36mFile \u001b[39m\u001b[32m<frozen importlib._bootstrap>:1331\u001b[39m, in \u001b[36m_find_and_load_unlocked\u001b[39m\u001b[34m(name, import_)\u001b[39m\n",
      "\u001b[36mFile \u001b[39m\u001b[32m<frozen importlib._bootstrap>:935\u001b[39m, in \u001b[36m_load_unlocked\u001b[39m\u001b[34m(spec)\u001b[39m\n",
      "\u001b[36mFile \u001b[39m\u001b[32m<frozen importlib._bootstrap_external>:994\u001b[39m, in \u001b[36mexec_module\u001b[39m\u001b[34m(self, module)\u001b[39m\n",
      "\u001b[36mFile \u001b[39m\u001b[32m<frozen importlib._bootstrap>:488\u001b[39m, in \u001b[36m_call_with_frames_removed\u001b[39m\u001b[34m(f, *args, **kwds)\u001b[39m\n",
      "\u001b[36mFile \u001b[39m\u001b[32m~/.local/lib/python3.12/site-packages/transformers/models/roberta/modeling_tf_roberta.py:27\u001b[39m\n\u001b[32m     25\u001b[39m \u001b[38;5;28;01mimport\u001b[39;00m\u001b[38;5;250m \u001b[39m\u001b[34;01mtensorflow\u001b[39;00m\u001b[38;5;250m \u001b[39m\u001b[38;5;28;01mas\u001b[39;00m\u001b[38;5;250m \u001b[39m\u001b[34;01mtf\u001b[39;00m\n\u001b[32m---> \u001b[39m\u001b[32m27\u001b[39m \u001b[38;5;28;01mfrom\u001b[39;00m\u001b[38;5;250m \u001b[39m\u001b[34;01m.\u001b[39;00m\u001b[34;01m.\u001b[39;00m\u001b[34;01m.\u001b[39;00m\u001b[34;01mactivations_tf\u001b[39;00m\u001b[38;5;250m \u001b[39m\u001b[38;5;28;01mimport\u001b[39;00m get_tf_activation\n\u001b[32m     28\u001b[39m \u001b[38;5;28;01mfrom\u001b[39;00m\u001b[38;5;250m \u001b[39m\u001b[34;01m.\u001b[39;00m\u001b[34;01m.\u001b[39;00m\u001b[34;01m.\u001b[39;00m\u001b[34;01mmodeling_tf_outputs\u001b[39;00m\u001b[38;5;250m \u001b[39m\u001b[38;5;28;01mimport\u001b[39;00m (\n\u001b[32m     29\u001b[39m     TFBaseModelOutputWithPastAndCrossAttentions,\n\u001b[32m     30\u001b[39m     TFBaseModelOutputWithPoolingAndCrossAttentions,\n\u001b[32m   (...)\u001b[39m\u001b[32m     36\u001b[39m     TFTokenClassifierOutput,\n\u001b[32m     37\u001b[39m )\n",
      "\u001b[36mFile \u001b[39m\u001b[32m~/.local/lib/python3.12/site-packages/transformers/activations_tf.py:27\u001b[39m\n\u001b[32m     26\u001b[39m     \u001b[38;5;28;01mif\u001b[39;00m parse(keras.__version__).major > \u001b[32m2\u001b[39m:\n\u001b[32m---> \u001b[39m\u001b[32m27\u001b[39m         \u001b[38;5;28;01mraise\u001b[39;00m \u001b[38;5;167;01mValueError\u001b[39;00m(\n\u001b[32m     28\u001b[39m             \u001b[33m\"\u001b[39m\u001b[33mYour currently installed version of Keras is Keras 3, but this is not yet supported in \u001b[39m\u001b[33m\"\u001b[39m\n\u001b[32m     29\u001b[39m             \u001b[33m\"\u001b[39m\u001b[33mTransformers. Please install the backwards-compatible tf-keras package with \u001b[39m\u001b[33m\"\u001b[39m\n\u001b[32m     30\u001b[39m             \u001b[33m\"\u001b[39m\u001b[33m`pip install tf-keras`.\u001b[39m\u001b[33m\"\u001b[39m\n\u001b[32m     31\u001b[39m         )\n\u001b[32m     34\u001b[39m \u001b[38;5;28;01mdef\u001b[39;00m\u001b[38;5;250m \u001b[39m\u001b[34m_gelu\u001b[39m(x):\n",
      "\u001b[31mValueError\u001b[39m: Your currently installed version of Keras is Keras 3, but this is not yet supported in Transformers. Please install the backwards-compatible tf-keras package with `pip install tf-keras`.",
      "\nThe above exception was the direct cause of the following exception:\n",
      "\u001b[31mRuntimeError\u001b[39m                              Traceback (most recent call last)",
      "\u001b[36mCell\u001b[39m\u001b[36m \u001b[39m\u001b[32mIn[4]\u001b[39m\u001b[32m, line 3\u001b[39m\n\u001b[32m      1\u001b[39m \u001b[38;5;66;03m# test\u001b[39;00m\n\u001b[32m      2\u001b[39m \u001b[38;5;66;03m# NER model from Hugging Face\u001b[39;00m\n\u001b[32m----> \u001b[39m\u001b[32m3\u001b[39m pipe = \u001b[43mpipeline\u001b[49m\u001b[43m(\u001b[49m\u001b[33;43m\"\u001b[39;49m\u001b[33;43mtoken-classification\u001b[39;49m\u001b[33;43m\"\u001b[39;49m\u001b[43m,\u001b[49m\u001b[43m \u001b[49m\u001b[43mmodel\u001b[49m\u001b[43m=\u001b[49m\u001b[33;43m\"\u001b[39;49m\u001b[33;43mJean-Baptiste/roberta-large-ner-english\u001b[39;49m\u001b[33;43m\"\u001b[39;49m\u001b[43m)\u001b[49m\n\u001b[32m      4\u001b[39m txt = \u001b[33m\"\u001b[39m\u001b[33mBank of America: Bitcoin Bull Run Is the \u001b[39m\u001b[33m'\u001b[39m\u001b[33mMother of All Bubbles\u001b[39m\u001b[33m'\u001b[39m\u001b[33m A senior analyst at Bank of America thinks that Bitcoin\u001b[39m\u001b[33m'\u001b[39m\u001b[33ms latest bull run “blows the doors off prior bubbles.\u001b[39m\u001b[33m\"\u001b[39m\n\u001b[32m      5\u001b[39m ner_result = pipe(txt)\n",
      "\u001b[36mFile \u001b[39m\u001b[32m~/.local/lib/python3.12/site-packages/transformers/pipelines/__init__.py:940\u001b[39m, in \u001b[36mpipeline\u001b[39m\u001b[34m(task, model, config, tokenizer, feature_extractor, image_processor, processor, framework, revision, use_fast, token, device, device_map, torch_dtype, trust_remote_code, model_kwargs, pipeline_class, **kwargs)\u001b[39m\n\u001b[32m    938\u001b[39m \u001b[38;5;28;01mif\u001b[39;00m \u001b[38;5;28misinstance\u001b[39m(model, \u001b[38;5;28mstr\u001b[39m) \u001b[38;5;129;01mor\u001b[39;00m framework \u001b[38;5;129;01mis\u001b[39;00m \u001b[38;5;28;01mNone\u001b[39;00m:\n\u001b[32m    939\u001b[39m     model_classes = {\u001b[33m\"\u001b[39m\u001b[33mtf\u001b[39m\u001b[33m\"\u001b[39m: targeted_task[\u001b[33m\"\u001b[39m\u001b[33mtf\u001b[39m\u001b[33m\"\u001b[39m], \u001b[33m\"\u001b[39m\u001b[33mpt\u001b[39m\u001b[33m\"\u001b[39m: targeted_task[\u001b[33m\"\u001b[39m\u001b[33mpt\u001b[39m\u001b[33m\"\u001b[39m]}\n\u001b[32m--> \u001b[39m\u001b[32m940\u001b[39m     framework, model = \u001b[43minfer_framework_load_model\u001b[49m\u001b[43m(\u001b[49m\n\u001b[32m    941\u001b[39m \u001b[43m        \u001b[49m\u001b[43mmodel\u001b[49m\u001b[43m,\u001b[49m\n\u001b[32m    942\u001b[39m \u001b[43m        \u001b[49m\u001b[43mmodel_classes\u001b[49m\u001b[43m=\u001b[49m\u001b[43mmodel_classes\u001b[49m\u001b[43m,\u001b[49m\n\u001b[32m    943\u001b[39m \u001b[43m        \u001b[49m\u001b[43mconfig\u001b[49m\u001b[43m=\u001b[49m\u001b[43mconfig\u001b[49m\u001b[43m,\u001b[49m\n\u001b[32m    944\u001b[39m \u001b[43m        \u001b[49m\u001b[43mframework\u001b[49m\u001b[43m=\u001b[49m\u001b[43mframework\u001b[49m\u001b[43m,\u001b[49m\n\u001b[32m    945\u001b[39m \u001b[43m        \u001b[49m\u001b[43mtask\u001b[49m\u001b[43m=\u001b[49m\u001b[43mtask\u001b[49m\u001b[43m,\u001b[49m\n\u001b[32m    946\u001b[39m \u001b[43m        \u001b[49m\u001b[43m*\u001b[49m\u001b[43m*\u001b[49m\u001b[43mhub_kwargs\u001b[49m\u001b[43m,\u001b[49m\n\u001b[32m    947\u001b[39m \u001b[43m        \u001b[49m\u001b[43m*\u001b[49m\u001b[43m*\u001b[49m\u001b[43mmodel_kwargs\u001b[49m\u001b[43m,\u001b[49m\n\u001b[32m    948\u001b[39m \u001b[43m    \u001b[49m\u001b[43m)\u001b[49m\n\u001b[32m    950\u001b[39m model_config = model.config\n\u001b[32m    951\u001b[39m hub_kwargs[\u001b[33m\"\u001b[39m\u001b[33m_commit_hash\u001b[39m\u001b[33m\"\u001b[39m] = model.config._commit_hash\n",
      "\u001b[36mFile \u001b[39m\u001b[32m~/.local/lib/python3.12/site-packages/transformers/pipelines/base.py:265\u001b[39m, in \u001b[36minfer_framework_load_model\u001b[39m\u001b[34m(model, config, model_classes, task, framework, **model_kwargs)\u001b[39m\n\u001b[32m    263\u001b[39m         classes.append(_class)\n\u001b[32m    264\u001b[39m \u001b[38;5;28;01mif\u001b[39;00m look_tf:\n\u001b[32m--> \u001b[39m\u001b[32m265\u001b[39m     _class = \u001b[38;5;28;43mgetattr\u001b[39;49m\u001b[43m(\u001b[49m\u001b[43mtransformers_module\u001b[49m\u001b[43m,\u001b[49m\u001b[43m \u001b[49m\u001b[33;43mf\u001b[39;49m\u001b[33;43m\"\u001b[39;49m\u001b[33;43mTF\u001b[39;49m\u001b[38;5;132;43;01m{\u001b[39;49;00m\u001b[43marchitecture\u001b[49m\u001b[38;5;132;43;01m}\u001b[39;49;00m\u001b[33;43m\"\u001b[39;49m\u001b[43m,\u001b[49m\u001b[43m \u001b[49m\u001b[38;5;28;43;01mNone\u001b[39;49;00m\u001b[43m)\u001b[49m\n\u001b[32m    266\u001b[39m     \u001b[38;5;28;01mif\u001b[39;00m _class \u001b[38;5;129;01mis\u001b[39;00m \u001b[38;5;129;01mnot\u001b[39;00m \u001b[38;5;28;01mNone\u001b[39;00m:\n\u001b[32m    267\u001b[39m         classes.append(_class)\n",
      "\u001b[36mFile \u001b[39m\u001b[32m~/.local/lib/python3.12/site-packages/transformers/utils/import_utils.py:1852\u001b[39m, in \u001b[36m_LazyModule.__getattr__\u001b[39m\u001b[34m(self, name)\u001b[39m\n\u001b[32m   1850\u001b[39m \u001b[38;5;28;01melif\u001b[39;00m name \u001b[38;5;129;01min\u001b[39;00m \u001b[38;5;28mself\u001b[39m._class_to_module.keys():\n\u001b[32m   1851\u001b[39m     module = \u001b[38;5;28mself\u001b[39m._get_module(\u001b[38;5;28mself\u001b[39m._class_to_module[name])\n\u001b[32m-> \u001b[39m\u001b[32m1852\u001b[39m     value = \u001b[38;5;28;43mgetattr\u001b[39;49m\u001b[43m(\u001b[49m\u001b[43mmodule\u001b[49m\u001b[43m,\u001b[49m\u001b[43m \u001b[49m\u001b[43mname\u001b[49m\u001b[43m)\u001b[49m\n\u001b[32m   1853\u001b[39m \u001b[38;5;28;01melif\u001b[39;00m name \u001b[38;5;129;01min\u001b[39;00m \u001b[38;5;28mself\u001b[39m._modules:\n\u001b[32m   1854\u001b[39m     value = \u001b[38;5;28mself\u001b[39m._get_module(name)\n",
      "\u001b[36mFile \u001b[39m\u001b[32m~/.local/lib/python3.12/site-packages/transformers/utils/import_utils.py:1851\u001b[39m, in \u001b[36m_LazyModule.__getattr__\u001b[39m\u001b[34m(self, name)\u001b[39m\n\u001b[32m   1849\u001b[39m     value = Placeholder\n\u001b[32m   1850\u001b[39m \u001b[38;5;28;01melif\u001b[39;00m name \u001b[38;5;129;01min\u001b[39;00m \u001b[38;5;28mself\u001b[39m._class_to_module.keys():\n\u001b[32m-> \u001b[39m\u001b[32m1851\u001b[39m     module = \u001b[38;5;28;43mself\u001b[39;49m\u001b[43m.\u001b[49m\u001b[43m_get_module\u001b[49m\u001b[43m(\u001b[49m\u001b[38;5;28;43mself\u001b[39;49m\u001b[43m.\u001b[49m\u001b[43m_class_to_module\u001b[49m\u001b[43m[\u001b[49m\u001b[43mname\u001b[49m\u001b[43m]\u001b[49m\u001b[43m)\u001b[49m\n\u001b[32m   1852\u001b[39m     value = \u001b[38;5;28mgetattr\u001b[39m(module, name)\n\u001b[32m   1853\u001b[39m \u001b[38;5;28;01melif\u001b[39;00m name \u001b[38;5;129;01min\u001b[39;00m \u001b[38;5;28mself\u001b[39m._modules:\n",
      "\u001b[36mFile \u001b[39m\u001b[32m~/.local/lib/python3.12/site-packages/transformers/utils/import_utils.py:1865\u001b[39m, in \u001b[36m_LazyModule._get_module\u001b[39m\u001b[34m(self, module_name)\u001b[39m\n\u001b[32m   1863\u001b[39m     \u001b[38;5;28;01mreturn\u001b[39;00m importlib.import_module(\u001b[33m\"\u001b[39m\u001b[33m.\u001b[39m\u001b[33m\"\u001b[39m + module_name, \u001b[38;5;28mself\u001b[39m.\u001b[34m__name__\u001b[39m)\n\u001b[32m   1864\u001b[39m \u001b[38;5;28;01mexcept\u001b[39;00m \u001b[38;5;167;01mException\u001b[39;00m \u001b[38;5;28;01mas\u001b[39;00m e:\n\u001b[32m-> \u001b[39m\u001b[32m1865\u001b[39m     \u001b[38;5;28;01mraise\u001b[39;00m \u001b[38;5;167;01mRuntimeError\u001b[39;00m(\n\u001b[32m   1866\u001b[39m         \u001b[33mf\u001b[39m\u001b[33m\"\u001b[39m\u001b[33mFailed to import \u001b[39m\u001b[38;5;132;01m{\u001b[39;00m\u001b[38;5;28mself\u001b[39m.\u001b[34m__name__\u001b[39m\u001b[38;5;132;01m}\u001b[39;00m\u001b[33m.\u001b[39m\u001b[38;5;132;01m{\u001b[39;00mmodule_name\u001b[38;5;132;01m}\u001b[39;00m\u001b[33m because of the following error (look up to see its\u001b[39m\u001b[33m\"\u001b[39m\n\u001b[32m   1867\u001b[39m         \u001b[33mf\u001b[39m\u001b[33m\"\u001b[39m\u001b[33m traceback):\u001b[39m\u001b[38;5;130;01m\\n\u001b[39;00m\u001b[38;5;132;01m{\u001b[39;00me\u001b[38;5;132;01m}\u001b[39;00m\u001b[33m\"\u001b[39m\n\u001b[32m   1868\u001b[39m     ) \u001b[38;5;28;01mfrom\u001b[39;00m\u001b[38;5;250m \u001b[39m\u001b[34;01me\u001b[39;00m\n",
      "\u001b[31mRuntimeError\u001b[39m: Failed to import transformers.models.roberta.modeling_tf_roberta because of the following error (look up to see its traceback):\nYour currently installed version of Keras is Keras 3, but this is not yet supported in Transformers. Please install the backwards-compatible tf-keras package with `pip install tf-keras`."
     ]
    }
   ],
   "source": [
    "# test\n",
    "# NER model from Hugging Face\n",
    "pipe = pipeline(\"token-classification\", model=\"Jean-Baptiste/roberta-large-ner-english\")\n",
    "txt = \"Bank of America: Bitcoin Bull Run Is the 'Mother of All Bubbles' A senior analyst at Bank of America thinks that Bitcoin's latest bull run “blows the doors off prior bubbles.\"\n",
    "ner_result = pipe(txt)"
   ]
  },
  {
   "cell_type": "code",
   "execution_count": null,
   "metadata": {},
   "outputs": [
    {
     "name": "stderr",
     "output_type": "stream",
     "text": [
      "Device set to use cuda:0\n"
     ]
    }
   ],
   "source": [
    "# NER model from Hugging Face\n",
    "pipe = pipeline(\"token-classification\", model=\"Jean-Baptiste/roberta-large-ner-english\")\n",
    "\n",
    "def NER(batch):\n",
    "  batch['NER'] = pipe(batch['news_text_title'])\n",
    "  return batch\n",
    "\n",
    "dataset = dataset.map(NER, batched=True, batch_size=5)"
   ]
  },
  {
   "cell_type": "code",
   "execution_count": null,
   "metadata": {},
   "outputs": [],
   "source": [
    "def post_process_ner(ner_output):\n",
    "  processed_entities = []\n",
    "  current_entity = {}\n",
    "  \n",
    "  for token in ner_output:\n",
    "    if current_entity and token['entity'] == current_entity['entity'] and token['start'] == current_entity['end'] + 1:\n",
    "      current_entity['word'] += token['word'].replace('Ġ', ' ')\n",
    "      current_entity['end'] = token['end']\n",
    "    else:\n",
    "      if current_entity:\n",
    "        processed_entities.append(current_entity)\n",
    "      current_entity = token.copy()\n",
    "  \n",
    "  if current_entity:\n",
    "    processed_entities.append(current_entity)\n",
    "  \n",
    "  return processed_entities\n",
    "\n",
    "def get_entities(processed_ner_output, entity_type=None):\n",
    "  if entity_type is None:\n",
    "    return {entity['word'][1:] for entity in processed_ner_output}\n",
    "  else:\n",
    "    return {entity['word'][1:] for entity in processed_ner_output if entity['entity'] == entity_type}\n",
    "\n",
    "\n",
    "# aply post-processing and get entities from NER results\n",
    "dataset = dataset.map(lambda batch: {\n",
    "  'entities': get_entities(post_process_ner(batch['NER']))\n",
    "})"
   ]
  },
  {
   "cell_type": "code",
   "execution_count": null,
   "metadata": {},
   "outputs": [
    {
     "data": {
      "text/html": [
       "<div>\n",
       "<style scoped>\n",
       "    .dataframe tbody tr th:only-of-type {\n",
       "        vertical-align: middle;\n",
       "    }\n",
       "\n",
       "    .dataframe tbody tr th {\n",
       "        vertical-align: top;\n",
       "    }\n",
       "\n",
       "    .dataframe thead th {\n",
       "        text-align: right;\n",
       "    }\n",
       "</style>\n",
       "<table border=\"1\" class=\"dataframe\">\n",
       "  <thead>\n",
       "    <tr style=\"text-align: right;\">\n",
       "      <th></th>\n",
       "      <th>title</th>\n",
       "      <th>text</th>\n",
       "      <th>entities</th>\n",
       "    </tr>\n",
       "  </thead>\n",
       "  <tbody>\n",
       "    <tr>\n",
       "      <th>0</th>\n",
       "      <td>2021 Bitcoin Price Predictions: Is The Massive...</td>\n",
       "      <td>As the bitcoin price hovers under the psycholo...</td>\n",
       "      <td>[]</td>\n",
       "    </tr>\n",
       "    <tr>\n",
       "      <th>1</th>\n",
       "      <td>Will Central Banks Hold Bitcoin in 2021?</td>\n",
       "      <td>Central banks (CB) will hold bitcoin sooner or...</td>\n",
       "      <td>[Kr, er, ¼]</td>\n",
       "    </tr>\n",
       "    <tr>\n",
       "      <th>2</th>\n",
       "      <td>Bitcoin Is Digital Social Justice, feat. Tyron...</td>\n",
       "      <td>The podcaster and CEO of Onramp Invest discuss...</td>\n",
       "      <td>[, Tyr, i, On, ne Ross, mp Invest, De]</td>\n",
       "    </tr>\n",
       "    <tr>\n",
       "      <th>3</th>\n",
       "      <td>Bitcoin hits all-time high against gold as hav...</td>\n",
       "      <td>BTC has hit another milestone, this time again...</td>\n",
       "      <td>[BTC]</td>\n",
       "    </tr>\n",
       "    <tr>\n",
       "      <th>4</th>\n",
       "      <td>The Last Time This Indicator Flashed, Bitcoin ...</td>\n",
       "      <td>Bitcoin has been facing some turbulence as of ...</td>\n",
       "      <td>[BTC, Bitcoin]</td>\n",
       "    </tr>\n",
       "    <tr>\n",
       "      <th>...</th>\n",
       "      <td>...</td>\n",
       "      <td>...</td>\n",
       "      <td>...</td>\n",
       "    </tr>\n",
       "    <tr>\n",
       "      <th>995</th>\n",
       "      <td>Associated Gas Pilot Could Lead to Huge Boon f...</td>\n",
       "      <td>Russian Bitcoin (BTC) miners could be in for a...</td>\n",
       "      <td>[Russian, , ns, t, TC, Gaz, Kh, rom, Russian B...</td>\n",
       "    </tr>\n",
       "    <tr>\n",
       "      <th>996</th>\n",
       "      <td>Bitcoin Mining Revenue Hits $20 Billion, Doubl...</td>\n",
       "      <td>Bitcoin miners are making a killing from this ...</td>\n",
       "      <td>[]</td>\n",
       "    </tr>\n",
       "    <tr>\n",
       "      <th>997</th>\n",
       "      <td>Low-Fee Bitcoin Trust to Challenge Grayscale</td>\n",
       "      <td>Custodial Fee Wars Cryptocurrency is still bar...</td>\n",
       "      <td>[, Bit, IT, B, ise 10 Crypto Index Fund, ys, a...</td>\n",
       "    </tr>\n",
       "    <tr>\n",
       "      <th>998</th>\n",
       "      <td>Bitcoin Faced First Major Correction In Curren...</td>\n",
       "      <td>This was one of the most intense weeks. Bitcoi...</td>\n",
       "      <td>[Update, The Crypto Weekly]</td>\n",
       "    </tr>\n",
       "    <tr>\n",
       "      <th>999</th>\n",
       "      <td>Bitcoin Faces First Major Correction In Curren...</td>\n",
       "      <td>This was one of the most volatile weeks in the...</td>\n",
       "      <td>[Update, The Crypto Weekly]</td>\n",
       "    </tr>\n",
       "  </tbody>\n",
       "</table>\n",
       "<p>1000 rows × 3 columns</p>\n",
       "</div>"
      ],
      "text/plain": [
       "                                                 title  \\\n",
       "0    2021 Bitcoin Price Predictions: Is The Massive...   \n",
       "1             Will Central Banks Hold Bitcoin in 2021?   \n",
       "2    Bitcoin Is Digital Social Justice, feat. Tyron...   \n",
       "3    Bitcoin hits all-time high against gold as hav...   \n",
       "4    The Last Time This Indicator Flashed, Bitcoin ...   \n",
       "..                                                 ...   \n",
       "995  Associated Gas Pilot Could Lead to Huge Boon f...   \n",
       "996  Bitcoin Mining Revenue Hits $20 Billion, Doubl...   \n",
       "997       Low-Fee Bitcoin Trust to Challenge Grayscale   \n",
       "998  Bitcoin Faced First Major Correction In Curren...   \n",
       "999  Bitcoin Faces First Major Correction In Curren...   \n",
       "\n",
       "                                                  text  \\\n",
       "0    As the bitcoin price hovers under the psycholo...   \n",
       "1    Central banks (CB) will hold bitcoin sooner or...   \n",
       "2    The podcaster and CEO of Onramp Invest discuss...   \n",
       "3    BTC has hit another milestone, this time again...   \n",
       "4    Bitcoin has been facing some turbulence as of ...   \n",
       "..                                                 ...   \n",
       "995  Russian Bitcoin (BTC) miners could be in for a...   \n",
       "996  Bitcoin miners are making a killing from this ...   \n",
       "997  Custodial Fee Wars Cryptocurrency is still bar...   \n",
       "998  This was one of the most intense weeks. Bitcoi...   \n",
       "999  This was one of the most volatile weeks in the...   \n",
       "\n",
       "                                              entities  \n",
       "0                                                   []  \n",
       "1                                          [Kr, er, ¼]  \n",
       "2               [, Tyr, i, On, ne Ross, mp Invest, De]  \n",
       "3                                                [BTC]  \n",
       "4                                       [BTC, Bitcoin]  \n",
       "..                                                 ...  \n",
       "995  [Russian, , ns, t, TC, Gaz, Kh, rom, Russian B...  \n",
       "996                                                 []  \n",
       "997  [, Bit, IT, B, ise 10 Crypto Index Fund, ys, a...  \n",
       "998                        [Update, The Crypto Weekly]  \n",
       "999                        [Update, The Crypto Weekly]  \n",
       "\n",
       "[1000 rows x 3 columns]"
      ]
     },
     "execution_count": 7,
     "metadata": {},
     "output_type": "execute_result"
    }
   ],
   "source": [
    "df = dataset.to_pandas()\n",
    "df[['title','text','entities']]\n",
    "\n",
    "# poor performance, need to look for another NER approach"
   ]
  },
  {
   "cell_type": "markdown",
   "metadata": {},
   "source": [
    "### Approach 2: fine-tune a model\n"
   ]
  },
  {
   "cell_type": "code",
   "execution_count": null,
   "metadata": {},
   "outputs": [
    {
     "data": {
      "text/plain": [
       "'\\nChoose a Base Model\\nGeneral-purpose: bert-base-uncased, roberta-base\\nDomain-specific: ElKulako/cryptobert (for crypto), ProsusAI/finbert (finance), or modernbert?\\n\\nLoad NER dataset (e.g., CoNLL-2003, or any other crypo news dataset with NER annotations)\\nTokenize and Align Labels\\nFine-tune the Model\\nEvaluate the Model (metrics like precision, recall, and F1-score)\\n'"
      ]
     },
     "execution_count": 8,
     "metadata": {},
     "output_type": "execute_result"
    }
   ],
   "source": [
    "'''\n",
    "Choose a Base Model: bert-base-uncased, roberta-base, ElKulako/cryptobert, ProsusAI/finbert, or modernbert?\n",
    "Load NER dataset - ???????\n",
    "Tokenize and Align Labels\n",
    "Fine-tune the Model\n",
    "Evaluate the Model (metrics like precision, recall, and F1-score)\n",
    "\n",
    "Problem: Do we have suitable crypto news NER dataset?\n",
    "'''"
   ]
  }
 ],
 "metadata": {
  "kernelspec": {
   "display_name": "Python 3",
   "language": "python",
   "name": "python3"
  },
  "language_info": {
   "codemirror_mode": {
    "name": "ipython",
    "version": 3
   },
   "file_extension": ".py",
   "mimetype": "text/x-python",
   "name": "python",
   "nbconvert_exporter": "python",
   "pygments_lexer": "ipython3",
   "version": "3.12.1"
  }
 },
 "nbformat": 4,
 "nbformat_minor": 2
}
