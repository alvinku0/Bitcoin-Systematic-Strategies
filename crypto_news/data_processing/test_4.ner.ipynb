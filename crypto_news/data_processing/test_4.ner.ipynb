import pandas as pd
from pandas.testing import assert_series_equal

# File: crypto_news/data_processing/test_4.ner.ipynb


# Mock DataFrame to simulate NER results
mock_data = {
    "People": [["Elon Musk", "Satoshi Nakamoto"], ["Vitalik Buterin"], ["Elon Musk"]],
    "Organizations": [["Tesla", "SpaceX"], ["Ethereum Foundation"], ["Tesla"]],
    "Cryptocurrencies": [["Bitcoin", "Ethereum"], ["Ethereum"], ["Bitcoin", "Dogecoin"]],
}

df = pd.DataFrame(mock_data)

# Explode the columns to count occurrences
people_freq = df["People"].explode().value_counts()
organizations_freq = df["Organizations"].explode().value_counts()
cryptocurrencies_freq = df["Cryptocurrencies"].explode().value_counts()

# Expected results
expected_people_freq = pd.Series({"Elon Musk": 2, "Satoshi Nakamoto": 1, "Vitalik Buterin": 1})
expected_organizations_freq = pd.Series({"Tesla": 2, "SpaceX": 1, "Ethereum Foundation": 1})
expected_cryptocurrencies_freq = pd.Series({"Bitcoin": 2, "Ethereum": 2, "Dogecoin": 1})

# Tests
def test_people_freq():
    assert_series_equal(people_freq.head(20), expected_people_freq, check_dtype=False)

def test_organizations_freq():
    assert_series_equal(organizations_freq.head(20), expected_organizations_freq, check_dtype=False)

def test_cryptocurrencies_freq():
    assert_series_equal(cryptocurrencies_freq.head(20), expected_cryptocurrencies_freq, check_dtype=False)

# Run tests
test_people_freq()
test_organizations_freq()
test_cryptocurrencies_freq()

print("All tests passed!")