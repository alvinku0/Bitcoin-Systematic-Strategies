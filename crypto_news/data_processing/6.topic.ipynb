{
 "cells": [
  {
   "cell_type": "code",
   "execution_count": 1,
   "metadata": {},
   "outputs": [
    {
     "name": "stderr",
     "output_type": "stream",
     "text": [
      "c:\\Users\\phku0\\AppData\\Local\\Programs\\Python\\Python312\\Lib\\site-packages\\tqdm\\auto.py:21: TqdmWarning: IProgress not found. Please update jupyter and ipywidgets. See https://ipywidgets.readthedocs.io/en/stable/user_install.html\n",
      "  from .autonotebook import tqdm as notebook_tqdm\n"
     ]
    }
   ],
   "source": [
    "import pandas as pd\n",
    "from transformers import pipeline\n",
    "from datasets import load_dataset\n",
    "from tqdm.auto import tqdm\n",
    "import torch\n",
    "import json\n",
    "import os"
   ]
  },
  {
   "cell_type": "code",
   "execution_count": 2,
   "metadata": {},
   "outputs": [
    {
     "name": "stdout",
     "output_type": "stream",
     "text": [
      "Dataset({\n",
      "    features: ['title', 'text', 'source_name', 'date', 'tanalysis_absa', 'economy_absa', 'regulation_absa', 'technology_absa', 'adoption_absa', 'cybersecurity_absa', 'NER', 'news_text_title', 'sentiment_CryptoBERT', 'score_CryptoBERT', 'sentiment_finbert', 'score_finbert', 'index'],\n",
      "    num_rows: 159486\n",
      "})\n"
     ]
    }
   ],
   "source": [
    "dataset = load_dataset('parquet', data_files=\"../data/5.cryptonews_sentiment.parquet\")['train']\n",
    "print(dataset)"
   ]
  },
  {
   "cell_type": "code",
   "execution_count": 3,
   "metadata": {},
   "outputs": [],
   "source": [
    "# dataset = dataset.select(range(200))"
   ]
  },
  {
   "cell_type": "code",
   "execution_count": 4,
   "metadata": {},
   "outputs": [
    {
     "name": "stderr",
     "output_type": "stream",
     "text": [
      "Device set to use cuda:0\n",
      "Processing batches:   0%|          | 10/6646 [02:04<23:11:34, 12.58s/it]You seem to be using the pipelines sequentially on GPU. In order to maximize efficiency please use a dataset\n",
      "Processing batches: 100%|██████████| 6646/6646 [22:39:43<00:00, 12.28s/it]   \n"
     ]
    }
   ],
   "source": [
    "candidate_labels = [\n",
    "  \"whale activity, large transaction\", \"market sentiment\", \"liquidity, volatility, risk\", \"price action, price movement, trading\",\n",
    "  \"exchange traded funds, ETF\", \"institutional investments\", \"treasury, reserve\", \"stablecoin, CBDC\",\n",
    "  \"government policy and regulations\", \"legal proceedings\", \"licensing approval\", \"enforcement actions\",\n",
    "  \"mining technology, mining difficulty, halving\", \"consensus updates\", \"security protocols\", \"quantum developments\", \"technical infrastructure\",\n",
    "  \"nft, metaverse, virtual world\", \"social platforms\", \"sustainability, renewable, environmental\", \"interest rates, economic outlook\",\n",
    "  \"product launches\", \"corporate partnerships\"\n",
    "]\n",
    "\n",
    "pipe = pipeline(\"zero-shot-classification\", model=\"facebook/bart-large-mnli\")\n",
    "\n",
    "# def classify_topic(batch):\n",
    "#   results = pipe(batch['news_text_title'], candidate_labels)\n",
    "#   topics = [result['labels'][0] for result in results]\n",
    "#   scores = [result['scores'][0] for result in results]\n",
    "#   batch['topic'] = topics\n",
    "#   batch['topic_confidence_score'] = scores\n",
    "#   return batch\n",
    "# results = dataset.map(classify_topic, batched=True, batch_size=16)\n",
    "\n",
    "def classify_topic(batch, output_file):\n",
    "  # process batch\n",
    "  results = pipe(batch['news_text_title'], candidate_labels)\n",
    "  topics = [result['labels'][0] for result in results]\n",
    "  scores = [result['scores'][0] for result in results]\n",
    "  batch['topic'] = topics\n",
    "  batch['topic_confidence_score'] = scores\n",
    "\n",
    "  # save batch\n",
    "  records = []\n",
    "  for i in range(len(batch['topic'])):\n",
    "    record = {\n",
    "      'topic': batch['topic'][i],\n",
    "      'topic_confidence_score': batch['topic_confidence_score'][i],\n",
    "    }\n",
    "    records.append(record)\n",
    "  \n",
    "  try:\n",
    "    with open(output_file, 'a') as f:\n",
    "      for record in records:\n",
    "        json.dump(record, f)\n",
    "        f.write('\\n')\n",
    "  except Exception as e:\n",
    "    print(f\"Error saving batch: {e}\")\n",
    "\n",
    "output_file = '../data/6.topic_classification.jsonl'\n",
    "\n",
    "BATCH_SIZE = 24\n",
    "\n",
    "total_batches = (len(dataset) + BATCH_SIZE-1) // BATCH_SIZE\n",
    "for i in tqdm(range(0, len(dataset), BATCH_SIZE), total=total_batches, desc=\"Processing batches\"):\n",
    "  batch = dataset[i:i+BATCH_SIZE]\n",
    "  processed_batch = classify_topic(batch, output_file)"
   ]
  },
  {
   "cell_type": "code",
   "execution_count": 5,
   "metadata": {},
   "outputs": [
    {
     "name": "stdout",
     "output_type": "stream",
     "text": [
      "(159486, 2)\n"
     ]
    },
    {
     "data": {
      "application/vnd.microsoft.datawrangler.viewer.v0+json": {
       "columns": [
        {
         "name": "index",
         "rawType": "int64",
         "type": "integer"
        },
        {
         "name": "topic",
         "rawType": "object",
         "type": "string"
        },
        {
         "name": "topic_confidence_score",
         "rawType": "float64",
         "type": "float"
        }
       ],
       "conversionMethod": "pd.DataFrame",
       "ref": "f7a67949-edde-44ad-a6f5-87a817bb2307",
       "rows": [
        [
         "0",
         "product launches",
         "0.5089005827903741"
        ],
        [
         "1",
         "price action, price movement, trading",
         "0.443892925977706"
        ],
        [
         "2",
         "price action, price movement, trading",
         "0.6478496193885801"
        ],
        [
         "3",
         "price action, price movement, trading",
         "0.35592150688171303"
        ],
        [
         "4",
         "price action, price movement, trading",
         "0.516642928123474"
        ],
        [
         "5",
         "price action, price movement, trading",
         "0.518815338611602"
        ],
        [
         "6",
         "institutional investments",
         "0.35652214288711503"
        ],
        [
         "7",
         "price action, price movement, trading",
         "0.43685939908027605"
        ],
        [
         "8",
         "price action, price movement, trading",
         "0.46253740787506104"
        ],
        [
         "9",
         "institutional investments",
         "0.5639855265617371"
        ],
        [
         "10",
         "price action, price movement, trading",
         "0.6750961542129511"
        ],
        [
         "11",
         "institutional investments",
         "0.6228616833686821"
        ],
        [
         "12",
         "price action, price movement, trading",
         "0.53519207239151"
        ],
        [
         "13",
         "price action, price movement, trading",
         "0.604130506515502"
        ],
        [
         "14",
         "price action, price movement, trading",
         "0.6674758195877071"
        ],
        [
         "15",
         "legal proceedings",
         "0.254604130983352"
        ],
        [
         "16",
         "price action, price movement, trading",
         "0.38084340095520003"
        ],
        [
         "17",
         "price action, price movement, trading",
         "0.46855863928794805"
        ],
        [
         "18",
         "price action, price movement, trading",
         "0.506871163845062"
        ],
        [
         "19",
         "price action, price movement, trading",
         "0.597639679908752"
        ],
        [
         "20",
         "price action, price movement, trading",
         "0.351036489009857"
        ],
        [
         "21",
         "liquidity, volatility, risk",
         "0.500975489616394"
        ],
        [
         "22",
         "market sentiment",
         "0.272580951452255"
        ],
        [
         "23",
         "price action, price movement, trading",
         "0.5611666440963741"
        ],
        [
         "24",
         "price action, price movement, trading",
         "0.18784822523593903"
        ],
        [
         "25",
         "price action, price movement, trading",
         "0.5076361894607541"
        ],
        [
         "26",
         "consensus updates",
         "0.19302657246589602"
        ],
        [
         "27",
         "price action, price movement, trading",
         "0.5717613101005551"
        ],
        [
         "28",
         "enforcement actions",
         "0.276383697986602"
        ],
        [
         "29",
         "market sentiment",
         "0.322871357202529"
        ],
        [
         "30",
         "consensus updates",
         "0.154783800244331"
        ],
        [
         "31",
         "institutional investments",
         "0.45967897772789"
        ],
        [
         "32",
         "price action, price movement, trading",
         "0.46882537007331804"
        ],
        [
         "33",
         "technical infrastructure",
         "0.231887638568878"
        ],
        [
         "34",
         "technical infrastructure",
         "0.250848859548568"
        ],
        [
         "35",
         "price action, price movement, trading",
         "0.42456841468811"
        ],
        [
         "36",
         "price action, price movement, trading",
         "0.432840019464492"
        ],
        [
         "37",
         "price action, price movement, trading",
         "0.333570450544357"
        ],
        [
         "38",
         "price action, price movement, trading",
         "0.22169448435306502"
        ],
        [
         "39",
         "price action, price movement, trading",
         "0.302415281534194"
        ],
        [
         "40",
         "consensus updates",
         "0.222945302724838"
        ],
        [
         "41",
         "government policy and regulations",
         "0.228978618979454"
        ],
        [
         "42",
         "price action, price movement, trading",
         "0.41722869873046803"
        ],
        [
         "43",
         "market sentiment",
         "0.16306531429290702"
        ],
        [
         "44",
         "market sentiment",
         "0.331709444522857"
        ],
        [
         "45",
         "price action, price movement, trading",
         "0.180916398763656"
        ],
        [
         "46",
         "price action, price movement, trading",
         "0.304715126752853"
        ],
        [
         "47",
         "price action, price movement, trading",
         "0.78819054365158"
        ],
        [
         "48",
         "market sentiment",
         "0.41870629787445"
        ],
        [
         "49",
         "technical infrastructure",
         "0.35380601882934504"
        ]
       ],
       "shape": {
        "columns": 2,
        "rows": 159486
       }
      },
      "text/html": [
       "<div>\n",
       "<style scoped>\n",
       "    .dataframe tbody tr th:only-of-type {\n",
       "        vertical-align: middle;\n",
       "    }\n",
       "\n",
       "    .dataframe tbody tr th {\n",
       "        vertical-align: top;\n",
       "    }\n",
       "\n",
       "    .dataframe thead th {\n",
       "        text-align: right;\n",
       "    }\n",
       "</style>\n",
       "<table border=\"1\" class=\"dataframe\">\n",
       "  <thead>\n",
       "    <tr style=\"text-align: right;\">\n",
       "      <th></th>\n",
       "      <th>topic</th>\n",
       "      <th>topic_confidence_score</th>\n",
       "    </tr>\n",
       "  </thead>\n",
       "  <tbody>\n",
       "    <tr>\n",
       "      <th>0</th>\n",
       "      <td>product launches</td>\n",
       "      <td>0.508901</td>\n",
       "    </tr>\n",
       "    <tr>\n",
       "      <th>1</th>\n",
       "      <td>price action, price movement, trading</td>\n",
       "      <td>0.443893</td>\n",
       "    </tr>\n",
       "    <tr>\n",
       "      <th>2</th>\n",
       "      <td>price action, price movement, trading</td>\n",
       "      <td>0.647850</td>\n",
       "    </tr>\n",
       "    <tr>\n",
       "      <th>3</th>\n",
       "      <td>price action, price movement, trading</td>\n",
       "      <td>0.355922</td>\n",
       "    </tr>\n",
       "    <tr>\n",
       "      <th>4</th>\n",
       "      <td>price action, price movement, trading</td>\n",
       "      <td>0.516643</td>\n",
       "    </tr>\n",
       "    <tr>\n",
       "      <th>...</th>\n",
       "      <td>...</td>\n",
       "      <td>...</td>\n",
       "    </tr>\n",
       "    <tr>\n",
       "      <th>159481</th>\n",
       "      <td>price action, price movement, trading</td>\n",
       "      <td>0.335582</td>\n",
       "    </tr>\n",
       "    <tr>\n",
       "      <th>159482</th>\n",
       "      <td>price action, price movement, trading</td>\n",
       "      <td>0.334338</td>\n",
       "    </tr>\n",
       "    <tr>\n",
       "      <th>159483</th>\n",
       "      <td>consensus updates</td>\n",
       "      <td>0.202182</td>\n",
       "    </tr>\n",
       "    <tr>\n",
       "      <th>159484</th>\n",
       "      <td>price action, price movement, trading</td>\n",
       "      <td>0.736547</td>\n",
       "    </tr>\n",
       "    <tr>\n",
       "      <th>159485</th>\n",
       "      <td>liquidity, volatility, risk</td>\n",
       "      <td>0.176538</td>\n",
       "    </tr>\n",
       "  </tbody>\n",
       "</table>\n",
       "<p>159486 rows × 2 columns</p>\n",
       "</div>"
      ],
      "text/plain": [
       "                                        topic  topic_confidence_score\n",
       "0                            product launches                0.508901\n",
       "1       price action, price movement, trading                0.443893\n",
       "2       price action, price movement, trading                0.647850\n",
       "3       price action, price movement, trading                0.355922\n",
       "4       price action, price movement, trading                0.516643\n",
       "...                                       ...                     ...\n",
       "159481  price action, price movement, trading                0.335582\n",
       "159482  price action, price movement, trading                0.334338\n",
       "159483                      consensus updates                0.202182\n",
       "159484  price action, price movement, trading                0.736547\n",
       "159485            liquidity, volatility, risk                0.176538\n",
       "\n",
       "[159486 rows x 2 columns]"
      ]
     },
     "execution_count": 5,
     "metadata": {},
     "output_type": "execute_result"
    }
   ],
   "source": [
    "output_file = '../data/6.topic_classification.jsonl'\n",
    "\n",
    "df_output = pd.read_json(output_file, lines=True)\n",
    "print(df_output.shape)\n",
    "df_output"
   ]
  },
  {
   "cell_type": "code",
   "execution_count": 6,
   "metadata": {},
   "outputs": [
    {
     "data": {
      "text/plain": [
       "topic\n",
       "price action, price movement, trading            88702\n",
       "market sentiment                                 13286\n",
       "exchange traded funds, ETF                       12420\n",
       "consensus updates                                 6742\n",
       "liquidity, volatility, risk                       5456\n",
       "legal proceedings                                 4142\n",
       "technical infrastructure                          3740\n",
       "product launches                                  3593\n",
       "institutional investments                         3590\n",
       "social platforms                                  3504\n",
       "whale activity, large transaction                 3029\n",
       "government policy and regulations                 1782\n",
       "sustainability, renewable, environmental          1623\n",
       "nft, metaverse, virtual world                     1156\n",
       "treasury, reserve                                 1093\n",
       "enforcement actions                               1069\n",
       "mining technology, mining difficulty, halving     1017\n",
       "security protocols                                1012\n",
       "corporate partnerships                             973\n",
       "quantum developments                               627\n",
       "interest rates, economic outlook                   618\n",
       "licensing approval                                 276\n",
       "stablecoin, CBDC                                    36\n",
       "Name: count, dtype: int64"
      ]
     },
     "execution_count": 6,
     "metadata": {},
     "output_type": "execute_result"
    }
   ],
   "source": [
    "df_output['topic'].value_counts()"
   ]
  },
  {
   "cell_type": "code",
   "execution_count": 7,
   "metadata": {},
   "outputs": [
    {
     "name": "stdout",
     "output_type": "stream",
     "text": [
      "(159486, 16)\n"
     ]
    },
    {
     "data": {
      "application/vnd.microsoft.datawrangler.viewer.v0+json": {
       "columns": [
        {
         "name": "index",
         "rawType": "int64",
         "type": "integer"
        },
        {
         "name": "title",
         "rawType": "object",
         "type": "string"
        },
        {
         "name": "text",
         "rawType": "object",
         "type": "string"
        },
        {
         "name": "source_name",
         "rawType": "object",
         "type": "string"
        },
        {
         "name": "date",
         "rawType": "object",
         "type": "string"
        },
        {
         "name": "tanalysis_absa",
         "rawType": "float64",
         "type": "float"
        },
        {
         "name": "economy_absa",
         "rawType": "float64",
         "type": "float"
        },
        {
         "name": "regulation_absa",
         "rawType": "float64",
         "type": "float"
        },
        {
         "name": "technology_absa",
         "rawType": "float64",
         "type": "float"
        },
        {
         "name": "adoption_absa",
         "rawType": "float64",
         "type": "float"
        },
        {
         "name": "cybersecurity_absa",
         "rawType": "float64",
         "type": "float"
        },
        {
         "name": "NER",
         "rawType": "object",
         "type": "unknown"
        },
        {
         "name": "news_text_title",
         "rawType": "object",
         "type": "string"
        },
        {
         "name": "sentiment_CryptoBERT",
         "rawType": "object",
         "type": "string"
        },
        {
         "name": "score_CryptoBERT",
         "rawType": "float64",
         "type": "float"
        },
        {
         "name": "sentiment_finbert",
         "rawType": "object",
         "type": "string"
        },
        {
         "name": "score_finbert",
         "rawType": "float64",
         "type": "float"
        }
       ],
       "conversionMethod": "pd.DataFrame",
       "ref": "f17f68a3-2d5e-4ee5-ab12-cfabae766195",
       "rows": [
        [
         "0",
         "VanEck makes another Bitcoin ETF run",
         "Investment management firm VanEck has filed with the U.S. Securities and Exchange Commission to launch a Bitcoin exchange-traded fund. VanEck is clearly hoping that the departure of SEC chairman Jay Clayton will give its latest ETF application a chance.",
         "Modern Consensus",
         "Fri, 01 Jan 2021 11:07:58 -0500",
         "0.0",
         "0.0",
         "0.3",
         "0.0",
         "0.7",
         "0.0",
         "[array(['VanEck', 'ORG'], dtype=object)\n array(['VanEck', 'ORG'], dtype=object)\n array(['the U.S. Securities and Exchange Commission', 'ORG'], dtype=object)\n array(['VanEck', 'ORG'], dtype=object)\n array(['SEC', 'ORG'], dtype=object)\n array(['Jay Clayton', 'PERSON'], dtype=object)]",
         "VanEck makes another Bitcoin ETF run Investment management firm VanEck has filed with the U.S. Securities and Exchange Commission to launch a Bitcoin exchange-traded fund. VanEck is clearly hoping that the departure of SEC chairman Jay Clayton will give its latest ETF application a chance.",
         "LABEL_1",
         "0.9534627199172974",
         "neutral",
         "0.7049717903137207"
        ],
        [
         "1",
         "Markets Report: Bitcoin starts 2021 with a bang as price targets reach $500,000",
         "Bitcoin begins a new year on a high in almost every way — and price records are just the icing on the cake for hodlers. As 2021 begins, anticipation has never been higher for Bitcoin to have its best year ever, even as December's gains alone topped 40%.",
         "Modern Consensus",
         "Fri, 01 Jan 2021 09:51:10 -0500",
         "0.9",
         "0.0",
         "0.0",
         "0.0",
         "0.5",
         "0.0",
         "[array(['2021', 'DATE'], dtype=object)\n array(['500,000', 'MONEY'], dtype=object)\n array(['a new year', 'DATE'], dtype=object)\n array(['2021', 'DATE'], dtype=object)\n array(['year', 'DATE'], dtype=object)\n array(['December', 'DATE'], dtype=object)\n array(['40%', 'PERCENT'], dtype=object)]",
         "Markets Report: Bitcoin starts 2021 with a bang as price targets reach $500,000 Bitcoin begins a new year on a high in almost every way — and price records are just the icing on the cake for hodlers. As 2021 begins, anticipation has never been higher for Bitcoin to have its best year ever, even as December's gains alone topped 40%.",
         "LABEL_1",
         "0.96602863073349",
         "positive",
         "0.9272623658180237"
        ],
        [
         "2",
         "Bitcoin Rally Extends Into New Year",
         "Jan.03 -- Bitcoin is continuing its rally into record highs in the near year, rising above $34,000 before retreating. Su Keenan reports on \"Bloomberg Daybreak: Australia.",
         "Bloomberg Markets and Finance",
         "Sun, 03 Jan 2021 18:46:20 -0500",
         "0.8",
         "0.0",
         "0.0",
         "0.0",
         "0.0",
         "0.0",
         "[array(['New Year', 'EVENT'], dtype=object)\n array(['Jan.03 --', 'DATE'], dtype=object)\n array(['the near year', 'DATE'], dtype=object)\n array(['34,000', 'MONEY'], dtype=object)\n array(['Su Keenan', 'PERSON'], dtype=object)\n array(['Bloomberg Daybreak: Australia', 'WORK_OF_ART'], dtype=object)]",
         "Bitcoin Rally Extends Into New Year Jan.03 -- Bitcoin is continuing its rally into record highs in the near year, rising above $34,000 before retreating. Su Keenan reports on \"Bloomberg Daybreak: Australia.",
         "LABEL_1",
         "0.9572523236274719",
         "positive",
         "0.817352831363678"
        ],
        [
         "3",
         "BitPay CCO Says Bitcoin Will Hit $45,000",
         "Jan.04 -- Bitpay Chief Commercial Officer Sonny Singh discusses Bitcoin prices retreating from record highs but believing it will reach $45K within the next month. He speaks with Emily Chang on \"Bloomberg Technology.",
         "Bloomberg Technology",
         "Mon, 04 Jan 2021 20:29:35 -0500",
         "0.8",
         "0.0",
         "0.0",
         "0.0",
         "0.0",
         "0.0",
         "[array(['BitPay CCO', 'ORG'], dtype=object)\n array(['45,000', 'MONEY'], dtype=object)\n array(['Jan.04', 'DATE'], dtype=object)\n array(['Bitpay', 'ORG'], dtype=object)\n array(['Sonny Singh', 'PERSON'], dtype=object)\n array(['45', 'MONEY'], dtype=object) array(['K', 'MONEY'], dtype=object)\n array(['the next month', 'DATE'], dtype=object)\n array(['Emily Chang', 'PERSON'], dtype=object)\n array(['Bloomberg Technology', 'ORG'], dtype=object)]",
         "BitPay CCO Says Bitcoin Will Hit $45,000 Jan.04 -- Bitpay Chief Commercial Officer Sonny Singh discusses Bitcoin prices retreating from record highs but believing it will reach $45K within the next month. He speaks with Emily Chang on \"Bloomberg Technology.",
         "LABEL_1",
         "0.914189875125885",
         "neutral",
         "0.36222410202026367"
        ],
        [
         "4",
         "Markets Report: Bitcoin Dives to $27,700 as a Crazy Weekend Turns Crazier",
         "Bitcoin is seeing a wild start to the week with volatility taking traders up and down by thousands of dollars in under an hour. In what will cause headaches if it sets the tone for the coming days, Bitcoin dropped by $4,000 in less than sixty minutes on Monday — what's next?",
         "Modern Consensus",
         "Mon, 04 Jan 2021 09:01:49 -0500",
         "-0.8",
         "0.0",
         "0.0",
         "0.0",
         "0.0",
         "0.0",
         "[array(['27,700', 'MONEY'], dtype=object)\n array(['a Crazy Weekend', 'DATE'], dtype=object)\n array(['the week', 'DATE'], dtype=object)\n array(['thousands of dollars', 'MONEY'], dtype=object)\n array(['under an hour', 'TIME'], dtype=object)\n array(['the coming days', 'DATE'], dtype=object)\n array(['4,000', 'MONEY'], dtype=object)\n array(['less than sixty minutes', 'TIME'], dtype=object)\n array(['Monday', 'DATE'], dtype=object)]",
         "Markets Report: Bitcoin Dives to $27,700 as a Crazy Weekend Turns Crazier Bitcoin is seeing a wild start to the week with volatility taking traders up and down by thousands of dollars in under an hour. In what will cause headaches if it sets the tone for the coming days, Bitcoin dropped by $4,000 in less than sixty minutes on Monday — what's next?",
         "LABEL_0",
         "0.9173840880393982",
         "negative",
         "0.9327932596206665"
        ]
       ],
       "shape": {
        "columns": 16,
        "rows": 5
       }
      },
      "text/html": [
       "<div>\n",
       "<style scoped>\n",
       "    .dataframe tbody tr th:only-of-type {\n",
       "        vertical-align: middle;\n",
       "    }\n",
       "\n",
       "    .dataframe tbody tr th {\n",
       "        vertical-align: top;\n",
       "    }\n",
       "\n",
       "    .dataframe thead th {\n",
       "        text-align: right;\n",
       "    }\n",
       "</style>\n",
       "<table border=\"1\" class=\"dataframe\">\n",
       "  <thead>\n",
       "    <tr style=\"text-align: right;\">\n",
       "      <th></th>\n",
       "      <th>title</th>\n",
       "      <th>text</th>\n",
       "      <th>source_name</th>\n",
       "      <th>date</th>\n",
       "      <th>tanalysis_absa</th>\n",
       "      <th>economy_absa</th>\n",
       "      <th>regulation_absa</th>\n",
       "      <th>technology_absa</th>\n",
       "      <th>adoption_absa</th>\n",
       "      <th>cybersecurity_absa</th>\n",
       "      <th>NER</th>\n",
       "      <th>news_text_title</th>\n",
       "      <th>sentiment_CryptoBERT</th>\n",
       "      <th>score_CryptoBERT</th>\n",
       "      <th>sentiment_finbert</th>\n",
       "      <th>score_finbert</th>\n",
       "    </tr>\n",
       "  </thead>\n",
       "  <tbody>\n",
       "    <tr>\n",
       "      <th>0</th>\n",
       "      <td>VanEck makes another Bitcoin ETF run</td>\n",
       "      <td>Investment management firm VanEck has filed wi...</td>\n",
       "      <td>Modern Consensus</td>\n",
       "      <td>Fri, 01 Jan 2021 11:07:58 -0500</td>\n",
       "      <td>0.0</td>\n",
       "      <td>0.0</td>\n",
       "      <td>0.3</td>\n",
       "      <td>0.0</td>\n",
       "      <td>0.7</td>\n",
       "      <td>0.0</td>\n",
       "      <td>[[VanEck, ORG], [VanEck, ORG], [the U.S. Secur...</td>\n",
       "      <td>VanEck makes another Bitcoin ETF run Investmen...</td>\n",
       "      <td>LABEL_1</td>\n",
       "      <td>0.953463</td>\n",
       "      <td>neutral</td>\n",
       "      <td>0.704972</td>\n",
       "    </tr>\n",
       "    <tr>\n",
       "      <th>1</th>\n",
       "      <td>Markets Report: Bitcoin starts 2021 with a ban...</td>\n",
       "      <td>Bitcoin begins a new year on a high in almost ...</td>\n",
       "      <td>Modern Consensus</td>\n",
       "      <td>Fri, 01 Jan 2021 09:51:10 -0500</td>\n",
       "      <td>0.9</td>\n",
       "      <td>0.0</td>\n",
       "      <td>0.0</td>\n",
       "      <td>0.0</td>\n",
       "      <td>0.5</td>\n",
       "      <td>0.0</td>\n",
       "      <td>[[2021, DATE], [500,000, MONEY], [a new year, ...</td>\n",
       "      <td>Markets Report: Bitcoin starts 2021 with a ban...</td>\n",
       "      <td>LABEL_1</td>\n",
       "      <td>0.966029</td>\n",
       "      <td>positive</td>\n",
       "      <td>0.927262</td>\n",
       "    </tr>\n",
       "    <tr>\n",
       "      <th>2</th>\n",
       "      <td>Bitcoin Rally Extends Into New Year</td>\n",
       "      <td>Jan.03 -- Bitcoin is continuing its rally into...</td>\n",
       "      <td>Bloomberg Markets and Finance</td>\n",
       "      <td>Sun, 03 Jan 2021 18:46:20 -0500</td>\n",
       "      <td>0.8</td>\n",
       "      <td>0.0</td>\n",
       "      <td>0.0</td>\n",
       "      <td>0.0</td>\n",
       "      <td>0.0</td>\n",
       "      <td>0.0</td>\n",
       "      <td>[[New Year, EVENT], [Jan.03 --, DATE], [the ne...</td>\n",
       "      <td>Bitcoin Rally Extends Into New Year Jan.03 -- ...</td>\n",
       "      <td>LABEL_1</td>\n",
       "      <td>0.957252</td>\n",
       "      <td>positive</td>\n",
       "      <td>0.817353</td>\n",
       "    </tr>\n",
       "    <tr>\n",
       "      <th>3</th>\n",
       "      <td>BitPay CCO Says Bitcoin Will Hit $45,000</td>\n",
       "      <td>Jan.04 -- Bitpay Chief Commercial Officer Sonn...</td>\n",
       "      <td>Bloomberg Technology</td>\n",
       "      <td>Mon, 04 Jan 2021 20:29:35 -0500</td>\n",
       "      <td>0.8</td>\n",
       "      <td>0.0</td>\n",
       "      <td>0.0</td>\n",
       "      <td>0.0</td>\n",
       "      <td>0.0</td>\n",
       "      <td>0.0</td>\n",
       "      <td>[[BitPay CCO, ORG], [45,000, MONEY], [Jan.04, ...</td>\n",
       "      <td>BitPay CCO Says Bitcoin Will Hit $45,000 Jan.0...</td>\n",
       "      <td>LABEL_1</td>\n",
       "      <td>0.914190</td>\n",
       "      <td>neutral</td>\n",
       "      <td>0.362224</td>\n",
       "    </tr>\n",
       "    <tr>\n",
       "      <th>4</th>\n",
       "      <td>Markets Report: Bitcoin Dives to $27,700 as a ...</td>\n",
       "      <td>Bitcoin is seeing a wild start to the week wit...</td>\n",
       "      <td>Modern Consensus</td>\n",
       "      <td>Mon, 04 Jan 2021 09:01:49 -0500</td>\n",
       "      <td>-0.8</td>\n",
       "      <td>0.0</td>\n",
       "      <td>0.0</td>\n",
       "      <td>0.0</td>\n",
       "      <td>0.0</td>\n",
       "      <td>0.0</td>\n",
       "      <td>[[27,700, MONEY], [a Crazy Weekend, DATE], [th...</td>\n",
       "      <td>Markets Report: Bitcoin Dives to $27,700 as a ...</td>\n",
       "      <td>LABEL_0</td>\n",
       "      <td>0.917384</td>\n",
       "      <td>negative</td>\n",
       "      <td>0.932793</td>\n",
       "    </tr>\n",
       "  </tbody>\n",
       "</table>\n",
       "</div>"
      ],
      "text/plain": [
       "                                               title  \\\n",
       "0               VanEck makes another Bitcoin ETF run   \n",
       "1  Markets Report: Bitcoin starts 2021 with a ban...   \n",
       "2                Bitcoin Rally Extends Into New Year   \n",
       "3           BitPay CCO Says Bitcoin Will Hit $45,000   \n",
       "4  Markets Report: Bitcoin Dives to $27,700 as a ...   \n",
       "\n",
       "                                                text  \\\n",
       "0  Investment management firm VanEck has filed wi...   \n",
       "1  Bitcoin begins a new year on a high in almost ...   \n",
       "2  Jan.03 -- Bitcoin is continuing its rally into...   \n",
       "3  Jan.04 -- Bitpay Chief Commercial Officer Sonn...   \n",
       "4  Bitcoin is seeing a wild start to the week wit...   \n",
       "\n",
       "                     source_name                             date  \\\n",
       "0               Modern Consensus  Fri, 01 Jan 2021 11:07:58 -0500   \n",
       "1               Modern Consensus  Fri, 01 Jan 2021 09:51:10 -0500   \n",
       "2  Bloomberg Markets and Finance  Sun, 03 Jan 2021 18:46:20 -0500   \n",
       "3           Bloomberg Technology  Mon, 04 Jan 2021 20:29:35 -0500   \n",
       "4               Modern Consensus  Mon, 04 Jan 2021 09:01:49 -0500   \n",
       "\n",
       "   tanalysis_absa  economy_absa  regulation_absa  technology_absa  \\\n",
       "0             0.0           0.0              0.3              0.0   \n",
       "1             0.9           0.0              0.0              0.0   \n",
       "2             0.8           0.0              0.0              0.0   \n",
       "3             0.8           0.0              0.0              0.0   \n",
       "4            -0.8           0.0              0.0              0.0   \n",
       "\n",
       "   adoption_absa  cybersecurity_absa  \\\n",
       "0            0.7                 0.0   \n",
       "1            0.5                 0.0   \n",
       "2            0.0                 0.0   \n",
       "3            0.0                 0.0   \n",
       "4            0.0                 0.0   \n",
       "\n",
       "                                                 NER  \\\n",
       "0  [[VanEck, ORG], [VanEck, ORG], [the U.S. Secur...   \n",
       "1  [[2021, DATE], [500,000, MONEY], [a new year, ...   \n",
       "2  [[New Year, EVENT], [Jan.03 --, DATE], [the ne...   \n",
       "3  [[BitPay CCO, ORG], [45,000, MONEY], [Jan.04, ...   \n",
       "4  [[27,700, MONEY], [a Crazy Weekend, DATE], [th...   \n",
       "\n",
       "                                     news_text_title sentiment_CryptoBERT  \\\n",
       "0  VanEck makes another Bitcoin ETF run Investmen...              LABEL_1   \n",
       "1  Markets Report: Bitcoin starts 2021 with a ban...              LABEL_1   \n",
       "2  Bitcoin Rally Extends Into New Year Jan.03 -- ...              LABEL_1   \n",
       "3  BitPay CCO Says Bitcoin Will Hit $45,000 Jan.0...              LABEL_1   \n",
       "4  Markets Report: Bitcoin Dives to $27,700 as a ...              LABEL_0   \n",
       "\n",
       "   score_CryptoBERT sentiment_finbert  score_finbert  \n",
       "0          0.953463           neutral       0.704972  \n",
       "1          0.966029          positive       0.927262  \n",
       "2          0.957252          positive       0.817353  \n",
       "3          0.914190           neutral       0.362224  \n",
       "4          0.917384          negative       0.932793  "
      ]
     },
     "execution_count": 7,
     "metadata": {},
     "output_type": "execute_result"
    }
   ],
   "source": [
    "df = pd.read_parquet(\"../data/5.cryptonews_sentiment.parquet\")\n",
    "df.reset_index(drop=True, inplace=True)\n",
    "print(df.shape)\n",
    "df.head()"
   ]
  },
  {
   "cell_type": "code",
   "execution_count": 8,
   "metadata": {},
   "outputs": [
    {
     "name": "stdout",
     "output_type": "stream",
     "text": [
      "(159486, 18)\n"
     ]
    },
    {
     "data": {
      "application/vnd.microsoft.datawrangler.viewer.v0+json": {
       "columns": [
        {
         "name": "index",
         "rawType": "int64",
         "type": "integer"
        },
        {
         "name": "title",
         "rawType": "object",
         "type": "string"
        },
        {
         "name": "text",
         "rawType": "object",
         "type": "string"
        },
        {
         "name": "source_name",
         "rawType": "object",
         "type": "string"
        },
        {
         "name": "date",
         "rawType": "object",
         "type": "string"
        },
        {
         "name": "tanalysis_absa",
         "rawType": "float64",
         "type": "float"
        },
        {
         "name": "economy_absa",
         "rawType": "float64",
         "type": "float"
        },
        {
         "name": "regulation_absa",
         "rawType": "float64",
         "type": "float"
        },
        {
         "name": "technology_absa",
         "rawType": "float64",
         "type": "float"
        },
        {
         "name": "adoption_absa",
         "rawType": "float64",
         "type": "float"
        },
        {
         "name": "cybersecurity_absa",
         "rawType": "float64",
         "type": "float"
        },
        {
         "name": "NER",
         "rawType": "object",
         "type": "unknown"
        },
        {
         "name": "news_text_title",
         "rawType": "object",
         "type": "string"
        },
        {
         "name": "sentiment_CryptoBERT",
         "rawType": "object",
         "type": "string"
        },
        {
         "name": "score_CryptoBERT",
         "rawType": "float64",
         "type": "float"
        },
        {
         "name": "sentiment_finbert",
         "rawType": "object",
         "type": "string"
        },
        {
         "name": "score_finbert",
         "rawType": "float64",
         "type": "float"
        },
        {
         "name": "topic",
         "rawType": "object",
         "type": "string"
        },
        {
         "name": "topic_confidence_score",
         "rawType": "float64",
         "type": "float"
        }
       ],
       "conversionMethod": "pd.DataFrame",
       "ref": "282c3fc7-73dc-43ab-96a0-94696256a741",
       "rows": [
        [
         "0",
         "VanEck makes another Bitcoin ETF run",
         "Investment management firm VanEck has filed with the U.S. Securities and Exchange Commission to launch a Bitcoin exchange-traded fund. VanEck is clearly hoping that the departure of SEC chairman Jay Clayton will give its latest ETF application a chance.",
         "Modern Consensus",
         "Fri, 01 Jan 2021 11:07:58 -0500",
         "0.0",
         "0.0",
         "0.3",
         "0.0",
         "0.7",
         "0.0",
         "[array(['VanEck', 'ORG'], dtype=object)\n array(['VanEck', 'ORG'], dtype=object)\n array(['the U.S. Securities and Exchange Commission', 'ORG'], dtype=object)\n array(['VanEck', 'ORG'], dtype=object)\n array(['SEC', 'ORG'], dtype=object)\n array(['Jay Clayton', 'PERSON'], dtype=object)]",
         "VanEck makes another Bitcoin ETF run Investment management firm VanEck has filed with the U.S. Securities and Exchange Commission to launch a Bitcoin exchange-traded fund. VanEck is clearly hoping that the departure of SEC chairman Jay Clayton will give its latest ETF application a chance.",
         "LABEL_1",
         "0.9534627199172974",
         "neutral",
         "0.7049717903137207",
         "product launches",
         "0.5089005827903741"
        ],
        [
         "1",
         "Markets Report: Bitcoin starts 2021 with a bang as price targets reach $500,000",
         "Bitcoin begins a new year on a high in almost every way — and price records are just the icing on the cake for hodlers. As 2021 begins, anticipation has never been higher for Bitcoin to have its best year ever, even as December's gains alone topped 40%.",
         "Modern Consensus",
         "Fri, 01 Jan 2021 09:51:10 -0500",
         "0.9",
         "0.0",
         "0.0",
         "0.0",
         "0.5",
         "0.0",
         "[array(['2021', 'DATE'], dtype=object)\n array(['500,000', 'MONEY'], dtype=object)\n array(['a new year', 'DATE'], dtype=object)\n array(['2021', 'DATE'], dtype=object)\n array(['year', 'DATE'], dtype=object)\n array(['December', 'DATE'], dtype=object)\n array(['40%', 'PERCENT'], dtype=object)]",
         "Markets Report: Bitcoin starts 2021 with a bang as price targets reach $500,000 Bitcoin begins a new year on a high in almost every way — and price records are just the icing on the cake for hodlers. As 2021 begins, anticipation has never been higher for Bitcoin to have its best year ever, even as December's gains alone topped 40%.",
         "LABEL_1",
         "0.96602863073349",
         "positive",
         "0.9272623658180237",
         "price action, price movement, trading",
         "0.443892925977706"
        ],
        [
         "2",
         "Bitcoin Rally Extends Into New Year",
         "Jan.03 -- Bitcoin is continuing its rally into record highs in the near year, rising above $34,000 before retreating. Su Keenan reports on \"Bloomberg Daybreak: Australia.",
         "Bloomberg Markets and Finance",
         "Sun, 03 Jan 2021 18:46:20 -0500",
         "0.8",
         "0.0",
         "0.0",
         "0.0",
         "0.0",
         "0.0",
         "[array(['New Year', 'EVENT'], dtype=object)\n array(['Jan.03 --', 'DATE'], dtype=object)\n array(['the near year', 'DATE'], dtype=object)\n array(['34,000', 'MONEY'], dtype=object)\n array(['Su Keenan', 'PERSON'], dtype=object)\n array(['Bloomberg Daybreak: Australia', 'WORK_OF_ART'], dtype=object)]",
         "Bitcoin Rally Extends Into New Year Jan.03 -- Bitcoin is continuing its rally into record highs in the near year, rising above $34,000 before retreating. Su Keenan reports on \"Bloomberg Daybreak: Australia.",
         "LABEL_1",
         "0.9572523236274719",
         "positive",
         "0.817352831363678",
         "price action, price movement, trading",
         "0.6478496193885801"
        ],
        [
         "3",
         "BitPay CCO Says Bitcoin Will Hit $45,000",
         "Jan.04 -- Bitpay Chief Commercial Officer Sonny Singh discusses Bitcoin prices retreating from record highs but believing it will reach $45K within the next month. He speaks with Emily Chang on \"Bloomberg Technology.",
         "Bloomberg Technology",
         "Mon, 04 Jan 2021 20:29:35 -0500",
         "0.8",
         "0.0",
         "0.0",
         "0.0",
         "0.0",
         "0.0",
         "[array(['BitPay CCO', 'ORG'], dtype=object)\n array(['45,000', 'MONEY'], dtype=object)\n array(['Jan.04', 'DATE'], dtype=object)\n array(['Bitpay', 'ORG'], dtype=object)\n array(['Sonny Singh', 'PERSON'], dtype=object)\n array(['45', 'MONEY'], dtype=object) array(['K', 'MONEY'], dtype=object)\n array(['the next month', 'DATE'], dtype=object)\n array(['Emily Chang', 'PERSON'], dtype=object)\n array(['Bloomberg Technology', 'ORG'], dtype=object)]",
         "BitPay CCO Says Bitcoin Will Hit $45,000 Jan.04 -- Bitpay Chief Commercial Officer Sonny Singh discusses Bitcoin prices retreating from record highs but believing it will reach $45K within the next month. He speaks with Emily Chang on \"Bloomberg Technology.",
         "LABEL_1",
         "0.914189875125885",
         "neutral",
         "0.36222410202026367",
         "price action, price movement, trading",
         "0.35592150688171303"
        ],
        [
         "4",
         "Markets Report: Bitcoin Dives to $27,700 as a Crazy Weekend Turns Crazier",
         "Bitcoin is seeing a wild start to the week with volatility taking traders up and down by thousands of dollars in under an hour. In what will cause headaches if it sets the tone for the coming days, Bitcoin dropped by $4,000 in less than sixty minutes on Monday — what's next?",
         "Modern Consensus",
         "Mon, 04 Jan 2021 09:01:49 -0500",
         "-0.8",
         "0.0",
         "0.0",
         "0.0",
         "0.0",
         "0.0",
         "[array(['27,700', 'MONEY'], dtype=object)\n array(['a Crazy Weekend', 'DATE'], dtype=object)\n array(['the week', 'DATE'], dtype=object)\n array(['thousands of dollars', 'MONEY'], dtype=object)\n array(['under an hour', 'TIME'], dtype=object)\n array(['the coming days', 'DATE'], dtype=object)\n array(['4,000', 'MONEY'], dtype=object)\n array(['less than sixty minutes', 'TIME'], dtype=object)\n array(['Monday', 'DATE'], dtype=object)]",
         "Markets Report: Bitcoin Dives to $27,700 as a Crazy Weekend Turns Crazier Bitcoin is seeing a wild start to the week with volatility taking traders up and down by thousands of dollars in under an hour. In what will cause headaches if it sets the tone for the coming days, Bitcoin dropped by $4,000 in less than sixty minutes on Monday — what's next?",
         "LABEL_0",
         "0.9173840880393982",
         "negative",
         "0.9327932596206665",
         "price action, price movement, trading",
         "0.516642928123474"
        ]
       ],
       "shape": {
        "columns": 18,
        "rows": 5
       }
      },
      "text/html": [
       "<div>\n",
       "<style scoped>\n",
       "    .dataframe tbody tr th:only-of-type {\n",
       "        vertical-align: middle;\n",
       "    }\n",
       "\n",
       "    .dataframe tbody tr th {\n",
       "        vertical-align: top;\n",
       "    }\n",
       "\n",
       "    .dataframe thead th {\n",
       "        text-align: right;\n",
       "    }\n",
       "</style>\n",
       "<table border=\"1\" class=\"dataframe\">\n",
       "  <thead>\n",
       "    <tr style=\"text-align: right;\">\n",
       "      <th></th>\n",
       "      <th>title</th>\n",
       "      <th>text</th>\n",
       "      <th>source_name</th>\n",
       "      <th>date</th>\n",
       "      <th>tanalysis_absa</th>\n",
       "      <th>economy_absa</th>\n",
       "      <th>regulation_absa</th>\n",
       "      <th>technology_absa</th>\n",
       "      <th>adoption_absa</th>\n",
       "      <th>cybersecurity_absa</th>\n",
       "      <th>NER</th>\n",
       "      <th>news_text_title</th>\n",
       "      <th>sentiment_CryptoBERT</th>\n",
       "      <th>score_CryptoBERT</th>\n",
       "      <th>sentiment_finbert</th>\n",
       "      <th>score_finbert</th>\n",
       "      <th>topic</th>\n",
       "      <th>topic_confidence_score</th>\n",
       "    </tr>\n",
       "  </thead>\n",
       "  <tbody>\n",
       "    <tr>\n",
       "      <th>0</th>\n",
       "      <td>VanEck makes another Bitcoin ETF run</td>\n",
       "      <td>Investment management firm VanEck has filed wi...</td>\n",
       "      <td>Modern Consensus</td>\n",
       "      <td>Fri, 01 Jan 2021 11:07:58 -0500</td>\n",
       "      <td>0.0</td>\n",
       "      <td>0.0</td>\n",
       "      <td>0.3</td>\n",
       "      <td>0.0</td>\n",
       "      <td>0.7</td>\n",
       "      <td>0.0</td>\n",
       "      <td>[[VanEck, ORG], [VanEck, ORG], [the U.S. Secur...</td>\n",
       "      <td>VanEck makes another Bitcoin ETF run Investmen...</td>\n",
       "      <td>LABEL_1</td>\n",
       "      <td>0.953463</td>\n",
       "      <td>neutral</td>\n",
       "      <td>0.704972</td>\n",
       "      <td>product launches</td>\n",
       "      <td>0.508901</td>\n",
       "    </tr>\n",
       "    <tr>\n",
       "      <th>1</th>\n",
       "      <td>Markets Report: Bitcoin starts 2021 with a ban...</td>\n",
       "      <td>Bitcoin begins a new year on a high in almost ...</td>\n",
       "      <td>Modern Consensus</td>\n",
       "      <td>Fri, 01 Jan 2021 09:51:10 -0500</td>\n",
       "      <td>0.9</td>\n",
       "      <td>0.0</td>\n",
       "      <td>0.0</td>\n",
       "      <td>0.0</td>\n",
       "      <td>0.5</td>\n",
       "      <td>0.0</td>\n",
       "      <td>[[2021, DATE], [500,000, MONEY], [a new year, ...</td>\n",
       "      <td>Markets Report: Bitcoin starts 2021 with a ban...</td>\n",
       "      <td>LABEL_1</td>\n",
       "      <td>0.966029</td>\n",
       "      <td>positive</td>\n",
       "      <td>0.927262</td>\n",
       "      <td>price action, price movement, trading</td>\n",
       "      <td>0.443893</td>\n",
       "    </tr>\n",
       "    <tr>\n",
       "      <th>2</th>\n",
       "      <td>Bitcoin Rally Extends Into New Year</td>\n",
       "      <td>Jan.03 -- Bitcoin is continuing its rally into...</td>\n",
       "      <td>Bloomberg Markets and Finance</td>\n",
       "      <td>Sun, 03 Jan 2021 18:46:20 -0500</td>\n",
       "      <td>0.8</td>\n",
       "      <td>0.0</td>\n",
       "      <td>0.0</td>\n",
       "      <td>0.0</td>\n",
       "      <td>0.0</td>\n",
       "      <td>0.0</td>\n",
       "      <td>[[New Year, EVENT], [Jan.03 --, DATE], [the ne...</td>\n",
       "      <td>Bitcoin Rally Extends Into New Year Jan.03 -- ...</td>\n",
       "      <td>LABEL_1</td>\n",
       "      <td>0.957252</td>\n",
       "      <td>positive</td>\n",
       "      <td>0.817353</td>\n",
       "      <td>price action, price movement, trading</td>\n",
       "      <td>0.647850</td>\n",
       "    </tr>\n",
       "    <tr>\n",
       "      <th>3</th>\n",
       "      <td>BitPay CCO Says Bitcoin Will Hit $45,000</td>\n",
       "      <td>Jan.04 -- Bitpay Chief Commercial Officer Sonn...</td>\n",
       "      <td>Bloomberg Technology</td>\n",
       "      <td>Mon, 04 Jan 2021 20:29:35 -0500</td>\n",
       "      <td>0.8</td>\n",
       "      <td>0.0</td>\n",
       "      <td>0.0</td>\n",
       "      <td>0.0</td>\n",
       "      <td>0.0</td>\n",
       "      <td>0.0</td>\n",
       "      <td>[[BitPay CCO, ORG], [45,000, MONEY], [Jan.04, ...</td>\n",
       "      <td>BitPay CCO Says Bitcoin Will Hit $45,000 Jan.0...</td>\n",
       "      <td>LABEL_1</td>\n",
       "      <td>0.914190</td>\n",
       "      <td>neutral</td>\n",
       "      <td>0.362224</td>\n",
       "      <td>price action, price movement, trading</td>\n",
       "      <td>0.355922</td>\n",
       "    </tr>\n",
       "    <tr>\n",
       "      <th>4</th>\n",
       "      <td>Markets Report: Bitcoin Dives to $27,700 as a ...</td>\n",
       "      <td>Bitcoin is seeing a wild start to the week wit...</td>\n",
       "      <td>Modern Consensus</td>\n",
       "      <td>Mon, 04 Jan 2021 09:01:49 -0500</td>\n",
       "      <td>-0.8</td>\n",
       "      <td>0.0</td>\n",
       "      <td>0.0</td>\n",
       "      <td>0.0</td>\n",
       "      <td>0.0</td>\n",
       "      <td>0.0</td>\n",
       "      <td>[[27,700, MONEY], [a Crazy Weekend, DATE], [th...</td>\n",
       "      <td>Markets Report: Bitcoin Dives to $27,700 as a ...</td>\n",
       "      <td>LABEL_0</td>\n",
       "      <td>0.917384</td>\n",
       "      <td>negative</td>\n",
       "      <td>0.932793</td>\n",
       "      <td>price action, price movement, trading</td>\n",
       "      <td>0.516643</td>\n",
       "    </tr>\n",
       "  </tbody>\n",
       "</table>\n",
       "</div>"
      ],
      "text/plain": [
       "                                               title  \\\n",
       "0               VanEck makes another Bitcoin ETF run   \n",
       "1  Markets Report: Bitcoin starts 2021 with a ban...   \n",
       "2                Bitcoin Rally Extends Into New Year   \n",
       "3           BitPay CCO Says Bitcoin Will Hit $45,000   \n",
       "4  Markets Report: Bitcoin Dives to $27,700 as a ...   \n",
       "\n",
       "                                                text  \\\n",
       "0  Investment management firm VanEck has filed wi...   \n",
       "1  Bitcoin begins a new year on a high in almost ...   \n",
       "2  Jan.03 -- Bitcoin is continuing its rally into...   \n",
       "3  Jan.04 -- Bitpay Chief Commercial Officer Sonn...   \n",
       "4  Bitcoin is seeing a wild start to the week wit...   \n",
       "\n",
       "                     source_name                             date  \\\n",
       "0               Modern Consensus  Fri, 01 Jan 2021 11:07:58 -0500   \n",
       "1               Modern Consensus  Fri, 01 Jan 2021 09:51:10 -0500   \n",
       "2  Bloomberg Markets and Finance  Sun, 03 Jan 2021 18:46:20 -0500   \n",
       "3           Bloomberg Technology  Mon, 04 Jan 2021 20:29:35 -0500   \n",
       "4               Modern Consensus  Mon, 04 Jan 2021 09:01:49 -0500   \n",
       "\n",
       "   tanalysis_absa  economy_absa  regulation_absa  technology_absa  \\\n",
       "0             0.0           0.0              0.3              0.0   \n",
       "1             0.9           0.0              0.0              0.0   \n",
       "2             0.8           0.0              0.0              0.0   \n",
       "3             0.8           0.0              0.0              0.0   \n",
       "4            -0.8           0.0              0.0              0.0   \n",
       "\n",
       "   adoption_absa  cybersecurity_absa  \\\n",
       "0            0.7                 0.0   \n",
       "1            0.5                 0.0   \n",
       "2            0.0                 0.0   \n",
       "3            0.0                 0.0   \n",
       "4            0.0                 0.0   \n",
       "\n",
       "                                                 NER  \\\n",
       "0  [[VanEck, ORG], [VanEck, ORG], [the U.S. Secur...   \n",
       "1  [[2021, DATE], [500,000, MONEY], [a new year, ...   \n",
       "2  [[New Year, EVENT], [Jan.03 --, DATE], [the ne...   \n",
       "3  [[BitPay CCO, ORG], [45,000, MONEY], [Jan.04, ...   \n",
       "4  [[27,700, MONEY], [a Crazy Weekend, DATE], [th...   \n",
       "\n",
       "                                     news_text_title sentiment_CryptoBERT  \\\n",
       "0  VanEck makes another Bitcoin ETF run Investmen...              LABEL_1   \n",
       "1  Markets Report: Bitcoin starts 2021 with a ban...              LABEL_1   \n",
       "2  Bitcoin Rally Extends Into New Year Jan.03 -- ...              LABEL_1   \n",
       "3  BitPay CCO Says Bitcoin Will Hit $45,000 Jan.0...              LABEL_1   \n",
       "4  Markets Report: Bitcoin Dives to $27,700 as a ...              LABEL_0   \n",
       "\n",
       "   score_CryptoBERT sentiment_finbert  score_finbert  \\\n",
       "0          0.953463           neutral       0.704972   \n",
       "1          0.966029          positive       0.927262   \n",
       "2          0.957252          positive       0.817353   \n",
       "3          0.914190           neutral       0.362224   \n",
       "4          0.917384          negative       0.932793   \n",
       "\n",
       "                                   topic  topic_confidence_score  \n",
       "0                       product launches                0.508901  \n",
       "1  price action, price movement, trading                0.443893  \n",
       "2  price action, price movement, trading                0.647850  \n",
       "3  price action, price movement, trading                0.355922  \n",
       "4  price action, price movement, trading                0.516643  "
      ]
     },
     "execution_count": 8,
     "metadata": {},
     "output_type": "execute_result"
    }
   ],
   "source": [
    "# concat with the classified topics\n",
    "df = pd.concat([df, df_output], axis=1)\n",
    "print(df.shape)\n",
    "df.head()"
   ]
  },
  {
   "cell_type": "code",
   "execution_count": 10,
   "metadata": {},
   "outputs": [],
   "source": [
    "df.drop(columns=['news_text_title'], inplace=True)"
   ]
  },
  {
   "cell_type": "code",
   "execution_count": 13,
   "metadata": {},
   "outputs": [
    {
     "name": "stdout",
     "output_type": "stream",
     "text": [
      "(159486, 17)\n"
     ]
    },
    {
     "data": {
      "application/vnd.microsoft.datawrangler.viewer.v0+json": {
       "columns": [
        {
         "name": "index",
         "rawType": "int64",
         "type": "integer"
        },
        {
         "name": "title",
         "rawType": "object",
         "type": "string"
        },
        {
         "name": "text",
         "rawType": "object",
         "type": "string"
        },
        {
         "name": "source_name",
         "rawType": "object",
         "type": "string"
        },
        {
         "name": "date",
         "rawType": "object",
         "type": "string"
        },
        {
         "name": "tanalysis_absa",
         "rawType": "float64",
         "type": "float"
        },
        {
         "name": "economy_absa",
         "rawType": "float64",
         "type": "float"
        },
        {
         "name": "regulation_absa",
         "rawType": "float64",
         "type": "float"
        },
        {
         "name": "technology_absa",
         "rawType": "float64",
         "type": "float"
        },
        {
         "name": "adoption_absa",
         "rawType": "float64",
         "type": "float"
        },
        {
         "name": "cybersecurity_absa",
         "rawType": "float64",
         "type": "float"
        },
        {
         "name": "NER",
         "rawType": "object",
         "type": "unknown"
        },
        {
         "name": "sentiment_CryptoBERT",
         "rawType": "object",
         "type": "string"
        },
        {
         "name": "score_CryptoBERT",
         "rawType": "float64",
         "type": "float"
        },
        {
         "name": "sentiment_finbert",
         "rawType": "object",
         "type": "string"
        },
        {
         "name": "score_finbert",
         "rawType": "float64",
         "type": "float"
        },
        {
         "name": "topic",
         "rawType": "object",
         "type": "string"
        },
        {
         "name": "topic_confidence_score",
         "rawType": "float64",
         "type": "float"
        }
       ],
       "conversionMethod": "pd.DataFrame",
       "ref": "f9e72e37-ce0f-4689-b57a-b5133aca901c",
       "rows": [
        [
         "159481",
         "Bitcoin remains volatile despite $103k milestone: Scaramucci",
         "SkyBridge Capital founder Anthony Scaramucci has shared a measured perspective on Bitcoin's volatility amid recent price surges. Speaking to Yahoo Finance, Scaramucci stressed the importance of long-term investment horizons and institutional adoption of Bitcoin (BTC).",
         "Crypto news",
         "Sat, 07 Dec 2024 14:17:59 -0500",
         "-0.30000000000000004",
         "0.0",
         "-0.7000000000000001",
         "0.0",
         "0.0",
         "0.0",
         "[array(['$103k', 'MONEY'], dtype=object)\n array(['Scaramucci', 'PERSON'], dtype=object)\n array(['SkyBridge Capital', 'ORG'], dtype=object)\n array(['Anthony Scaramucci', 'PERSON'], dtype=object)\n array(['Yahoo Finance', 'ORG'], dtype=object)\n array(['Scaramucci', 'PERSON'], dtype=object)]",
         "LABEL_1",
         "0.9619247317314148",
         "neutral",
         "0.5119423270225525",
         "price action, price movement, trading",
         "0.33558160066604603"
        ],
        [
         "159482",
         "Mt. Gox Bitcoin Payout Triggers Major Transfers, Bitcoin Faces Historic Liquidation Waves",
         "Mt. Gox cryptocurrency exchange has triggered a massive transfer of Bitcoin, moving over 27,871 BTC (worth approximately $2.8 billion) in a 24-hour period on December 6, 2024. The highly anticipated Bitcoin payouts, which have been in the works for years, are starting to take shape, and the movements are stirring up considerable attention in the crypto markets.",
         "The Currency Analytics",
         "Sat, 07 Dec 2024 13:48:19 -0500",
         "0.1",
         "0.0",
         "0.0",
         "0.0",
         "0.1",
         "0.0",
         "[array(['Mt. Gox', 'ORG'], dtype=object)\n array(['Mt. Gox', 'ORG'], dtype=object)\n array(['27,871 BTC', 'MONEY'], dtype=object)\n array(['approximately $2.8 billion', 'MONEY'], dtype=object)\n array(['24-hour', 'TIME'], dtype=object)\n array(['December 6, 2024', 'DATE'], dtype=object)\n array(['years', 'DATE'], dtype=object)]",
         "LABEL_1",
         "0.9623430967330933",
         "neutral",
         "0.5436394810676575",
         "price action, price movement, trading",
         "0.334338009357452"
        ],
        [
         "159483",
         "US Treasury Acknowledges Bitcoin as ‘Digital Gold' in Fiscal Report",
         "The U.S. Treasury's Fiscal Year 2024 Q4 Report describes how “digital assets have witnessed rapid growth albeit from a small base,” highlighting bitcoin's “primary” function as a “store-of-value.” Treasury's Bitcoin Remarks Ignite Conversations Among Enthusiasts On Saturday, enthusiasts on X buzzed over the Treasury's comparison of bitcoin to “digital gold.",
         "Bitcoin",
         "Sat, 07 Dec 2024 13:30:41 -0500",
         "1.0",
         "0.5",
         "0.0",
         "0.0",
         "0.5",
         "0.0",
         "[array(['US Treasury', 'ORG'], dtype=object)\n array([\"The U.S. Treasury's\", 'ORG'], dtype=object)\n array(['Fiscal Year 2024 Q4 Report', 'DATE'], dtype=object)\n array(['Treasury', 'ORG'], dtype=object)\n array(['Saturday', 'DATE'], dtype=object)\n array(['Treasury', 'ORG'], dtype=object)]",
         "LABEL_1",
         "0.9659284949302673",
         "positive",
         "0.6631879210472107",
         "consensus updates",
         "0.20218244194984403"
        ],
        [
         "159484",
         "Can Bitcoin, Ethereum, Dogecoin, Shiba Inu or Solana Beat XRP In 2025? Poll Says Yes, One Coin Stands Out",
         "The prices of cryptocurrencies have soared in 2024, specifically hitting huge gains and some hitting new all-time highs shortly after the 2024 presidential election. One of the hottest cryptocurrencies of late is XRP Token (CRYPTO: XRP) from Ripple.",
         "Benzinga",
         "Sat, 07 Dec 2024 13:30:17 -0500",
         "-0.5",
         "0.0",
         "0.0",
         "0.0",
         "-0.30000000000000004",
         "0.0",
         "[array(['Dogecoin', 'PRODUCT'], dtype=object)\n array(['Solana', 'PRODUCT'], dtype=object)\n array(['2025', 'DATE'], dtype=object)\n array(['One', 'CARDINAL'], dtype=object)\n array(['2024', 'DATE'], dtype=object)\n array(['2024', 'DATE'], dtype=object)\n array(['One', 'CARDINAL'], dtype=object)\n array(['Ripple', 'ORG'], dtype=object)]",
         "LABEL_1",
         "0.962493360042572",
         "positive",
         "0.6919463872909546",
         "price action, price movement, trading",
         "0.7365473508834831"
        ],
        [
         "159485",
         "MicroStrategy hits $40b in Bitcoin, critics question Saylor's strategy",
         "A prominent investment expert has raised concerns about MicroStrategy's aggressive Bitcoin accumulation strategy, even as the company's holdings reach $40.01 billion. The warning comes as the company's portfolio shows unrealized gains of 70.35% ($16.52 billion) on its total investment.",
         "Crypto news",
         "Sat, 07 Dec 2024 13:28:56 -0500",
         "-0.30000000000000004",
         "0.0",
         "0.0",
         "0.0",
         "0.2",
         "0.0",
         "[array(['MicroStrategy', 'ORG'], dtype=object)\n array(['40b', 'MONEY'], dtype=object)\n array(['Saylor', 'ORG'], dtype=object)\n array(['MicroStrategy', 'ORG'], dtype=object)\n array(['$40.01 billion', 'MONEY'], dtype=object)\n array(['70.35%', 'PERCENT'], dtype=object)\n array(['$16.52 billion', 'MONEY'], dtype=object)]",
         "LABEL_0",
         "0.6952167749404907",
         "negative",
         "0.777373731136322",
         "liquidity, volatility, risk",
         "0.17653764784336"
        ]
       ],
       "shape": {
        "columns": 17,
        "rows": 5
       }
      },
      "text/html": [
       "<div>\n",
       "<style scoped>\n",
       "    .dataframe tbody tr th:only-of-type {\n",
       "        vertical-align: middle;\n",
       "    }\n",
       "\n",
       "    .dataframe tbody tr th {\n",
       "        vertical-align: top;\n",
       "    }\n",
       "\n",
       "    .dataframe thead th {\n",
       "        text-align: right;\n",
       "    }\n",
       "</style>\n",
       "<table border=\"1\" class=\"dataframe\">\n",
       "  <thead>\n",
       "    <tr style=\"text-align: right;\">\n",
       "      <th></th>\n",
       "      <th>title</th>\n",
       "      <th>text</th>\n",
       "      <th>source_name</th>\n",
       "      <th>date</th>\n",
       "      <th>tanalysis_absa</th>\n",
       "      <th>economy_absa</th>\n",
       "      <th>regulation_absa</th>\n",
       "      <th>technology_absa</th>\n",
       "      <th>adoption_absa</th>\n",
       "      <th>cybersecurity_absa</th>\n",
       "      <th>NER</th>\n",
       "      <th>sentiment_CryptoBERT</th>\n",
       "      <th>score_CryptoBERT</th>\n",
       "      <th>sentiment_finbert</th>\n",
       "      <th>score_finbert</th>\n",
       "      <th>topic</th>\n",
       "      <th>topic_confidence_score</th>\n",
       "    </tr>\n",
       "  </thead>\n",
       "  <tbody>\n",
       "    <tr>\n",
       "      <th>159481</th>\n",
       "      <td>Bitcoin remains volatile despite $103k milesto...</td>\n",
       "      <td>SkyBridge Capital founder Anthony Scaramucci h...</td>\n",
       "      <td>Crypto news</td>\n",
       "      <td>Sat, 07 Dec 2024 14:17:59 -0500</td>\n",
       "      <td>-0.3</td>\n",
       "      <td>0.0</td>\n",
       "      <td>-0.7</td>\n",
       "      <td>0.0</td>\n",
       "      <td>0.0</td>\n",
       "      <td>0.0</td>\n",
       "      <td>[[$103k, MONEY], [Scaramucci, PERSON], [SkyBri...</td>\n",
       "      <td>LABEL_1</td>\n",
       "      <td>0.961925</td>\n",
       "      <td>neutral</td>\n",
       "      <td>0.511942</td>\n",
       "      <td>price action, price movement, trading</td>\n",
       "      <td>0.335582</td>\n",
       "    </tr>\n",
       "    <tr>\n",
       "      <th>159482</th>\n",
       "      <td>Mt. Gox Bitcoin Payout Triggers Major Transfer...</td>\n",
       "      <td>Mt. Gox cryptocurrency exchange has triggered ...</td>\n",
       "      <td>The Currency Analytics</td>\n",
       "      <td>Sat, 07 Dec 2024 13:48:19 -0500</td>\n",
       "      <td>0.1</td>\n",
       "      <td>0.0</td>\n",
       "      <td>0.0</td>\n",
       "      <td>0.0</td>\n",
       "      <td>0.1</td>\n",
       "      <td>0.0</td>\n",
       "      <td>[[Mt. Gox, ORG], [Mt. Gox, ORG], [27,871 BTC, ...</td>\n",
       "      <td>LABEL_1</td>\n",
       "      <td>0.962343</td>\n",
       "      <td>neutral</td>\n",
       "      <td>0.543639</td>\n",
       "      <td>price action, price movement, trading</td>\n",
       "      <td>0.334338</td>\n",
       "    </tr>\n",
       "    <tr>\n",
       "      <th>159483</th>\n",
       "      <td>US Treasury Acknowledges Bitcoin as ‘Digital G...</td>\n",
       "      <td>The U.S. Treasury's Fiscal Year 2024 Q4 Report...</td>\n",
       "      <td>Bitcoin</td>\n",
       "      <td>Sat, 07 Dec 2024 13:30:41 -0500</td>\n",
       "      <td>1.0</td>\n",
       "      <td>0.5</td>\n",
       "      <td>0.0</td>\n",
       "      <td>0.0</td>\n",
       "      <td>0.5</td>\n",
       "      <td>0.0</td>\n",
       "      <td>[[US Treasury, ORG], [The U.S. Treasury's, ORG...</td>\n",
       "      <td>LABEL_1</td>\n",
       "      <td>0.965928</td>\n",
       "      <td>positive</td>\n",
       "      <td>0.663188</td>\n",
       "      <td>consensus updates</td>\n",
       "      <td>0.202182</td>\n",
       "    </tr>\n",
       "    <tr>\n",
       "      <th>159484</th>\n",
       "      <td>Can Bitcoin, Ethereum, Dogecoin, Shiba Inu or ...</td>\n",
       "      <td>The prices of cryptocurrencies have soared in ...</td>\n",
       "      <td>Benzinga</td>\n",
       "      <td>Sat, 07 Dec 2024 13:30:17 -0500</td>\n",
       "      <td>-0.5</td>\n",
       "      <td>0.0</td>\n",
       "      <td>0.0</td>\n",
       "      <td>0.0</td>\n",
       "      <td>-0.3</td>\n",
       "      <td>0.0</td>\n",
       "      <td>[[Dogecoin, PRODUCT], [Solana, PRODUCT], [2025...</td>\n",
       "      <td>LABEL_1</td>\n",
       "      <td>0.962493</td>\n",
       "      <td>positive</td>\n",
       "      <td>0.691946</td>\n",
       "      <td>price action, price movement, trading</td>\n",
       "      <td>0.736547</td>\n",
       "    </tr>\n",
       "    <tr>\n",
       "      <th>159485</th>\n",
       "      <td>MicroStrategy hits $40b in Bitcoin, critics qu...</td>\n",
       "      <td>A prominent investment expert has raised conce...</td>\n",
       "      <td>Crypto news</td>\n",
       "      <td>Sat, 07 Dec 2024 13:28:56 -0500</td>\n",
       "      <td>-0.3</td>\n",
       "      <td>0.0</td>\n",
       "      <td>0.0</td>\n",
       "      <td>0.0</td>\n",
       "      <td>0.2</td>\n",
       "      <td>0.0</td>\n",
       "      <td>[[MicroStrategy, ORG], [40b, MONEY], [Saylor, ...</td>\n",
       "      <td>LABEL_0</td>\n",
       "      <td>0.695217</td>\n",
       "      <td>negative</td>\n",
       "      <td>0.777374</td>\n",
       "      <td>liquidity, volatility, risk</td>\n",
       "      <td>0.176538</td>\n",
       "    </tr>\n",
       "  </tbody>\n",
       "</table>\n",
       "</div>"
      ],
      "text/plain": [
       "                                                    title  \\\n",
       "159481  Bitcoin remains volatile despite $103k milesto...   \n",
       "159482  Mt. Gox Bitcoin Payout Triggers Major Transfer...   \n",
       "159483  US Treasury Acknowledges Bitcoin as ‘Digital G...   \n",
       "159484  Can Bitcoin, Ethereum, Dogecoin, Shiba Inu or ...   \n",
       "159485  MicroStrategy hits $40b in Bitcoin, critics qu...   \n",
       "\n",
       "                                                     text  \\\n",
       "159481  SkyBridge Capital founder Anthony Scaramucci h...   \n",
       "159482  Mt. Gox cryptocurrency exchange has triggered ...   \n",
       "159483  The U.S. Treasury's Fiscal Year 2024 Q4 Report...   \n",
       "159484  The prices of cryptocurrencies have soared in ...   \n",
       "159485  A prominent investment expert has raised conce...   \n",
       "\n",
       "                   source_name                             date  \\\n",
       "159481             Crypto news  Sat, 07 Dec 2024 14:17:59 -0500   \n",
       "159482  The Currency Analytics  Sat, 07 Dec 2024 13:48:19 -0500   \n",
       "159483                 Bitcoin  Sat, 07 Dec 2024 13:30:41 -0500   \n",
       "159484                Benzinga  Sat, 07 Dec 2024 13:30:17 -0500   \n",
       "159485             Crypto news  Sat, 07 Dec 2024 13:28:56 -0500   \n",
       "\n",
       "        tanalysis_absa  economy_absa  regulation_absa  technology_absa  \\\n",
       "159481            -0.3           0.0             -0.7              0.0   \n",
       "159482             0.1           0.0              0.0              0.0   \n",
       "159483             1.0           0.5              0.0              0.0   \n",
       "159484            -0.5           0.0              0.0              0.0   \n",
       "159485            -0.3           0.0              0.0              0.0   \n",
       "\n",
       "        adoption_absa  cybersecurity_absa  \\\n",
       "159481            0.0                 0.0   \n",
       "159482            0.1                 0.0   \n",
       "159483            0.5                 0.0   \n",
       "159484           -0.3                 0.0   \n",
       "159485            0.2                 0.0   \n",
       "\n",
       "                                                      NER  \\\n",
       "159481  [[$103k, MONEY], [Scaramucci, PERSON], [SkyBri...   \n",
       "159482  [[Mt. Gox, ORG], [Mt. Gox, ORG], [27,871 BTC, ...   \n",
       "159483  [[US Treasury, ORG], [The U.S. Treasury's, ORG...   \n",
       "159484  [[Dogecoin, PRODUCT], [Solana, PRODUCT], [2025...   \n",
       "159485  [[MicroStrategy, ORG], [40b, MONEY], [Saylor, ...   \n",
       "\n",
       "       sentiment_CryptoBERT  score_CryptoBERT sentiment_finbert  \\\n",
       "159481              LABEL_1          0.961925           neutral   \n",
       "159482              LABEL_1          0.962343           neutral   \n",
       "159483              LABEL_1          0.965928          positive   \n",
       "159484              LABEL_1          0.962493          positive   \n",
       "159485              LABEL_0          0.695217          negative   \n",
       "\n",
       "        score_finbert                                  topic  \\\n",
       "159481       0.511942  price action, price movement, trading   \n",
       "159482       0.543639  price action, price movement, trading   \n",
       "159483       0.663188                      consensus updates   \n",
       "159484       0.691946  price action, price movement, trading   \n",
       "159485       0.777374            liquidity, volatility, risk   \n",
       "\n",
       "        topic_confidence_score  \n",
       "159481                0.335582  \n",
       "159482                0.334338  \n",
       "159483                0.202182  \n",
       "159484                0.736547  \n",
       "159485                0.176538  "
      ]
     },
     "execution_count": 13,
     "metadata": {},
     "output_type": "execute_result"
    }
   ],
   "source": [
    "print(df.shape)\n",
    "df.tail()"
   ]
  },
  {
   "cell_type": "code",
   "execution_count": 14,
   "metadata": {},
   "outputs": [],
   "source": [
    "df.to_parquet(\"../data/6b.cryptonews_topic.parquet\")"
   ]
  }
 ],
 "metadata": {
  "kernelspec": {
   "display_name": "Python 3",
   "language": "python",
   "name": "python3"
  },
  "language_info": {
   "codemirror_mode": {
    "name": "ipython",
    "version": 3
   },
   "file_extension": ".py",
   "mimetype": "text/x-python",
   "name": "python",
   "nbconvert_exporter": "python",
   "pygments_lexer": "ipython3",
   "version": "3.12.9"
  }
 },
 "nbformat": 4,
 "nbformat_minor": 2
}
