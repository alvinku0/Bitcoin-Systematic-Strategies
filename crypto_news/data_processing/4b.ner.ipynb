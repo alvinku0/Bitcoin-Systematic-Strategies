{
 "cells": [
  {
   "cell_type": "code",
   "execution_count": 1,
   "metadata": {},
   "outputs": [
    {
     "name": "stderr",
     "output_type": "stream",
     "text": [
      "c:\\Users\\phku0\\AppData\\Local\\Programs\\Python\\Python312\\Lib\\site-packages\\tqdm\\auto.py:21: TqdmWarning: IProgress not found. Please update jupyter and ipywidgets. See https://ipywidgets.readthedocs.io/en/stable/user_install.html\n",
      "  from .autonotebook import tqdm as notebook_tqdm\n"
     ]
    },
    {
     "data": {
      "text/plain": [
       "True"
      ]
     },
     "execution_count": 1,
     "metadata": {},
     "output_type": "execute_result"
    }
   ],
   "source": [
    "import pandas as pd\n",
    "import numpy as np\n",
    "from tqdm.auto import tqdm\n",
    "\n",
    "import spacy\n",
    "spacy.require_gpu()"
   ]
  },
  {
   "cell_type": "code",
   "execution_count": 2,
   "metadata": {},
   "outputs": [
    {
     "name": "stdout",
     "output_type": "stream",
     "text": [
      "(159486, 10)\n"
     ]
    },
    {
     "data": {
      "application/vnd.microsoft.datawrangler.viewer.v0+json": {
       "columns": [
        {
         "name": "index",
         "rawType": "int64",
         "type": "integer"
        },
        {
         "name": "title",
         "rawType": "object",
         "type": "string"
        },
        {
         "name": "text",
         "rawType": "object",
         "type": "string"
        },
        {
         "name": "source_name",
         "rawType": "object",
         "type": "string"
        },
        {
         "name": "date",
         "rawType": "object",
         "type": "string"
        },
        {
         "name": "tanalysis_absa",
         "rawType": "float64",
         "type": "float"
        },
        {
         "name": "economy_absa",
         "rawType": "float64",
         "type": "float"
        },
        {
         "name": "regulation_absa",
         "rawType": "float64",
         "type": "float"
        },
        {
         "name": "technology_absa",
         "rawType": "float64",
         "type": "float"
        },
        {
         "name": "adoption_absa",
         "rawType": "float64",
         "type": "float"
        },
        {
         "name": "cybersecurity_absa",
         "rawType": "float64",
         "type": "float"
        }
       ],
       "conversionMethod": "pd.DataFrame",
       "ref": "03c9d9e2-141e-48f9-a67f-2bf6dae3e06c",
       "rows": [
        [
         "12",
         "VanEck makes another Bitcoin ETF run",
         "Investment management firm VanEck has filed with the U.S. Securities and Exchange Commission to launch a Bitcoin exchange-traded fund. VanEck is clearly hoping that the departure of SEC chairman Jay Clayton will give its latest ETF application a chance.",
         "Modern Consensus",
         "Fri, 01 Jan 2021 11:07:58 -0500",
         "0.0",
         "0.0",
         "0.3",
         "0.0",
         "0.7",
         "0.0"
        ],
        [
         "16",
         "Markets Report: Bitcoin starts 2021 with a bang as price targets reach $500,000",
         "Bitcoin begins a new year on a high in almost every way — and price records are just the icing on the cake for hodlers. As 2021 begins, anticipation has never been higher for Bitcoin to have its best year ever, even as December's gains alone topped 40%.",
         "Modern Consensus",
         "Fri, 01 Jan 2021 09:51:10 -0500",
         "0.9",
         "0.0",
         "0.0",
         "0.0",
         "0.5",
         "0.0"
        ]
       ],
       "shape": {
        "columns": 10,
        "rows": 2
       }
      },
      "text/html": [
       "<div>\n",
       "<style scoped>\n",
       "    .dataframe tbody tr th:only-of-type {\n",
       "        vertical-align: middle;\n",
       "    }\n",
       "\n",
       "    .dataframe tbody tr th {\n",
       "        vertical-align: top;\n",
       "    }\n",
       "\n",
       "    .dataframe thead th {\n",
       "        text-align: right;\n",
       "    }\n",
       "</style>\n",
       "<table border=\"1\" class=\"dataframe\">\n",
       "  <thead>\n",
       "    <tr style=\"text-align: right;\">\n",
       "      <th></th>\n",
       "      <th>title</th>\n",
       "      <th>text</th>\n",
       "      <th>source_name</th>\n",
       "      <th>date</th>\n",
       "      <th>tanalysis_absa</th>\n",
       "      <th>economy_absa</th>\n",
       "      <th>regulation_absa</th>\n",
       "      <th>technology_absa</th>\n",
       "      <th>adoption_absa</th>\n",
       "      <th>cybersecurity_absa</th>\n",
       "    </tr>\n",
       "  </thead>\n",
       "  <tbody>\n",
       "    <tr>\n",
       "      <th>12</th>\n",
       "      <td>VanEck makes another Bitcoin ETF run</td>\n",
       "      <td>Investment management firm VanEck has filed wi...</td>\n",
       "      <td>Modern Consensus</td>\n",
       "      <td>Fri, 01 Jan 2021 11:07:58 -0500</td>\n",
       "      <td>0.0</td>\n",
       "      <td>0.0</td>\n",
       "      <td>0.3</td>\n",
       "      <td>0.0</td>\n",
       "      <td>0.7</td>\n",
       "      <td>0.0</td>\n",
       "    </tr>\n",
       "    <tr>\n",
       "      <th>16</th>\n",
       "      <td>Markets Report: Bitcoin starts 2021 with a ban...</td>\n",
       "      <td>Bitcoin begins a new year on a high in almost ...</td>\n",
       "      <td>Modern Consensus</td>\n",
       "      <td>Fri, 01 Jan 2021 09:51:10 -0500</td>\n",
       "      <td>0.9</td>\n",
       "      <td>0.0</td>\n",
       "      <td>0.0</td>\n",
       "      <td>0.0</td>\n",
       "      <td>0.5</td>\n",
       "      <td>0.0</td>\n",
       "    </tr>\n",
       "  </tbody>\n",
       "</table>\n",
       "</div>"
      ],
      "text/plain": [
       "                                                title  \\\n",
       "12               VanEck makes another Bitcoin ETF run   \n",
       "16  Markets Report: Bitcoin starts 2021 with a ban...   \n",
       "\n",
       "                                                 text       source_name  \\\n",
       "12  Investment management firm VanEck has filed wi...  Modern Consensus   \n",
       "16  Bitcoin begins a new year on a high in almost ...  Modern Consensus   \n",
       "\n",
       "                               date  tanalysis_absa  economy_absa  \\\n",
       "12  Fri, 01 Jan 2021 11:07:58 -0500             0.0           0.0   \n",
       "16  Fri, 01 Jan 2021 09:51:10 -0500             0.9           0.0   \n",
       "\n",
       "    regulation_absa  technology_absa  adoption_absa  cybersecurity_absa  \n",
       "12              0.3              0.0            0.7                 0.0  \n",
       "16              0.0              0.0            0.5                 0.0  "
      ]
     },
     "execution_count": 2,
     "metadata": {},
     "output_type": "execute_result"
    }
   ],
   "source": [
    "df = pd.read_parquet('../data/3d.cryptonews_absa_fixed.parquet')\n",
    "print(df.shape)\n",
    "df.head(2)"
   ]
  },
  {
   "cell_type": "code",
   "execution_count": 3,
   "metadata": {},
   "outputs": [
    {
     "data": {
      "application/vnd.microsoft.datawrangler.viewer.v0+json": {
       "columns": [
        {
         "name": "index",
         "rawType": "int64",
         "type": "integer"
        },
        {
         "name": "title",
         "rawType": "object",
         "type": "string"
        },
        {
         "name": "text",
         "rawType": "object",
         "type": "string"
        },
        {
         "name": "source_name",
         "rawType": "object",
         "type": "string"
        },
        {
         "name": "date",
         "rawType": "object",
         "type": "string"
        },
        {
         "name": "tanalysis_absa",
         "rawType": "float64",
         "type": "float"
        },
        {
         "name": "economy_absa",
         "rawType": "float64",
         "type": "float"
        },
        {
         "name": "regulation_absa",
         "rawType": "float64",
         "type": "float"
        },
        {
         "name": "technology_absa",
         "rawType": "float64",
         "type": "float"
        },
        {
         "name": "adoption_absa",
         "rawType": "float64",
         "type": "float"
        },
        {
         "name": "cybersecurity_absa",
         "rawType": "float64",
         "type": "float"
        },
        {
         "name": "title_text",
         "rawType": "object",
         "type": "string"
        }
       ],
       "conversionMethod": "pd.DataFrame",
       "ref": "07191670-95a3-440f-aa78-d0fa3f1c0f39",
       "rows": [
        [
         "12",
         "VanEck makes another Bitcoin ETF run",
         "Investment management firm VanEck has filed with the U.S. Securities and Exchange Commission to launch a Bitcoin exchange-traded fund. VanEck is clearly hoping that the departure of SEC chairman Jay Clayton will give its latest ETF application a chance.",
         "Modern Consensus",
         "Fri, 01 Jan 2021 11:07:58 -0500",
         "0.0",
         "0.0",
         "0.3",
         "0.0",
         "0.7",
         "0.0",
         "VanEck makes another Bitcoin ETF run Investment management firm VanEck has filed with the U.S. Securities and Exchange Commission to launch a Bitcoin exchange-traded fund. VanEck is clearly hoping that the departure of SEC chairman Jay Clayton will give its latest ETF application a chance."
        ],
        [
         "16",
         "Markets Report: Bitcoin starts 2021 with a bang as price targets reach $500,000",
         "Bitcoin begins a new year on a high in almost every way — and price records are just the icing on the cake for hodlers. As 2021 begins, anticipation has never been higher for Bitcoin to have its best year ever, even as December's gains alone topped 40%.",
         "Modern Consensus",
         "Fri, 01 Jan 2021 09:51:10 -0500",
         "0.9",
         "0.0",
         "0.0",
         "0.0",
         "0.5",
         "0.0",
         "Markets Report: Bitcoin starts 2021 with a bang as price targets reach $500,000 Bitcoin begins a new year on a high in almost every way — and price records are just the icing on the cake for hodlers. As 2021 begins, anticipation has never been higher for Bitcoin to have its best year ever, even as December's gains alone topped 40%."
        ],
        [
         "87",
         "Bitcoin Rally Extends Into New Year",
         "Jan.03 -- Bitcoin is continuing its rally into record highs in the near year, rising above $34,000 before retreating. Su Keenan reports on \"Bloomberg Daybreak: Australia.",
         "Bloomberg Markets and Finance",
         "Sun, 03 Jan 2021 18:46:20 -0500",
         "0.8",
         "0.0",
         "0.0",
         "0.0",
         "0.0",
         "0.0",
         "Bitcoin Rally Extends Into New Year Jan.03 -- Bitcoin is continuing its rally into record highs in the near year, rising above $34,000 before retreating. Su Keenan reports on \"Bloomberg Daybreak: Australia."
        ],
        [
         "127",
         "BitPay CCO Says Bitcoin Will Hit $45,000",
         "Jan.04 -- Bitpay Chief Commercial Officer Sonny Singh discusses Bitcoin prices retreating from record highs but believing it will reach $45K within the next month. He speaks with Emily Chang on \"Bloomberg Technology.",
         "Bloomberg Technology",
         "Mon, 04 Jan 2021 20:29:35 -0500",
         "0.8",
         "0.0",
         "0.0",
         "0.0",
         "0.0",
         "0.0",
         "BitPay CCO Says Bitcoin Will Hit $45,000 Jan.04 -- Bitpay Chief Commercial Officer Sonny Singh discusses Bitcoin prices retreating from record highs but believing it will reach $45K within the next month. He speaks with Emily Chang on \"Bloomberg Technology."
        ],
        [
         "166",
         "Markets Report: Bitcoin Dives to $27,700 as a Crazy Weekend Turns Crazier",
         "Bitcoin is seeing a wild start to the week with volatility taking traders up and down by thousands of dollars in under an hour. In what will cause headaches if it sets the tone for the coming days, Bitcoin dropped by $4,000 in less than sixty minutes on Monday — what's next?",
         "Modern Consensus",
         "Mon, 04 Jan 2021 09:01:49 -0500",
         "-0.8",
         "0.0",
         "0.0",
         "0.0",
         "0.0",
         "0.0",
         "Markets Report: Bitcoin Dives to $27,700 as a Crazy Weekend Turns Crazier Bitcoin is seeing a wild start to the week with volatility taking traders up and down by thousands of dollars in under an hour. In what will cause headaches if it sets the tone for the coming days, Bitcoin dropped by $4,000 in less than sixty minutes on Monday — what's next?"
        ]
       ],
       "shape": {
        "columns": 11,
        "rows": 5
       }
      },
      "text/html": [
       "<div>\n",
       "<style scoped>\n",
       "    .dataframe tbody tr th:only-of-type {\n",
       "        vertical-align: middle;\n",
       "    }\n",
       "\n",
       "    .dataframe tbody tr th {\n",
       "        vertical-align: top;\n",
       "    }\n",
       "\n",
       "    .dataframe thead th {\n",
       "        text-align: right;\n",
       "    }\n",
       "</style>\n",
       "<table border=\"1\" class=\"dataframe\">\n",
       "  <thead>\n",
       "    <tr style=\"text-align: right;\">\n",
       "      <th></th>\n",
       "      <th>title</th>\n",
       "      <th>text</th>\n",
       "      <th>source_name</th>\n",
       "      <th>date</th>\n",
       "      <th>tanalysis_absa</th>\n",
       "      <th>economy_absa</th>\n",
       "      <th>regulation_absa</th>\n",
       "      <th>technology_absa</th>\n",
       "      <th>adoption_absa</th>\n",
       "      <th>cybersecurity_absa</th>\n",
       "      <th>title_text</th>\n",
       "    </tr>\n",
       "  </thead>\n",
       "  <tbody>\n",
       "    <tr>\n",
       "      <th>12</th>\n",
       "      <td>VanEck makes another Bitcoin ETF run</td>\n",
       "      <td>Investment management firm VanEck has filed wi...</td>\n",
       "      <td>Modern Consensus</td>\n",
       "      <td>Fri, 01 Jan 2021 11:07:58 -0500</td>\n",
       "      <td>0.0</td>\n",
       "      <td>0.0</td>\n",
       "      <td>0.3</td>\n",
       "      <td>0.0</td>\n",
       "      <td>0.7</td>\n",
       "      <td>0.0</td>\n",
       "      <td>VanEck makes another Bitcoin ETF run Investmen...</td>\n",
       "    </tr>\n",
       "    <tr>\n",
       "      <th>16</th>\n",
       "      <td>Markets Report: Bitcoin starts 2021 with a ban...</td>\n",
       "      <td>Bitcoin begins a new year on a high in almost ...</td>\n",
       "      <td>Modern Consensus</td>\n",
       "      <td>Fri, 01 Jan 2021 09:51:10 -0500</td>\n",
       "      <td>0.9</td>\n",
       "      <td>0.0</td>\n",
       "      <td>0.0</td>\n",
       "      <td>0.0</td>\n",
       "      <td>0.5</td>\n",
       "      <td>0.0</td>\n",
       "      <td>Markets Report: Bitcoin starts 2021 with a ban...</td>\n",
       "    </tr>\n",
       "    <tr>\n",
       "      <th>87</th>\n",
       "      <td>Bitcoin Rally Extends Into New Year</td>\n",
       "      <td>Jan.03 -- Bitcoin is continuing its rally into...</td>\n",
       "      <td>Bloomberg Markets and Finance</td>\n",
       "      <td>Sun, 03 Jan 2021 18:46:20 -0500</td>\n",
       "      <td>0.8</td>\n",
       "      <td>0.0</td>\n",
       "      <td>0.0</td>\n",
       "      <td>0.0</td>\n",
       "      <td>0.0</td>\n",
       "      <td>0.0</td>\n",
       "      <td>Bitcoin Rally Extends Into New Year Jan.03 -- ...</td>\n",
       "    </tr>\n",
       "    <tr>\n",
       "      <th>127</th>\n",
       "      <td>BitPay CCO Says Bitcoin Will Hit $45,000</td>\n",
       "      <td>Jan.04 -- Bitpay Chief Commercial Officer Sonn...</td>\n",
       "      <td>Bloomberg Technology</td>\n",
       "      <td>Mon, 04 Jan 2021 20:29:35 -0500</td>\n",
       "      <td>0.8</td>\n",
       "      <td>0.0</td>\n",
       "      <td>0.0</td>\n",
       "      <td>0.0</td>\n",
       "      <td>0.0</td>\n",
       "      <td>0.0</td>\n",
       "      <td>BitPay CCO Says Bitcoin Will Hit $45,000 Jan.0...</td>\n",
       "    </tr>\n",
       "    <tr>\n",
       "      <th>166</th>\n",
       "      <td>Markets Report: Bitcoin Dives to $27,700 as a ...</td>\n",
       "      <td>Bitcoin is seeing a wild start to the week wit...</td>\n",
       "      <td>Modern Consensus</td>\n",
       "      <td>Mon, 04 Jan 2021 09:01:49 -0500</td>\n",
       "      <td>-0.8</td>\n",
       "      <td>0.0</td>\n",
       "      <td>0.0</td>\n",
       "      <td>0.0</td>\n",
       "      <td>0.0</td>\n",
       "      <td>0.0</td>\n",
       "      <td>Markets Report: Bitcoin Dives to $27,700 as a ...</td>\n",
       "    </tr>\n",
       "  </tbody>\n",
       "</table>\n",
       "</div>"
      ],
      "text/plain": [
       "                                                 title  \\\n",
       "12                VanEck makes another Bitcoin ETF run   \n",
       "16   Markets Report: Bitcoin starts 2021 with a ban...   \n",
       "87                 Bitcoin Rally Extends Into New Year   \n",
       "127           BitPay CCO Says Bitcoin Will Hit $45,000   \n",
       "166  Markets Report: Bitcoin Dives to $27,700 as a ...   \n",
       "\n",
       "                                                  text  \\\n",
       "12   Investment management firm VanEck has filed wi...   \n",
       "16   Bitcoin begins a new year on a high in almost ...   \n",
       "87   Jan.03 -- Bitcoin is continuing its rally into...   \n",
       "127  Jan.04 -- Bitpay Chief Commercial Officer Sonn...   \n",
       "166  Bitcoin is seeing a wild start to the week wit...   \n",
       "\n",
       "                       source_name                             date  \\\n",
       "12                Modern Consensus  Fri, 01 Jan 2021 11:07:58 -0500   \n",
       "16                Modern Consensus  Fri, 01 Jan 2021 09:51:10 -0500   \n",
       "87   Bloomberg Markets and Finance  Sun, 03 Jan 2021 18:46:20 -0500   \n",
       "127           Bloomberg Technology  Mon, 04 Jan 2021 20:29:35 -0500   \n",
       "166               Modern Consensus  Mon, 04 Jan 2021 09:01:49 -0500   \n",
       "\n",
       "     tanalysis_absa  economy_absa  regulation_absa  technology_absa  \\\n",
       "12              0.0           0.0              0.3              0.0   \n",
       "16              0.9           0.0              0.0              0.0   \n",
       "87              0.8           0.0              0.0              0.0   \n",
       "127             0.8           0.0              0.0              0.0   \n",
       "166            -0.8           0.0              0.0              0.0   \n",
       "\n",
       "     adoption_absa  cybersecurity_absa  \\\n",
       "12             0.7                 0.0   \n",
       "16             0.5                 0.0   \n",
       "87             0.0                 0.0   \n",
       "127            0.0                 0.0   \n",
       "166            0.0                 0.0   \n",
       "\n",
       "                                            title_text  \n",
       "12   VanEck makes another Bitcoin ETF run Investmen...  \n",
       "16   Markets Report: Bitcoin starts 2021 with a ban...  \n",
       "87   Bitcoin Rally Extends Into New Year Jan.03 -- ...  \n",
       "127  BitPay CCO Says Bitcoin Will Hit $45,000 Jan.0...  \n",
       "166  Markets Report: Bitcoin Dives to $27,700 as a ...  "
      ]
     },
     "execution_count": 3,
     "metadata": {},
     "output_type": "execute_result"
    }
   ],
   "source": [
    "# merge the text and title columns\n",
    "df['title_text'] = df['title'] + ' ' + df['text']\n",
    "df.head()"
   ]
  },
  {
   "cell_type": "code",
   "execution_count": null,
   "metadata": {},
   "outputs": [],
   "source": [
    "nlp = spacy.load(\"en_core_web_trf\")\n",
    "\n",
    "# NER processing\n",
    "df[\"NER\"] = [\n",
    "    [(ent.text, ent.label_) for ent in doc.ents]\n",
    "    for doc in nlp.pipe(df[\"title_text\"],batch_size=12)\n",
    "]"
   ]
  },
  {
   "cell_type": "code",
   "execution_count": null,
   "metadata": {},
   "outputs": [],
   "source": [
    "df.drop(columns=['title_text'], inplace=True)"
   ]
  },
  {
   "cell_type": "code",
   "execution_count": null,
   "metadata": {},
   "outputs": [],
   "source": [
    "df.to_parquet(\"../data/4c.cryptonews_ner_spacy.parquet\")"
   ]
  }
 ],
 "metadata": {
  "kernelspec": {
   "display_name": "Python 3",
   "language": "python",
   "name": "python3"
  },
  "language_info": {
   "codemirror_mode": {
    "name": "ipython",
    "version": 3
   },
   "file_extension": ".py",
   "mimetype": "text/x-python",
   "name": "python",
   "nbconvert_exporter": "python",
   "pygments_lexer": "ipython3",
   "version": "3.12.9"
  }
 },
 "nbformat": 4,
 "nbformat_minor": 2
}
